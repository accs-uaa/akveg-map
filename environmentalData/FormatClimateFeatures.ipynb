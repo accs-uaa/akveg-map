{
 "cells": [
  {
   "cell_type": "markdown",
   "metadata": {},
   "source": [
    "# Format Climate Features\n",
    "\n",
    "**Timm Nawrocki**  \n",
    "Alaska Center for Conservation Science  \n",
    "2019-04-01"
   ]
  },
  {
   "cell_type": "code",
   "execution_count": 1,
   "metadata": {},
   "outputs": [],
   "source": [
    "# -*- coding: utf-8 -*-\n",
    "# ---------------------------------------------------------------------------\n",
    "# Format Climate Features\n",
    "# Author: Timm Nawrocki\n",
    "# Created on: 2019-04-01\n",
    "# Usage: Must be executed as a Jupyter Notebook in an ArcGIS Pro Python 3 installation.\n",
    "# Description: \"Format Climate Features\" calculates two-decadal averages for Date of Thaw, Date of Freeze, Growing Season Length, Summer Warmth Index, and Annual Precipitation.\n",
    "# ---------------------------------------------------------------------------"
   ]
  },
  {
   "cell_type": "markdown",
   "metadata": {},
   "source": [
    "## 1. Initialize Environment"
   ]
  },
  {
   "cell_type": "code",
   "execution_count": 2,
   "metadata": {},
   "outputs": [],
   "source": [
    "# Import packages\n",
    "import arcpy\n",
    "from arcpy.sa import *\n",
    "import datetime\n",
    "import os\n",
    "import time\n",
    "\n",
    "# Set overwrite option\n",
    "arcpy.env.overwriteOutput = True\n",
    "\n",
    "# Set root directory\n",
    "drive = 'F:/'\n",
    "root_directory = os.path.join(drive, 'ACCS_Work/Projects/VegetationEcology/BristolBay_Vegetation/Project_GIS')\n",
    "\n",
    "# Set arcpy working environment\n",
    "arcpy.env.workspace = os.path.join(root_directory, 'BristolBay_Vegetation.gdb')\n",
    "climate_source = os.path.join(root_directory, 'Data_Input/source_data/climatology')\n",
    "\n",
    "# Define script paths\n",
    "script_directory = os.path.join(drive, 'ACCS_Work/Repositories/southwest-alaska-moose/modules')\n",
    "arcpy_geoprocessing_script = os.path.join(script_directory, 'arcpy_geoprocessing.py')\n",
    "\n",
    "# Define input datasets\n",
    "area_of_interest = os.path.join(root_directory, 'Data_Input/area_of_interest/area_of_interest.tif')\n",
    "dateOfFreeze_2000s = os.path.join(climate_source, 'Alaska_DateOfFreeze_2000s.tif')\n",
    "dateOfFreeze_2010s = os.path.join(climate_source, 'Alaska_DateOfFreeze_2010s_RCP60.tif')\n",
    "dateOfThaw_2000s = os.path.join(climate_source, 'Alaska_DateOfThaw_2000s.tif')\n",
    "dateOfThaw_2010s = os.path.join(climate_source, 'Alaska_DateOfThaw_2010s_RCP60.tif')\n",
    "growingSeasonLength_2000s = os.path.join(climate_source, 'Alaska_GrowingSeasonLength_2000s.tif')\n",
    "growingSeasonLength_2010s = os.path.join(climate_source, 'Alaska_GrowingSeasonLength_2010s_RCP60.tif')\n",
    "annualPrecipitation_2000s = os.path.join(climate_source, 'Alaska_PrecipitationAnnual_2000s.tif')\n",
    "annualPrecipitation_2010s = os.path.join(climate_source, 'Alaska_PrecipitationAnnual_2010s_RCP60.tif')\n",
    "tempMay_2000s = os.path.join(climate_source, 'tas_decadal_mean_monthly_mean_c_cru_TS31_historical_05_2000_2009.tif')\n",
    "tempMay_2010s = os.path.join(climate_source, 'tas_decadal_mean_monthly_mean_c_5modelAvg_rcp60_05_2010_2019.tif')\n",
    "tempJune_2000s = os.path.join(climate_source, 'tas_decadal_mean_monthly_mean_c_cru_TS31_historical_06_2000_2009.tif')\n",
    "tempJune_2010s = os.path.join(climate_source, 'tas_decadal_mean_monthly_mean_c_5modelAvg_rcp60_06_2010_2019.tif')\n",
    "tempJuly_2000s = os.path.join(climate_source, 'tas_decadal_mean_monthly_mean_c_cru_TS31_historical_07_2000_2009.tif')\n",
    "tempJuly_2010s = os.path.join(climate_source, 'tas_decadal_mean_monthly_mean_c_5modelAvg_rcp60_07_2010_2019.tif')\n",
    "tempAugust_2000s = os.path.join(climate_source, 'tas_decadal_mean_monthly_mean_c_cru_TS31_historical_08_2000_2009.tif')\n",
    "tempAugust_2010s = os.path.join(climate_source, 'tas_decadal_mean_monthly_mean_c_5modelAvg_rcp60_08_2010_2019.tif')\n",
    "tempSeptember_2000s = os.path.join(climate_source, 'tas_decadal_mean_monthly_mean_c_cru_TS31_historical_09_2000_2009.tif')\n",
    "tempSeptember_2010s = os.path.join(climate_source, 'tas_decadal_mean_monthly_mean_c_5modelAvg_rcp60_09_2010_2019.tif')\n",
    "\n",
    "# Define output names\n",
    "output_names = ['dateFreeze.tif',\n",
    "                'dateThaw.tif',\n",
    "                'growingSeason.tif',\n",
    "                'precipitation.tif',\n",
    "                'summerWarmth.tif'\n",
    "               ]\n",
    "\n",
    "# Define output path\n",
    "output_path = os.path.join(root_directory, 'Data_Input/predictor_env')\n",
    "\n",
    "# Define output files\n",
    "output_array = []\n",
    "for name in output_names:\n",
    "    file = os.path.join(output_path, name)\n",
    "    output_array = output_array + [file]"
   ]
  },
  {
   "cell_type": "code",
   "execution_count": 3,
   "metadata": {},
   "outputs": [],
   "source": [
    "# Import and execute arcpy_geoprocessing.py\n",
    "try:\n",
    "    exec(open(arcpy_geoprocessing_script).read())\n",
    "except:\n",
    "    print(\"Error loading arcpy_geoprocessing.py; ensure that script directory is correct:\")\n",
    "    print(script_directory)\n",
    "    quit()"
   ]
  },
  {
   "cell_type": "markdown",
   "metadata": {},
   "source": [
    "## 1. Define Functions"
   ]
  },
  {
   "cell_type": "code",
   "execution_count": 4,
   "metadata": {},
   "outputs": [],
   "source": [
    "# Define a function to calculate decadal summer warmth index\n",
    "def summer_warmth(**kwargs):\n",
    "    \"\"\"\n",
    "    Description: calculates the sum of degrees per month across the months of May, June, July, August, and September to represent overall summer temperature\n",
    "    Inputs: 'input_array' -- an array containing the input rasters for each of five summer decadal mean monthly temperatures ordered from May to September\n",
    "            'output_array' -- an array of containing the location to save the output decadal mean summer warmth index\n",
    "    \"\"\"\n",
    "    # Start timing function execution\n",
    "    start = time.time()\n",
    "    # Parse key word argument inputs\n",
    "    input_rasters = kwargs['input_array']\n",
    "    output_raster = kwargs['output_array'][0]\n",
    "    # Set the snap raster and cell size environments to match the climate rasters\n",
    "    arcpy.env.snapRaster = input_rasters[0]\n",
    "    arcpy.env.cellSize = input_rasters[0]\n",
    "    # Calculate summer warmth index and copy results to output raster\n",
    "    print('Calculating summer warmth index...')\n",
    "    summer_warmth_raster = ((Raster(input_rasters[0]) * 31)\n",
    "                            + (Raster(input_rasters[1]) * 30)\n",
    "                            + (Raster(input_rasters[2]) * 31)\n",
    "                            + (Raster(input_rasters[3]) * 31)\n",
    "                            + (Raster(input_rasters[4]) * 30))\n",
    "    print('Copying results to output raster...')\n",
    "    arcpy.CopyRaster_management(summer_warmth_raster,\n",
    "                                output_raster,\n",
    "                                '',\n",
    "                                '',\n",
    "                                '-32768',\n",
    "                                'NONE',\n",
    "                                'NONE',\n",
    "                                '16_BIT_SIGNED',\n",
    "                                'NONE',\n",
    "                                'NONE',\n",
    "                                'TIFF',\n",
    "                                'NONE'\n",
    "                               )\n",
    "    # End timing function execution and calculate elapsed time\n",
    "    end = time.time()\n",
    "    elapsed = int(end - start)\n",
    "    success_time = datetime.datetime.now()\n",
    "    # Report process success\n",
    "    print('Successfully calculated summer warmth index...')\n",
    "    print('----------')\n",
    "    out_process = 'Succeeded at {0} (Elapsed time: {1})'.format(success_time.strftime(\"%Y-%m-%d %H:%M\"),\n",
    "                                                                datetime.timedelta(seconds=elapsed))\n",
    "    return out_process"
   ]
  },
  {
   "cell_type": "code",
   "execution_count": 5,
   "metadata": {},
   "outputs": [],
   "source": [
    "# Define a function to calculate the average of multiple decades for climate metrics\n",
    "def average_climate(**kwargs):\n",
    "    \"\"\"\n",
    "    Description: extracts topographic rasters to the area of interest raster with grid and cell size matched to the study area raster\n",
    "    Inputs: 'input_array' -- an array containing the input rasters with the first raster as the area of interest and any number of additional climate rasters representing different decades for the same metric\n",
    "            'output_array' -- an array of one output name per input raster\n",
    "    \"\"\"\n",
    "    # Start timing function execution\n",
    "    start = time.time()\n",
    "    # Parse key word argument inputs\n",
    "    input_rasters = kwargs['input_array']\n",
    "    area_of_interest = input_rasters.pop(0)\n",
    "    output_raster = kwargs['output_array'][0]\n",
    "    # Set the snap raster and cell size environments to match the climate rasters\n",
    "    arcpy.env.snapRaster = input_rasters[0]\n",
    "    arcpy.env.cellSize = input_rasters[0]\n",
    "    # Set the raster sum initially equal to the first raster\n",
    "    print('Summing input rasters...')\n",
    "    raster_sum = Raster(input_rasters[0])\n",
    "    # Add the values of additional rasters in the list\n",
    "    for raster in input_rasters[1:]:\n",
    "        raster_sum += Raster(raster)\n",
    "    # Find the mean by dividing by the total number of rasters and copy results to output raster\n",
    "    print('Calculating mean of summed rasters...')\n",
    "    n = len(input_rasters)\n",
    "    raster_mean = raster_sum / n\n",
    "    raster_int = Int(RoundDown(raster_mean + 0.5))\n",
    "    # Set the snap raster and cell size environments to match the area of interest\n",
    "    arcpy.env.snapRaster = area_of_interest\n",
    "    arcpy.env.cellSize = area_of_interest\n",
    "    # Extract to area of interest\n",
    "    print('Extracting raster to area of interest...')\n",
    "    raster_extract = ExtractByMask(raster_int, Raster(area_of_interest))\n",
    "    # Copy results to output raster\n",
    "    print('Copying results to output raster...')\n",
    "    arcpy.CopyRaster_management(raster_extract,\n",
    "                                output_raster,\n",
    "                                '',\n",
    "                                '',\n",
    "                                '-32768',\n",
    "                                'NONE',\n",
    "                                'NONE',\n",
    "                                '16_BIT_SIGNED',\n",
    "                                'NONE',\n",
    "                                'NONE',\n",
    "                                'TIFF',\n",
    "                                'NONE'\n",
    "                               )\n",
    "    # End timing function execution and calculate elapsed time\n",
    "    end = time.time()\n",
    "    elapsed = int(end - start)\n",
    "    success_time = datetime.datetime.now()\n",
    "    # Report process success\n",
    "    print('Successfully calculated climate multi-decadal average...')\n",
    "    print('----------')\n",
    "    out_process = 'Succeeded at {0} (Elapsed time: {1})'.format(success_time.strftime(\"%Y-%m-%d %H:%M\"),\n",
    "                                                                datetime.timedelta(seconds=elapsed))\n",
    "    return out_process"
   ]
  },
  {
   "cell_type": "markdown",
   "metadata": {},
   "source": [
    "## 3. Calculate Date of Freeze"
   ]
  },
  {
   "cell_type": "code",
   "execution_count": null,
   "metadata": {},
   "outputs": [],
   "source": [
    "# Define input and output arrays for date of freeze (dof)\n",
    "dof_inputs = [area_of_interest,\n",
    "              dateOfFreeze_2000s,\n",
    "              dateOfFreeze_2010s\n",
    "             ]\n",
    "dof_outputs = [output_array[0]]\n",
    "\n",
    "# Create key word arguments\n",
    "dof_kwargs = {'input_array' : dof_inputs,\n",
    "              'output_array' : dof_outputs\n",
    "             }\n",
    "\n",
    "# Calculate the mean date of freeze for 2000-2019\n",
    "arcpy_geoprocessing(average_climate, **dof_kwargs)"
   ]
  },
  {
   "cell_type": "markdown",
   "metadata": {},
   "source": [
    "## 4. Calculate Date of Thaw"
   ]
  },
  {
   "cell_type": "code",
   "execution_count": null,
   "metadata": {},
   "outputs": [],
   "source": [
    "# Define input and output arrays for date of thaw (dot)\n",
    "dot_inputs = [area_of_interest,\n",
    "              dateOfThaw_2000s,\n",
    "              dateOfThaw_2010s\n",
    "             ]\n",
    "dot_outputs = [output_array[1]]\n",
    "\n",
    "# Create key word arguments\n",
    "dot_kwargs = {'input_array' : dot_inputs,\n",
    "              'output_array' : dot_outputs\n",
    "             }\n",
    "\n",
    "# Calculate the mean date of thaw for 2000-2019\n",
    "arcpy_geoprocessing(average_climate, **dot_kwargs)"
   ]
  },
  {
   "cell_type": "markdown",
   "metadata": {},
   "source": [
    "## 5. Calculate Growing Season Length"
   ]
  },
  {
   "cell_type": "code",
   "execution_count": null,
   "metadata": {},
   "outputs": [],
   "source": [
    "# Define input and output arrays for growing season length (gsl)\n",
    "gsl_inputs = [area_of_interest,\n",
    "              growingSeasonLength_2000s,\n",
    "              growingSeasonLength_2010s\n",
    "             ]\n",
    "gsl_outputs = [output_array[2]]\n",
    "\n",
    "# Create key word arguments\n",
    "gsl_kwargs = {'input_array' : gsl_inputs,\n",
    "              'output_array' : gsl_outputs\n",
    "             }\n",
    "\n",
    "# Calculate the mean growing season length for 2000-2019\n",
    "arcpy_geoprocessing(average_climate, **gsl_kwargs)"
   ]
  },
  {
   "cell_type": "markdown",
   "metadata": {},
   "source": [
    "## 6. Calculate Annual Precipitation"
   ]
  },
  {
   "cell_type": "code",
   "execution_count": null,
   "metadata": {},
   "outputs": [],
   "source": [
    "# Define input and output arrays for annual precipitation\n",
    "precipitation_inputs = [area_of_interest,\n",
    "                        annualPrecipitation_2000s,\n",
    "                        annualPrecipitation_2010s\n",
    "                       ]\n",
    "precipitation_outputs = [output_array[3]]\n",
    "\n",
    "# Create key word arguments\n",
    "precipitation_kwargs = {'input_array' : precipitation_inputs,\n",
    "                        'output_array' : precipitation_outputs\n",
    "                       }\n",
    "\n",
    "# Calculate the total annual precipitation for 2000-2019\n",
    "arcpy_geoprocessing(average_climate, **precipitation_kwargs)"
   ]
  },
  {
   "cell_type": "markdown",
   "metadata": {},
   "source": [
    "## 7. Calculate Summer Warmth Index"
   ]
  },
  {
   "cell_type": "code",
   "execution_count": 6,
   "metadata": {},
   "outputs": [
    {
     "name": "stdout",
     "output_type": "stream",
     "text": [
      "Calculating summer warmth index...\n",
      "Copying results to output raster...\n",
      "Successfully calculated summer warmth index...\n",
      "----------\n",
      "Succeeded at 2019-04-02 18:02 (Elapsed time: 0:07:27)\n"
     ]
    }
   ],
   "source": [
    "# Define output for summer warmth index 2000s\n",
    "summerWarmth_2000s = os.path.join(climate_source, 'Alaska_SummerWarmthIndex_2000s.tif')\n",
    "\n",
    "# Define input and output arrays for summer warmth index 2000s\n",
    "summer_2000s_inputs = [area_of_interest,\n",
    "                        tempMay_2000s,\n",
    "                        tempJune_2000s,\n",
    "                        tempJuly_2000s,\n",
    "                        tempAugust_2000s,\n",
    "                        tempSeptember_2000s\n",
    "                       ]\n",
    "summer_2000s_outputs = [summerWarmth_2000s]\n",
    "\n",
    "# Create key word arguments\n",
    "summer_2000s_kwargs = {'input_array' : summer_2000s_inputs,\n",
    "                        'output_array' : summer_2000s_outputs\n",
    "                       }\n",
    "\n",
    "# Calculate the 2000s summer warmth index\n",
    "arcpy_geoprocessing(summer_warmth, **summer_2000s_kwargs)"
   ]
  },
  {
   "cell_type": "code",
   "execution_count": 7,
   "metadata": {},
   "outputs": [
    {
     "name": "stdout",
     "output_type": "stream",
     "text": [
      "Calculating summer warmth index...\n",
      "Copying results to output raster...\n",
      "Successfully calculated summer warmth index...\n",
      "----------\n",
      "Succeeded at 2019-04-02 18:10 (Elapsed time: 0:07:31)\n"
     ]
    }
   ],
   "source": [
    "# Define output for summer warmth index 2010s\n",
    "summerWarmth_2010s = os.path.join(climate_source, 'Alaska_SummerWarmthIndex_2010s_RCP60.tif')\n",
    "\n",
    "# Define input and output arrays for summer warmth index 2010s\n",
    "summer_2010s_inputs = [area_of_interest,\n",
    "                        tempMay_2010s,\n",
    "                        tempJune_2010s,\n",
    "                        tempJuly_2010s,\n",
    "                        tempAugust_2010s,\n",
    "                        tempSeptember_2010s\n",
    "                       ]\n",
    "summer_2010s_outputs = [summerWarmth_2010s]\n",
    "\n",
    "# Create key word arguments\n",
    "summer_2010s_kwargs = {'input_array' : summer_2010s_inputs,\n",
    "                        'output_array' : summer_2010s_outputs\n",
    "                       }\n",
    "\n",
    "# Calculate the 2010s summer warmth index\n",
    "arcpy_geoprocessing(summer_warmth, **summer_2010s_kwargs)"
   ]
  },
  {
   "cell_type": "code",
   "execution_count": 8,
   "metadata": {},
   "outputs": [
    {
     "name": "stdout",
     "output_type": "stream",
     "text": [
      "F:/ACCS_Work/Projects/VegetationEcology/BristolBay_Vegetation/Project_GIS\\Data_Input/predictor_env\\summerWarmth.tif already exists and will be overwritten.\n",
      "Summing input rasters...\n",
      "Calculating mean of summed rasters...\n",
      "Extracting raster to area of interest...\n",
      "Copying results to output raster...\n",
      "Successfully calculated climate multi-decadal average...\n",
      "----------\n",
      "Succeeded at 2019-04-02 18:20 (Elapsed time: 0:10:41)\n"
     ]
    }
   ],
   "source": [
    "# Define input and output arrays for mean summer warmth index\n",
    "summer_mean_inputs = [area_of_interest,\n",
    "                      summerWarmth_2000s,\n",
    "                      summerWarmth_2010s\n",
    "                     ]\n",
    "summer_mean_outputs = [output_array[4]]\n",
    "\n",
    "# Create key word arguments\n",
    "summer_mean_kwargs = {'input_array' : summer_mean_inputs,\n",
    "                      'output_array' : summer_mean_outputs\n",
    "                     }\n",
    "\n",
    "# Calculate the summer warmth index for 2000-2019\n",
    "arcpy_geoprocessing(average_climate, **summer_mean_kwargs)"
   ]
  },
  {
   "cell_type": "code",
   "execution_count": null,
   "metadata": {},
   "outputs": [],
   "source": []
  }
 ],
 "metadata": {
  "kernelspec": {
   "display_name": "Python 3",
   "language": "python",
   "name": "python3"
  },
  "language_info": {
   "codemirror_mode": {
    "name": "ipython",
    "version": 3
   },
   "file_extension": ".py",
   "mimetype": "text/x-python",
   "name": "python",
   "nbconvert_exporter": "python",
   "pygments_lexer": "ipython3",
   "version": "3.6.6"
  }
 },
 "nbformat": 4,
 "nbformat_minor": 2
}
