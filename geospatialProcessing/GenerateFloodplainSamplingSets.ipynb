{
 "cells": [
  {
   "cell_type": "markdown",
   "metadata": {},
   "source": [
    "# Generate Floodplain Sampling Sets\n",
    "\n",
    "**Timm Nawrocki**  \n",
    "Alaska Center for Conservation Science  \n",
    "2019-04-06"
   ]
  },
  {
   "cell_type": "code",
   "execution_count": 1,
   "metadata": {},
   "outputs": [],
   "source": [
    "# -*- coding: utf-8 -*-\n",
    "# ---------------------------------------------------------------------------\n",
    "# Generate Floodplain Sampling Sets\n",
    "# Author: Timm Nawrocki\n",
    "# Created on: 2019-04-05\n",
    "# Usage: Must be executed as a Jupyter Notebook in an ArcGIS Pro Python 3 installation.\n",
    "# Description: \"Generate Floodplain Sampling Sets\" generates the stratified-random sampling points for the Nuyakuk-Nushagak rivers sampling area and the Aleknagik - Wood River sampling area. Points are stratified by estimated floodplain corridor, buffered floodplain corridor, and non-floodplain for the subwatersheds of each sampling area.\n",
    "# ---------------------------------------------------------------------------"
   ]
  },
  {
   "cell_type": "markdown",
   "metadata": {},
   "source": [
    "## 1. Initialize Environment"
   ]
  },
  {
   "cell_type": "code",
   "execution_count": 2,
   "metadata": {},
   "outputs": [],
   "source": [
    "# Import packages\n",
    "import arcpy\n",
    "from arcpy.sa import *\n",
    "import datetime\n",
    "import os\n",
    "import time\n",
    "\n",
    "# Set overwrite option\n",
    "arcpy.env.overwriteOutput = True\n",
    "\n",
    "# Set root directory\n",
    "drive = 'E:/'\n",
    "root_directory = os.path.join(drive, 'ACCS_Work/Projects/VegetationEcology/BristolBay_Vegetation/Project_GIS')\n",
    "\n",
    "# Set arcpy working environment\n",
    "arcpy.env.workspace = os.path.join(root_directory, 'BristolBay_Vegetation.gdb')\n",
    "\n",
    "# Define script paths\n",
    "script_directory = os.path.join(drive, 'ACCS_Work/Repositories/southwest-alaska-moose/modules')\n",
    "arcpy_geoprocessing_script = os.path.join(script_directory, 'arcpy_geoprocessing.py')\n",
    "\n",
    "# Define input datasets\n",
    "floodplains_initial = os.path.join(arcpy.env.workspace, 'SouthwestAlaska_Floodplains_Initial')\n",
    "nuyakuk_subwatersheds = os.path.join(arcpy.env.workspace, 'SouthwestAlaska_NuyakukNushagak_Subwatersheds')\n",
    "aleknagik_subwatersheds = os.path.join(arcpy.env.workspace, 'SouthwestAlaska_AleknagikWood_Subwatersheds')\n",
    "area_of_interest = os.path.join(root_directory, 'Data_Input/area_of_interest/area_of_interest.tif')\n",
    "\n",
    "# Define intermediate stratification datasets\n",
    "aleknagik_floodplain = os.path.join(arcpy.env.workspace, 'SouthwestAlaska_FloodplainUnit_Aleknagik')\n",
    "aleknagik_buffer = os.path.join(arcpy.env.workspace, 'SouthwestAlaska_BufferUnit_Aleknagik')\n",
    "aleknagik_upland = os.path.join(arcpy.env.workspace, 'SouthwestAlaska_UplandUnit_Aleknagik')\n",
    "nuyakuk_floodplain = os.path.join(arcpy.env.workspace, 'SouthwestAlaska_FloodplainUnit_Nuyakuk')\n",
    "nuyakuk_buffer = os.path.join(arcpy.env.workspace, 'SouthwestAlaska_BufferUnit_Nuyakuk')\n",
    "nuyakuk_upland = os.path.join(arcpy.env.workspace, 'SouthwestAlaska_UplandUnit_Nuyakuk')\n",
    "\n",
    "# Define output datasets\n",
    "aleknagik_floodplain_sample = os.path.join(root_directory, 'Data_Input/floodplain_points/FloodplainSample_Aleknagik.shp')\n",
    "nuyakuk_floodplain_sample = os.path.join(root_directory, 'Data_Input/floodplain_points/FloodplainSample_Nuyakuk.shp')"
   ]
  },
  {
   "cell_type": "code",
   "execution_count": 3,
   "metadata": {},
   "outputs": [],
   "source": [
    "# Import and execute arcpy_geoprocessing.py\n",
    "try:\n",
    "    exec(open(arcpy_geoprocessing_script).read())\n",
    "except:\n",
    "    print(\"Error loading arcpy_geoprocessing.py; ensure that script directory is correct:\")\n",
    "    print(script_directory)\n",
    "    quit()"
   ]
  },
  {
   "cell_type": "markdown",
   "metadata": {},
   "source": [
    "## 2. Generate Stratification Units"
   ]
  },
  {
   "cell_type": "code",
   "execution_count": 4,
   "metadata": {},
   "outputs": [],
   "source": [
    "# Define a function to create stratification units from the floodplain estimate and sampling watersheds\n",
    "def floodplain_stratification(**kwargs):\n",
    "    \"\"\"\n",
    "    Description: generates floodplain, buffer, and upland stratification units in a sampling subwatershed set\n",
    "    Inputs: 'input_array' -- an array containing an area of interest raster, a floodplain estimate feature class, and a sampling subwatersheds feature class\n",
    "            'output_array' -- the output should be an array of a a floodplain feature class, a buffer feature class, and an upland feature class\n",
    "    \"\"\"\n",
    "    # Start timing function execution\n",
    "    start = time.time()\n",
    "    # Parse key word argument inputs\n",
    "    area_of_interest = kwargs['input_array'][0]\n",
    "    floodplains = kwargs['input_array'][1]\n",
    "    subwatersheds = kwargs['input_array'][2]\n",
    "    floodplain_unit = kwargs['output_array'][0]\n",
    "    buffer_unit = kwargs['output_array'][1]\n",
    "    upland_unit = kwargs['output_array'][2]\n",
    "    # Define intermediate datasets\n",
    "    aoi_polygon = os.path.join(arcpy.env.workspace, 'aoi_polygon')\n",
    "    subwatersheds_clip = os.path.join(arcpy.env.workspace, 'subwatersheds_clip')\n",
    "    floodplains_clip = os.path.join(arcpy.env.workspace, 'floodplains_clip')\n",
    "    buffer = os.path.join(arcpy.env.workspace, 'buffer')\n",
    "    subwatersheds_dissolve = os.path.join(arcpy.env.workspace, 'subwatersheds_dissolve')\n",
    "    # Convert area of interest to polygon\n",
    "    print('Converting area of interest to polygon...')\n",
    "    arcpy.RasterToPolygon_conversion(area_of_interest, aoi_polygon, 'NO_SIMPLIFY', 'VALUE', 'MULTIPLE_OUTER_PART')\n",
    "    # Clip subwatersheds to area of interest\n",
    "    print('Modifying subwatersheds to area of interest...')\n",
    "    arcpy.Clip_analysis(subwatersheds, aoi_polygon, subwatersheds_clip)\n",
    "    # Clip floodplains to subwatersheds and dissolve\n",
    "    print('Creating floodplain unit...')\n",
    "    arcpy.Clip_analysis(floodplains, subwatersheds_clip, floodplains_clip)\n",
    "    arcpy.Dissolve_management(floodplains_clip, floodplain_unit, '', '', 'MULTI_PART', 'DISSOLVE_LINES')\n",
    "    # Buffer the floodplains by 500 meters and erase the floodplains\n",
    "    print('Creating buffer unit...')\n",
    "    arcpy.Buffer_analysis(floodplain_unit, buffer, '500 Meters', 'FULL', 'ROUND', 'ALL', '', 'PLANAR')\n",
    "    arcpy.Erase_analysis(buffer, floodplain_unit, buffer_unit)\n",
    "    # Dissolve the subwatersheds and erase the buffered floodplains\n",
    "    print('Creating upland unit...')\n",
    "    arcpy.Dissolve_management(subwatersheds_clip, subwatersheds_dissolve, '', '', 'MULTI_PART', 'DISSOLVE_LINES')\n",
    "    arcpy.Erase_analysis(subwatersheds_dissolve, buffer, upland_unit)\n",
    "    # Delete intermediate datasets\n",
    "    arcpy.Delete_management(aoi_polygon)\n",
    "    arcpy.Delete_management(subwatersheds_clip)\n",
    "    arcpy.Delete_management(floodplains_clip)\n",
    "    arcpy.Delete_management(buffer)\n",
    "    arcpy.Delete_management(subwatersheds_dissolve)\n",
    "    # End timing function execution and calculate elapsed time\n",
    "    end = time.time()\n",
    "    elapsed = int(end - start)\n",
    "    success_time = datetime.datetime.now()\n",
    "    # Report process success\n",
    "    print('Successfully created floodplain sampling stratification units...')\n",
    "    print('----------')\n",
    "    out_process = 'Succeeded at {0} (Elapsed time: {1})'.format(success_time.strftime(\"%Y-%m-%d %H:%M\"),\n",
    "                                                                datetime.timedelta(seconds=elapsed))\n",
    "    return out_process"
   ]
  },
  {
   "cell_type": "code",
   "execution_count": 5,
   "metadata": {},
   "outputs": [
    {
     "name": "stdout",
     "output_type": "stream",
     "text": [
      "Converting area of interest to polygon...\n",
      "Modifying subwatersheds to area of interest...\n",
      "Creating floodplain unit...\n",
      "Creating buffer unit...\n",
      "Creating upland unit...\n",
      "Successfully created floodplain sampling stratification units...\n",
      "----------\n",
      "Succeeded at 2019-04-06 16:43 (Elapsed time: 0:17:21)\n"
     ]
    }
   ],
   "source": [
    "# Define key word values for Nuyakuk and Nushagak Rivers\n",
    "nuyakuk_stratification_inputs = [area_of_interest, floodplains_initial, nuyakuk_subwatersheds]\n",
    "nuyakuk_stratification_outputs = [nuyakuk_floodplain, nuyakuk_buffer, nuyakuk_upland]\n",
    "\n",
    "# Create key word arguments\n",
    "nuyakuk_stratification_kwargs = {'input_array' : nuyakuk_stratification_inputs,\n",
    "                                 'output_array' : nuyakuk_stratification_outputs\n",
    "                                }\n",
    "\n",
    "# Create the Nuyakuk and Nushagak stratification units\n",
    "arcpy_geoprocessing(floodplain_stratification, **nuyakuk_stratification_kwargs)"
   ]
  },
  {
   "cell_type": "code",
   "execution_count": 6,
   "metadata": {},
   "outputs": [
    {
     "name": "stdout",
     "output_type": "stream",
     "text": [
      "Converting area of interest to polygon...\n",
      "Modifying subwatersheds to area of interest...\n",
      "Creating floodplain unit...\n",
      "Creating buffer unit...\n",
      "Creating upland unit...\n",
      "Successfully created floodplain sampling stratification units...\n",
      "----------\n",
      "Succeeded at 2019-04-06 17:00 (Elapsed time: 0:17:00)\n"
     ]
    }
   ],
   "source": [
    "# Define key word values for Aleknagik and Wood River\n",
    "aleknagik_stratification_inputs = [area_of_interest, floodplains_initial, aleknagik_subwatersheds]\n",
    "aleknagik_stratification_outputs = [aleknagik_floodplain, aleknagik_buffer, aleknagik_upland]\n",
    "\n",
    "# Create key word arguments\n",
    "aleknagik_stratification_kwargs = {'input_array' : aleknagik_stratification_inputs,\n",
    "                                   'output_array' : aleknagik_stratification_outputs\n",
    "                                  }\n",
    "\n",
    "# Create the Aleknagik and Wood River stratification units\n",
    "arcpy_geoprocessing(floodplain_stratification, **aleknagik_stratification_kwargs)"
   ]
  },
  {
   "cell_type": "markdown",
   "metadata": {},
   "source": [
    "## 3. Create random samples"
   ]
  },
  {
   "cell_type": "code",
   "execution_count": 13,
   "metadata": {},
   "outputs": [],
   "source": [
    "# Define a function to create a random sample from stratification units\n",
    "def random_stratified(**kwargs):\n",
    "    \"\"\"\n",
    "    Description: generates floodplain, buffer, and upland stratification units in a sampling subwatershed set\n",
    "    Inputs: 'input_array' -- an array containing any number of stratification unit feature classes\n",
    "            'output_array' -- the output should be an array of a single output point feature class\n",
    "    \"\"\"\n",
    "    # Start timing function execution\n",
    "    start = time.time()\n",
    "    # Parse key word argument inputs\n",
    "    input_array = kwargs['input_array']\n",
    "    output_points = kwargs['output_array'][0]\n",
    "    # Generate 100 random points per stratification unit\n",
    "    count = 1\n",
    "    number = len(input_array)\n",
    "    points_array = []\n",
    "    for unit in input_array:\n",
    "        print('Generating random sample set {0} of {1}...'.format(count, number))\n",
    "        unit_points = unit + '_Points'\n",
    "        points_array.append(unit_points)\n",
    "        output_path, output_name = os.path.split(unit_points)\n",
    "        arcpy.CreateRandomPoints_management(output_path, output_name, unit, '', 100, '200 Meters', 'POINT')\n",
    "        count += 1\n",
    "    # Merge points into output\n",
    "    print('Merging random sample sets into output...')\n",
    "    arcpy.Merge_management(points_array, output_points)\n",
    "    arcpy.AddField_management(output_points, 'FLOOD', 'SHORT', '', '', '', '', 'NULLABLE', 'NON_REQUIRED', '')\n",
    "    # Delete intermediate datasets\n",
    "    for unit_points in points_array:\n",
    "        arcpy.Delete_management(unit_points)\n",
    "    # End timing function execution and calculate elapsed time\n",
    "    end = time.time()\n",
    "    elapsed = int(end - start)\n",
    "    success_time = datetime.datetime.now()\n",
    "    # Report process success\n",
    "    print('Successfully created stratified-random floodplain sampling points...')\n",
    "    print('----------')\n",
    "    out_process = 'Succeeded at {0} (Elapsed time: {1})'.format(success_time.strftime(\"%Y-%m-%d %H:%M\"),\n",
    "                                                                datetime.timedelta(seconds=elapsed))\n",
    "    return out_process"
   ]
  },
  {
   "cell_type": "code",
   "execution_count": 14,
   "metadata": {},
   "outputs": [
    {
     "name": "stdout",
     "output_type": "stream",
     "text": [
      "E:/ACCS_Work/Projects/VegetationEcology/BristolBay_Vegetation/Project_GIS\\Data_Input/floodplain_points/FloodplainSample_Nuyakuk.shp already exists and will be overwritten.\n",
      "Generating random sample set 1 of 3...\n",
      "Generating random sample set 2 of 3...\n",
      "Generating random sample set 3 of 3...\n",
      "Merging random sample sets into output...\n",
      "Successfully created stratified-random floodplain sampling points...\n",
      "----------\n",
      "Succeeded at 2019-04-06 17:09 (Elapsed time: 0:00:14)\n"
     ]
    }
   ],
   "source": [
    "# Define key word values for Nuyakuk and Nushagak Rivers\n",
    "nuyakuk_sample_inputs = [nuyakuk_floodplain, nuyakuk_buffer, nuyakuk_upland]\n",
    "nuyakuk_sample_outputs = [nuyakuk_floodplain_sample]\n",
    "\n",
    "# Create key word arguments\n",
    "nuyakuk_sample_kwargs = {'input_array' : nuyakuk_sample_inputs,\n",
    "                         'output_array' : nuyakuk_sample_outputs\n",
    "                        }\n",
    "\n",
    "# Create the Nuyakuk and Nushagak floodplain sampling points\n",
    "arcpy_geoprocessing(random_stratified, **nuyakuk_sample_kwargs)"
   ]
  },
  {
   "cell_type": "code",
   "execution_count": 15,
   "metadata": {},
   "outputs": [
    {
     "name": "stdout",
     "output_type": "stream",
     "text": [
      "E:/ACCS_Work/Projects/VegetationEcology/BristolBay_Vegetation/Project_GIS\\Data_Input/floodplain_points/FloodplainSample_Aleknagik.shp already exists and will be overwritten.\n",
      "Generating random sample set 1 of 3...\n",
      "Generating random sample set 2 of 3...\n",
      "Generating random sample set 3 of 3...\n",
      "Merging random sample sets into output...\n",
      "Successfully created stratified-random floodplain sampling points...\n",
      "----------\n",
      "Succeeded at 2019-04-06 17:09 (Elapsed time: 0:00:12)\n"
     ]
    }
   ],
   "source": [
    "# Define key word values for Aleknagik and Wood River\n",
    "aleknagik_sample_inputs = [aleknagik_floodplain, aleknagik_buffer, aleknagik_upland]\n",
    "aleknagik_sample_outputs = [aleknagik_floodplain_sample]\n",
    "\n",
    "# Create key word arguments\n",
    "aleknagik_sample_kwargs = {'input_array' : aleknagik_sample_inputs,\n",
    "                           'output_array' : aleknagik_sample_outputs\n",
    "                          }\n",
    "\n",
    "# Create the Aleknagik and Wood River floodplain sampling points\n",
    "arcpy_geoprocessing(random_stratified, **aleknagik_sample_kwargs)"
   ]
  },
  {
   "cell_type": "code",
   "execution_count": null,
   "metadata": {},
   "outputs": [],
   "source": []
  }
 ],
 "metadata": {
  "kernelspec": {
   "display_name": "Python 3",
   "language": "python",
   "name": "python3"
  },
  "language_info": {
   "codemirror_mode": {
    "name": "ipython",
    "version": 3
   },
   "file_extension": ".py",
   "mimetype": "text/x-python",
   "name": "python",
   "nbconvert_exporter": "python",
   "pygments_lexer": "ipython3",
   "version": "3.6.6"
  }
 },
 "nbformat": 4,
 "nbformat_minor": 2
}
