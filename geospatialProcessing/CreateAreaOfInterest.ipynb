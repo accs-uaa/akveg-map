{
 "cells": [
  {
   "cell_type": "markdown",
   "metadata": {},
   "source": [
    "# Create Area of Interest\n",
    "\n",
    "**Timm Nawrocki**  \n",
    "Alaska Center for Conservation Science  \n",
    "2019-04-01"
   ]
  },
  {
   "cell_type": "code",
   "execution_count": 1,
   "metadata": {},
   "outputs": [],
   "source": [
    "# -*- coding: utf-8 -*-\n",
    "# ---------------------------------------------------------------------------\n",
    "# Create Area of Interest\n",
    "# Author: Timm Nawrocki\n",
    "# Created on: 2019-04-01\n",
    "# Usage: Must be executed as a Jupyter Notebook in an ArcGIS Pro Python 3 installation.\n",
    "# Description: \"Create Area of Interest\" generates a raster representation of the model area that is limited by the maximum coverage of all input rasters and set to a common grid and cell size."
   ]
  },
  {
   "cell_type": "markdown",
   "metadata": {},
   "source": [
    "## 1. Initialize Environment"
   ]
  },
  {
   "cell_type": "code",
   "execution_count": 2,
   "metadata": {},
   "outputs": [],
   "source": [
    "# Import packages\n",
    "import arcpy\n",
    "from arcpy.sa import *\n",
    "import datetime\n",
    "import os\n",
    "import time\n",
    "\n",
    "# Set overwrite option\n",
    "arcpy.env.overwriteOutput = True\n",
    "\n",
    "# Set root directory\n",
    "drive = 'F:/'\n",
    "root_directory = os.path.join(drive, 'ACCS_Work/Projects/VegetationEcology/BristolBay_Vegetation/Project_GIS')\n",
    "\n",
    "# Set arcpy working environment\n",
    "arcpy.env.workspace = os.path.join(root_directory, 'BristolBay_Vegetation.gdb')\n",
    "\n",
    "# Define script paths\n",
    "script_directory = os.path.join(drive, 'ACCS_Work/Repositories/southwest-alaska-moose/modules')\n",
    "arcpy_geoprocessing_script = os.path.join(script_directory, 'arcpy_geoprocessing.py')\n",
    "\n",
    "# Define input datasets\n",
    "model_area = os.path.join(arcpy.env.workspace, 'SouthwestAlaska_ModelArea_Clipped')\n",
    "elevation = os.path.join(root_directory, 'Data_Input/source_data/elevation/USGS3DEP_60m_DEM/Alaska_USGS3DEP_Elevation_60m_AKALB_20181106.tif')\n",
    "compound_topographic = os.path.join(root_directory, 'Data_Input/source_data/elevation/USGS3DEP_60m_DEM/Alaska_Topography_CompoundTopographic_60m_AKALB_20181106.tif')\n",
    "heat_load = os.path.join(root_directory, 'Data_Input/source_data/elevation/USGS3DEP_60m_DEM/Alaska_Topography_HeatLoad_60m_AKALB_20181106.tif')\n",
    "integrated_moisture = os.path.join(root_directory, 'Data_Input/source_data/elevation/USGS3DEP_60m_DEM/Alaska_Topography_IntegratedMoisture_60m_AKALB_20181106.tif')\n",
    "linear_aspect = os.path.join(root_directory, 'Data_Input/source_data/elevation/USGS3DEP_60m_DEM/Alaska_Topography_LinearAspect_60m_AKALB_20181106.tif')\n",
    "mean_slope = os.path.join(root_directory, 'Data_Input/source_data/elevation/USGS3DEP_60m_DEM/Alaska_Topography_MeanSlope3x3_60m_AKALB_20181106.tif')\n",
    "roughness = os.path.join(root_directory, 'Data_Input/source_data/elevation/USGS3DEP_60m_DEM/Alaska_Topography_Roughness3x3_60m_AKALB_20181106.tif')\n",
    "site_exposure = os.path.join(root_directory, 'Data_Input/source_data/elevation/USGS3DEP_60m_DEM/Alaska_Topography_SiteExposure_60m_AKALB_20181106.tif')\n",
    "surface_area_ratio = os.path.join(root_directory, 'Data_Input/source_data/elevation/USGS3DEP_60m_DEM/Alaska_Topography_SurfaceAreaRatio_60m_AKALB_20181106.tif')\n",
    "surface_relief = os.path.join(root_directory, 'Data_Input/source_data/elevation/USGS3DEP_60m_DEM/Alaska_Topography_SurfaceRelief3x3_60m_AKALB_20181106.tif')\n",
    "climate_representative = os.path.join(root_directory, 'Data_Input/source_data/climatology/Alaska_DateOfFreeze_2000s.tif')\n",
    "imagery_representative = os.path.join(root_directory, 'Data_Input/source_data/imagery/sentinel2/Sent2_05May_1_ultraBlue.tif')\n",
    "\n",
    "# Define output path and outputs\n",
    "output_path = os.path.join(root_directory, 'Data_Input/area_of_interest')\n",
    "area_of_interest = os.path.join(output_path, 'area_of_interest.tif')"
   ]
  },
  {
   "cell_type": "code",
   "execution_count": 3,
   "metadata": {},
   "outputs": [],
   "source": [
    "# Import and execute arcpy_geoprocessing.py\n",
    "try:\n",
    "    exec(open(arcpy_geoprocessing_script).read())\n",
    "except:\n",
    "    print(\"Error loading arcpy_geoprocessing.py; ensure that script directory is correct:\")\n",
    "    print(script_directory)\n",
    "    quit()"
   ]
  },
  {
   "cell_type": "markdown",
   "metadata": {},
   "source": [
    "## 2. Create Area of Interest"
   ]
  },
  {
   "cell_type": "code",
   "execution_count": 4,
   "metadata": {},
   "outputs": [],
   "source": [
    "# Define a function to create and refine an area of interest\n",
    "def create_aoi(**kwargs):\n",
    "    \"\"\"\n",
    "    Description: creates an area of interest (aoi) from a model area and iteratively extracts the aoi to the additional input rasters\n",
    "    Inputs: 'input_array' -- an array containing the input datasets with the first dataset as the model area feature class, the second as the elevation raster, and any number of additional environmental rasters\n",
    "            'output_array' -- an array containing the location to save the area of interest raster\n",
    "    \"\"\"\n",
    "    # Start timing function execution\n",
    "    start = time.time()\n",
    "    # Parse key word argument inputs\n",
    "    input_rasters = kwargs['input_array']\n",
    "    model_area = input_rasters.pop(0)\n",
    "    elevation = input_rasters[0]\n",
    "    # Set the snap raster environment\n",
    "    arcpy.env.snapRaster = elevation\n",
    "    # Convert the model area polygon to a raster snapped to the USGS Elevation grid with a 10 m cell size\n",
    "    print('Converting model area to raster...')\n",
    "    arcpy.PolygonToRaster_conversion(model_area, 'OBJECTID', area_of_interest, 'CELL_CENTER', '', 10)\n",
    "    # Set the cell size environment\n",
    "    arcpy.env.cellSize = 10\n",
    "    # Define a function to refine the initial area of interest based on the data extent of the unformatted predictor rasters\n",
    "    def refineAOI(area, predictor):\n",
    "        # Extract initial area of interest to predictor raster\n",
    "        print('Refining area of interest...')\n",
    "        extract_raster = ExtractByMask(area, predictor)\n",
    "        arcpy.Delete_management(area)\n",
    "        arcpy.CopyRaster_management(extract_raster, area, \"\", \"\", \"\", \"NONE\", \"NONE\", \"1_BIT\", \"NONE\", \"NONE\", \"TIFF\", \"NONE\")\n",
    "    # Iterate the refine AOI function for each raster selected as an input\n",
    "    for input_raster in input_rasters:\n",
    "        refineAOI(area_of_interest, input_raster)\n",
    "    # End timing function execution and calculate elapsed time\n",
    "    end = time.time()\n",
    "    elapsed = int(end - start)\n",
    "    success_time = datetime.datetime.now()\n",
    "    # Report process success\n",
    "    print('Successfully created area of interest...')\n",
    "    print('----------')\n",
    "    out_process = 'Succeeded at {0} (Elapsed time: {1})'.format(success_time.strftime(\"%Y-%m-%d %H:%M\"),\n",
    "                                                                datetime.timedelta(seconds=elapsed))\n",
    "    return out_process"
   ]
  },
  {
   "cell_type": "code",
   "execution_count": 5,
   "metadata": {},
   "outputs": [
    {
     "name": "stdout",
     "output_type": "stream",
     "text": [
      "Converting model area to raster...\n",
      "Refining area of interest...\n",
      "Refining area of interest...\n",
      "Refining area of interest...\n",
      "Refining area of interest...\n",
      "Refining area of interest...\n",
      "Refining area of interest...\n",
      "Refining area of interest...\n",
      "Refining area of interest...\n",
      "Refining area of interest...\n",
      "Refining area of interest...\n",
      "Refining area of interest...\n",
      "Refining area of interest...\n",
      "Successfully created area of interest...\n",
      "----------\n",
      "Succeeded at 2019-04-02 14:10 (Elapsed time: 0:57:13)\n"
     ]
    }
   ],
   "source": [
    "# Define input and output arrays\n",
    "aoi_inputs = [model_area,\n",
    "              elevation,\n",
    "              compound_topographic,\n",
    "              heat_load,\n",
    "              integrated_moisture,\n",
    "              linear_aspect,\n",
    "              mean_slope,\n",
    "              roughness,\n",
    "              site_exposure,\n",
    "              surface_area_ratio,\n",
    "              surface_relief,\n",
    "              climate_representative,\n",
    "              imagery_representative\n",
    "             ]\n",
    "aoi_outputs = [area_of_interest]\n",
    "\n",
    "# Create key word arguments\n",
    "aoi_kwargs = {'input_array' : aoi_inputs,\n",
    "              'output_array' : aoi_outputs,\n",
    "              'output_path' : output_path\n",
    "             }\n",
    "\n",
    "# Process the create polygon function with the point array\n",
    "arcpy_geoprocessing(create_aoi, **aoi_kwargs)"
   ]
  }
 ],
 "metadata": {
  "kernelspec": {
   "display_name": "Python 3",
   "language": "python",
   "name": "python3"
  },
  "language_info": {
   "codemirror_mode": {
    "name": "ipython",
    "version": 3
   },
   "file_extension": ".py",
   "mimetype": "text/x-python",
   "name": "python",
   "nbconvert_exporter": "python",
   "pygments_lexer": "ipython3",
   "version": "3.6.6"
  }
 },
 "nbformat": 4,
 "nbformat_minor": 2
}
