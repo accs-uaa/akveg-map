{
 "cells": [
  {
   "cell_type": "markdown",
   "metadata": {},
   "source": [
    "# Create Study Area\n",
    "\n",
    "**Timm Nawrocki**  \n",
    "Alaska Center for Conservation Science  \n",
    "2019-03-20"
   ]
  },
  {
   "cell_type": "code",
   "execution_count": 1,
   "metadata": {},
   "outputs": [],
   "source": [
    "# -*- coding: utf-8 -*-\n",
    "# ---------------------------------------------------------------------------\n",
    "# Create Study Area\n",
    "# Author: Timm Nawrocki\n",
    "# Created on: 2019-03-20\n",
    "# Usage: Must be executed as a Jupyter Notebook in an ArcGIS Pro Python 3 installation.\n",
    "# Description: \"Create Study Area\" generates a polygon of Game Management Unit (GMU 17) plus the Bristol Bay Lowlands and Ahklun Mountains. This script also outputs several supporting polygons that parse the study area into smaller sections.\n",
    "# ---------------------------------------------------------------------------"
   ]
  },
  {
   "cell_type": "markdown",
   "metadata": {},
   "source": [
    "## 1. Initialize Environment"
   ]
  },
  {
   "cell_type": "code",
   "execution_count": 2,
   "metadata": {},
   "outputs": [],
   "source": [
    "# Import packages\n",
    "import arcpy\n",
    "import os\n",
    "\n",
    "# Set overwrite option\n",
    "arcpy.env.overwriteOutput = True\n",
    "\n",
    "# Set root directory\n",
    "drive = 'F:/'\n",
    "root_directory = os.path.join(drive, 'ACCS_Work/Projects/VegetationEcology/BristolBay_Vegetation/Project_GIS')\n",
    "\n",
    "# Set arcpy working environment\n",
    "arcpy.env.workspace = os.path.join(root_directory, 'BristolBay_Vegetation.gdb')\n",
    "\n",
    "# Define script paths\n",
    "script_directory = os.path.join(drive, 'Repositories/southwest-alaska-moose/modules')\n",
    "arcpy_geoprocessing_script = os.path.join(script_directory, 'arcpy_geoprocessing.py')\n",
    "\n",
    "# Define input datasets\n",
    "game_management_units = os.path.join(root_directory, 'Data_Input/source_data/boundaries/Alaska_GameManagementUnits.shp')\n",
    "unified_ecoregions = os.path.join(root_directory, 'Data_Input/source_data/boundaries/Alaska_UnifiedEcoregions.shp')\n",
    "watersheds = os.path.join(root_directory, 'Data_Input/source_data/inland_waters/NHD_H_02_GDB.gdb/WBD/WBDHU10')\n",
    "\n",
    "# Define output feature class\n",
    "gmu_17 = 'SouthwestAlaska_GMU17'\n",
    "output_ecoregions = 'SouthwestAlaska_BristolBayEcoregions'\n",
    "study_area = 'SouthwestAlaska_StudyArea'\n",
    "bristol_lowlands_addition = 'SouthwestAlaska_BristolLowlandsAddition'\n",
    "ahklun_mountains_addition = 'SouthwestAlaska_AhklunMountainsAddition'"
   ]
  },
  {
   "cell_type": "code",
   "execution_count": 3,
   "metadata": {},
   "outputs": [],
   "source": [
    "# Import and execute arcpy_geoprocessing.py\n",
    "try:\n",
    "    exec(open(arcpy_geoprocessing_script).read())\n",
    "except:\n",
    "    print(\"Error loading arcpy_geoprocessing.py; ensure that script directory is correct:\")\n",
    "    print(script_directory)\n",
    "    quit()"
   ]
  },
  {
   "cell_type": "markdown",
   "metadata": {},
   "source": [
    "## 2. Create Study Area Polygons"
   ]
  },
  {
   "cell_type": "code",
   "execution_count": 4,
   "metadata": {},
   "outputs": [],
   "source": [
    "# Define function to create polygon feature class\n",
    "def create_study_area(**kwargs):\n",
    "    \"\"\"\n",
    "    Description: creates a polygon feature class with vertices read from an array\n",
    "    Inputs: 'input_array' -- an array containing game management units, unified ecoregions, and watersheds (10 digit hydrologic units)\n",
    "            'output_array' -- the output should be an array with a full feature class and a clipped feature class\n",
    "    \"\"\"\n",
    "    # Parse key word argument inputs\n",
    "    game_management_units = kwargs['input_array'][0]\n",
    "    unified_ecoregions = kwargs['input_array'][1]\n",
    "    watersheds = kwargs['input_array'][2]\n",
    "    gmu_17 = kwargs['output_array'][0]\n",
    "    output_ecoregions = kwargs['output_array'][1]\n",
    "    study_area = kwargs['output_array'][2]\n",
    "    bristol_lowlands_addition = kwargs['output_array'][3]\n",
    "    ahklun_mountains_addition = kwargs['output_array'][4]\n",
    "    # Define intermediate datasets\n",
    "    kaskanak_creek = 'kaskanakCreek'\n",
    "    ahklun_mountains = 'ahklun_mountains'\n",
    "    bristol_lowlands = 'bristol_lowlands'\n",
    "    study_area_initial = 'studyArea_initial'\n",
    "    study_area_line = 'studyArea_line'\n",
    "    merge_ahklun = 'merge_ahklun'\n",
    "    merge_bristol = 'merge_bristol'\n",
    "    # Select the Ahklun Mountains from the unified ecoregions\n",
    "    select_ahklun = arcpy.SelectLayerByAttribute_management(unified_ecoregions, 'NEW_SELECTION', \"COMMONER = 'Ahklun Mountains'\", 'NON_INVERT')\n",
    "    arcpy.CopyFeatures_management(select_ahklun, ahklun_mountains)\n",
    "    # Select the Bristol Bay Lowlands from the unified ecoregions\n",
    "    select_bristol = arcpy.SelectLayerByAttribute_management(unified_ecoregions, 'NEW_SELECTION', \"COMMONER = 'Bristol Bay Lowlands'\", 'NON_INVERT')\n",
    "    arcpy.CopyFeatures_management(select_bristol, bristol_lowlands)\n",
    "    # Merge the selected ecoregions into one feature class\n",
    "    arcpy.Merge_management([ahklun_mountains, bristol_lowlands], output_ecoregions)\n",
    "    print('Successfully created output ecoregions feature class...')\n",
    "    # Select GMU 17 from GMUs\n",
    "    select_gmu = arcpy.SelectLayerByAttribute_management(game_management_units, 'NEW_SELECTION', \"UnitSub IN ('17A', '17B', '17C')\", 'NON_INVERT')\n",
    "    arcpy.CopyFeatures_management(select_gmu, gmu_17)\n",
    "    print('Successfully created feature class for GMU 17...')\n",
    "    # Merge the selected ecoregions with GMU 17 and Kaskanak Creek watershed to form study area\n",
    "    select_watershed = arcpy.SelectLayerByAttribute_management(watersheds, 'NEW_SELECTION', \"HUC10 = '1903020612'\", 'NON_INVERT')\n",
    "    arcpy.CopyFeatures_management(select_watershed, kaskanak_creek)\n",
    "    arcpy.Merge_management([output_ecoregions, gmu_17, kaskanak_creek], study_area_initial)\n",
    "    # Fill holes in the study area\n",
    "    arcpy.PolygonToLine_management(study_area_initial, study_area_line, 'IGNORE_NEIGHBORS')\n",
    "    arcpy.FeatureToPolygon_management(study_area_line, study_area_initial)\n",
    "    arcpy.Dissolve_management(study_area_initial, study_area)\n",
    "    print('Successfully created study area feature class...')\n",
    "    # Isolate areas additional to GMU 17\n",
    "    arcpy.Merge_management([gmu_17, kaskanak_creek, bristol_lowlands], merge_bristol)\n",
    "    arcpy.Erase_analysis(study_area, merge_bristol, ahklun_mountains_addition)\n",
    "    print('Successfully created Ahklun Mountains addition area...')\n",
    "    arcpy.Merge_management([gmu_17, ahklun_mountains], merge_ahklun)\n",
    "    arcpy.Erase_analysis(study_area, merge_ahklun, bristol_lowlands_addition)\n",
    "    print('Successfully created Bristol Bay Lowlands addition area...')\n",
    "    print('----------')\n",
    "    # Delete intermediate dataset\n",
    "    arcpy.Delete_management(kaskanak_creek)\n",
    "    arcpy.Delete_management(ahklun_mountains)\n",
    "    arcpy.Delete_management(bristol_lowlands)\n",
    "    arcpy.Delete_management(study_area_initial)\n",
    "    arcpy.Delete_management(merge_ahklun)\n",
    "    out_process = arcpy.Delete_management(merge_bristol)\n",
    "    return out_process"
   ]
  },
  {
   "cell_type": "code",
   "execution_count": 5,
   "metadata": {},
   "outputs": [
    {
     "name": "stdout",
     "output_type": "stream",
     "text": [
      "SouthwestAlaska_GMU17 already exists and will be overwritten.\n",
      "SouthwestAlaska_BristolBayEcoregions already exists and will be overwritten.\n",
      "SouthwestAlaska_StudyArea already exists and will be overwritten.\n",
      "SouthwestAlaska_BristolLowlandsAddition already exists and will be overwritten.\n",
      "SouthwestAlaska_AhklunMountainsAddition already exists and will be overwritten.\n",
      "Successfully created output ecoregions feature class...\n",
      "Successfully created feature class for GMU 17...\n",
      "Successfully created study area feature class...\n",
      "Successfully created Ahklun Mountains addition area...\n",
      "Successfully created Bristol Bay Lowlands addition area...\n",
      "----------\n",
      "Succeeded at Sunday, March 24, 2019 1:59:45 PM (Elapsed Time: 0.56 seconds)\n"
     ]
    }
   ],
   "source": [
    "# Define input and output arrays\n",
    "study_area_inputs = [game_management_units, unified_ecoregions, watersheds]\n",
    "study_area_outputs = [gmu_17, output_ecoregions, study_area, bristol_lowlands_addition, ahklun_mountains_addition]\n",
    "\n",
    "# Create key word arguments\n",
    "study_area_kwargs = {'input_array' : study_area_inputs,\n",
    "                     'output_array' : study_area_outputs\n",
    "                    }\n",
    "\n",
    "# Process the create polygon function with the point array\n",
    "arcpy_geoprocessing(create_study_area, **study_area_kwargs)"
   ]
  }
 ],
 "metadata": {
  "kernelspec": {
   "display_name": "Python 3",
   "language": "python",
   "name": "python3"
  },
  "language_info": {
   "codemirror_mode": {
    "name": "ipython",
    "version": 3
   },
   "file_extension": ".py",
   "mimetype": "text/x-python",
   "name": "python",
   "nbconvert_exporter": "python",
   "pygments_lexer": "ipython3",
   "version": "3.7.1"
  }
 },
 "nbformat": 4,
 "nbformat_minor": 2
}
