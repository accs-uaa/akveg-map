{
 "cells": [
  {
   "cell_type": "markdown",
   "metadata": {},
   "source": [
    "# Create Modeling Areas\n",
    "\n",
    "**Timm Nawrocki**  \n",
    "Alaska Center for Conservation Science  \n",
    "2019-03-19"
   ]
  },
  {
   "cell_type": "code",
   "execution_count": 1,
   "metadata": {},
   "outputs": [],
   "source": [
    "# -*- coding: utf-8 -*-\n",
    "# ---------------------------------------------------------------------------\n",
    "# Create Modeling Areas\n",
    "# Author: Timm Nawrocki\n",
    "# Created on: 2019-03-19\n",
    "# Usage: Must be executed as a Jupyter Notebook in an ArcGIS Pro Python 3 installation.\n",
    "# Description: \"Create Modeling Areas\" generates a polygon from an array of x, y coordinates that will serve as the general modeling area for data download and processing. The model area polygon selects intersecting sub-basins (8 digit hydrologic units) from the Watershed Boundaries Dataset to provide form the hydrographic area of influence for the region.\n",
    "# ---------------------------------------------------------------------------"
   ]
  },
  {
   "cell_type": "markdown",
   "metadata": {},
   "source": [
    "## 1. Initialize Environment"
   ]
  },
  {
   "cell_type": "code",
   "execution_count": 2,
   "metadata": {},
   "outputs": [],
   "source": [
    "# Import packages\n",
    "import arcpy\n",
    "import datetime\n",
    "import os\n",
    "import time\n",
    "\n",
    "# Set overwrite option\n",
    "arcpy.env.overwriteOutput = True\n",
    "\n",
    "# Set root directory\n",
    "drive = 'F:/'\n",
    "root_directory = os.path.join(drive, 'ACCS_Work/Projects/VegetationEcology/BristolBay_Vegetation/Project_GIS')\n",
    "\n",
    "# Set arcpy working environment\n",
    "arcpy.env.workspace = os.path.join(root_directory, 'BristolBay_Vegetation.gdb')\n",
    "\n",
    "# Define script paths\n",
    "script_directory = os.path.join(drive, 'ACCS_Work/Repositories/southwest-alaska-moose/modules')\n",
    "arcpy_geoprocessing_script = os.path.join(script_directory, 'arcpy_geoprocessing.py')\n",
    "\n",
    "# Define input array\n",
    "point_array = [[-152.79699, 61.55473],\n",
    "               [-152.70467, 58.66074],\n",
    "               [-157.69984, 56.33955],\n",
    "               [-159.49354, 56.97233],\n",
    "               [-163.09044, 58.59629],\n",
    "               [-160.84181, 61.57616]]\n",
    "\n",
    "# Define input datasets\n",
    "alaska_boundary = os.path.join(root_directory, 'Data_Input/source_data/boundaries/Alaska_63360_ExcludingSmallIslands.shp')\n",
    "subbasins = os.path.join(root_directory, 'Data_Input/source_data/inland_waters/NHD_H_02_GDB.gdb/WBD/WBDHU8')\n",
    "\n",
    "# Define spatial references\n",
    "geographic_reference = 4326 #GCS WGS 1984\n",
    "projected_reference = 3338 #NAD 1983 Alaska Albers\n",
    "transform_method = 'WGS_1984_(ITRF00)_To_NAD_1983'\n",
    "\n",
    "# Define output feature class\n",
    "model_area_full = 'SouthwestAlaska_ModelArea_Full'\n",
    "model_area_clipped = 'SouthwestAlaska_ModelArea_Clipped'\n",
    "hydrographic_area = 'SouthwestAlaska_HydrographicArea'"
   ]
  },
  {
   "cell_type": "code",
   "execution_count": 3,
   "metadata": {},
   "outputs": [],
   "source": [
    "# Import and execute arcpy_geoprocessing.py\n",
    "try:\n",
    "    exec(open(arcpy_geoprocessing_script).read())\n",
    "except:\n",
    "    print(\"Error loading arcpy_geoprocessing.py; ensure that script directory is correct:\")\n",
    "    print(script_directory)\n",
    "    quit()"
   ]
  },
  {
   "cell_type": "markdown",
   "metadata": {},
   "source": [
    "## 2. Create Model Area Polygons"
   ]
  },
  {
   "cell_type": "code",
   "execution_count": 4,
   "metadata": {},
   "outputs": [],
   "source": [
    "# Define function to create model area polygons\n",
    "def create_model_area(**kwargs):\n",
    "    \"\"\"\n",
    "    Description: creates a polygon feature class with vertices read from an array\n",
    "    Inputs: 'point_array' -- an array of x, y coordinates\n",
    "            'input_array' -- an array containing a coastline polygon to clip the model area\n",
    "            'output_array' -- the output should be an array with a full feature class and a clipped feature class\n",
    "            'output_path' -- the output path is the directory in which the new feature class is created\n",
    "            'geographic_reference' -- the ESRI reference number for the geographic reference that matches the point array\n",
    "            'projected_reference' -- the ESRI reference number for the projected reference of the output datasets\n",
    "            'transform_method' -- required if the geographic and projected references are in different datums\n",
    "    \"\"\"\n",
    "    # Start timing function execution\n",
    "    start = time.time()\n",
    "    # Parse key word argument inputs\n",
    "    point_array = kwargs['point_array']\n",
    "    alaska_boundary = kwargs['input_array'][0]\n",
    "    output_path = kwargs['output_path']\n",
    "    output_full = os.path.join(output_path, kwargs['output_array'][0])\n",
    "    output_clipped = os.path.join(output_path, kwargs['output_array'][1])\n",
    "    geographic_reference = arcpy.SpatialReference(kwargs['geographic_reference'])\n",
    "    projected_reference = arcpy.SpatialReference(kwargs['projected_reference'])\n",
    "    transform_method = kwargs['transform_method']\n",
    "    # Define intermediate datasets\n",
    "    initial_area = os.path.join(output_path, 'modelArea_initial')\n",
    "    # Create a new polygon feature class\n",
    "    print('Inserting vertices to new feature class...')\n",
    "    arcpy.CreateFeatureclass_management(output_path, 'modelArea_initial', 'POLYGON')\n",
    "    # Add projection to new feature class\n",
    "    arcpy.DefineProjection_management(initial_area, geographic_reference)\n",
    "    # Initiate an insert cursor and insert an array of vertices for a polygon\n",
    "    with arcpy.da.InsertCursor(initial_area, [\"SHAPE@\"]) as cursor:\n",
    "        array = arcpy.Array()\n",
    "        for point in point_array:\n",
    "            X = point[0]\n",
    "            Y = point[1]\n",
    "            array.add(arcpy.Point(X, Y))\n",
    "        cursor.insertRow([arcpy.Polygon(array)])\n",
    "    # Project polygon\n",
    "    arcpy.Project_management(initial_area, output_full, projected_reference, transform_method)\n",
    "    # Clip the polygon to the Alaska coastline\n",
    "    print('Clipping model area to Alaska coastline...')\n",
    "    arcpy.Clip_analysis(output_full, alaska_boundary, output_clipped)\n",
    "    # Delete intermediate dataset\n",
    "    arcpy.Delete_management(initial_area)\n",
    "    # End timing function execution and calculate elapsed time\n",
    "    end = time.time()\n",
    "    elapsed = int(end - start)\n",
    "    success_time = datetime.datetime.now()\n",
    "    # Report process success\n",
    "    print('Successfully created modeling areas...')\n",
    "    print('----------')\n",
    "    out_process = 'Succeeded at {0} (Elapsed time: {1})'.format(success_time.strftime(\"%Y-%m-%d %H:%M\"),\n",
    "                                                                datetime.timedelta(seconds=elapsed))\n",
    "    return out_process"
   ]
  },
  {
   "cell_type": "code",
   "execution_count": 5,
   "metadata": {},
   "outputs": [
    {
     "name": "stdout",
     "output_type": "stream",
     "text": [
      "SouthwestAlaska_ModelArea_Full already exists and will be overwritten.\n",
      "SouthwestAlaska_ModelArea_Clipped already exists and will be overwritten.\n",
      "Inserting vertices to new feature class...\n",
      "Clipping model area to Alaska coastline...\n",
      "Successfully created modeling areas...\n",
      "----------\n",
      "Succeeded at 2019-04-02 13:10 (Elapsed time: 0:00:13)\n"
     ]
    }
   ],
   "source": [
    "# Define input and output arrays\n",
    "model_area_inputs = [alaska_boundary]\n",
    "model_area_outputs = [model_area_full, model_area_clipped]\n",
    "\n",
    "# Create key word arguments\n",
    "create_model_area_kwargs = {'point_array' : point_array,\n",
    "                            'input_array' : model_area_inputs,\n",
    "                            'output_array' : model_area_outputs,\n",
    "                            'output_path' : arcpy.env.workspace,\n",
    "                            'geographic_reference' : geographic_reference,\n",
    "                            'projected_reference' : projected_reference,\n",
    "                            'transform_method' : transform_method\n",
    "                           }\n",
    "\n",
    "# Process the create polygon function with the point array\n",
    "arcpy_geoprocessing(create_model_area, **create_model_area_kwargs)"
   ]
  },
  {
   "cell_type": "markdown",
   "metadata": {},
   "source": [
    "## 3. Create Hydrographic Area of Influence"
   ]
  },
  {
   "cell_type": "code",
   "execution_count": 6,
   "metadata": {},
   "outputs": [],
   "source": [
    "# Define function to create hydrographic area of influence\n",
    "def create_hydrographic_area(**kwargs):\n",
    "    \"\"\"\n",
    "    Description: creates a polygon feature class with vertices read from an array\n",
    "    Inputs: 'input_array' -- an array containing the full model area and the 8 digit hydrologic units\n",
    "            'output_array' -- the output should be an array with a feature class for selected 8 digit hydrologic units\n",
    "            'projected_reference' -- the ESRI reference number for the projected reference of the output datasets\n",
    "    \"\"\"\n",
    "    # Start timing function execution\n",
    "    start = time.time()\n",
    "    # Parse key word argument inputs\n",
    "    model_area = kwargs['input_array'][0]\n",
    "    subbasins = kwargs['input_array'][1]\n",
    "    hydrographic_area = kwargs['output_array'][0]\n",
    "    projected_reference = arcpy.SpatialReference(kwargs['projected_reference'])\n",
    "    # Define intermediate datasets\n",
    "    hydrographic_area_initial = 'hydrographicArea_initial'\n",
    "    # Select subbasins that intersect the model area\n",
    "    print('Selecting subbasins in hydrographic area...')\n",
    "    subbasins_select = arcpy.SelectLayerByLocation_management(subbasins, 'INTERSECT', model_area, '', 'NEW_SELECTION', 'NOT_INVERT')\n",
    "    # Project polygon\n",
    "    print('Copying subbasins to new feature class...')\n",
    "    arcpy.CopyFeatures_management(subbasins_select, hydrographic_area_initial)\n",
    "    arcpy.Project_management(hydrographic_area_initial, hydrographic_area, projected_reference)\n",
    "    # Delete intermediate dataset\n",
    "    arcpy.Delete_management(hydrographic_area_initial)\n",
    "    # End timing function execution and calculate elapsed time\n",
    "    end = time.time()\n",
    "    elapsed = int(end - start)\n",
    "    success_time = datetime.datetime.now()\n",
    "    # Report process success\n",
    "    print('Successfully created hydrographic area of influence...')\n",
    "    print('----------')\n",
    "    out_process = 'Succeeded at {0} (Elapsed time: {1})'.format(success_time.strftime(\"%Y-%m-%d %H:%M\"),\n",
    "                                                                datetime.timedelta(seconds=elapsed))\n",
    "    return out_process"
   ]
  },
  {
   "cell_type": "code",
   "execution_count": 7,
   "metadata": {},
   "outputs": [
    {
     "name": "stdout",
     "output_type": "stream",
     "text": [
      "SouthwestAlaska_HydrographicArea already exists and will be overwritten.\n",
      "Selecting subbasins in hydrographic area...\n",
      "Copying subbasins to new feature class...\n",
      "Successfully created hydrographic area of influence...\n",
      "----------\n",
      "Succeeded at 2019-04-02 13:10 (Elapsed time: 0:00:04)\n"
     ]
    }
   ],
   "source": [
    "# Define input and output arrays\n",
    "hydrographic_area_inputs = [model_area_full, subbasins]\n",
    "hydrographic_area_outputs = [hydrographic_area]\n",
    "\n",
    "# Create key word arguments\n",
    "create_hydrographic_area_kwargs = {'input_array' : hydrographic_area_inputs,\n",
    "                                   'output_array' : hydrographic_area_outputs,\n",
    "                                   'projected_reference' : projected_reference\n",
    "                                  }\n",
    "\n",
    "# Process the create polygon function with the point array\n",
    "arcpy_geoprocessing(create_hydrographic_area, **create_hydrographic_area_kwargs)"
   ]
  },
  {
   "cell_type": "code",
   "execution_count": null,
   "metadata": {},
   "outputs": [],
   "source": []
  }
 ],
 "metadata": {
  "kernelspec": {
   "display_name": "Python 3",
   "language": "python",
   "name": "python3"
  },
  "language_info": {
   "codemirror_mode": {
    "name": "ipython",
    "version": 3
   },
   "file_extension": ".py",
   "mimetype": "text/x-python",
   "name": "python",
   "nbconvert_exporter": "python",
   "pygments_lexer": "ipython3",
   "version": "3.6.6"
  }
 },
 "nbformat": 4,
 "nbformat_minor": 2
}
