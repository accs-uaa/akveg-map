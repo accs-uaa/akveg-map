{
 "cells": [
  {
   "cell_type": "code",
   "execution_count": 3,
   "id": "02633e81-a300-40fb-8dfe-14019632621d",
   "metadata": {
    "scrolled": true
   },
   "outputs": [
    {
     "name": "stdout",
     "output_type": "stream",
     "text": [
      "🟢 Found 8 matching TIFF files.\n",
      "✅ VRT created successfully with band names: /data/gis/gis_base/GEE/GEE_Exports/2025_akveg/mcd43a4_061_ndvi_seasonal_doy_percentiles_v20250128_3338_100m.vrt\n"
     ]
    },
    {
     "name": "stderr",
     "output_type": "stream",
     "text": [
      "Warning 1: PROJ: proj_create_from_database: Open of /home/mmacander/miniconda3/envs/cog/share/proj failed\n",
      "Warning 1: The definition of projected CRS EPSG:3338 got from GeoTIFF keys is not the same as the one from the EPSG registry, which may cause issues during reprojection operations. Set GTIFF_SRS_SOURCE configuration option to EPSG to use official parameters (overriding the ones from GeoTIFF keys), or to GEOKEYS to use custom values from GeoTIFF keys and drop the EPSG code.\n",
      "Warning 1: PROJ: proj_create_from_database: Open of /home/mmacander/miniconda3/envs/cog/share/proj failed\n",
      "Warning 1: The definition of projected CRS EPSG:3338 got from GeoTIFF keys is not the same as the one from the EPSG registry, which may cause issues during reprojection operations. Set GTIFF_SRS_SOURCE configuration option to EPSG to use official parameters (overriding the ones from GeoTIFF keys), or to GEOKEYS to use custom values from GeoTIFF keys and drop the EPSG code.\n",
      "Warning 1: PROJ: proj_create_from_database: Open of /home/mmacander/miniconda3/envs/cog/share/proj failed\n",
      "Warning 1: The definition of projected CRS EPSG:3338 got from GeoTIFF keys is not the same as the one from the EPSG registry, which may cause issues during reprojection operations. Set GTIFF_SRS_SOURCE configuration option to EPSG to use official parameters (overriding the ones from GeoTIFF keys), or to GEOKEYS to use custom values from GeoTIFF keys and drop the EPSG code.\n",
      "Warning 1: PROJ: proj_create_from_database: Open of /home/mmacander/miniconda3/envs/cog/share/proj failed\n",
      "Warning 1: The definition of projected CRS EPSG:3338 got from GeoTIFF keys is not the same as the one from the EPSG registry, which may cause issues during reprojection operations. Set GTIFF_SRS_SOURCE configuration option to EPSG to use official parameters (overriding the ones from GeoTIFF keys), or to GEOKEYS to use custom values from GeoTIFF keys and drop the EPSG code.\n",
      "Warning 1: PROJ: proj_create_from_database: Open of /home/mmacander/miniconda3/envs/cog/share/proj failed\n",
      "Warning 1: The definition of projected CRS EPSG:3338 got from GeoTIFF keys is not the same as the one from the EPSG registry, which may cause issues during reprojection operations. Set GTIFF_SRS_SOURCE configuration option to EPSG to use official parameters (overriding the ones from GeoTIFF keys), or to GEOKEYS to use custom values from GeoTIFF keys and drop the EPSG code.\n",
      "Warning 1: PROJ: proj_create_from_database: Open of /home/mmacander/miniconda3/envs/cog/share/proj failed\n",
      "Warning 1: The definition of projected CRS EPSG:3338 got from GeoTIFF keys is not the same as the one from the EPSG registry, which may cause issues during reprojection operations. Set GTIFF_SRS_SOURCE configuration option to EPSG to use official parameters (overriding the ones from GeoTIFF keys), or to GEOKEYS to use custom values from GeoTIFF keys and drop the EPSG code.\n",
      "Warning 1: PROJ: proj_create_from_database: Open of /home/mmacander/miniconda3/envs/cog/share/proj failed\n",
      "Warning 1: The definition of projected CRS EPSG:3338 got from GeoTIFF keys is not the same as the one from the EPSG registry, which may cause issues during reprojection operations. Set GTIFF_SRS_SOURCE configuration option to EPSG to use official parameters (overriding the ones from GeoTIFF keys), or to GEOKEYS to use custom values from GeoTIFF keys and drop the EPSG code.\n",
      "Warning 1: PROJ: proj_create_from_database: Open of /home/mmacander/miniconda3/envs/cog/share/proj failed\n",
      "Warning 1: The definition of projected CRS EPSG:3338 got from GeoTIFF keys is not the same as the one from the EPSG registry, which may cause issues during reprojection operations. Set GTIFF_SRS_SOURCE configuration option to EPSG to use official parameters (overriding the ones from GeoTIFF keys), or to GEOKEYS to use custom values from GeoTIFF keys and drop the EPSG code.\n"
     ]
    }
   ],
   "source": [
    "import os\n",
    "import glob\n",
    "from osgeo import gdal\n",
    "\n",
    "# Set directory and wildcard pattern\n",
    "input_directory = \"/data/gis/gis_base/GEE/GEE_Exports/2025_akveg\"\n",
    "wildcard = \"mcd43a4_061_ndvi_seasonal_doy_percentiles_v20250128_3338_100m-*.tif\"  # Change this to match your desired files\n",
    "vrt_filename = os.path.join(input_directory, \"mcd43a4_061_ndvi_seasonal_doy_percentiles_v20250128_3338_100m.vrt\")\n",
    "\n",
    "# Find matching TIFF files\n",
    "tif_files = glob.glob(os.path.join(input_directory, wildcard))\n",
    "\n",
    "# Check if any files were found\n",
    "if not tif_files:\n",
    "    print(\"❌ No matching TIFF files found!\")\n",
    "else:\n",
    "    print(f\"🟢 Found {len(tif_files)} matching TIFF files.\")\n",
    "\n",
    "    # Build the VRT\n",
    "    vrt_ds = gdal.BuildVRT(vrt_filename, tif_files, separate=False)\n",
    "\n",
    "    # Preserve band names from the first file\n",
    "    if vrt_ds:\n",
    "        first_tif = tif_files[0]\n",
    "        src_ds = gdal.Open(first_tif)\n",
    "        \n",
    "        for i in range(1, src_ds.RasterCount + 1):  # Loop through bands\n",
    "            band_name = src_ds.GetRasterBand(i).GetDescription()  # Get band name\n",
    "            if band_name:  # Only set if a name exists\n",
    "                vrt_band = vrt_ds.GetRasterBand(i)\n",
    "                # vrt_band.SetMetadataItem(\"NAME\", band_name)\n",
    "                vrt_band.SetDescription(band_name)\n",
    "\n",
    "        vrt_ds = None\n",
    "        print(f\"✅ VRT created successfully with band names: {vrt_filename}\")\n",
    "\n",
    "    else:\n",
    "        print(\"❌ VRT creation failed!\")"
   ]
  },
  {
   "cell_type": "raw",
   "id": "9dc95703-41f5-421b-9dc2-f2a79ac695e3",
   "metadata": {},
   "source": [
    "bash\n",
    "conda activate cog\n",
    "cd /data/gis/raster_base/Alaska/AKVegMap/MODIS_Phenology/MCD43A4_V61_Normals\n",
    "\n",
    "gdal_translate /data/gis/gis_base/GEE/GEE_Exports/2025_akveg/mcd43a4_061_ndvi_seasonal_doy_percentiles_v20250128_3338_100m.vrt /data/gis/raster_base/Alaska/AKVegMap/MODIS_Phenology/MCD43A4_V61_Normals/mcd43a4_061_ndvi_seasonal_doy_percentiles_v20250128_3338_100m.tif -of cog -co \"RESAMPLING=AVERAGE\" -co \"BIGTIFF=IF_SAFER\" -co \"NUM_THREADS=20\"\n",
    "\n",
    "gdal_translate /data/gis/gis_base/GEE/GEE_Exports/2025_akveg/mcd43a4_061_ndvi_seasonal_doy_percentiles_v20250128_3338_500m.tif mcd43a4_061_ndvi_seasonal_doy_percentiles_v20250128_3338_500m.tif -of cog -co \"RESAMPLING=AVERAGE\" -co \"BIGTIFF=IF_SAFER\" -co \"NUM_THREADS=20\" -a_nodata 0\n"
   ]
  },
  {
   "cell_type": "code",
   "execution_count": null,
   "id": "24f1e166-63ef-4674-9277-27b45301d140",
   "metadata": {},
   "outputs": [],
   "source": []
  }
 ],
 "metadata": {
  "kernelspec": {
   "display_name": "cog",
   "language": "python",
   "name": "cog"
  },
  "language_info": {
   "codemirror_mode": {
    "name": "ipython",
    "version": 3
   },
   "file_extension": ".py",
   "mimetype": "text/x-python",
   "name": "python",
   "nbconvert_exporter": "python",
   "pygments_lexer": "ipython3",
   "version": "3.9.21"
  }
 },
 "nbformat": 4,
 "nbformat_minor": 5
}
