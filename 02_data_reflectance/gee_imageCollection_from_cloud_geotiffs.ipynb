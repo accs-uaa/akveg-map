{
 "cells": [
  {
   "cell_type": "markdown",
   "metadata": {},
   "source": [
    "# Sentinel 2 Composites\n",
    "Version 20230713d includes imagery inputs from 2019 through the end of the 2023 growing season"
   ]
  },
  {
   "cell_type": "markdown",
   "metadata": {
    "id": "fSIfBsgi8dNK"
   },
   "source": [
    "Imagery is tiled in the 50km AKVEG tiles (5000x5000 pixels each at 10 m resolution) and stored in a Google Cloud Storage bucket (akveg-data/s2_sr_2019_2023_gMedian_v20240713d) as part of the akveg-map project. The data can be accessed as a mosaic within Google Earth Engine via as a cloud-backed image collection (https://developers.google.com/earth-engine/Earth_Engine_asset_from_cloud_geotiff)"
   ]
  },
  {
   "cell_type": "markdown",
   "metadata": {},
   "source": [
    "## Version history\n",
    "\n",
    "### v20240713d\n",
    "GEE snapshot: [https://code.earthengine.google.com/ecb8bb60b4985e1cd1a03865002c6992]\n",
    "GEE script path: [https://code.earthengine.google.com/?scriptPath=users%2Fmmacander%2Fakveg_map%3Asentinel_2%2Fs2_medians_v20240713d]\n",
    "\n",
    "As of 2024-07-17, the lastest version of the Sentinel 2 reflectance composites in v20240713d. A description is below.\n",
    "\n",
    "Sentinel 2 Level 2A (surface reflectance) data ([https://developers.google.com/earth-engine/datasets/catalog/COPERNICUS_S2_SR_HARMONIZED]) are available for Alaska and Canada from 2019 through the present. The product is produced by the European Space Agency (ESA) and incorporates both an atmospheric correction and an illumination correction (unlike Landsat Collection 2 surface reflectance, for example, which incorporates an atmospheric correction only). The DEM used for the illumination correction was changed during winter 2020-2021 to the Copernicus GLO-30 global DEM ([https://developers.google.com/earth-engine/datasets/catalog/COPERNICUS_DEM_GLO30]), and the more recent results based on GLO-30 appear to be improved overall and have fewer artifacts at abrupt terrain breaks compared to the earlier results. \n",
    "\n",
    "Input data are first screened at the granule level, to include only images that meet criteria of 1) years between 2019 and 2023 inclusive; 2) day of year >= the first day of year when the maximum solar elevation is 40 degrees or higher; 3) day of year <= the last day of year when the maximum solar elevation is 25 degrees or lower; and 4) a granule 'cloudy pixel percentage' of 80% or less. For the day of year criteria, the thresholds are assigned at the level of the 50 km output tile.\n",
    "\n",
    "The images are then masked to exclude clouds, cloud shadow, snow, and other bad data. 1) Clouds and cloud shadow are masked based on the Cloud Score+ algorithm ([https://developers.google.com/earth-engine/datasets/catalog/GOOGLE_CLOUD_SCORE_PLUS_V1_S2_HARMONIZED]), masking pixels where the 'cs' band < 0.6. 2) Snow and other bad data are masked based on the scene classification map ('SCL' band of the image), masking values of 1 (saturated or defective), 2 (dark area pixels), 3 (cloud shadow), and 11 (snow / ice). 3) For scenes where the Dynamic World ([https://developers.google.com/earth-engine/datasets/catalog/GOOGLE_DYNAMICWORLD_V1]) product was generated, i.e. any scene where the 'cloudy pixel percentage' was <= 35%, pixels where the labelled class was 9 (snow/ice) are also masked.\n",
    "\n",
    "5 seasonal composites are generated from the quality-masked images, nominally representing spring, early summer, midsummer, late summer, and fall. Since snow-masking is applied, the spring and fall periods are intended to represent the snow-free portion of those periods. The seasons are defined based on an existing per-pixel analysis of the dates of snow-free Sentinel 2 imagery ([https://code.earthengine.google.com/6b223ec1a1419a7b8210900b23f3e4c3] or [https://code.earthengine.google.com/?scriptPath=users%2Fmmacander%2Fakveg_map%3Asentinel_2%2Fs2_v20230113_doys]) that included 2019–2022 imagery filtered and masked similarly to the rules above. Day of year percentiles were calculated for each pixel based on the dates of snow-free observations. The central dates of the composite periods were defined as follows: 1) spring = 5th percentile of the snow-free observation dates; 2) midsummer = July 31; 3) fall = 95th percentile of the snow-free observation dates; 4) early summer = 25% of the way between spring and midsummer; and 5) late summer = midway between midsummer and fall. \n",
    "\n",
    "The composites were then calculated as the geometric median of observations within a time window around the central date of each season. For each season, both a narrow and wide time window were considered; if the number of quality-masked observations within the narrow time window was < 3, then the wide time window was used. If the number of quality-masked observations with the wide time window was < 3, then alternate seasonal windows were considered, as described below. The general assumption behind this approach was that the geometric median was not a robust metric with less than 3 observations, because if one of the the observations was an outlier then the result would be heavily influenced by the outlier. The exception was midsummer with a wide time window, for which only one quality-masked observation was required. This was to help ensure that every pixel had some reflectance estimate for each seasonal window (midsummer was a backup for each of the other seasonal windows). Generally, the minimum number of observations was easily achieved for the wide window in each seasonal period, except for snow-dominated areas (on or near glaciers and snow-fields) and some geographic regions with high cloud cover and low observation density (e.g. portions of the Aleutian Islands).\n",
    "\n",
    "TODO: Insert tables with composite windows (narrow and wide), including tier ID. Insert table with backup tiers.\n",
    "\n",
    "TODO: Consider using DOY analysis from the complete Landsat TM, ETM+, and OLI record (1984–present), excluding Landsat 7 ETM+ data collected after the SLC-off malfunction to avoid striping artifacts. And/or, the refined snow analysis based on the Sentinel 2 Dynamic World product.\n",
    "\n",
    "TODO: Consider restoring fire masking. Fire masking limited observations to pre- and/or post-fire imagery for pixels where fires occurred during the 2019-2023 window. Pre- and post-fire products can be produced later as separate tiled product, only processing tiles that intersect fire perimeters, and only for pixels within fire perimeter (could consider a buffer). In main composites, when combined with fallback tiers, fire masking was leading to some composites with mix of pre- and post-fire in different seasons and was contributing to high compute load.\n",
    "\n",
    "TODO: Consider selective use of a full growing season backup tier (e.g. ~May 1-October 31). It was computationally intensive and was only needed for a small number of pixels, mostly in permanent snowfields. Was contributing to very high computer and/or processing failures. Consider reviewing areas with limited data and running full season or something similar there (e.g. mid-Aleutians).\n",
    "\n",
    "### v2024-03-11\n",
    "GEE snapshot: [https://code.earthengine.google.com/f7ccb6d08f9f201c2f09d6433719433e]\n",
    "GEE script path: [https://code.earthengine.google.com/?scriptPath=users%2Fmmacander%2Fakveg_map%3Asentinel_2%2Fs2_medians_v20240311]\n",
    "\n",
    "Prior version for portion of study area. Demonstrates much reduced snow contamination in early season composites compared to previous version. Also demonstrates partial fire masking, using fire polygons for 2019-2023 to mask input imagery that was acquired the year of or before a fire. So where a 2020 fire is mapped in the fire perimeter polygon data, only 2021-2023 data is included in the composites. This should make the composites represent the current condition (after the fire). Problems with this approach are that for training, we may prefer the pre-fire conditions. Also, fires in 2023 will have no image because it is all masked. The script currently falls back to a non-seasonal full snow-free season composite when there is insufficient data available but this is not desirable behavior for 2023 firescars.\n",
    "\n",
    "### v2023-04-18\n",
    "GEE snapshot: [https://code.earthengine.google.com/4ab67b271cae54051b8d756d847c2a95]\n",
    "GEE script path: [https://code.earthengine.google.com/?scriptPath=users%2Fmmacander%2Fakveg_map%3Asentinel_2%2Fs2_medians_v20230418]\n",
    "\n",
    "Prior version for complete study area. Less robust snow masking. Only a single time window per composite period (no narrow and wide windows). No backstops to fill in composites periods. Partial fire masking.\n",
    "\n",
    "## Visualization\n",
    "Visualize results after creating the Cloud GeoTiff Backed Earth Engine Assets with this viz script:\n",
    "\n",
    "[https://code.earthengine.google.com/?scriptPath=users%2Fmmacander%2Fakveg_map%3Asentinel_2%2Fs2_viz]\n",
    "\n"
   ]
  },
  {
   "cell_type": "markdown",
   "metadata": {
    "id": "CrEM35gqHouU",
    "jp-MarkdownHeadingCollapsed": true
   },
   "source": [
    "## Background on Cloud GeoTiff Backed Earth Engine Assets\n",
    "\n",
    "***Note:*** *The REST API contains new and advanced features that may not be suitable for all users.  If you are new to Earth Engine, please get started with the [JavaScript guide](https://developers.google.com/earth-engine/guides/getstarted).*\n",
    "\n",
    "Earth Engine can load images from Cloud Optimized GeoTiffs (COGs) in Google Cloud Storage ([learn more](https://developers.google.com/earth-engine/guides/image_overview#images-from-cloud-geotiffs)).  This notebook demonstrates how to create Earth Engine assets backed by COGs.  An advantage of COG-backed assets is that the spatial and metadata fields of the image will be indexed at asset creation time, making the image more performant in collections.  (In contrast, an image created through `ee.Image.loadGeoTIFF` and put into a collection will require a read of the GeoTiff for filtering operations on the collection.)  A disadvantage of COG-backed assets is that they may be several times slower than standard assets when used in computations.\n",
    "\n",
    "To create a COG-backed asset, make a `POST` request to the Earth Engine [`CreateAsset` endpoint](https://developers.google.com/earth-engine/reference/rest/v1alpha/projects.assets/create).  As shown in the following, this request must be authorized to create an asset in your user folder."
   ]
  },
  {
   "cell_type": "markdown",
   "metadata": {
    "id": "fmxat3ujhwGx"
   },
   "source": [
    "## Start an authorized session\n",
    "\n",
    "To be able to make an Earth Engine asset in your user folder, you need to be able to authenticate as yourself when you make the request.  You can use credentials from the Earth Engine authenticator to start an [`AuthorizedSession`](https://google-auth.readthedocs.io/en/master/reference/google.auth.transport.requests.html#google.auth.transport.requests.AuthorizedSession).  You can then use the `AuthorizedSession` to send requests to Earth Engine."
   ]
  },
  {
   "cell_type": "code",
   "execution_count": 124,
   "metadata": {
    "id": "qVu8GhINwYfO"
   },
   "outputs": [
    {
     "data": {
      "text/html": [
       "<p>To authorize access needed by Earth Engine, open the following\n",
       "        URL in a web browser and follow the instructions:</p>\n",
       "        <p><a href=https://code.earthengine.google.com/client-auth?scopes=https%3A//www.googleapis.com/auth/earthengine%20https%3A//www.googleapis.com/auth/devstorage.full_control&request_id=ECAaVGrsciX4rApu3SDgL1ic21bTjgTdMa56M1YNUXE&tc=lnVEvQ1q3COI3UGPWYv3S8ZV09kaqErcg__j6FvzYxc&cc=nWcjJa60g8tlRWcAxUyCcINJVsO978mH6zAaMlXPtfs>https://code.earthengine.google.com/client-auth?scopes=https%3A//www.googleapis.com/auth/earthengine%20https%3A//www.googleapis.com/auth/devstorage.full_control&request_id=ECAaVGrsciX4rApu3SDgL1ic21bTjgTdMa56M1YNUXE&tc=lnVEvQ1q3COI3UGPWYv3S8ZV09kaqErcg__j6FvzYxc&cc=nWcjJa60g8tlRWcAxUyCcINJVsO978mH6zAaMlXPtfs</a></p>\n",
       "        <p>The authorization workflow will generate a code, which you should paste in the box below.</p>\n",
       "        "
      ],
      "text/plain": [
       "<IPython.core.display.HTML object>"
      ]
     },
     "metadata": {},
     "output_type": "display_data"
    },
    {
     "name": "stdin",
     "output_type": "stream",
     "text": [
      "Enter verification code:  4/1AcvDMrC1HqGxsbQmFsFCofHtHrMwD-G9VjA1RNr9V05wGlj-M-U5hb6L9cc\n"
     ]
    },
    {
     "name": "stdout",
     "output_type": "stream",
     "text": [
      "\n",
      "Successfully saved authorization token.\n"
     ]
    }
   ],
   "source": [
    "import ee\n",
    "from google.auth.transport.requests import AuthorizedSession\n",
    "\n",
    "ee.Authenticate()  #  or !earthengine authenticate --auth_mode=gcloud\n",
    "session = AuthorizedSession(ee.data.get_persistent_credentials())"
   ]
  },
  {
   "cell_type": "markdown",
   "metadata": {},
   "source": [
    "## Create list of cloud geotiffs in bucket and image collection\n",
    "\n",
    "Create list of cogs in a bucket folder to load into an imageCollection.\n",
    "\n",
    "Create list of cogs that have already been loaded into the imageCollection.\n",
    "\n",
    "Run in bash in a conda env with gsutil and earthengine command line installed and authenticated.\n",
    "\n",
    "TODO: Configure it to run directly in python"
   ]
  },
  {
   "cell_type": "markdown",
   "metadata": {
    "id": "xji-zRGyKEzN"
   },
   "source": [
    "```\n",
    "cd /data/gis/gis_projects/2024/24-224_Land_Cover_Metrics_Susitna_Wolf/sentinel2_gMedian\n",
    "\n",
    "gsutil ls gs://akveg-data/s2_sr_2019_2023_gMedian_v20240713d/*.tif > s2_cogs_v20240713d.txt\n",
    "\n",
    "earthengine ls projects/akveg-map/assets/s2_sr_2019_2023_gMedian_v20240713d > s2_cogs_v20240713d_inColl.txt\n",
    "```"
   ]
  },
  {
   "cell_type": "code",
   "execution_count": 118,
   "metadata": {},
   "outputs": [
    {
     "name": "stdout",
     "output_type": "stream",
     "text": [
      "\n",
      "Paths in list1 that are not in list2 based on filenames:\n",
      "['gs://akveg-data/s2_sr_2019_2023_gMedian_v20240713d/s2_sr_2019_2023_gMedian_AK050H42V16_all_v20240713d.tif', 'gs://akveg-data/s2_sr_2019_2023_gMedian_v20240713d/s2_sr_2019_2023_gMedian_AK050H42V17_all_v20240713d.tif', 'gs://akveg-data/s2_sr_2019_2023_gMedian_v20240713d/s2_sr_2019_2023_gMedian_AK050H42V18_all_v20240713d.tif', 'gs://akveg-data/s2_sr_2019_2023_gMedian_v20240713d/s2_sr_2019_2023_gMedian_AK050H42V19_all_v20240713d.tif', 'gs://akveg-data/s2_sr_2019_2023_gMedian_v20240713d/s2_sr_2019_2023_gMedian_AK050H42V20_all_v20240713d.tif']\n",
      "121\n"
     ]
    }
   ],
   "source": [
    "import pandas\n",
    "import os\n",
    "\n",
    "cogList_txt = '/data/gis/gis_projects/2024/24-224_Land_Cover_Metrics_Susitna_Wolf/sentinel2_gMedian/s2_cogs_v20240713d.txt'\n",
    "cogListIC_txt = '/data/gis/gis_projects/2024/24-224_Land_Cover_Metrics_Susitna_Wolf/sentinel2_gMedian/s2_cogs_v20240713d_inColl.txt'\n",
    "\n",
    "# Function to read a text file and return a list of paths\n",
    "def read_paths_from_file(filepath):\n",
    "    with open(filepath, 'r') as file:\n",
    "        paths = file.read().splitlines()\n",
    "    return paths\n",
    "\n",
    "# Function to extract the last part of the path and remove the extension\n",
    "def get_filename_without_extension(path):\n",
    "    return os.path.splitext(os.path.basename(path))[0]\n",
    "\n",
    "cogList = read_paths_from_file(cogList_txt)\n",
    "cogListIC = read_paths_from_file(cogListIC_txt)\n",
    "\n",
    "# Function to save a list of paths to a text file\n",
    "def save_paths_to_file(paths, filepath):\n",
    "    with open(filepath, 'w') as file:\n",
    "        for path in paths:\n",
    "            file.write(f\"{path}\\n\")\n",
    "\n",
    "# Apply the function to both lists\n",
    "filenames1 = [get_filename_without_extension(path) for path in cogList]\n",
    "filenames2 = [get_filename_without_extension(path) for path in cogListIC]\n",
    "\n",
    "# Convert lists to pandas Series\n",
    "filenames_series1 = pandas.Series(filenames1, index=cogList)\n",
    "filenames_series2 = pandas.Series(filenames2, index=cogListIC)\n",
    "\n",
    "# Find filenames in list1 that are not in list2\n",
    "unique_to_list1 = filenames_series1[~filenames_series1.isin(filenames2)]\n",
    "\n",
    "# Print the results\n",
    "# print(\"List of names without extensions from list1:\")\n",
    "# print(filenames1)\n",
    "\n",
    "# print(\"\\nList of names without extensions from list2:\")\n",
    "# print(filenames2)\n",
    "\n",
    "print(\"\\nPaths in list1 that are not in list2 based on filenames:\")\n",
    "print(unique_to_list1.index.tolist()[:5])\n",
    "print(len(unique_to_list1.index.tolist()))\n",
    "\n",
    "save_paths_to_file(unique_to_list1.index.tolist(), '/data/gis/gis_projects/2024/24-224_Land_Cover_Metrics_Susitna_Wolf/sentinel2_gMedian/s2_cogs_v20240713d_notInColl.txt')\n",
    "\n"
   ]
  },
  {
   "cell_type": "markdown",
   "metadata": {},
   "source": [
    "## Open list of geotiffs to ingest"
   ]
  },
  {
   "cell_type": "code",
   "execution_count": 119,
   "metadata": {},
   "outputs": [
    {
     "name": "stdout",
     "output_type": "stream",
     "text": [
      "                                                 tif\n",
      "0  gs://akveg-data/s2_sr_2019_2023_gMedian_v20240...\n",
      "1  gs://akveg-data/s2_sr_2019_2023_gMedian_v20240...\n",
      "121\n"
     ]
    }
   ],
   "source": [
    "import pandas\n",
    "# cogs = pandas.read_csv('/data/gis/gis_projects/2024/24-224_Land_Cover_Metrics_Susitna_Wolf/sentinel2_gMedian/s2_cogs_v20240710.txt', header=None,names=['tif'])\n",
    "# cogs = pandas.read_csv('/data/gis/gis_projects/2024/24-224_Land_Cover_Metrics_Susitna_Wolf/sentinel2_gMedian/s2_cogs_v20240713d.txt', header=None,names=['tif'])\n",
    "cogs = pandas.read_csv('/data/gis/gis_projects/2024/24-224_Land_Cover_Metrics_Susitna_Wolf/sentinel2_gMedian/s2_cogs_v20240713d_notInColl.txt', header=None,names=['tif'])\n",
    "print(cogs[0:2])\n",
    "print(len(cogs.index))\n"
   ]
  },
  {
   "cell_type": "markdown",
   "metadata": {},
   "source": [
    "## Setup parameters"
   ]
  },
  {
   "cell_type": "code",
   "execution_count": 120,
   "metadata": {
    "id": "OGESPnfEvqVq"
   },
   "outputs": [],
   "source": [
    "import json\n",
    "# from urllib.parse import urlparse\n",
    "import os\n",
    "from pprint import pprint\n",
    "\n",
    "# Earth Engine enabled Cloud Project.\n",
    "project_folder = 'akveg-map'\n",
    "collection = 's2_sr_2019_2023_geometricMedian_v20240710'\n",
    "collection = 's2_sr_2019_2023_geometricMedian_v20240712'\n",
    "collection = 's2_sr_2019_2023_geometricMedian_v20240713d'"
   ]
  },
  {
   "cell_type": "markdown",
   "metadata": {},
   "source": [
    "## Create empty image collection as target\n",
    "TODO Automate creation of empty image collection.\n",
    "\n",
    "For now, manually create empty image collection with earthengine CLI"
   ]
  },
  {
   "cell_type": "markdown",
   "metadata": {},
   "source": [
    "```\n",
    "earthengine create collection projects/akveg-map/assets/s2_sr_2019_2023_gMedian_v20240710\n",
    "earthengine create collection projects/akveg-map/assets/s2_sr_2019_2023_gMedian_v20240712\n",
    "earthengine create collection projects/akveg-map/assets/s2_sr_2019_2023_gMedian_v20240713d\n",
    "```"
   ]
  },
  {
   "cell_type": "markdown",
   "metadata": {},
   "source": [
    "## View list of cogs to ingest (skip when list is long)"
   ]
  },
  {
   "cell_type": "code",
   "execution_count": 121,
   "metadata": {},
   "outputs": [
    {
     "name": "stdout",
     "output_type": "stream",
     "text": [
      "gs://akveg-data/s2_sr_2019_2023_gMedian_v20240713d/s2_sr_2019_2023_gMedian_AK050H42V16_all_v20240713d.tif\n",
      "gs://akveg-data/s2_sr_2019_2023_gMedian_v20240713d/s2_sr_2019_2023_gMedian_AK050H42V17_all_v20240713d.tif\n",
      "gs://akveg-data/s2_sr_2019_2023_gMedian_v20240713d/s2_sr_2019_2023_gMedian_AK050H42V18_all_v20240713d.tif\n",
      "gs://akveg-data/s2_sr_2019_2023_gMedian_v20240713d/s2_sr_2019_2023_gMedian_AK050H42V19_all_v20240713d.tif\n",
      "gs://akveg-data/s2_sr_2019_2023_gMedian_v20240713d/s2_sr_2019_2023_gMedian_AK050H42V20_all_v20240713d.tif\n",
      "gs://akveg-data/s2_sr_2019_2023_gMedian_v20240713d/s2_sr_2019_2023_gMedian_AK050H42V21_all_v20240713d.tif\n",
      "gs://akveg-data/s2_sr_2019_2023_gMedian_v20240713d/s2_sr_2019_2023_gMedian_AK050H42V22_all_v20240713d.tif\n",
      "gs://akveg-data/s2_sr_2019_2023_gMedian_v20240713d/s2_sr_2019_2023_gMedian_AK050H42V23_all_v20240713d.tif\n",
      "gs://akveg-data/s2_sr_2019_2023_gMedian_v20240713d/s2_sr_2019_2023_gMedian_AK050H42V24_all_v20240713d.tif\n",
      "gs://akveg-data/s2_sr_2019_2023_gMedian_v20240713d/s2_sr_2019_2023_gMedian_AK050H42V25_all_v20240713d.tif\n",
      "gs://akveg-data/s2_sr_2019_2023_gMedian_v20240713d/s2_sr_2019_2023_gMedian_AK050H42V26_all_v20240713d.tif\n",
      "gs://akveg-data/s2_sr_2019_2023_gMedian_v20240713d/s2_sr_2019_2023_gMedian_AK050H42V27_all_v20240713d.tif\n",
      "gs://akveg-data/s2_sr_2019_2023_gMedian_v20240713d/s2_sr_2019_2023_gMedian_AK050H42V28_all_v20240713d.tif\n",
      "gs://akveg-data/s2_sr_2019_2023_gMedian_v20240713d/s2_sr_2019_2023_gMedian_AK050H42V29_all_v20240713d.tif\n",
      "gs://akveg-data/s2_sr_2019_2023_gMedian_v20240713d/s2_sr_2019_2023_gMedian_AK050H42V30_all_v20240713d.tif\n",
      "gs://akveg-data/s2_sr_2019_2023_gMedian_v20240713d/s2_sr_2019_2023_gMedian_AK050H42V31_all_v20240713d.tif\n",
      "gs://akveg-data/s2_sr_2019_2023_gMedian_v20240713d/s2_sr_2019_2023_gMedian_AK050H42V32_all_v20240713d.tif\n",
      "gs://akveg-data/s2_sr_2019_2023_gMedian_v20240713d/s2_sr_2019_2023_gMedian_AK050H42V33_all_v20240713d.tif\n",
      "gs://akveg-data/s2_sr_2019_2023_gMedian_v20240713d/s2_sr_2019_2023_gMedian_AK050H42V34_all_v20240713d.tif\n",
      "gs://akveg-data/s2_sr_2019_2023_gMedian_v20240713d/s2_sr_2019_2023_gMedian_AK050H42V35_all_v20240713d.tif\n",
      "gs://akveg-data/s2_sr_2019_2023_gMedian_v20240713d/s2_sr_2019_2023_gMedian_AK050H42V36_all_v20240713d.tif\n",
      "gs://akveg-data/s2_sr_2019_2023_gMedian_v20240713d/s2_sr_2019_2023_gMedian_AK050H43V01_all_v20240713d.tif\n",
      "gs://akveg-data/s2_sr_2019_2023_gMedian_v20240713d/s2_sr_2019_2023_gMedian_AK050H43V02_all_v20240713d.tif\n",
      "gs://akveg-data/s2_sr_2019_2023_gMedian_v20240713d/s2_sr_2019_2023_gMedian_AK050H43V03_all_v20240713d.tif\n",
      "gs://akveg-data/s2_sr_2019_2023_gMedian_v20240713d/s2_sr_2019_2023_gMedian_AK050H43V04_all_v20240713d.tif\n",
      "gs://akveg-data/s2_sr_2019_2023_gMedian_v20240713d/s2_sr_2019_2023_gMedian_AK050H43V05_all_v20240713d.tif\n",
      "gs://akveg-data/s2_sr_2019_2023_gMedian_v20240713d/s2_sr_2019_2023_gMedian_AK050H43V06_all_v20240713d.tif\n",
      "gs://akveg-data/s2_sr_2019_2023_gMedian_v20240713d/s2_sr_2019_2023_gMedian_AK050H43V07_all_v20240713d.tif\n",
      "gs://akveg-data/s2_sr_2019_2023_gMedian_v20240713d/s2_sr_2019_2023_gMedian_AK050H43V08_all_v20240713d.tif\n",
      "gs://akveg-data/s2_sr_2019_2023_gMedian_v20240713d/s2_sr_2019_2023_gMedian_AK050H43V09_all_v20240713d.tif\n",
      "gs://akveg-data/s2_sr_2019_2023_gMedian_v20240713d/s2_sr_2019_2023_gMedian_AK050H43V10_all_v20240713d.tif\n",
      "gs://akveg-data/s2_sr_2019_2023_gMedian_v20240713d/s2_sr_2019_2023_gMedian_AK050H43V11_all_v20240713d.tif\n",
      "gs://akveg-data/s2_sr_2019_2023_gMedian_v20240713d/s2_sr_2019_2023_gMedian_AK050H43V12_all_v20240713d.tif\n",
      "gs://akveg-data/s2_sr_2019_2023_gMedian_v20240713d/s2_sr_2019_2023_gMedian_AK050H43V13_all_v20240713d.tif\n",
      "gs://akveg-data/s2_sr_2019_2023_gMedian_v20240713d/s2_sr_2019_2023_gMedian_AK050H43V14_all_v20240713d.tif\n",
      "gs://akveg-data/s2_sr_2019_2023_gMedian_v20240713d/s2_sr_2019_2023_gMedian_AK050H43V15_all_v20240713d.tif\n",
      "gs://akveg-data/s2_sr_2019_2023_gMedian_v20240713d/s2_sr_2019_2023_gMedian_AK050H43V16_all_v20240713d.tif\n",
      "gs://akveg-data/s2_sr_2019_2023_gMedian_v20240713d/s2_sr_2019_2023_gMedian_AK050H43V17_all_v20240713d.tif\n",
      "gs://akveg-data/s2_sr_2019_2023_gMedian_v20240713d/s2_sr_2019_2023_gMedian_AK050H43V18_all_v20240713d.tif\n",
      "gs://akveg-data/s2_sr_2019_2023_gMedian_v20240713d/s2_sr_2019_2023_gMedian_AK050H43V19_all_v20240713d.tif\n",
      "gs://akveg-data/s2_sr_2019_2023_gMedian_v20240713d/s2_sr_2019_2023_gMedian_AK050H43V20_all_v20240713d.tif\n",
      "gs://akveg-data/s2_sr_2019_2023_gMedian_v20240713d/s2_sr_2019_2023_gMedian_AK050H43V21_all_v20240713d.tif\n",
      "gs://akveg-data/s2_sr_2019_2023_gMedian_v20240713d/s2_sr_2019_2023_gMedian_AK050H43V22_all_v20240713d.tif\n",
      "gs://akveg-data/s2_sr_2019_2023_gMedian_v20240713d/s2_sr_2019_2023_gMedian_AK050H43V23_all_v20240713d.tif\n",
      "gs://akveg-data/s2_sr_2019_2023_gMedian_v20240713d/s2_sr_2019_2023_gMedian_AK050H43V24_all_v20240713d.tif\n",
      "gs://akveg-data/s2_sr_2019_2023_gMedian_v20240713d/s2_sr_2019_2023_gMedian_AK050H43V25_all_v20240713d.tif\n",
      "gs://akveg-data/s2_sr_2019_2023_gMedian_v20240713d/s2_sr_2019_2023_gMedian_AK050H43V26_all_v20240713d.tif\n",
      "gs://akveg-data/s2_sr_2019_2023_gMedian_v20240713d/s2_sr_2019_2023_gMedian_AK050H43V27_all_v20240713d.tif\n",
      "gs://akveg-data/s2_sr_2019_2023_gMedian_v20240713d/s2_sr_2019_2023_gMedian_AK050H43V28_all_v20240713d.tif\n",
      "gs://akveg-data/s2_sr_2019_2023_gMedian_v20240713d/s2_sr_2019_2023_gMedian_AK050H43V29_all_v20240713d.tif\n",
      "gs://akveg-data/s2_sr_2019_2023_gMedian_v20240713d/s2_sr_2019_2023_gMedian_AK050H43V30_all_v20240713d.tif\n",
      "gs://akveg-data/s2_sr_2019_2023_gMedian_v20240713d/s2_sr_2019_2023_gMedian_AK050H43V31_all_v20240713d.tif\n",
      "gs://akveg-data/s2_sr_2019_2023_gMedian_v20240713d/s2_sr_2019_2023_gMedian_AK050H43V32_all_v20240713d.tif\n",
      "gs://akveg-data/s2_sr_2019_2023_gMedian_v20240713d/s2_sr_2019_2023_gMedian_AK050H43V33_all_v20240713d.tif\n",
      "gs://akveg-data/s2_sr_2019_2023_gMedian_v20240713d/s2_sr_2019_2023_gMedian_AK050H43V34_all_v20240713d.tif\n",
      "gs://akveg-data/s2_sr_2019_2023_gMedian_v20240713d/s2_sr_2019_2023_gMedian_AK050H43V35_all_v20240713d.tif\n",
      "gs://akveg-data/s2_sr_2019_2023_gMedian_v20240713d/s2_sr_2019_2023_gMedian_AK050H43V36_all_v20240713d.tif\n",
      "gs://akveg-data/s2_sr_2019_2023_gMedian_v20240713d/s2_sr_2019_2023_gMedian_AK050H44V01_all_v20240713d.tif\n",
      "gs://akveg-data/s2_sr_2019_2023_gMedian_v20240713d/s2_sr_2019_2023_gMedian_AK050H44V02_all_v20240713d.tif\n",
      "gs://akveg-data/s2_sr_2019_2023_gMedian_v20240713d/s2_sr_2019_2023_gMedian_AK050H44V03_all_v20240713d.tif\n",
      "gs://akveg-data/s2_sr_2019_2023_gMedian_v20240713d/s2_sr_2019_2023_gMedian_AK050H44V04_all_v20240713d.tif\n",
      "gs://akveg-data/s2_sr_2019_2023_gMedian_v20240713d/s2_sr_2019_2023_gMedian_AK050H44V05_all_v20240713d.tif\n",
      "gs://akveg-data/s2_sr_2019_2023_gMedian_v20240713d/s2_sr_2019_2023_gMedian_AK050H44V06_all_v20240713d.tif\n",
      "gs://akveg-data/s2_sr_2019_2023_gMedian_v20240713d/s2_sr_2019_2023_gMedian_AK050H44V07_all_v20240713d.tif\n",
      "gs://akveg-data/s2_sr_2019_2023_gMedian_v20240713d/s2_sr_2019_2023_gMedian_AK050H44V08_all_v20240713d.tif\n",
      "gs://akveg-data/s2_sr_2019_2023_gMedian_v20240713d/s2_sr_2019_2023_gMedian_AK050H44V09_all_v20240713d.tif\n",
      "gs://akveg-data/s2_sr_2019_2023_gMedian_v20240713d/s2_sr_2019_2023_gMedian_AK050H44V10_all_v20240713d.tif\n",
      "gs://akveg-data/s2_sr_2019_2023_gMedian_v20240713d/s2_sr_2019_2023_gMedian_AK050H44V11_all_v20240713d.tif\n",
      "gs://akveg-data/s2_sr_2019_2023_gMedian_v20240713d/s2_sr_2019_2023_gMedian_AK050H44V12_all_v20240713d.tif\n",
      "gs://akveg-data/s2_sr_2019_2023_gMedian_v20240713d/s2_sr_2019_2023_gMedian_AK050H44V13_all_v20240713d.tif\n",
      "gs://akveg-data/s2_sr_2019_2023_gMedian_v20240713d/s2_sr_2019_2023_gMedian_AK050H44V14_all_v20240713d.tif\n",
      "gs://akveg-data/s2_sr_2019_2023_gMedian_v20240713d/s2_sr_2019_2023_gMedian_AK050H44V15_all_v20240713d.tif\n",
      "gs://akveg-data/s2_sr_2019_2023_gMedian_v20240713d/s2_sr_2019_2023_gMedian_AK050H44V16_all_v20240713d.tif\n",
      "gs://akveg-data/s2_sr_2019_2023_gMedian_v20240713d/s2_sr_2019_2023_gMedian_AK050H44V17_all_v20240713d.tif\n",
      "gs://akveg-data/s2_sr_2019_2023_gMedian_v20240713d/s2_sr_2019_2023_gMedian_AK050H44V18_all_v20240713d.tif\n",
      "gs://akveg-data/s2_sr_2019_2023_gMedian_v20240713d/s2_sr_2019_2023_gMedian_AK050H44V19_all_v20240713d.tif\n",
      "gs://akveg-data/s2_sr_2019_2023_gMedian_v20240713d/s2_sr_2019_2023_gMedian_AK050H44V20_all_v20240713d.tif\n",
      "gs://akveg-data/s2_sr_2019_2023_gMedian_v20240713d/s2_sr_2019_2023_gMedian_AK050H44V21_all_v20240713d.tif\n",
      "gs://akveg-data/s2_sr_2019_2023_gMedian_v20240713d/s2_sr_2019_2023_gMedian_AK050H44V22_all_v20240713d.tif\n",
      "gs://akveg-data/s2_sr_2019_2023_gMedian_v20240713d/s2_sr_2019_2023_gMedian_AK050H44V23_all_v20240713d.tif\n",
      "gs://akveg-data/s2_sr_2019_2023_gMedian_v20240713d/s2_sr_2019_2023_gMedian_AK050H44V24_all_v20240713d.tif\n",
      "gs://akveg-data/s2_sr_2019_2023_gMedian_v20240713d/s2_sr_2019_2023_gMedian_AK050H44V25_all_v20240713d.tif\n",
      "gs://akveg-data/s2_sr_2019_2023_gMedian_v20240713d/s2_sr_2019_2023_gMedian_AK050H44V26_all_v20240713d.tif\n",
      "gs://akveg-data/s2_sr_2019_2023_gMedian_v20240713d/s2_sr_2019_2023_gMedian_AK050H44V27_all_v20240713d.tif\n",
      "gs://akveg-data/s2_sr_2019_2023_gMedian_v20240713d/s2_sr_2019_2023_gMedian_AK050H44V28_all_v20240713d.tif\n",
      "gs://akveg-data/s2_sr_2019_2023_gMedian_v20240713d/s2_sr_2019_2023_gMedian_AK050H44V29_all_v20240713d.tif\n",
      "gs://akveg-data/s2_sr_2019_2023_gMedian_v20240713d/s2_sr_2019_2023_gMedian_AK050H44V30_all_v20240713d.tif\n",
      "gs://akveg-data/s2_sr_2019_2023_gMedian_v20240713d/s2_sr_2019_2023_gMedian_AK050H44V31_all_v20240713d.tif\n",
      "gs://akveg-data/s2_sr_2019_2023_gMedian_v20240713d/s2_sr_2019_2023_gMedian_AK050H44V32_all_v20240713d.tif\n",
      "gs://akveg-data/s2_sr_2019_2023_gMedian_v20240713d/s2_sr_2019_2023_gMedian_AK050H44V33_all_v20240713d.tif\n",
      "gs://akveg-data/s2_sr_2019_2023_gMedian_v20240713d/s2_sr_2019_2023_gMedian_AK050H44V34_all_v20240713d.tif\n",
      "gs://akveg-data/s2_sr_2019_2023_gMedian_v20240713d/s2_sr_2019_2023_gMedian_AK050H45V02_all_v20240713d.tif\n",
      "gs://akveg-data/s2_sr_2019_2023_gMedian_v20240713d/s2_sr_2019_2023_gMedian_AK050H45V03_all_v20240713d.tif\n",
      "gs://akveg-data/s2_sr_2019_2023_gMedian_v20240713d/s2_sr_2019_2023_gMedian_AK050H45V04_all_v20240713d.tif\n",
      "gs://akveg-data/s2_sr_2019_2023_gMedian_v20240713d/s2_sr_2019_2023_gMedian_AK050H45V05_all_v20240713d.tif\n",
      "gs://akveg-data/s2_sr_2019_2023_gMedian_v20240713d/s2_sr_2019_2023_gMedian_AK050H45V06_all_v20240713d.tif\n",
      "gs://akveg-data/s2_sr_2019_2023_gMedian_v20240713d/s2_sr_2019_2023_gMedian_AK050H45V07_all_v20240713d.tif\n",
      "gs://akveg-data/s2_sr_2019_2023_gMedian_v20240713d/s2_sr_2019_2023_gMedian_AK050H45V08_all_v20240713d.tif\n",
      "gs://akveg-data/s2_sr_2019_2023_gMedian_v20240713d/s2_sr_2019_2023_gMedian_AK050H45V09_all_v20240713d.tif\n",
      "gs://akveg-data/s2_sr_2019_2023_gMedian_v20240713d/s2_sr_2019_2023_gMedian_AK050H45V10_all_v20240713d.tif\n",
      "gs://akveg-data/s2_sr_2019_2023_gMedian_v20240713d/s2_sr_2019_2023_gMedian_AK050H45V11_all_v20240713d.tif\n",
      "gs://akveg-data/s2_sr_2019_2023_gMedian_v20240713d/s2_sr_2019_2023_gMedian_AK050H45V12_all_v20240713d.tif\n",
      "gs://akveg-data/s2_sr_2019_2023_gMedian_v20240713d/s2_sr_2019_2023_gMedian_AK050H45V13_all_v20240713d.tif\n",
      "gs://akveg-data/s2_sr_2019_2023_gMedian_v20240713d/s2_sr_2019_2023_gMedian_AK050H45V14_all_v20240713d.tif\n",
      "gs://akveg-data/s2_sr_2019_2023_gMedian_v20240713d/s2_sr_2019_2023_gMedian_AK050H45V15_all_v20240713d.tif\n",
      "gs://akveg-data/s2_sr_2019_2023_gMedian_v20240713d/s2_sr_2019_2023_gMedian_AK050H45V16_all_v20240713d.tif\n",
      "gs://akveg-data/s2_sr_2019_2023_gMedian_v20240713d/s2_sr_2019_2023_gMedian_AK050H45V17_all_v20240713d.tif\n",
      "gs://akveg-data/s2_sr_2019_2023_gMedian_v20240713d/s2_sr_2019_2023_gMedian_AK050H45V18_all_v20240713d.tif\n",
      "gs://akveg-data/s2_sr_2019_2023_gMedian_v20240713d/s2_sr_2019_2023_gMedian_AK050H45V19_all_v20240713d.tif\n",
      "gs://akveg-data/s2_sr_2019_2023_gMedian_v20240713d/s2_sr_2019_2023_gMedian_AK050H45V20_all_v20240713d.tif\n",
      "gs://akveg-data/s2_sr_2019_2023_gMedian_v20240713d/s2_sr_2019_2023_gMedian_AK050H45V21_all_v20240713d.tif\n",
      "gs://akveg-data/s2_sr_2019_2023_gMedian_v20240713d/s2_sr_2019_2023_gMedian_AK050H45V22_all_v20240713d.tif\n",
      "gs://akveg-data/s2_sr_2019_2023_gMedian_v20240713d/s2_sr_2019_2023_gMedian_AK050H45V23_all_v20240713d.tif\n",
      "gs://akveg-data/s2_sr_2019_2023_gMedian_v20240713d/s2_sr_2019_2023_gMedian_AK050H45V24_all_v20240713d.tif\n",
      "gs://akveg-data/s2_sr_2019_2023_gMedian_v20240713d/s2_sr_2019_2023_gMedian_AK050H45V25_all_v20240713d.tif\n",
      "gs://akveg-data/s2_sr_2019_2023_gMedian_v20240713d/s2_sr_2019_2023_gMedian_AK050H45V26_all_v20240713d.tif\n",
      "gs://akveg-data/s2_sr_2019_2023_gMedian_v20240713d/s2_sr_2019_2023_gMedian_AK050H45V27_all_v20240713d.tif\n",
      "gs://akveg-data/s2_sr_2019_2023_gMedian_v20240713d/s2_sr_2019_2023_gMedian_AK050H45V28_all_v20240713d.tif\n",
      "gs://akveg-data/s2_sr_2019_2023_gMedian_v20240713d/s2_sr_2019_2023_gMedian_AK050H45V29_all_v20240713d.tif\n",
      "gs://akveg-data/s2_sr_2019_2023_gMedian_v20240713d/s2_sr_2019_2023_gMedian_AK050H45V30_all_v20240713d.tif\n",
      "gs://akveg-data/s2_sr_2019_2023_gMedian_v20240713d/s2_sr_2019_2023_gMedian_AK050H45V31_all_v20240713d.tif\n"
     ]
    }
   ],
   "source": [
    "for cog in cogs['tif']:\n",
    "    print(cog)"
   ]
  },
  {
   "cell_type": "markdown",
   "metadata": {},
   "source": [
    "## Function to load list of gcs cogs to GEE imageCollection\n",
    "comment out pprint and most print except when troubleshooting"
   ]
  },
  {
   "cell_type": "code",
   "execution_count": 122,
   "metadata": {},
   "outputs": [],
   "source": [
    "def load_gcs_cogs_to_collection(cogs, project_folder, collection):\n",
    "    # Request body as a dictionary.\n",
    "    for cog in cogs['tif']:\n",
    "      fileOnly = os.path.split(cog)[1]\n",
    "      # print(fileOnly)\n",
    "\n",
    "      cogName = fileOnly[:-4]\n",
    "      print(cogName)\n",
    "      \n",
    "      parts = fileOnly.split('_')\n",
    "      # print(parts)\n",
    "      \n",
    "      season = parts[6]\n",
    "      # print(season)\n",
    "        \n",
    "      request = {\n",
    "        'type': 'IMAGE',\n",
    "        'gcs_location': {\n",
    "          'uris': cog\n",
    "        },\n",
    "        'properties': {\n",
    "        #   'source': 'https://code.earthengine.google.com/067b10ee56537817756a3177a9138aee',\n",
    "            'seasonName': season\n",
    "        },\n",
    "        'startTime': '2023-01-01T00:00:00.000000000Z',\n",
    "        'endTime': '2024-01-01T00:00:00.000000000Z',\n",
    "      }\n",
    "\n",
    "      # pprint(json.dumps(request))\n",
    "\n",
    "      # A folder (or ImageCollection) name and the new asset name.\n",
    "      asset_id = collection+'/'+cogName\n",
    "      # print(project_folder)\n",
    "      # print(asset_id)\n",
    "        \n",
    "      url = 'https://earthengine.googleapis.com/v1alpha/projects/{}/assets?assetId={}'\n",
    "      # print(url)\n",
    "\n",
    "      response = session.post(\n",
    "        url = url.format(project_folder, asset_id),\n",
    "        data = json.dumps(request)\n",
    "      )\n",
    "\n",
    "      # pprint(json.loads(response.content))\n",
    "    print('done')\n"
   ]
  },
  {
   "cell_type": "markdown",
   "metadata": {},
   "source": [
    "## Run it"
   ]
  },
  {
   "cell_type": "code",
   "execution_count": 125,
   "metadata": {
    "scrolled": true
   },
   "outputs": [
    {
     "name": "stdout",
     "output_type": "stream",
     "text": [
      "s2_sr_2019_2023_gMedian_AK050H42V16_all_v20240713d\n",
      "s2_sr_2019_2023_gMedian_AK050H42V17_all_v20240713d\n",
      "s2_sr_2019_2023_gMedian_AK050H42V18_all_v20240713d\n",
      "s2_sr_2019_2023_gMedian_AK050H42V19_all_v20240713d\n",
      "s2_sr_2019_2023_gMedian_AK050H42V20_all_v20240713d\n",
      "s2_sr_2019_2023_gMedian_AK050H42V21_all_v20240713d\n",
      "s2_sr_2019_2023_gMedian_AK050H42V22_all_v20240713d\n",
      "s2_sr_2019_2023_gMedian_AK050H42V23_all_v20240713d\n",
      "s2_sr_2019_2023_gMedian_AK050H42V24_all_v20240713d\n",
      "s2_sr_2019_2023_gMedian_AK050H42V25_all_v20240713d\n",
      "s2_sr_2019_2023_gMedian_AK050H42V26_all_v20240713d\n",
      "s2_sr_2019_2023_gMedian_AK050H42V27_all_v20240713d\n",
      "s2_sr_2019_2023_gMedian_AK050H42V28_all_v20240713d\n",
      "s2_sr_2019_2023_gMedian_AK050H42V29_all_v20240713d\n",
      "s2_sr_2019_2023_gMedian_AK050H42V30_all_v20240713d\n",
      "s2_sr_2019_2023_gMedian_AK050H42V31_all_v20240713d\n",
      "s2_sr_2019_2023_gMedian_AK050H42V32_all_v20240713d\n",
      "s2_sr_2019_2023_gMedian_AK050H42V33_all_v20240713d\n",
      "s2_sr_2019_2023_gMedian_AK050H42V34_all_v20240713d\n",
      "s2_sr_2019_2023_gMedian_AK050H42V35_all_v20240713d\n",
      "s2_sr_2019_2023_gMedian_AK050H42V36_all_v20240713d\n",
      "s2_sr_2019_2023_gMedian_AK050H43V01_all_v20240713d\n",
      "s2_sr_2019_2023_gMedian_AK050H43V02_all_v20240713d\n",
      "s2_sr_2019_2023_gMedian_AK050H43V03_all_v20240713d\n",
      "s2_sr_2019_2023_gMedian_AK050H43V04_all_v20240713d\n",
      "s2_sr_2019_2023_gMedian_AK050H43V05_all_v20240713d\n",
      "s2_sr_2019_2023_gMedian_AK050H43V06_all_v20240713d\n",
      "s2_sr_2019_2023_gMedian_AK050H43V07_all_v20240713d\n",
      "s2_sr_2019_2023_gMedian_AK050H43V08_all_v20240713d\n",
      "s2_sr_2019_2023_gMedian_AK050H43V09_all_v20240713d\n",
      "s2_sr_2019_2023_gMedian_AK050H43V10_all_v20240713d\n",
      "s2_sr_2019_2023_gMedian_AK050H43V11_all_v20240713d\n",
      "s2_sr_2019_2023_gMedian_AK050H43V12_all_v20240713d\n",
      "s2_sr_2019_2023_gMedian_AK050H43V13_all_v20240713d\n",
      "s2_sr_2019_2023_gMedian_AK050H43V14_all_v20240713d\n",
      "s2_sr_2019_2023_gMedian_AK050H43V15_all_v20240713d\n",
      "s2_sr_2019_2023_gMedian_AK050H43V16_all_v20240713d\n",
      "s2_sr_2019_2023_gMedian_AK050H43V17_all_v20240713d\n",
      "s2_sr_2019_2023_gMedian_AK050H43V18_all_v20240713d\n",
      "s2_sr_2019_2023_gMedian_AK050H43V19_all_v20240713d\n",
      "s2_sr_2019_2023_gMedian_AK050H43V20_all_v20240713d\n",
      "s2_sr_2019_2023_gMedian_AK050H43V21_all_v20240713d\n",
      "s2_sr_2019_2023_gMedian_AK050H43V22_all_v20240713d\n",
      "s2_sr_2019_2023_gMedian_AK050H43V23_all_v20240713d\n",
      "s2_sr_2019_2023_gMedian_AK050H43V24_all_v20240713d\n",
      "s2_sr_2019_2023_gMedian_AK050H43V25_all_v20240713d\n",
      "s2_sr_2019_2023_gMedian_AK050H43V26_all_v20240713d\n",
      "s2_sr_2019_2023_gMedian_AK050H43V27_all_v20240713d\n",
      "s2_sr_2019_2023_gMedian_AK050H43V28_all_v20240713d\n",
      "s2_sr_2019_2023_gMedian_AK050H43V29_all_v20240713d\n",
      "s2_sr_2019_2023_gMedian_AK050H43V30_all_v20240713d\n",
      "s2_sr_2019_2023_gMedian_AK050H43V31_all_v20240713d\n",
      "s2_sr_2019_2023_gMedian_AK050H43V32_all_v20240713d\n",
      "s2_sr_2019_2023_gMedian_AK050H43V33_all_v20240713d\n",
      "s2_sr_2019_2023_gMedian_AK050H43V34_all_v20240713d\n",
      "s2_sr_2019_2023_gMedian_AK050H43V35_all_v20240713d\n",
      "s2_sr_2019_2023_gMedian_AK050H43V36_all_v20240713d\n",
      "s2_sr_2019_2023_gMedian_AK050H44V01_all_v20240713d\n",
      "s2_sr_2019_2023_gMedian_AK050H44V02_all_v20240713d\n",
      "s2_sr_2019_2023_gMedian_AK050H44V03_all_v20240713d\n",
      "s2_sr_2019_2023_gMedian_AK050H44V04_all_v20240713d\n",
      "s2_sr_2019_2023_gMedian_AK050H44V05_all_v20240713d\n",
      "s2_sr_2019_2023_gMedian_AK050H44V06_all_v20240713d\n",
      "s2_sr_2019_2023_gMedian_AK050H44V07_all_v20240713d\n",
      "s2_sr_2019_2023_gMedian_AK050H44V08_all_v20240713d\n",
      "s2_sr_2019_2023_gMedian_AK050H44V09_all_v20240713d\n",
      "s2_sr_2019_2023_gMedian_AK050H44V10_all_v20240713d\n",
      "s2_sr_2019_2023_gMedian_AK050H44V11_all_v20240713d\n",
      "s2_sr_2019_2023_gMedian_AK050H44V12_all_v20240713d\n",
      "s2_sr_2019_2023_gMedian_AK050H44V13_all_v20240713d\n",
      "s2_sr_2019_2023_gMedian_AK050H44V14_all_v20240713d\n",
      "s2_sr_2019_2023_gMedian_AK050H44V15_all_v20240713d\n",
      "s2_sr_2019_2023_gMedian_AK050H44V16_all_v20240713d\n",
      "s2_sr_2019_2023_gMedian_AK050H44V17_all_v20240713d\n",
      "s2_sr_2019_2023_gMedian_AK050H44V18_all_v20240713d\n",
      "s2_sr_2019_2023_gMedian_AK050H44V19_all_v20240713d\n",
      "s2_sr_2019_2023_gMedian_AK050H44V20_all_v20240713d\n",
      "s2_sr_2019_2023_gMedian_AK050H44V21_all_v20240713d\n",
      "s2_sr_2019_2023_gMedian_AK050H44V22_all_v20240713d\n",
      "s2_sr_2019_2023_gMedian_AK050H44V23_all_v20240713d\n",
      "s2_sr_2019_2023_gMedian_AK050H44V24_all_v20240713d\n",
      "s2_sr_2019_2023_gMedian_AK050H44V25_all_v20240713d\n",
      "s2_sr_2019_2023_gMedian_AK050H44V26_all_v20240713d\n",
      "s2_sr_2019_2023_gMedian_AK050H44V27_all_v20240713d\n",
      "s2_sr_2019_2023_gMedian_AK050H44V28_all_v20240713d\n",
      "s2_sr_2019_2023_gMedian_AK050H44V29_all_v20240713d\n",
      "s2_sr_2019_2023_gMedian_AK050H44V30_all_v20240713d\n",
      "s2_sr_2019_2023_gMedian_AK050H44V31_all_v20240713d\n",
      "s2_sr_2019_2023_gMedian_AK050H44V32_all_v20240713d\n",
      "s2_sr_2019_2023_gMedian_AK050H44V33_all_v20240713d\n",
      "s2_sr_2019_2023_gMedian_AK050H44V34_all_v20240713d\n",
      "s2_sr_2019_2023_gMedian_AK050H45V02_all_v20240713d\n",
      "s2_sr_2019_2023_gMedian_AK050H45V03_all_v20240713d\n",
      "s2_sr_2019_2023_gMedian_AK050H45V04_all_v20240713d\n",
      "s2_sr_2019_2023_gMedian_AK050H45V05_all_v20240713d\n",
      "s2_sr_2019_2023_gMedian_AK050H45V06_all_v20240713d\n",
      "s2_sr_2019_2023_gMedian_AK050H45V07_all_v20240713d\n",
      "s2_sr_2019_2023_gMedian_AK050H45V08_all_v20240713d\n",
      "s2_sr_2019_2023_gMedian_AK050H45V09_all_v20240713d\n",
      "s2_sr_2019_2023_gMedian_AK050H45V10_all_v20240713d\n",
      "s2_sr_2019_2023_gMedian_AK050H45V11_all_v20240713d\n",
      "s2_sr_2019_2023_gMedian_AK050H45V12_all_v20240713d\n",
      "s2_sr_2019_2023_gMedian_AK050H45V13_all_v20240713d\n",
      "s2_sr_2019_2023_gMedian_AK050H45V14_all_v20240713d\n",
      "s2_sr_2019_2023_gMedian_AK050H45V15_all_v20240713d\n",
      "s2_sr_2019_2023_gMedian_AK050H45V16_all_v20240713d\n",
      "s2_sr_2019_2023_gMedian_AK050H45V17_all_v20240713d\n",
      "s2_sr_2019_2023_gMedian_AK050H45V18_all_v20240713d\n",
      "s2_sr_2019_2023_gMedian_AK050H45V19_all_v20240713d\n",
      "s2_sr_2019_2023_gMedian_AK050H45V20_all_v20240713d\n",
      "s2_sr_2019_2023_gMedian_AK050H45V21_all_v20240713d\n",
      "s2_sr_2019_2023_gMedian_AK050H45V22_all_v20240713d\n",
      "s2_sr_2019_2023_gMedian_AK050H45V23_all_v20240713d\n",
      "s2_sr_2019_2023_gMedian_AK050H45V24_all_v20240713d\n",
      "s2_sr_2019_2023_gMedian_AK050H45V25_all_v20240713d\n",
      "s2_sr_2019_2023_gMedian_AK050H45V26_all_v20240713d\n",
      "s2_sr_2019_2023_gMedian_AK050H45V27_all_v20240713d\n",
      "s2_sr_2019_2023_gMedian_AK050H45V28_all_v20240713d\n",
      "s2_sr_2019_2023_gMedian_AK050H45V29_all_v20240713d\n",
      "s2_sr_2019_2023_gMedian_AK050H45V30_all_v20240713d\n",
      "s2_sr_2019_2023_gMedian_AK050H45V31_all_v20240713d\n",
      "done\n"
     ]
    }
   ],
   "source": [
    "# load_gcs_cogs_to_collection(cogs, project_folder, 's1_2022_v20230326')\n",
    "# load_gcs_cogs_to_collection(cogs, project_folder, 's2_sr_2019_2023_gMedian_v20240710')\n",
    "load_gcs_cogs_to_collection(cogs, project_folder, 's2_sr_2019_2023_gMedian_v20240713d')\n"
   ]
  },
  {
   "cell_type": "markdown",
   "metadata": {
    "scrolled": true
   },
   "source": [
    "## Cleanup existing imageCollection, if needed\n",
    "\n",
    "imageCollections cannot be deleted until all images inside them are deleted. For a cloud-backed image collection with hundreds or thousands of tiles, this can take a while\n",
    "\n",
    "bash earthengine CLI\n",
    "```\n",
    "for i in `earthengine ls projects/akveg-map/assets/s2_sr_2019_2023_gMedian_v20240713d`; do earthengine rm $i; done\n",
    "# earthengine rm projects/akveg-map/assets/s2_2019_2023_gMedian_v20240311\n",
    "```"
   ]
  },
  {
   "cell_type": "markdown",
   "metadata": {},
   "source": [
    "# OLD or Single Image Example below here"
   ]
  },
  {
   "cell_type": "code",
   "execution_count": 36,
   "metadata": {
    "id": "OGESPnfEvqVq"
   },
   "outputs": [],
   "source": [
    "# # Request body as a dictionary.\n",
    "# for cog in cogs['tif']:\n",
    "#   request = {\n",
    "#     'type': 'IMAGE',\n",
    "#     'gcs_location': {\n",
    "#       'uris': cog\n",
    "#     },\n",
    "#     # 'properties': {\n",
    "#     #   'source': 'https://code.earthengine.google.com/067b10ee56537817756a3177a9138aee'\n",
    "#     # },\n",
    "#     'startTime': '2022-01-01T00:00:00.000000000Z',\n",
    "#     'endTime': '2023-01-01T00:00:00.000000000Z',\n",
    "#   }\n",
    "\n",
    "#   # pprint(json.dumps(request))\n",
    "\n",
    "#   cogName = cog[34:-4]\n",
    "#   print(cogName)\n",
    "\n",
    "#   # A folder (or ImageCollection) name and the new asset name.\n",
    "#   asset_id = collection+'/'+cogName\n",
    "\n",
    "#   url = 'https://earthengine.googleapis.com/v1alpha/projects/{}/assets?assetId={}'\n",
    "\n",
    "#   response = session.post(\n",
    "#     url = url.format(project_folder, asset_id),\n",
    "#     data = json.dumps(request)\n",
    "#   )\n",
    "\n",
    "#   # pprint(json.loads(response.content))"
   ]
  },
  {
   "cell_type": "code",
   "execution_count": null,
   "metadata": {
    "id": "xji-zRGyKEzN"
   },
   "outputs": [],
   "source": [
    "# cogs = [\n",
    "# 'gs://akveg-data/s1_2022_v20230320/s1_flat_seasonal_composite_2022_06VUL_v20230320c.tif',\n",
    "# 'gs://akveg-data/s1_2022_v20230320/s1_flat_seasonal_composite_2022_06VUM_v20230320c0000000000-0000000000.tif',\n",
    "# 'gs://akveg-data/s1_2022_v20230320/s1_flat_seasonal_composite_2022_06VUM_v20230320c0000009472-0000000000.tif',\n",
    "# 'gs://akveg-data/s1_2022_v20230320/s1_flat_seasonal_composite_2022_06VUN_v20230320c0000000000-0000000000.tif',\n",
    "# 'gs://akveg-data/s1_2022_v20230320/s1_flat_seasonal_composite_2022_06VUN_v20230320c0000009472-0000000000.tif']\n",
    "# cogs[0:4]"
   ]
  },
  {
   "cell_type": "code",
   "execution_count": null,
   "metadata": {
    "id": "YzHqAIEwJ1x9"
   },
   "outputs": [],
   "source": [
    "# from google.cloud import storage\n",
    "\n",
    "\n",
    "# def list_blobs(bucket_name):\n",
    "#     \"\"\"Lists all the blobs in the bucket.\"\"\"\n",
    "#     # bucket_name = \"your-bucket-name\"\n",
    "\n",
    "#     storage_client = storage.Client()\n",
    "\n",
    "#     # Note: Client.list_blobs requires at least package version 1.17.0.\n",
    "#     blobs = storage_client.list_blobs(bucket_name)\n",
    "\n",
    "#     # Note: The call returns a response only when the iterator is consumed.\n",
    "#     for blob in blobs:\n",
    "#         print(blob.name)\n",
    "\n",
    "# list_blobs('akveg-data')"
   ]
  },
  {
   "cell_type": "code",
   "execution_count": null,
   "metadata": {
    "id": "PhMo9X4CHs1q"
   },
   "outputs": [],
   "source": [
    "# from google.cloud import storage\n",
    "\n",
    "\n",
    "# def list_blobs_with_prefix(bucket_name, prefix, delimiter=None):\n",
    "#     \"\"\"Lists all the blobs in the bucket that begin with the prefix.\n",
    "\n",
    "#     This can be used to list all blobs in a \"folder\", e.g. \"public/\".\n",
    "\n",
    "#     The delimiter argument can be used to restrict the results to only the\n",
    "#     \"files\" in the given \"folder\". Without the delimiter, the entire tree under\n",
    "#     the prefix is returned. For example, given these blobs:\n",
    "\n",
    "#         a/1.txt\n",
    "#         a/b/2.txt\n",
    "\n",
    "#     If you specify prefix ='a/', without a delimiter, you'll get back:\n",
    "\n",
    "#         a/1.txt\n",
    "#         a/b/2.txt\n",
    "\n",
    "#     However, if you specify prefix='a/' and delimiter='/', you'll get back\n",
    "#     only the file directly under 'a/':\n",
    "\n",
    "#         a/1.txt\n",
    "\n",
    "#     As part of the response, you'll also get back a blobs.prefixes entity\n",
    "#     that lists the \"subfolders\" under `a/`:\n",
    "\n",
    "#         a/b/\n",
    "#     \"\"\"\n",
    "\n",
    "#     storage_client = storage.Client()\n",
    "\n",
    "#     # Note: Client.list_blobs requires at least package version 1.17.0.\n",
    "#     blobs = storage_client.list_blobs(bucket_name, prefix=prefix, delimiter=delimiter)\n",
    "\n",
    "#     # Note: The call returns a response only when the iterator is consumed.\n",
    "#     print(\"Blobs:\")\n",
    "#     for blob in blobs:\n",
    "#         print(blob.name)\n",
    "\n",
    "#     if delimiter:\n",
    "#         print(\"Prefixes:\")\n",
    "#         for prefix in blobs.prefixes:\n",
    "#             print(prefix)\n",
    "\n",
    "# list_blobs_with_prefix('akveg-map', 's1_2022_v20230320/')"
   ]
  },
  {
   "cell_type": "markdown",
   "metadata": {
    "id": "9_MfryWIpyhS"
   },
   "source": [
    "## Send the request\n",
    "\n",
    "Make the POST request to the Earth Engine [`projects.assets.create`](https://developers.google.com/earth-engine/reference/rest/v1alpha/projects.assets/create) endpoint."
   ]
  },
  {
   "cell_type": "code",
   "execution_count": null,
   "metadata": {
    "id": "NhmNrvS2p4qQ"
   },
   "outputs": [],
   "source": [
    "# Earth Engine enabled Cloud Project.\n",
    "project_folder = 'akveg-map'\n",
    "# A folder (or ImageCollection) name and the new asset name.\n",
    "asset_id = 's1_v20230321c'\n",
    "\n",
    "url = 'https://earthengine.googleapis.com/v1alpha/projects/{}/assets?assetId={}'\n",
    "\n",
    "response = session.post(\n",
    "  url = url.format(project_folder, asset_id),\n",
    "  data = json.dumps(request)\n",
    ")\n",
    "\n",
    "pprint(json.loads(response.content))"
   ]
  },
  {
   "cell_type": "markdown",
   "metadata": {
    "id": "mK5lCJY0CDfK"
   },
   "source": [
    "## Details on COG-backed assets\n",
    "\n",
    "### Permissions\n",
    "The ACLs of COG-backed Earth Engine assets and the underlying data are managed separately. If a COG-backed asset is shared in Earth Engine, it is the owner's responsibility to ensure that the data in GCS is shared with the same parties. If the data is not visible, Earth Engine will return an error of the form \"Failed to load the GeoTIFF at `gs://my-bucket/my-object#123456`\" (123456 is the generation of the object).\n",
    "\n",
    "### Generations\n",
    "When a COG-backed asset is created, Earth Engine reads the metadata of the TIFF in Cloud Storage and creates asset store entry. The URI associated with that entry must have a generation.  See the [object versioning docs](https://cloud.google.com/storage/docs/object-versioning) for details on generations. If a generation is specified (e.g., `gs://foo/bar#123`), Earth Engine will use it. If a generation is not specified, Earth Engine will use the latest generation of the object. \n",
    "\n",
    "That means that if the object in GCS is updated, Earth Engine will return a \"Failed to load the GeoTIFF at `gs://my-bucket/my-object#123456`\" error because the expected object no longer exists (unless the bucket enables  multiple object versions).  This policy is designed to keep metadata of the asset in sync with the metadata of the object.  \n",
    "\n",
    "### Configuration\n",
    "In terms of how a COG should be configured, the TIFF MUST be:\n",
    "\n",
    "- Tiled, where the tile dimensions are either:\n",
    "  - 16x16\n",
    "  - 32x32\n",
    "  - 64x64\n",
    "  - 128x128\n",
    "  - 256x256\n",
    "  - 512x512\n",
    "  - 1024x1024\n",
    "\n",
    "- Arranged so that all IFDs are at the beginning.\n",
    "\n",
    "For best performance:\n",
    "\n",
    "- Use tile dimensions of 128x128 or 256x256.\n",
    "- Include power of 2 overviews.\n",
    "\n",
    "See [this page](https://cogeotiff.github.io/rio-cogeo/Advanced/#web-optimized-cog) for more details on an optimized configuration."
   ]
  }
 ],
 "metadata": {
  "colab": {
   "private_outputs": true,
   "provenance": [
    {
     "file_id": "https://github.com/google/earthengine-api/blob/master/python/examples/ipynb/Earth_Engine_asset_from_cloud_geotiff.ipynb",
     "timestamp": 1679435372011
    },
    {
     "file_id": "https://github.com/google/earthengine-api/blob/master/python/examples/ipynb/Earth_Engine_asset_from_cloud_geotiff.ipynb",
     "timestamp": 1655816119626
    },
    {
     "file_id": "1f_rRBTQVKbPVhaoRRsSWUlBtBgnZkiTz",
     "timestamp": 1590793341638
    }
   ],
   "toc_visible": true
  },
  "kernelspec": {
   "display_name": "ee",
   "language": "python",
   "name": "ee"
  },
  "language_info": {
   "codemirror_mode": {
    "name": "ipython",
    "version": 3
   },
   "file_extension": ".py",
   "mimetype": "text/x-python",
   "name": "python",
   "nbconvert_exporter": "python",
   "pygments_lexer": "ipython3",
   "version": "3.8.16"
  }
 },
 "nbformat": 4,
 "nbformat_minor": 4
}
