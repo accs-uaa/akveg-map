{
 "cells": [
  {
   "cell_type": "markdown",
   "metadata": {},
   "source": [
    "# Sentinel 2 Composites\n",
    "Version 20230713d includes imagery inputs from 2019 through the end of the 2023 growing season"
   ]
  },
  {
   "cell_type": "markdown",
   "metadata": {
    "id": "fSIfBsgi8dNK"
   },
   "source": [
    "Imagery is tiled in the 50km AKVEG tiles (5000x5000 pixels each at 10 m resolution) and stored in a Google Cloud Storage bucket (akveg-data/s2_sr_2019_2023_gMedian_v20240713d) as part of the akveg-map project. The data can be accessed as a mosaic within Google Earth Engine via as a cloud-backed image collection (https://developers.google.com/earth-engine/Earth_Engine_asset_from_cloud_geotiff)"
   ]
  },
  {
   "cell_type": "markdown",
   "metadata": {},
   "source": [
    "## Version history\n",
    "\n",
    "### v20240713d\n",
    "GEE snapshot: [https://code.earthengine.google.com/ecb8bb60b4985e1cd1a03865002c6992]\n",
    "GEE script path: [https://code.earthengine.google.com/?scriptPath=users%2Fmmacander%2Fakveg_map%3Asentinel_2%2Fs2_medians_v20240713d]\n",
    "\n",
    "As of 2024-07-17, the lastest version of the Sentinel 2 reflectance composites in v20240713d. A description is below.\n",
    "\n",
    "Sentinel 2 Level 2A (surface reflectance) data ([https://developers.google.com/earth-engine/datasets/catalog/COPERNICUS_S2_SR_HARMONIZED]) are available for Alaska and Canada from 2019 through the present. The product is produced by the European Space Agency (ESA) and incorporates both an atmospheric correction and an illumination correction (unlike Landsat Collection 2 surface reflectance, for example, which incorporates an atmospheric correction only). The DEM used for the illumination correction was changed during winter 2020-2021 to the Copernicus GLO-30 global DEM ([https://developers.google.com/earth-engine/datasets/catalog/COPERNICUS_DEM_GLO30]), and the more recent results based on GLO-30 appear to be improved overall and have fewer artifacts at abrupt terrain breaks compared to the earlier results. \n",
    "\n",
    "Input data are first screened at the granule level, to include only images that meet criteria of 1) years between 2019 and 2023 inclusive; 2) day of year >= the first day of year when the maximum solar elevation is 40 degrees or higher; 3) day of year <= the last day of year when the maximum solar elevation is 25 degrees or lower; and 4) a granule 'cloudy pixel percentage' of 80% or less. For the day of year criteria, the thresholds are assigned at the level of the 50 km output tile.\n",
    "\n",
    "The images are then masked to exclude clouds, cloud shadow, snow, and other bad data. 1) Clouds and cloud shadow are masked based on the Cloud Score+ algorithm ([https://developers.google.com/earth-engine/datasets/catalog/GOOGLE_CLOUD_SCORE_PLUS_V1_S2_HARMONIZED]), masking pixels where the 'cs' band < 0.6. 2) Snow and other bad data are masked based on the scene classification map ('SCL' band of the image), masking values of 1 (saturated or defective), 2 (dark area pixels), 3 (cloud shadow), and 11 (snow / ice). 3) For scenes where the Dynamic World ([https://developers.google.com/earth-engine/datasets/catalog/GOOGLE_DYNAMICWORLD_V1]) product was generated, i.e. any scene where the 'cloudy pixel percentage' was <= 35%, pixels where the labelled class was 9 (snow/ice) are also masked.\n",
    "\n",
    "After masking, the Sentinel 2 data were mosaicked based on date and orbit number, to flatten data from overlap areas that occur at the edges of MGRS tiles. Without this step, there would be duplicate data from the overlap areas. \n",
    "\n",
    "5 seasonal composites are generated from the quality-masked images, nominally representing spring, early summer, midsummer, late summer, and fall. Since snow-masking is applied, the spring and fall periods are intended to represent the snow-free portion of those periods. The seasons are defined based on an existing per-pixel analysis of the dates of snow-free Sentinel 2 imagery ([https://code.earthengine.google.com/6b223ec1a1419a7b8210900b23f3e4c3] or [https://code.earthengine.google.com/?scriptPath=users%2Fmmacander%2Fakveg_map%3Asentinel_2%2Fs2_v20230113_doys]) that included 2019–2022 imagery filtered and masked similarly to the rules above. Day of year percentiles were calculated for each pixel based on the dates of snow-free observations. The central dates of the composite periods were defined as follows: 1) spring = 5th percentile of the snow-free observation dates; 2) midsummer = July 31; 3) fall = 95th percentile of the snow-free observation dates; 4) early summer = 25% of the way between spring and midsummer; and 5) late summer = midway between midsummer and fall. \n",
    "\n",
    "The composites were then calculated as the geometric median of observations within a time window around the central date of each season. For each season, both a narrow and wide time window were considered; if the number of quality-masked observations within the narrow time window was < 3, then the wide time window was used. If the number of quality-masked observations with the wide time window was < 3, then alternate seasonal windows were considered, as described below. The general assumption behind this approach was that the geometric median was not a robust metric with less than 3 observations, because if one of the the observations was an outlier then the result would be heavily influenced by the outlier. The exception was midsummer with a wide time window, for which only one quality-masked observation was required. This was to help ensure that every pixel had some reflectance estimate for each seasonal window (midsummer was a backup for each of the other seasonal windows). Generally, the minimum number of observations was easily achieved for the wide window in each seasonal period, except for snow-dominated areas (on or near glaciers and snow-fields) and some geographic regions with high cloud cover and low observation density (e.g. portions of the Aleutian Islands).\n",
    "\n",
    "TODO: Insert tables with composite windows (narrow and wide), including tier ID. Insert table with backup tiers.\n",
    "\n",
    "TODO: Consider using DOY analysis from the complete Landsat TM, ETM+, and OLI record (1984–present), excluding Landsat 7 ETM+ data collected after the SLC-off malfunction to avoid striping artifacts. And/or, the refined snow analysis based on the Sentinel 2 Dynamic World product.\n",
    "\n",
    "TODO: Consider restoring fire masking. Fire masking limited observations to pre- and/or post-fire imagery for pixels where fires occurred during the 2019-2023 window. Pre- and post-fire products can be produced later as separate tiled product, only processing tiles that intersect fire perimeters, and only for pixels within fire perimeter (could consider a buffer). In main composites, when combined with fallback tiers, fire masking was leading to some composites with mix of pre- and post-fire in different seasons and was contributing to high compute load.\n",
    "\n",
    "TODO: Consider selective use of a full growing season backup tier (e.g. ~May 1-October 31). It was computationally intensive and was only needed for a small number of pixels, mostly in permanent snowfields. Was contributing to very high computer and/or processing failures. Consider reviewing areas with limited data and running full season or something similar there (e.g. mid-Aleutians).\n",
    "\n",
    "### v2024-03-11\n",
    "GEE snapshot: [https://code.earthengine.google.com/f7ccb6d08f9f201c2f09d6433719433e]\n",
    "GEE script path: [https://code.earthengine.google.com/?scriptPath=users%2Fmmacander%2Fakveg_map%3Asentinel_2%2Fs2_medians_v20240311]\n",
    "\n",
    "Prior version for portion of study area. Demonstrates much reduced snow contamination in early season composites compared to previous version. Also demonstrates partial fire masking, using fire polygons for 2019-2023 to mask input imagery that was acquired the year of or before a fire. So where a 2020 fire is mapped in the fire perimeter polygon data, only 2021-2023 data is included in the composites. This should make the composites represent the current condition (after the fire). Problems with this approach are that for training, we may prefer the pre-fire conditions. Also, fires in 2023 will have no image because it is all masked. The script currently falls back to a non-seasonal full snow-free season composite when there is insufficient data available but this is not desirable behavior for 2023 firescars.\n",
    "\n",
    "### v2023-04-18\n",
    "GEE snapshot: [https://code.earthengine.google.com/4ab67b271cae54051b8d756d847c2a95]\n",
    "GEE script path: [https://code.earthengine.google.com/?scriptPath=users%2Fmmacander%2Fakveg_map%3Asentinel_2%2Fs2_medians_v20230418]\n",
    "\n",
    "Prior version for complete study area. Less robust snow masking. Only a single time window per composite period (no narrow and wide windows). No backstops to fill in composites periods. Partial fire masking.\n",
    "\n",
    "## Visualization\n",
    "Visualize results after creating the Cloud GeoTiff Backed Earth Engine Assets with this viz script:\n",
    "\n",
    "[https://code.earthengine.google.com/?scriptPath=users%2Fmmacander%2Fakveg_map%3Asentinel_2%2Fs2_viz]\n",
    "\n"
   ]
  },
  {
   "cell_type": "markdown",
   "metadata": {
    "id": "CrEM35gqHouU",
    "jp-MarkdownHeadingCollapsed": true
   },
   "source": [
    "## Background on Cloud GeoTiff Backed Earth Engine Assets\n",
    "\n",
    "***Note:*** *The REST API contains new and advanced features that may not be suitable for all users.  If you are new to Earth Engine, please get started with the [JavaScript guide](https://developers.google.com/earth-engine/guides/getstarted).*\n",
    "\n",
    "Earth Engine can load images from Cloud Optimized GeoTiffs (COGs) in Google Cloud Storage ([learn more](https://developers.google.com/earth-engine/guides/image_overview#images-from-cloud-geotiffs)).  This notebook demonstrates how to create Earth Engine assets backed by COGs.  An advantage of COG-backed assets is that the spatial and metadata fields of the image will be indexed at asset creation time, making the image more performant in collections.  (In contrast, an image created through `ee.Image.loadGeoTIFF` and put into a collection will require a read of the GeoTiff for filtering operations on the collection.)  A disadvantage of COG-backed assets is that they may be several times slower than standard assets when used in computations.\n",
    "\n",
    "To create a COG-backed asset, make a `POST` request to the Earth Engine [`CreateAsset` endpoint](https://developers.google.com/earth-engine/reference/rest/v1alpha/projects.assets/create).  As shown in the following, this request must be authorized to create an asset in your user folder."
   ]
  },
  {
   "cell_type": "markdown",
   "metadata": {
    "id": "fmxat3ujhwGx"
   },
   "source": [
    "## Start an authorized session\n",
    "\n",
    "To be able to make an Earth Engine asset in your user folder, you need to be able to authenticate as yourself when you make the request.  You can use credentials from the Earth Engine authenticator to start an [`AuthorizedSession`](https://google-auth.readthedocs.io/en/master/reference/google.auth.transport.requests.html#google.auth.transport.requests.AuthorizedSession).  You can then use the `AuthorizedSession` to send requests to Earth Engine."
   ]
  },
  {
   "cell_type": "code",
   "execution_count": 7,
   "metadata": {
    "id": "qVu8GhINwYfO"
   },
   "outputs": [],
   "source": [
    "import ee\n",
    "from google.auth.transport.requests import AuthorizedSession\n",
    "\n",
    "ee.Authenticate()  #  or !earthengine authenticate --auth_mode=gcloud\n",
    "session = AuthorizedSession(ee.data.get_persistent_credentials())"
   ]
  },
  {
   "cell_type": "markdown",
   "metadata": {},
   "source": [
    "## Create list of cloud geotiffs in bucket and image collection\n",
    "\n",
    "Create list of cogs in a bucket folder to load into an imageCollection.\n",
    "\n",
    "Create list of cogs that have already been loaded into the imageCollection.\n",
    "\n",
    "Run in bash in a conda env with gsutil and earthengine command line installed and authenticated.\n",
    "\n",
    "TODO: Configure it to run directly in python"
   ]
  },
  {
   "cell_type": "markdown",
   "metadata": {
    "id": "xji-zRGyKEzN"
   },
   "source": [
    "```\n",
    "cd /data/gis/gis_projects/2024/24-224_Land_Cover_Metrics_Susitna_Wolf/sentinel2_gMedian\n",
    "\n",
    "gsutil ls gs://akveg-data/s2_sr_2019_2023_gMedian_v20240713d/*.tif > s2_cogs_v20240713d.txt\n",
    "\n",
    "earthengine ls projects/akveg-map/assets/s2_sr_2019_2023_gMedian_v20240713d > s2_cogs_v20240713d_inColl.txt\n",
    "```"
   ]
  },
  {
   "cell_type": "code",
   "execution_count": 32,
   "metadata": {},
   "outputs": [
    {
     "name": "stdout",
     "output_type": "stream",
     "text": [
      "\n",
      "Paths in list1 that are not in list2 based on filenames:\n",
      "['gs://akveg-data/s2_sr_2019_2023_gMedian_v20240713d/s2_sr_2019_2023_gMedian_AK050H60V10_all_v20240713d.tif', 'gs://akveg-data/s2_sr_2019_2023_gMedian_v20240713d/s2_sr_2019_2023_gMedian_AK050H60V11_all_v20240713d.tif', 'gs://akveg-data/s2_sr_2019_2023_gMedian_v20240713d/s2_sr_2019_2023_gMedian_AK050H60V12_all_v20240713d.tif', 'gs://akveg-data/s2_sr_2019_2023_gMedian_v20240713d/s2_sr_2019_2023_gMedian_AK050H60V13_all_v20240713d.tif', 'gs://akveg-data/s2_sr_2019_2023_gMedian_v20240713d/s2_sr_2019_2023_gMedian_AK050H60V14_all_v20240713d.tif']\n",
      "61\n"
     ]
    }
   ],
   "source": [
    "import pandas\n",
    "import os\n",
    "\n",
    "cogList_txt = '/data/gis/gis_projects/2024/24-224_Land_Cover_Metrics_Susitna_Wolf/sentinel2_gMedian/s2_cogs_v20240713d.txt'\n",
    "cogListIC_txt = '/data/gis/gis_projects/2024/24-224_Land_Cover_Metrics_Susitna_Wolf/sentinel2_gMedian/s2_cogs_v20240713d_inColl.txt'\n",
    "\n",
    "# Function to read a text file and return a list of paths\n",
    "def read_paths_from_file(filepath):\n",
    "    with open(filepath, 'r') as file:\n",
    "        paths = file.read().splitlines()\n",
    "    return paths\n",
    "\n",
    "# Function to extract the last part of the path and remove the extension\n",
    "def get_filename_without_extension(path):\n",
    "    return os.path.splitext(os.path.basename(path))[0]\n",
    "\n",
    "cogList = read_paths_from_file(cogList_txt)\n",
    "cogListIC = read_paths_from_file(cogListIC_txt)\n",
    "\n",
    "# Function to save a list of paths to a text file\n",
    "def save_paths_to_file(paths, filepath):\n",
    "    with open(filepath, 'w') as file:\n",
    "        for path in paths:\n",
    "            file.write(f\"{path}\\n\")\n",
    "\n",
    "# Apply the function to both lists\n",
    "filenames1 = [get_filename_without_extension(path) for path in cogList]\n",
    "filenames2 = [get_filename_without_extension(path) for path in cogListIC]\n",
    "\n",
    "# Convert lists to pandas Series\n",
    "filenames_series1 = pandas.Series(filenames1, index=cogList)\n",
    "filenames_series2 = pandas.Series(filenames2, index=cogListIC)\n",
    "\n",
    "# Find filenames in list1 that are not in list2\n",
    "unique_to_list1 = filenames_series1[~filenames_series1.isin(filenames2)]\n",
    "\n",
    "# Print the results\n",
    "# print(\"List of names without extensions from list1:\")\n",
    "# print(filenames1)\n",
    "\n",
    "# print(\"\\nList of names without extensions from list2:\")\n",
    "# print(filenames2)\n",
    "\n",
    "print(\"\\nPaths in list1 that are not in list2 based on filenames:\")\n",
    "print(unique_to_list1.index.tolist()[:5])\n",
    "print(len(unique_to_list1.index.tolist()))\n",
    "\n",
    "save_paths_to_file(unique_to_list1.index.tolist(), '/data/gis/gis_projects/2024/24-224_Land_Cover_Metrics_Susitna_Wolf/sentinel2_gMedian/s2_cogs_v20240713d_notInColl.txt')\n",
    "\n"
   ]
  },
  {
   "cell_type": "markdown",
   "metadata": {},
   "source": [
    "## Open list of geotiffs to ingest"
   ]
  },
  {
   "cell_type": "code",
   "execution_count": 33,
   "metadata": {},
   "outputs": [
    {
     "name": "stdout",
     "output_type": "stream",
     "text": [
      "                                                 tif\n",
      "0  gs://akveg-data/s2_sr_2019_2023_gMedian_v20240...\n",
      "1  gs://akveg-data/s2_sr_2019_2023_gMedian_v20240...\n",
      "61\n"
     ]
    }
   ],
   "source": [
    "import pandas\n",
    "# cogs = pandas.read_csv('/data/gis/gis_projects/2024/24-224_Land_Cover_Metrics_Susitna_Wolf/sentinel2_gMedian/s2_cogs_v20240710.txt', header=None,names=['tif'])\n",
    "# cogs = pandas.read_csv('/data/gis/gis_projects/2024/24-224_Land_Cover_Metrics_Susitna_Wolf/sentinel2_gMedian/s2_cogs_v20240713d.txt', header=None,names=['tif'])\n",
    "cogs = pandas.read_csv('/data/gis/gis_projects/2024/24-224_Land_Cover_Metrics_Susitna_Wolf/sentinel2_gMedian/s2_cogs_v20240713d_notInColl.txt', header=None,names=['tif'])\n",
    "print(cogs[0:2])\n",
    "print(len(cogs.index))\n"
   ]
  },
  {
   "cell_type": "markdown",
   "metadata": {},
   "source": [
    "## Setup parameters"
   ]
  },
  {
   "cell_type": "code",
   "execution_count": 34,
   "metadata": {
    "id": "OGESPnfEvqVq"
   },
   "outputs": [],
   "source": [
    "import json\n",
    "# from urllib.parse import urlparse\n",
    "import os\n",
    "from pprint import pprint\n",
    "\n",
    "# Earth Engine enabled Cloud Project.\n",
    "project_folder = 'akveg-map'\n",
    "collection = 's2_sr_2019_2023_geometricMedian_v20240713d'"
   ]
  },
  {
   "cell_type": "markdown",
   "metadata": {},
   "source": [
    "## Create empty image collection as target\n",
    "TODO Automate creation of empty image collection.\n",
    "\n",
    "For now, manually create empty image collection with earthengine CLI"
   ]
  },
  {
   "cell_type": "markdown",
   "metadata": {},
   "source": [
    "```\n",
    "earthengine create collection projects/akveg-map/assets/s2_sr_2019_2023_gMedian_v20240713d\n",
    "```"
   ]
  },
  {
   "cell_type": "markdown",
   "metadata": {},
   "source": [
    "## View list of cogs to ingest\n",
    "Optional, can skip when list is long."
   ]
  },
  {
   "cell_type": "code",
   "execution_count": 35,
   "metadata": {},
   "outputs": [
    {
     "name": "stdout",
     "output_type": "stream",
     "text": [
      "gs://akveg-data/s2_sr_2019_2023_gMedian_v20240713d/s2_sr_2019_2023_gMedian_AK050H60V10_all_v20240713d.tif\n",
      "gs://akveg-data/s2_sr_2019_2023_gMedian_v20240713d/s2_sr_2019_2023_gMedian_AK050H60V11_all_v20240713d.tif\n",
      "gs://akveg-data/s2_sr_2019_2023_gMedian_v20240713d/s2_sr_2019_2023_gMedian_AK050H60V12_all_v20240713d.tif\n",
      "gs://akveg-data/s2_sr_2019_2023_gMedian_v20240713d/s2_sr_2019_2023_gMedian_AK050H60V13_all_v20240713d.tif\n",
      "gs://akveg-data/s2_sr_2019_2023_gMedian_v20240713d/s2_sr_2019_2023_gMedian_AK050H60V14_all_v20240713d.tif\n",
      "gs://akveg-data/s2_sr_2019_2023_gMedian_v20240713d/s2_sr_2019_2023_gMedian_AK050H60V15_all_v20240713d.tif\n",
      "gs://akveg-data/s2_sr_2019_2023_gMedian_v20240713d/s2_sr_2019_2023_gMedian_AK050H60V16_all_v20240713d.tif\n",
      "gs://akveg-data/s2_sr_2019_2023_gMedian_v20240713d/s2_sr_2019_2023_gMedian_AK050H60V17_all_v20240713d.tif\n",
      "gs://akveg-data/s2_sr_2019_2023_gMedian_v20240713d/s2_sr_2019_2023_gMedian_AK050H60V18_all_v20240713d.tif\n",
      "gs://akveg-data/s2_sr_2019_2023_gMedian_v20240713d/s2_sr_2019_2023_gMedian_AK050H60V19_all_v20240713d.tif\n",
      "gs://akveg-data/s2_sr_2019_2023_gMedian_v20240713d/s2_sr_2019_2023_gMedian_AK050H60V20_all_v20240713d.tif\n",
      "gs://akveg-data/s2_sr_2019_2023_gMedian_v20240713d/s2_sr_2019_2023_gMedian_AK050H60V21_all_v20240713d.tif\n",
      "gs://akveg-data/s2_sr_2019_2023_gMedian_v20240713d/s2_sr_2019_2023_gMedian_AK050H60V22_all_v20240713d.tif\n",
      "gs://akveg-data/s2_sr_2019_2023_gMedian_v20240713d/s2_sr_2019_2023_gMedian_AK050H60V23_all_v20240713d.tif\n",
      "gs://akveg-data/s2_sr_2019_2023_gMedian_v20240713d/s2_sr_2019_2023_gMedian_AK050H60V24_all_v20240713d.tif\n",
      "gs://akveg-data/s2_sr_2019_2023_gMedian_v20240713d/s2_sr_2019_2023_gMedian_AK050H60V25_all_v20240713d.tif\n",
      "gs://akveg-data/s2_sr_2019_2023_gMedian_v20240713d/s2_sr_2019_2023_gMedian_AK050H60V26_all_v20240713d.tif\n",
      "gs://akveg-data/s2_sr_2019_2023_gMedian_v20240713d/s2_sr_2019_2023_gMedian_AK050H61V03_all_v20240713d.tif\n",
      "gs://akveg-data/s2_sr_2019_2023_gMedian_v20240713d/s2_sr_2019_2023_gMedian_AK050H61V04_all_v20240713d.tif\n",
      "gs://akveg-data/s2_sr_2019_2023_gMedian_v20240713d/s2_sr_2019_2023_gMedian_AK050H61V05_all_v20240713d.tif\n",
      "gs://akveg-data/s2_sr_2019_2023_gMedian_v20240713d/s2_sr_2019_2023_gMedian_AK050H61V06_all_v20240713d.tif\n",
      "gs://akveg-data/s2_sr_2019_2023_gMedian_v20240713d/s2_sr_2019_2023_gMedian_AK050H61V07_all_v20240713d.tif\n",
      "gs://akveg-data/s2_sr_2019_2023_gMedian_v20240713d/s2_sr_2019_2023_gMedian_AK050H61V08_all_v20240713d.tif\n",
      "gs://akveg-data/s2_sr_2019_2023_gMedian_v20240713d/s2_sr_2019_2023_gMedian_AK050H61V09_all_v20240713d.tif\n",
      "gs://akveg-data/s2_sr_2019_2023_gMedian_v20240713d/s2_sr_2019_2023_gMedian_AK050H61V10_all_v20240713d.tif\n",
      "gs://akveg-data/s2_sr_2019_2023_gMedian_v20240713d/s2_sr_2019_2023_gMedian_AK050H61V11_all_v20240713d.tif\n",
      "gs://akveg-data/s2_sr_2019_2023_gMedian_v20240713d/s2_sr_2019_2023_gMedian_AK050H61V12_all_v20240713d.tif\n",
      "gs://akveg-data/s2_sr_2019_2023_gMedian_v20240713d/s2_sr_2019_2023_gMedian_AK050H61V13_all_v20240713d.tif\n",
      "gs://akveg-data/s2_sr_2019_2023_gMedian_v20240713d/s2_sr_2019_2023_gMedian_AK050H61V14_all_v20240713d.tif\n",
      "gs://akveg-data/s2_sr_2019_2023_gMedian_v20240713d/s2_sr_2019_2023_gMedian_AK050H61V15_all_v20240713d.tif\n",
      "gs://akveg-data/s2_sr_2019_2023_gMedian_v20240713d/s2_sr_2019_2023_gMedian_AK050H61V16_all_v20240713d.tif\n",
      "gs://akveg-data/s2_sr_2019_2023_gMedian_v20240713d/s2_sr_2019_2023_gMedian_AK050H61V17_all_v20240713d.tif\n",
      "gs://akveg-data/s2_sr_2019_2023_gMedian_v20240713d/s2_sr_2019_2023_gMedian_AK050H61V18_all_v20240713d.tif\n",
      "gs://akveg-data/s2_sr_2019_2023_gMedian_v20240713d/s2_sr_2019_2023_gMedian_AK050H61V19_all_v20240713d.tif\n",
      "gs://akveg-data/s2_sr_2019_2023_gMedian_v20240713d/s2_sr_2019_2023_gMedian_AK050H61V20_all_v20240713d.tif\n",
      "gs://akveg-data/s2_sr_2019_2023_gMedian_v20240713d/s2_sr_2019_2023_gMedian_AK050H61V21_all_v20240713d.tif\n",
      "gs://akveg-data/s2_sr_2019_2023_gMedian_v20240713d/s2_sr_2019_2023_gMedian_AK050H61V22_all_v20240713d.tif\n",
      "gs://akveg-data/s2_sr_2019_2023_gMedian_v20240713d/s2_sr_2019_2023_gMedian_AK050H61V23_all_v20240713d.tif\n",
      "gs://akveg-data/s2_sr_2019_2023_gMedian_v20240713d/s2_sr_2019_2023_gMedian_AK050H61V24_all_v20240713d.tif\n",
      "gs://akveg-data/s2_sr_2019_2023_gMedian_v20240713d/s2_sr_2019_2023_gMedian_AK050H61V25_all_v20240713d.tif\n",
      "gs://akveg-data/s2_sr_2019_2023_gMedian_v20240713d/s2_sr_2019_2023_gMedian_AK050H61V26_all_v20240713d.tif\n",
      "gs://akveg-data/s2_sr_2019_2023_gMedian_v20240713d/s2_sr_2019_2023_gMedian_AK050H62V07_all_v20240713d.tif\n",
      "gs://akveg-data/s2_sr_2019_2023_gMedian_v20240713d/s2_sr_2019_2023_gMedian_AK050H62V08_all_v20240713d.tif\n",
      "gs://akveg-data/s2_sr_2019_2023_gMedian_v20240713d/s2_sr_2019_2023_gMedian_AK050H62V09_all_v20240713d.tif\n",
      "gs://akveg-data/s2_sr_2019_2023_gMedian_v20240713d/s2_sr_2019_2023_gMedian_AK050H62V10_all_v20240713d.tif\n",
      "gs://akveg-data/s2_sr_2019_2023_gMedian_v20240713d/s2_sr_2019_2023_gMedian_AK050H62V11_all_v20240713d.tif\n",
      "gs://akveg-data/s2_sr_2019_2023_gMedian_v20240713d/s2_sr_2019_2023_gMedian_AK050H62V12_all_v20240713d.tif\n",
      "gs://akveg-data/s2_sr_2019_2023_gMedian_v20240713d/s2_sr_2019_2023_gMedian_AK050H62V13_all_v20240713d.tif\n",
      "gs://akveg-data/s2_sr_2019_2023_gMedian_v20240713d/s2_sr_2019_2023_gMedian_AK050H62V14_all_v20240713d.tif\n",
      "gs://akveg-data/s2_sr_2019_2023_gMedian_v20240713d/s2_sr_2019_2023_gMedian_AK050H62V15_all_v20240713d.tif\n",
      "gs://akveg-data/s2_sr_2019_2023_gMedian_v20240713d/s2_sr_2019_2023_gMedian_AK050H62V16_all_v20240713d.tif\n",
      "gs://akveg-data/s2_sr_2019_2023_gMedian_v20240713d/s2_sr_2019_2023_gMedian_AK050H62V17_all_v20240713d.tif\n",
      "gs://akveg-data/s2_sr_2019_2023_gMedian_v20240713d/s2_sr_2019_2023_gMedian_AK050H62V18_all_v20240713d.tif\n",
      "gs://akveg-data/s2_sr_2019_2023_gMedian_v20240713d/s2_sr_2019_2023_gMedian_AK050H62V19_all_v20240713d.tif\n",
      "gs://akveg-data/s2_sr_2019_2023_gMedian_v20240713d/s2_sr_2019_2023_gMedian_AK050H62V20_all_v20240713d.tif\n",
      "gs://akveg-data/s2_sr_2019_2023_gMedian_v20240713d/s2_sr_2019_2023_gMedian_AK050H62V21_all_v20240713d.tif\n",
      "gs://akveg-data/s2_sr_2019_2023_gMedian_v20240713d/s2_sr_2019_2023_gMedian_AK050H62V22_all_v20240713d.tif\n",
      "gs://akveg-data/s2_sr_2019_2023_gMedian_v20240713d/s2_sr_2019_2023_gMedian_AK050H62V23_all_v20240713d.tif\n",
      "gs://akveg-data/s2_sr_2019_2023_gMedian_v20240713d/s2_sr_2019_2023_gMedian_AK050H62V24_all_v20240713d.tif\n",
      "gs://akveg-data/s2_sr_2019_2023_gMedian_v20240713d/s2_sr_2019_2023_gMedian_AK050H62V25_all_v20240713d.tif\n",
      "gs://akveg-data/s2_sr_2019_2023_gMedian_v20240713d/s2_sr_2019_2023_gMedian_AK050H62V26_all_v20240713d.tif\n"
     ]
    }
   ],
   "source": [
    "for cog in cogs['tif']:\n",
    "    print(cog)"
   ]
  },
  {
   "cell_type": "markdown",
   "metadata": {},
   "source": [
    "## Function to load list of gcs cogs to GEE imageCollection\n",
    "comment out pprint and most print except when troubleshooting"
   ]
  },
  {
   "cell_type": "code",
   "execution_count": 36,
   "metadata": {},
   "outputs": [],
   "source": [
    "def load_gcs_cogs_to_collection(cogs, project_folder, collection):\n",
    "    # Request body as a dictionary.\n",
    "    for cog in cogs['tif']:\n",
    "      fileOnly = os.path.split(cog)[1]\n",
    "      # print(fileOnly)\n",
    "\n",
    "      cogName = fileOnly[:-4]\n",
    "      print(cogName)\n",
    "      \n",
    "      parts = fileOnly.split('_')\n",
    "      # print(parts)\n",
    "      \n",
    "      season = parts[6]\n",
    "      # print(season)\n",
    "        \n",
    "      request = {\n",
    "        'type': 'IMAGE',\n",
    "        'gcs_location': {\n",
    "          'uris': cog\n",
    "        },\n",
    "        'properties': {\n",
    "        #   'source': 'https://code.earthengine.google.com/067b10ee56537817756a3177a9138aee',\n",
    "            'seasonName': season\n",
    "        },\n",
    "        'startTime': '2023-01-01T00:00:00.000000000Z',\n",
    "        'endTime': '2024-01-01T00:00:00.000000000Z',\n",
    "      }\n",
    "\n",
    "      # pprint(json.dumps(request))\n",
    "\n",
    "      # A folder (or ImageCollection) name and the new asset name.\n",
    "      asset_id = collection+'/'+cogName\n",
    "      # print(project_folder)\n",
    "      # print(asset_id)\n",
    "        \n",
    "      url = 'https://earthengine.googleapis.com/v1alpha/projects/{}/assets?assetId={}'\n",
    "      # print(url)\n",
    "\n",
    "      response = session.post(\n",
    "        url = url.format(project_folder, asset_id),\n",
    "        data = json.dumps(request)\n",
    "      )\n",
    "\n",
    "      # pprint(json.loads(response.content))\n",
    "    print('done')\n"
   ]
  },
  {
   "cell_type": "markdown",
   "metadata": {},
   "source": [
    "## Run it"
   ]
  },
  {
   "cell_type": "code",
   "execution_count": 37,
   "metadata": {
    "scrolled": true
   },
   "outputs": [
    {
     "name": "stdout",
     "output_type": "stream",
     "text": [
      "s2_sr_2019_2023_gMedian_AK050H60V10_all_v20240713d\n",
      "s2_sr_2019_2023_gMedian_AK050H60V11_all_v20240713d\n",
      "s2_sr_2019_2023_gMedian_AK050H60V12_all_v20240713d\n",
      "s2_sr_2019_2023_gMedian_AK050H60V13_all_v20240713d\n",
      "s2_sr_2019_2023_gMedian_AK050H60V14_all_v20240713d\n",
      "s2_sr_2019_2023_gMedian_AK050H60V15_all_v20240713d\n",
      "s2_sr_2019_2023_gMedian_AK050H60V16_all_v20240713d\n",
      "s2_sr_2019_2023_gMedian_AK050H60V17_all_v20240713d\n"
     ]
    },
    {
     "ename": "ReadTimeout",
     "evalue": "HTTPSConnectionPool(host='earthengine.googleapis.com', port=443): Read timed out. (read timeout=120)",
     "output_type": "error",
     "traceback": [
      "\u001b[0;31m---------------------------------------------------------------------------\u001b[0m",
      "\u001b[0;31mtimeout\u001b[0m                                   Traceback (most recent call last)",
      "File \u001b[0;32m~/miniconda3/envs/ee/lib/python3.8/site-packages/urllib3/connectionpool.py:449\u001b[0m, in \u001b[0;36mHTTPConnectionPool._make_request\u001b[0;34m(self, conn, method, url, timeout, chunked, **httplib_request_kw)\u001b[0m\n\u001b[1;32m    445\u001b[0m         \u001b[38;5;28;01mexcept\u001b[39;00m \u001b[38;5;167;01mBaseException\u001b[39;00m \u001b[38;5;28;01mas\u001b[39;00m e:\n\u001b[1;32m    446\u001b[0m             \u001b[38;5;66;03m# Remove the TypeError from the exception chain in\u001b[39;00m\n\u001b[1;32m    447\u001b[0m             \u001b[38;5;66;03m# Python 3 (including for exceptions like SystemExit).\u001b[39;00m\n\u001b[1;32m    448\u001b[0m             \u001b[38;5;66;03m# Otherwise it looks like a bug in the code.\u001b[39;00m\n\u001b[0;32m--> 449\u001b[0m             \u001b[43msix\u001b[49m\u001b[38;5;241;43m.\u001b[39;49m\u001b[43mraise_from\u001b[49m\u001b[43m(\u001b[49m\u001b[43me\u001b[49m\u001b[43m,\u001b[49m\u001b[43m \u001b[49m\u001b[38;5;28;43;01mNone\u001b[39;49;00m\u001b[43m)\u001b[49m\n\u001b[1;32m    450\u001b[0m \u001b[38;5;28;01mexcept\u001b[39;00m (SocketTimeout, BaseSSLError, SocketError) \u001b[38;5;28;01mas\u001b[39;00m e:\n",
      "File \u001b[0;32m<string>:3\u001b[0m, in \u001b[0;36mraise_from\u001b[0;34m(value, from_value)\u001b[0m\n",
      "File \u001b[0;32m~/miniconda3/envs/ee/lib/python3.8/site-packages/urllib3/connectionpool.py:444\u001b[0m, in \u001b[0;36mHTTPConnectionPool._make_request\u001b[0;34m(self, conn, method, url, timeout, chunked, **httplib_request_kw)\u001b[0m\n\u001b[1;32m    443\u001b[0m \u001b[38;5;28;01mtry\u001b[39;00m:\n\u001b[0;32m--> 444\u001b[0m     httplib_response \u001b[38;5;241m=\u001b[39m \u001b[43mconn\u001b[49m\u001b[38;5;241;43m.\u001b[39;49m\u001b[43mgetresponse\u001b[49m\u001b[43m(\u001b[49m\u001b[43m)\u001b[49m\n\u001b[1;32m    445\u001b[0m \u001b[38;5;28;01mexcept\u001b[39;00m \u001b[38;5;167;01mBaseException\u001b[39;00m \u001b[38;5;28;01mas\u001b[39;00m e:\n\u001b[1;32m    446\u001b[0m     \u001b[38;5;66;03m# Remove the TypeError from the exception chain in\u001b[39;00m\n\u001b[1;32m    447\u001b[0m     \u001b[38;5;66;03m# Python 3 (including for exceptions like SystemExit).\u001b[39;00m\n\u001b[1;32m    448\u001b[0m     \u001b[38;5;66;03m# Otherwise it looks like a bug in the code.\u001b[39;00m\n",
      "File \u001b[0;32m~/miniconda3/envs/ee/lib/python3.8/http/client.py:1348\u001b[0m, in \u001b[0;36mHTTPConnection.getresponse\u001b[0;34m(self)\u001b[0m\n\u001b[1;32m   1347\u001b[0m \u001b[38;5;28;01mtry\u001b[39;00m:\n\u001b[0;32m-> 1348\u001b[0m     \u001b[43mresponse\u001b[49m\u001b[38;5;241;43m.\u001b[39;49m\u001b[43mbegin\u001b[49m\u001b[43m(\u001b[49m\u001b[43m)\u001b[49m\n\u001b[1;32m   1349\u001b[0m \u001b[38;5;28;01mexcept\u001b[39;00m \u001b[38;5;167;01mConnectionError\u001b[39;00m:\n",
      "File \u001b[0;32m~/miniconda3/envs/ee/lib/python3.8/http/client.py:316\u001b[0m, in \u001b[0;36mHTTPResponse.begin\u001b[0;34m(self)\u001b[0m\n\u001b[1;32m    315\u001b[0m \u001b[38;5;28;01mwhile\u001b[39;00m \u001b[38;5;28;01mTrue\u001b[39;00m:\n\u001b[0;32m--> 316\u001b[0m     version, status, reason \u001b[38;5;241m=\u001b[39m \u001b[38;5;28;43mself\u001b[39;49m\u001b[38;5;241;43m.\u001b[39;49m\u001b[43m_read_status\u001b[49m\u001b[43m(\u001b[49m\u001b[43m)\u001b[49m\n\u001b[1;32m    317\u001b[0m     \u001b[38;5;28;01mif\u001b[39;00m status \u001b[38;5;241m!=\u001b[39m CONTINUE:\n",
      "File \u001b[0;32m~/miniconda3/envs/ee/lib/python3.8/http/client.py:277\u001b[0m, in \u001b[0;36mHTTPResponse._read_status\u001b[0;34m(self)\u001b[0m\n\u001b[1;32m    276\u001b[0m \u001b[38;5;28;01mdef\u001b[39;00m \u001b[38;5;21m_read_status\u001b[39m(\u001b[38;5;28mself\u001b[39m):\n\u001b[0;32m--> 277\u001b[0m     line \u001b[38;5;241m=\u001b[39m \u001b[38;5;28mstr\u001b[39m(\u001b[38;5;28;43mself\u001b[39;49m\u001b[38;5;241;43m.\u001b[39;49m\u001b[43mfp\u001b[49m\u001b[38;5;241;43m.\u001b[39;49m\u001b[43mreadline\u001b[49m\u001b[43m(\u001b[49m\u001b[43m_MAXLINE\u001b[49m\u001b[43m \u001b[49m\u001b[38;5;241;43m+\u001b[39;49m\u001b[43m \u001b[49m\u001b[38;5;241;43m1\u001b[39;49m\u001b[43m)\u001b[49m, \u001b[38;5;124m\"\u001b[39m\u001b[38;5;124miso-8859-1\u001b[39m\u001b[38;5;124m\"\u001b[39m)\n\u001b[1;32m    278\u001b[0m     \u001b[38;5;28;01mif\u001b[39;00m \u001b[38;5;28mlen\u001b[39m(line) \u001b[38;5;241m>\u001b[39m _MAXLINE:\n",
      "File \u001b[0;32m~/miniconda3/envs/ee/lib/python3.8/socket.py:669\u001b[0m, in \u001b[0;36mSocketIO.readinto\u001b[0;34m(self, b)\u001b[0m\n\u001b[1;32m    668\u001b[0m \u001b[38;5;28;01mtry\u001b[39;00m:\n\u001b[0;32m--> 669\u001b[0m     \u001b[38;5;28;01mreturn\u001b[39;00m \u001b[38;5;28;43mself\u001b[39;49m\u001b[38;5;241;43m.\u001b[39;49m\u001b[43m_sock\u001b[49m\u001b[38;5;241;43m.\u001b[39;49m\u001b[43mrecv_into\u001b[49m\u001b[43m(\u001b[49m\u001b[43mb\u001b[49m\u001b[43m)\u001b[49m\n\u001b[1;32m    670\u001b[0m \u001b[38;5;28;01mexcept\u001b[39;00m timeout:\n",
      "File \u001b[0;32m~/miniconda3/envs/ee/lib/python3.8/ssl.py:1241\u001b[0m, in \u001b[0;36mSSLSocket.recv_into\u001b[0;34m(self, buffer, nbytes, flags)\u001b[0m\n\u001b[1;32m   1238\u001b[0m         \u001b[38;5;28;01mraise\u001b[39;00m \u001b[38;5;167;01mValueError\u001b[39;00m(\n\u001b[1;32m   1239\u001b[0m           \u001b[38;5;124m\"\u001b[39m\u001b[38;5;124mnon-zero flags not allowed in calls to recv_into() on \u001b[39m\u001b[38;5;132;01m%s\u001b[39;00m\u001b[38;5;124m\"\u001b[39m \u001b[38;5;241m%\u001b[39m\n\u001b[1;32m   1240\u001b[0m           \u001b[38;5;28mself\u001b[39m\u001b[38;5;241m.\u001b[39m\u001b[38;5;18m__class__\u001b[39m)\n\u001b[0;32m-> 1241\u001b[0m     \u001b[38;5;28;01mreturn\u001b[39;00m \u001b[38;5;28;43mself\u001b[39;49m\u001b[38;5;241;43m.\u001b[39;49m\u001b[43mread\u001b[49m\u001b[43m(\u001b[49m\u001b[43mnbytes\u001b[49m\u001b[43m,\u001b[49m\u001b[43m \u001b[49m\u001b[43mbuffer\u001b[49m\u001b[43m)\u001b[49m\n\u001b[1;32m   1242\u001b[0m \u001b[38;5;28;01melse\u001b[39;00m:\n",
      "File \u001b[0;32m~/miniconda3/envs/ee/lib/python3.8/ssl.py:1099\u001b[0m, in \u001b[0;36mSSLSocket.read\u001b[0;34m(self, len, buffer)\u001b[0m\n\u001b[1;32m   1098\u001b[0m \u001b[38;5;28;01mif\u001b[39;00m buffer \u001b[38;5;129;01mis\u001b[39;00m \u001b[38;5;129;01mnot\u001b[39;00m \u001b[38;5;28;01mNone\u001b[39;00m:\n\u001b[0;32m-> 1099\u001b[0m     \u001b[38;5;28;01mreturn\u001b[39;00m \u001b[38;5;28;43mself\u001b[39;49m\u001b[38;5;241;43m.\u001b[39;49m\u001b[43m_sslobj\u001b[49m\u001b[38;5;241;43m.\u001b[39;49m\u001b[43mread\u001b[49m\u001b[43m(\u001b[49m\u001b[38;5;28;43mlen\u001b[39;49m\u001b[43m,\u001b[49m\u001b[43m \u001b[49m\u001b[43mbuffer\u001b[49m\u001b[43m)\u001b[49m\n\u001b[1;32m   1100\u001b[0m \u001b[38;5;28;01melse\u001b[39;00m:\n",
      "\u001b[0;31mtimeout\u001b[0m: The read operation timed out",
      "\nDuring handling of the above exception, another exception occurred:\n",
      "\u001b[0;31mReadTimeoutError\u001b[0m                          Traceback (most recent call last)",
      "File \u001b[0;32m~/miniconda3/envs/ee/lib/python3.8/site-packages/requests/adapters.py:489\u001b[0m, in \u001b[0;36mHTTPAdapter.send\u001b[0;34m(self, request, stream, timeout, verify, cert, proxies)\u001b[0m\n\u001b[1;32m    488\u001b[0m \u001b[38;5;28;01mif\u001b[39;00m \u001b[38;5;129;01mnot\u001b[39;00m chunked:\n\u001b[0;32m--> 489\u001b[0m     resp \u001b[38;5;241m=\u001b[39m \u001b[43mconn\u001b[49m\u001b[38;5;241;43m.\u001b[39;49m\u001b[43murlopen\u001b[49m\u001b[43m(\u001b[49m\n\u001b[1;32m    490\u001b[0m \u001b[43m        \u001b[49m\u001b[43mmethod\u001b[49m\u001b[38;5;241;43m=\u001b[39;49m\u001b[43mrequest\u001b[49m\u001b[38;5;241;43m.\u001b[39;49m\u001b[43mmethod\u001b[49m\u001b[43m,\u001b[49m\n\u001b[1;32m    491\u001b[0m \u001b[43m        \u001b[49m\u001b[43murl\u001b[49m\u001b[38;5;241;43m=\u001b[39;49m\u001b[43murl\u001b[49m\u001b[43m,\u001b[49m\n\u001b[1;32m    492\u001b[0m \u001b[43m        \u001b[49m\u001b[43mbody\u001b[49m\u001b[38;5;241;43m=\u001b[39;49m\u001b[43mrequest\u001b[49m\u001b[38;5;241;43m.\u001b[39;49m\u001b[43mbody\u001b[49m\u001b[43m,\u001b[49m\n\u001b[1;32m    493\u001b[0m \u001b[43m        \u001b[49m\u001b[43mheaders\u001b[49m\u001b[38;5;241;43m=\u001b[39;49m\u001b[43mrequest\u001b[49m\u001b[38;5;241;43m.\u001b[39;49m\u001b[43mheaders\u001b[49m\u001b[43m,\u001b[49m\n\u001b[1;32m    494\u001b[0m \u001b[43m        \u001b[49m\u001b[43mredirect\u001b[49m\u001b[38;5;241;43m=\u001b[39;49m\u001b[38;5;28;43;01mFalse\u001b[39;49;00m\u001b[43m,\u001b[49m\n\u001b[1;32m    495\u001b[0m \u001b[43m        \u001b[49m\u001b[43massert_same_host\u001b[49m\u001b[38;5;241;43m=\u001b[39;49m\u001b[38;5;28;43;01mFalse\u001b[39;49;00m\u001b[43m,\u001b[49m\n\u001b[1;32m    496\u001b[0m \u001b[43m        \u001b[49m\u001b[43mpreload_content\u001b[49m\u001b[38;5;241;43m=\u001b[39;49m\u001b[38;5;28;43;01mFalse\u001b[39;49;00m\u001b[43m,\u001b[49m\n\u001b[1;32m    497\u001b[0m \u001b[43m        \u001b[49m\u001b[43mdecode_content\u001b[49m\u001b[38;5;241;43m=\u001b[39;49m\u001b[38;5;28;43;01mFalse\u001b[39;49;00m\u001b[43m,\u001b[49m\n\u001b[1;32m    498\u001b[0m \u001b[43m        \u001b[49m\u001b[43mretries\u001b[49m\u001b[38;5;241;43m=\u001b[39;49m\u001b[38;5;28;43mself\u001b[39;49m\u001b[38;5;241;43m.\u001b[39;49m\u001b[43mmax_retries\u001b[49m\u001b[43m,\u001b[49m\n\u001b[1;32m    499\u001b[0m \u001b[43m        \u001b[49m\u001b[43mtimeout\u001b[49m\u001b[38;5;241;43m=\u001b[39;49m\u001b[43mtimeout\u001b[49m\u001b[43m,\u001b[49m\n\u001b[1;32m    500\u001b[0m \u001b[43m    \u001b[49m\u001b[43m)\u001b[49m\n\u001b[1;32m    502\u001b[0m \u001b[38;5;66;03m# Send the request.\u001b[39;00m\n\u001b[1;32m    503\u001b[0m \u001b[38;5;28;01melse\u001b[39;00m:\n",
      "File \u001b[0;32m~/miniconda3/envs/ee/lib/python3.8/site-packages/urllib3/connectionpool.py:787\u001b[0m, in \u001b[0;36mHTTPConnectionPool.urlopen\u001b[0;34m(self, method, url, body, headers, retries, redirect, assert_same_host, timeout, pool_timeout, release_conn, chunked, body_pos, **response_kw)\u001b[0m\n\u001b[1;32m    785\u001b[0m     e \u001b[38;5;241m=\u001b[39m ProtocolError(\u001b[38;5;124m\"\u001b[39m\u001b[38;5;124mConnection aborted.\u001b[39m\u001b[38;5;124m\"\u001b[39m, e)\n\u001b[0;32m--> 787\u001b[0m retries \u001b[38;5;241m=\u001b[39m \u001b[43mretries\u001b[49m\u001b[38;5;241;43m.\u001b[39;49m\u001b[43mincrement\u001b[49m\u001b[43m(\u001b[49m\n\u001b[1;32m    788\u001b[0m \u001b[43m    \u001b[49m\u001b[43mmethod\u001b[49m\u001b[43m,\u001b[49m\u001b[43m \u001b[49m\u001b[43murl\u001b[49m\u001b[43m,\u001b[49m\u001b[43m \u001b[49m\u001b[43merror\u001b[49m\u001b[38;5;241;43m=\u001b[39;49m\u001b[43me\u001b[49m\u001b[43m,\u001b[49m\u001b[43m \u001b[49m\u001b[43m_pool\u001b[49m\u001b[38;5;241;43m=\u001b[39;49m\u001b[38;5;28;43mself\u001b[39;49m\u001b[43m,\u001b[49m\u001b[43m \u001b[49m\u001b[43m_stacktrace\u001b[49m\u001b[38;5;241;43m=\u001b[39;49m\u001b[43msys\u001b[49m\u001b[38;5;241;43m.\u001b[39;49m\u001b[43mexc_info\u001b[49m\u001b[43m(\u001b[49m\u001b[43m)\u001b[49m\u001b[43m[\u001b[49m\u001b[38;5;241;43m2\u001b[39;49m\u001b[43m]\u001b[49m\n\u001b[1;32m    789\u001b[0m \u001b[43m\u001b[49m\u001b[43m)\u001b[49m\n\u001b[1;32m    790\u001b[0m retries\u001b[38;5;241m.\u001b[39msleep()\n",
      "File \u001b[0;32m~/miniconda3/envs/ee/lib/python3.8/site-packages/urllib3/util/retry.py:550\u001b[0m, in \u001b[0;36mRetry.increment\u001b[0;34m(self, method, url, response, error, _pool, _stacktrace)\u001b[0m\n\u001b[1;32m    549\u001b[0m \u001b[38;5;28;01mif\u001b[39;00m read \u001b[38;5;129;01mis\u001b[39;00m \u001b[38;5;28;01mFalse\u001b[39;00m \u001b[38;5;129;01mor\u001b[39;00m \u001b[38;5;129;01mnot\u001b[39;00m \u001b[38;5;28mself\u001b[39m\u001b[38;5;241m.\u001b[39m_is_method_retryable(method):\n\u001b[0;32m--> 550\u001b[0m     \u001b[38;5;28;01mraise\u001b[39;00m \u001b[43msix\u001b[49m\u001b[38;5;241;43m.\u001b[39;49m\u001b[43mreraise\u001b[49m\u001b[43m(\u001b[49m\u001b[38;5;28;43mtype\u001b[39;49m\u001b[43m(\u001b[49m\u001b[43merror\u001b[49m\u001b[43m)\u001b[49m\u001b[43m,\u001b[49m\u001b[43m \u001b[49m\u001b[43merror\u001b[49m\u001b[43m,\u001b[49m\u001b[43m \u001b[49m\u001b[43m_stacktrace\u001b[49m\u001b[43m)\u001b[49m\n\u001b[1;32m    551\u001b[0m \u001b[38;5;28;01melif\u001b[39;00m read \u001b[38;5;129;01mis\u001b[39;00m \u001b[38;5;129;01mnot\u001b[39;00m \u001b[38;5;28;01mNone\u001b[39;00m:\n",
      "File \u001b[0;32m~/miniconda3/envs/ee/lib/python3.8/site-packages/urllib3/packages/six.py:770\u001b[0m, in \u001b[0;36mreraise\u001b[0;34m(tp, value, tb)\u001b[0m\n\u001b[1;32m    769\u001b[0m         \u001b[38;5;28;01mraise\u001b[39;00m value\u001b[38;5;241m.\u001b[39mwith_traceback(tb)\n\u001b[0;32m--> 770\u001b[0m     \u001b[38;5;28;01mraise\u001b[39;00m value\n\u001b[1;32m    771\u001b[0m \u001b[38;5;28;01mfinally\u001b[39;00m:\n",
      "File \u001b[0;32m~/miniconda3/envs/ee/lib/python3.8/site-packages/urllib3/connectionpool.py:703\u001b[0m, in \u001b[0;36mHTTPConnectionPool.urlopen\u001b[0;34m(self, method, url, body, headers, retries, redirect, assert_same_host, timeout, pool_timeout, release_conn, chunked, body_pos, **response_kw)\u001b[0m\n\u001b[1;32m    702\u001b[0m \u001b[38;5;66;03m# Make the request on the httplib connection object.\u001b[39;00m\n\u001b[0;32m--> 703\u001b[0m httplib_response \u001b[38;5;241m=\u001b[39m \u001b[38;5;28;43mself\u001b[39;49m\u001b[38;5;241;43m.\u001b[39;49m\u001b[43m_make_request\u001b[49m\u001b[43m(\u001b[49m\n\u001b[1;32m    704\u001b[0m \u001b[43m    \u001b[49m\u001b[43mconn\u001b[49m\u001b[43m,\u001b[49m\n\u001b[1;32m    705\u001b[0m \u001b[43m    \u001b[49m\u001b[43mmethod\u001b[49m\u001b[43m,\u001b[49m\n\u001b[1;32m    706\u001b[0m \u001b[43m    \u001b[49m\u001b[43murl\u001b[49m\u001b[43m,\u001b[49m\n\u001b[1;32m    707\u001b[0m \u001b[43m    \u001b[49m\u001b[43mtimeout\u001b[49m\u001b[38;5;241;43m=\u001b[39;49m\u001b[43mtimeout_obj\u001b[49m\u001b[43m,\u001b[49m\n\u001b[1;32m    708\u001b[0m \u001b[43m    \u001b[49m\u001b[43mbody\u001b[49m\u001b[38;5;241;43m=\u001b[39;49m\u001b[43mbody\u001b[49m\u001b[43m,\u001b[49m\n\u001b[1;32m    709\u001b[0m \u001b[43m    \u001b[49m\u001b[43mheaders\u001b[49m\u001b[38;5;241;43m=\u001b[39;49m\u001b[43mheaders\u001b[49m\u001b[43m,\u001b[49m\n\u001b[1;32m    710\u001b[0m \u001b[43m    \u001b[49m\u001b[43mchunked\u001b[49m\u001b[38;5;241;43m=\u001b[39;49m\u001b[43mchunked\u001b[49m\u001b[43m,\u001b[49m\n\u001b[1;32m    711\u001b[0m \u001b[43m\u001b[49m\u001b[43m)\u001b[49m\n\u001b[1;32m    713\u001b[0m \u001b[38;5;66;03m# If we're going to release the connection in ``finally:``, then\u001b[39;00m\n\u001b[1;32m    714\u001b[0m \u001b[38;5;66;03m# the response doesn't need to know about the connection. Otherwise\u001b[39;00m\n\u001b[1;32m    715\u001b[0m \u001b[38;5;66;03m# it will also try to release it and we'll have a double-release\u001b[39;00m\n\u001b[1;32m    716\u001b[0m \u001b[38;5;66;03m# mess.\u001b[39;00m\n",
      "File \u001b[0;32m~/miniconda3/envs/ee/lib/python3.8/site-packages/urllib3/connectionpool.py:451\u001b[0m, in \u001b[0;36mHTTPConnectionPool._make_request\u001b[0;34m(self, conn, method, url, timeout, chunked, **httplib_request_kw)\u001b[0m\n\u001b[1;32m    450\u001b[0m \u001b[38;5;28;01mexcept\u001b[39;00m (SocketTimeout, BaseSSLError, SocketError) \u001b[38;5;28;01mas\u001b[39;00m e:\n\u001b[0;32m--> 451\u001b[0m     \u001b[38;5;28;43mself\u001b[39;49m\u001b[38;5;241;43m.\u001b[39;49m\u001b[43m_raise_timeout\u001b[49m\u001b[43m(\u001b[49m\u001b[43merr\u001b[49m\u001b[38;5;241;43m=\u001b[39;49m\u001b[43me\u001b[49m\u001b[43m,\u001b[49m\u001b[43m \u001b[49m\u001b[43murl\u001b[49m\u001b[38;5;241;43m=\u001b[39;49m\u001b[43murl\u001b[49m\u001b[43m,\u001b[49m\u001b[43m \u001b[49m\u001b[43mtimeout_value\u001b[49m\u001b[38;5;241;43m=\u001b[39;49m\u001b[43mread_timeout\u001b[49m\u001b[43m)\u001b[49m\n\u001b[1;32m    452\u001b[0m     \u001b[38;5;28;01mraise\u001b[39;00m\n",
      "File \u001b[0;32m~/miniconda3/envs/ee/lib/python3.8/site-packages/urllib3/connectionpool.py:340\u001b[0m, in \u001b[0;36mHTTPConnectionPool._raise_timeout\u001b[0;34m(self, err, url, timeout_value)\u001b[0m\n\u001b[1;32m    339\u001b[0m \u001b[38;5;28;01mif\u001b[39;00m \u001b[38;5;28misinstance\u001b[39m(err, SocketTimeout):\n\u001b[0;32m--> 340\u001b[0m     \u001b[38;5;28;01mraise\u001b[39;00m ReadTimeoutError(\n\u001b[1;32m    341\u001b[0m         \u001b[38;5;28mself\u001b[39m, url, \u001b[38;5;124m\"\u001b[39m\u001b[38;5;124mRead timed out. (read timeout=\u001b[39m\u001b[38;5;132;01m%s\u001b[39;00m\u001b[38;5;124m)\u001b[39m\u001b[38;5;124m\"\u001b[39m \u001b[38;5;241m%\u001b[39m timeout_value\n\u001b[1;32m    342\u001b[0m     )\n\u001b[1;32m    344\u001b[0m \u001b[38;5;66;03m# See the above comment about EAGAIN in Python 3. In Python 2 we have\u001b[39;00m\n\u001b[1;32m    345\u001b[0m \u001b[38;5;66;03m# to specifically catch it and throw the timeout error\u001b[39;00m\n",
      "\u001b[0;31mReadTimeoutError\u001b[0m: HTTPSConnectionPool(host='earthengine.googleapis.com', port=443): Read timed out. (read timeout=120)",
      "\nDuring handling of the above exception, another exception occurred:\n",
      "\u001b[0;31mReadTimeout\u001b[0m                               Traceback (most recent call last)",
      "Cell \u001b[0;32mIn[37], line 3\u001b[0m\n\u001b[1;32m      1\u001b[0m \u001b[38;5;66;03m# load_gcs_cogs_to_collection(cogs, project_folder, 's1_2022_v20230326')\u001b[39;00m\n\u001b[1;32m      2\u001b[0m \u001b[38;5;66;03m# load_gcs_cogs_to_collection(cogs, project_folder, 's2_sr_2019_2023_gMedian_v20240710')\u001b[39;00m\n\u001b[0;32m----> 3\u001b[0m \u001b[43mload_gcs_cogs_to_collection\u001b[49m\u001b[43m(\u001b[49m\u001b[43mcogs\u001b[49m\u001b[43m,\u001b[49m\u001b[43m \u001b[49m\u001b[43mproject_folder\u001b[49m\u001b[43m,\u001b[49m\u001b[43m \u001b[49m\u001b[38;5;124;43m'\u001b[39;49m\u001b[38;5;124;43ms2_sr_2019_2023_gMedian_v20240713d\u001b[39;49m\u001b[38;5;124;43m'\u001b[39;49m\u001b[43m)\u001b[49m\n",
      "Cell \u001b[0;32mIn[36], line 39\u001b[0m, in \u001b[0;36mload_gcs_cogs_to_collection\u001b[0;34m(cogs, project_folder, collection)\u001b[0m\n\u001b[1;32m     36\u001b[0m   url \u001b[38;5;241m=\u001b[39m \u001b[38;5;124m'\u001b[39m\u001b[38;5;124mhttps://earthengine.googleapis.com/v1alpha/projects/\u001b[39m\u001b[38;5;132;01m{}\u001b[39;00m\u001b[38;5;124m/assets?assetId=\u001b[39m\u001b[38;5;132;01m{}\u001b[39;00m\u001b[38;5;124m'\u001b[39m\n\u001b[1;32m     37\u001b[0m   \u001b[38;5;66;03m# print(url)\u001b[39;00m\n\u001b[0;32m---> 39\u001b[0m   response \u001b[38;5;241m=\u001b[39m \u001b[43msession\u001b[49m\u001b[38;5;241;43m.\u001b[39;49m\u001b[43mpost\u001b[49m\u001b[43m(\u001b[49m\n\u001b[1;32m     40\u001b[0m \u001b[43m    \u001b[49m\u001b[43murl\u001b[49m\u001b[43m \u001b[49m\u001b[38;5;241;43m=\u001b[39;49m\u001b[43m \u001b[49m\u001b[43murl\u001b[49m\u001b[38;5;241;43m.\u001b[39;49m\u001b[43mformat\u001b[49m\u001b[43m(\u001b[49m\u001b[43mproject_folder\u001b[49m\u001b[43m,\u001b[49m\u001b[43m \u001b[49m\u001b[43masset_id\u001b[49m\u001b[43m)\u001b[49m\u001b[43m,\u001b[49m\n\u001b[1;32m     41\u001b[0m \u001b[43m    \u001b[49m\u001b[43mdata\u001b[49m\u001b[43m \u001b[49m\u001b[38;5;241;43m=\u001b[39;49m\u001b[43m \u001b[49m\u001b[43mjson\u001b[49m\u001b[38;5;241;43m.\u001b[39;49m\u001b[43mdumps\u001b[49m\u001b[43m(\u001b[49m\u001b[43mrequest\u001b[49m\u001b[43m)\u001b[49m\n\u001b[1;32m     42\u001b[0m \u001b[43m  \u001b[49m\u001b[43m)\u001b[49m\n\u001b[1;32m     44\u001b[0m   \u001b[38;5;66;03m# pprint(json.loads(response.content))\u001b[39;00m\n\u001b[1;32m     45\u001b[0m \u001b[38;5;28mprint\u001b[39m(\u001b[38;5;124m'\u001b[39m\u001b[38;5;124mdone\u001b[39m\u001b[38;5;124m'\u001b[39m)\n",
      "File \u001b[0;32m~/miniconda3/envs/ee/lib/python3.8/site-packages/requests/sessions.py:635\u001b[0m, in \u001b[0;36mSession.post\u001b[0;34m(self, url, data, json, **kwargs)\u001b[0m\n\u001b[1;32m    624\u001b[0m \u001b[38;5;28;01mdef\u001b[39;00m \u001b[38;5;21mpost\u001b[39m(\u001b[38;5;28mself\u001b[39m, url, data\u001b[38;5;241m=\u001b[39m\u001b[38;5;28;01mNone\u001b[39;00m, json\u001b[38;5;241m=\u001b[39m\u001b[38;5;28;01mNone\u001b[39;00m, \u001b[38;5;241m*\u001b[39m\u001b[38;5;241m*\u001b[39mkwargs):\n\u001b[1;32m    625\u001b[0m \u001b[38;5;250m    \u001b[39m\u001b[38;5;124mr\u001b[39m\u001b[38;5;124;03m\"\"\"Sends a POST request. Returns :class:`Response` object.\u001b[39;00m\n\u001b[1;32m    626\u001b[0m \n\u001b[1;32m    627\u001b[0m \u001b[38;5;124;03m    :param url: URL for the new :class:`Request` object.\u001b[39;00m\n\u001b[0;32m   (...)\u001b[0m\n\u001b[1;32m    632\u001b[0m \u001b[38;5;124;03m    :rtype: requests.Response\u001b[39;00m\n\u001b[1;32m    633\u001b[0m \u001b[38;5;124;03m    \"\"\"\u001b[39;00m\n\u001b[0;32m--> 635\u001b[0m     \u001b[38;5;28;01mreturn\u001b[39;00m \u001b[38;5;28;43mself\u001b[39;49m\u001b[38;5;241;43m.\u001b[39;49m\u001b[43mrequest\u001b[49m\u001b[43m(\u001b[49m\u001b[38;5;124;43m\"\u001b[39;49m\u001b[38;5;124;43mPOST\u001b[39;49m\u001b[38;5;124;43m\"\u001b[39;49m\u001b[43m,\u001b[49m\u001b[43m \u001b[49m\u001b[43murl\u001b[49m\u001b[43m,\u001b[49m\u001b[43m \u001b[49m\u001b[43mdata\u001b[49m\u001b[38;5;241;43m=\u001b[39;49m\u001b[43mdata\u001b[49m\u001b[43m,\u001b[49m\u001b[43m \u001b[49m\u001b[43mjson\u001b[49m\u001b[38;5;241;43m=\u001b[39;49m\u001b[43mjson\u001b[49m\u001b[43m,\u001b[49m\u001b[43m \u001b[49m\u001b[38;5;241;43m*\u001b[39;49m\u001b[38;5;241;43m*\u001b[39;49m\u001b[43mkwargs\u001b[49m\u001b[43m)\u001b[49m\n",
      "File \u001b[0;32m~/miniconda3/envs/ee/lib/python3.8/site-packages/google/auth/transport/requests.py:549\u001b[0m, in \u001b[0;36mAuthorizedSession.request\u001b[0;34m(self, method, url, data, headers, max_allowed_time, timeout, **kwargs)\u001b[0m\n\u001b[1;32m    546\u001b[0m remaining_time \u001b[38;5;241m=\u001b[39m guard\u001b[38;5;241m.\u001b[39mremaining_timeout\n\u001b[1;32m    548\u001b[0m \u001b[38;5;28;01mwith\u001b[39;00m TimeoutGuard(remaining_time) \u001b[38;5;28;01mas\u001b[39;00m guard:\n\u001b[0;32m--> 549\u001b[0m     response \u001b[38;5;241m=\u001b[39m \u001b[38;5;28;43msuper\u001b[39;49m\u001b[43m(\u001b[49m\u001b[43mAuthorizedSession\u001b[49m\u001b[43m,\u001b[49m\u001b[43m \u001b[49m\u001b[38;5;28;43mself\u001b[39;49m\u001b[43m)\u001b[49m\u001b[38;5;241;43m.\u001b[39;49m\u001b[43mrequest\u001b[49m\u001b[43m(\u001b[49m\n\u001b[1;32m    550\u001b[0m \u001b[43m        \u001b[49m\u001b[43mmethod\u001b[49m\u001b[43m,\u001b[49m\n\u001b[1;32m    551\u001b[0m \u001b[43m        \u001b[49m\u001b[43murl\u001b[49m\u001b[43m,\u001b[49m\n\u001b[1;32m    552\u001b[0m \u001b[43m        \u001b[49m\u001b[43mdata\u001b[49m\u001b[38;5;241;43m=\u001b[39;49m\u001b[43mdata\u001b[49m\u001b[43m,\u001b[49m\n\u001b[1;32m    553\u001b[0m \u001b[43m        \u001b[49m\u001b[43mheaders\u001b[49m\u001b[38;5;241;43m=\u001b[39;49m\u001b[43mrequest_headers\u001b[49m\u001b[43m,\u001b[49m\n\u001b[1;32m    554\u001b[0m \u001b[43m        \u001b[49m\u001b[43mtimeout\u001b[49m\u001b[38;5;241;43m=\u001b[39;49m\u001b[43mtimeout\u001b[49m\u001b[43m,\u001b[49m\n\u001b[1;32m    555\u001b[0m \u001b[43m        \u001b[49m\u001b[38;5;241;43m*\u001b[39;49m\u001b[38;5;241;43m*\u001b[39;49m\u001b[43mkwargs\u001b[49m\n\u001b[1;32m    556\u001b[0m \u001b[43m    \u001b[49m\u001b[43m)\u001b[49m\n\u001b[1;32m    557\u001b[0m remaining_time \u001b[38;5;241m=\u001b[39m guard\u001b[38;5;241m.\u001b[39mremaining_timeout\n\u001b[1;32m    559\u001b[0m \u001b[38;5;66;03m# If the response indicated that the credentials needed to be\u001b[39;00m\n\u001b[1;32m    560\u001b[0m \u001b[38;5;66;03m# refreshed, then refresh the credentials and re-attempt the\u001b[39;00m\n\u001b[1;32m    561\u001b[0m \u001b[38;5;66;03m# request.\u001b[39;00m\n\u001b[1;32m    562\u001b[0m \u001b[38;5;66;03m# A stored token may expire between the time it is retrieved and\u001b[39;00m\n\u001b[1;32m    563\u001b[0m \u001b[38;5;66;03m# the time the request is made, so we may need to try twice.\u001b[39;00m\n",
      "File \u001b[0;32m~/miniconda3/envs/ee/lib/python3.8/site-packages/requests/sessions.py:587\u001b[0m, in \u001b[0;36mSession.request\u001b[0;34m(self, method, url, params, data, headers, cookies, files, auth, timeout, allow_redirects, proxies, hooks, stream, verify, cert, json)\u001b[0m\n\u001b[1;32m    582\u001b[0m send_kwargs \u001b[38;5;241m=\u001b[39m {\n\u001b[1;32m    583\u001b[0m     \u001b[38;5;124m\"\u001b[39m\u001b[38;5;124mtimeout\u001b[39m\u001b[38;5;124m\"\u001b[39m: timeout,\n\u001b[1;32m    584\u001b[0m     \u001b[38;5;124m\"\u001b[39m\u001b[38;5;124mallow_redirects\u001b[39m\u001b[38;5;124m\"\u001b[39m: allow_redirects,\n\u001b[1;32m    585\u001b[0m }\n\u001b[1;32m    586\u001b[0m send_kwargs\u001b[38;5;241m.\u001b[39mupdate(settings)\n\u001b[0;32m--> 587\u001b[0m resp \u001b[38;5;241m=\u001b[39m \u001b[38;5;28;43mself\u001b[39;49m\u001b[38;5;241;43m.\u001b[39;49m\u001b[43msend\u001b[49m\u001b[43m(\u001b[49m\u001b[43mprep\u001b[49m\u001b[43m,\u001b[49m\u001b[43m \u001b[49m\u001b[38;5;241;43m*\u001b[39;49m\u001b[38;5;241;43m*\u001b[39;49m\u001b[43msend_kwargs\u001b[49m\u001b[43m)\u001b[49m\n\u001b[1;32m    589\u001b[0m \u001b[38;5;28;01mreturn\u001b[39;00m resp\n",
      "File \u001b[0;32m~/miniconda3/envs/ee/lib/python3.8/site-packages/requests/sessions.py:701\u001b[0m, in \u001b[0;36mSession.send\u001b[0;34m(self, request, **kwargs)\u001b[0m\n\u001b[1;32m    698\u001b[0m start \u001b[38;5;241m=\u001b[39m preferred_clock()\n\u001b[1;32m    700\u001b[0m \u001b[38;5;66;03m# Send the request\u001b[39;00m\n\u001b[0;32m--> 701\u001b[0m r \u001b[38;5;241m=\u001b[39m \u001b[43madapter\u001b[49m\u001b[38;5;241;43m.\u001b[39;49m\u001b[43msend\u001b[49m\u001b[43m(\u001b[49m\u001b[43mrequest\u001b[49m\u001b[43m,\u001b[49m\u001b[43m \u001b[49m\u001b[38;5;241;43m*\u001b[39;49m\u001b[38;5;241;43m*\u001b[39;49m\u001b[43mkwargs\u001b[49m\u001b[43m)\u001b[49m\n\u001b[1;32m    703\u001b[0m \u001b[38;5;66;03m# Total elapsed time of the request (approximately)\u001b[39;00m\n\u001b[1;32m    704\u001b[0m elapsed \u001b[38;5;241m=\u001b[39m preferred_clock() \u001b[38;5;241m-\u001b[39m start\n",
      "File \u001b[0;32m~/miniconda3/envs/ee/lib/python3.8/site-packages/requests/adapters.py:578\u001b[0m, in \u001b[0;36mHTTPAdapter.send\u001b[0;34m(self, request, stream, timeout, verify, cert, proxies)\u001b[0m\n\u001b[1;32m    576\u001b[0m     \u001b[38;5;28;01mraise\u001b[39;00m SSLError(e, request\u001b[38;5;241m=\u001b[39mrequest)\n\u001b[1;32m    577\u001b[0m \u001b[38;5;28;01melif\u001b[39;00m \u001b[38;5;28misinstance\u001b[39m(e, ReadTimeoutError):\n\u001b[0;32m--> 578\u001b[0m     \u001b[38;5;28;01mraise\u001b[39;00m ReadTimeout(e, request\u001b[38;5;241m=\u001b[39mrequest)\n\u001b[1;32m    579\u001b[0m \u001b[38;5;28;01melif\u001b[39;00m \u001b[38;5;28misinstance\u001b[39m(e, _InvalidHeader):\n\u001b[1;32m    580\u001b[0m     \u001b[38;5;28;01mraise\u001b[39;00m InvalidHeader(e, request\u001b[38;5;241m=\u001b[39mrequest)\n",
      "\u001b[0;31mReadTimeout\u001b[0m: HTTPSConnectionPool(host='earthengine.googleapis.com', port=443): Read timed out. (read timeout=120)"
     ]
    }
   ],
   "source": [
    "# load_gcs_cogs_to_collection(cogs, project_folder, 's1_2022_v20230326')\n",
    "# load_gcs_cogs_to_collection(cogs, project_folder, 's2_sr_2019_2023_gMedian_v20240710')\n",
    "load_gcs_cogs_to_collection(cogs, project_folder, 's2_sr_2019_2023_gMedian_v20240713d')\n"
   ]
  },
  {
   "cell_type": "markdown",
   "metadata": {
    "jp-MarkdownHeadingCollapsed": true,
    "scrolled": true
   },
   "source": [
    "## Cleanup existing imageCollection, if needed\n",
    "\n",
    "imageCollections cannot be deleted until all images inside them are deleted. For a cloud-backed image collection with hundreds or thousands of tiles, this can take a while\n",
    "\n",
    "bash earthengine CLI\n",
    "```\n",
    "for i in `earthengine ls projects/akveg-map/assets/s2_sr_2019_2023_gMedian_v20240713d`; do earthengine rm $i; done\n",
    "# earthengine rm projects/akveg-map/assets/s2_2019_2023_gMedian_v20240311\n",
    "```"
   ]
  }
 ],
 "metadata": {
  "colab": {
   "private_outputs": true,
   "provenance": [
    {
     "file_id": "https://github.com/google/earthengine-api/blob/master/python/examples/ipynb/Earth_Engine_asset_from_cloud_geotiff.ipynb",
     "timestamp": 1679435372011
    },
    {
     "file_id": "https://github.com/google/earthengine-api/blob/master/python/examples/ipynb/Earth_Engine_asset_from_cloud_geotiff.ipynb",
     "timestamp": 1655816119626
    },
    {
     "file_id": "1f_rRBTQVKbPVhaoRRsSWUlBtBgnZkiTz",
     "timestamp": 1590793341638
    }
   ],
   "toc_visible": true
  },
  "kernelspec": {
   "display_name": "ee",
   "language": "python",
   "name": "ee"
  },
  "language_info": {
   "codemirror_mode": {
    "name": "ipython",
    "version": 3
   },
   "file_extension": ".py",
   "mimetype": "text/x-python",
   "name": "python",
   "nbconvert_exporter": "python",
   "pygments_lexer": "ipython3",
   "version": "3.8.16"
  }
 },
 "nbformat": 4,
 "nbformat_minor": 4
}
