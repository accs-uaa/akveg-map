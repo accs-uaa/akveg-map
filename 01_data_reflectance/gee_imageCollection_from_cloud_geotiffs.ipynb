{
 "cells": [
  {
   "cell_type": "markdown",
   "metadata": {
    "id": "fSIfBsgi8dNK"
   },
   "source": [
    "(https://developers.google.com/earth-engine/Earth_Engine_asset_from_cloud_geotiff)"
   ]
  },
  {
   "cell_type": "markdown",
   "metadata": {},
   "source": [
    "Latest S2 composites (2019-2023 seasonal composites) version is v2024-03-11\n",
    "\n",
    "GEE script: [https://code.earthengine.google.com/f7ccb6d08f9f201c2f09d6433719433e] (snapshot)\n",
    "\n",
    "[https://code.earthengine.google.com/?scriptPath=users%2Fmmacander%2Fakveg_map%3Asentinel_2%2Fs2_medians_v20240311] (script path in GEE)\n",
    "\n",
    "Visualize results after creating the Cloud GeoTiff Backed Earth Engine Assets with this viz script:\n",
    "\n",
    "[https://code.earthengine.google.com/?scriptPath=users%2Fmmacander%2Fakveg_map%3Asentinel_2%2Fs2_viz]\n",
    "\n",
    "v2024-03-11 has much reduced snow contamination in early season composites. Currently, we use fire polygons for 2019-2023 to mask input imagery that was acquired the year of or before a fire. So where a 2020 fire is mapped in the fire perimeter polygon data, only 2021-2023 data is included in the composites. This should make the composites represent the current condition (after the fire). Problems with this approach are that for training, we may prefer the pre-fire conditions. Also, fires in 2023 will have no image because it is all masked. The script currently falls back to a non-seasonal full snow-free season composite when there is insufficient data available but this is not desirable behavior for 2023 firescars.\n",
    "\n",
    "Better would be to save pre- and post-fire composite imagery for the 2019-2023 firescar footprints. "
   ]
  },
  {
   "cell_type": "markdown",
   "metadata": {
    "id": "CrEM35gqHouU",
    "jp-MarkdownHeadingCollapsed": true
   },
   "source": [
    "# Cloud GeoTiff Backed Earth Engine Assets\n",
    "\n",
    "***Note:*** *The REST API contains new and advanced features that may not be suitable for all users.  If you are new to Earth Engine, please get started with the [JavaScript guide](https://developers.google.com/earth-engine/guides/getstarted).*\n",
    "\n",
    "Earth Engine can load images from Cloud Optimized GeoTiffs (COGs) in Google Cloud Storage ([learn more](https://developers.google.com/earth-engine/guides/image_overview#images-from-cloud-geotiffs)).  This notebook demonstrates how to create Earth Engine assets backed by COGs.  An advantage of COG-backed assets is that the spatial and metadata fields of the image will be indexed at asset creation time, making the image more performant in collections.  (In contrast, an image created through `ee.Image.loadGeoTIFF` and put into a collection will require a read of the GeoTiff for filtering operations on the collection.)  A disadvantage of COG-backed assets is that they may be several times slower than standard assets when used in computations.\n",
    "\n",
    "To create a COG-backed asset, make a `POST` request to the Earth Engine [`CreateAsset` endpoint](https://developers.google.com/earth-engine/reference/rest/v1alpha/projects.assets/create).  As shown in the following, this request must be authorized to create an asset in your user folder."
   ]
  },
  {
   "cell_type": "markdown",
   "metadata": {
    "id": "fmxat3ujhwGx"
   },
   "source": [
    "## Start an authorized session\n",
    "\n",
    "To be able to make an Earth Engine asset in your user folder, you need to be able to authenticate as yourself when you make the request.  You can use credentials from the Earth Engine authenticator to start an [`AuthorizedSession`](https://google-auth.readthedocs.io/en/master/reference/google.auth.transport.requests.html#google.auth.transport.requests.AuthorizedSession).  You can then use the `AuthorizedSession` to send requests to Earth Engine."
   ]
  },
  {
   "cell_type": "code",
   "execution_count": 65,
   "metadata": {
    "id": "qVu8GhINwYfO"
   },
   "outputs": [
    {
     "data": {
      "text/html": [
       "<p>To authorize access needed by Earth Engine, open the following\n",
       "        URL in a web browser and follow the instructions:</p>\n",
       "        <p><a href=https://code.earthengine.google.com/client-auth?scopes=https%3A//www.googleapis.com/auth/earthengine%20https%3A//www.googleapis.com/auth/devstorage.full_control&request_id=tBpWS1cBu1Hs6BSMjGtgEzYBjHB2RfNM30tOsfUh_wM&tc=EnVRNjsw1VU_70KcIbiMc_HXY7ogQWwzrsn0yBzvA5w&cc=dYnBApEjx06_sT6m53Kh2c-eAi7yJ6mEbBPOVVcjZiM>https://code.earthengine.google.com/client-auth?scopes=https%3A//www.googleapis.com/auth/earthengine%20https%3A//www.googleapis.com/auth/devstorage.full_control&request_id=tBpWS1cBu1Hs6BSMjGtgEzYBjHB2RfNM30tOsfUh_wM&tc=EnVRNjsw1VU_70KcIbiMc_HXY7ogQWwzrsn0yBzvA5w&cc=dYnBApEjx06_sT6m53Kh2c-eAi7yJ6mEbBPOVVcjZiM</a></p>\n",
       "        <p>The authorization workflow will generate a code, which you should paste in the box below.</p>\n",
       "        "
      ],
      "text/plain": [
       "<IPython.core.display.HTML object>"
      ]
     },
     "metadata": {},
     "output_type": "display_data"
    },
    {
     "name": "stdin",
     "output_type": "stream",
     "text": [
      "Enter verification code:  4/1AeaYSHB6eW-jvfleRbC1-wjkVwkce7Rj2bNRaMe9481whOeq_qgvQ2HYu8w\n"
     ]
    },
    {
     "name": "stdout",
     "output_type": "stream",
     "text": [
      "\n",
      "Successfully saved authorization token.\n"
     ]
    }
   ],
   "source": [
    "import ee\n",
    "from google.auth.transport.requests import AuthorizedSession\n",
    "\n",
    "ee.Authenticate()  #  or !earthengine authenticate --auth_mode=gcloud\n",
    "session = AuthorizedSession(ee.data.get_persistent_credentials())"
   ]
  },
  {
   "cell_type": "markdown",
   "metadata": {
    "scrolled": true
   },
   "source": [
    "## Cleanup existing imageCollection, if needed\n",
    "\n",
    "imageCollections cannot be deleted until all images inside them are deleted. For a cloud-backed image collection with hundreds or thousands of tiles, this can take a while\n",
    "\n",
    "bash earthengine CLI\n",
    "```\n",
    "for i in `earthengine ls projects/akveg-map/assets/s2_2019_2023_gMedian_v20240311`; do earthengine rm $i; done\n",
    "earthengine rm projects/akveg-map/assets/s2_2019_2023_gMedian_v20240311\n",
    "```"
   ]
  },
  {
   "cell_type": "markdown",
   "metadata": {},
   "source": [
    "## Create list of cloud geotiffs\n",
    "Create list of cogs in a bucket folder to load into an imageCollection\n",
    "\n",
    "Bash in conda env with gsutil and earthengine command line"
   ]
  },
  {
   "cell_type": "markdown",
   "metadata": {
    "id": "xji-zRGyKEzN"
   },
   "source": [
    "```\n",
    "cd /data/gis/gis_projects/2024/24-224_Land_Cover_Metrics_Susitna_Wolf/sentinel2_gMedian\n",
    "\n",
    "gsutil ls gs://akveg-data/s2_sr_2019_2023_gMedian_v20240311/*.tif > s2_cogs_v20240311.txt\n",
    "```"
   ]
  },
  {
   "cell_type": "markdown",
   "metadata": {},
   "source": [
    "## Open list of geotiffs to ingest"
   ]
  },
  {
   "cell_type": "code",
   "execution_count": 66,
   "metadata": {},
   "outputs": [
    {
     "name": "stdout",
     "output_type": "stream",
     "text": [
      "                                                 tif\n",
      "0  gs://akveg-data/s2_sr_2019_2023_gMedian_v20240...\n",
      "1  gs://akveg-data/s2_sr_2019_2023_gMedian_v20240...\n",
      "35\n"
     ]
    }
   ],
   "source": [
    "import pandas\n",
    "cogs = pandas.read_csv('/data/gis/gis_projects/2024/24-224_Land_Cover_Metrics_Susitna_Wolf/sentinel2_gMedian/s2_cogs_v20240311.txt', header=None,names=['tif'])\n",
    "print(cogs[0:2])\n",
    "print(len(cogs.index))\n"
   ]
  },
  {
   "cell_type": "markdown",
   "metadata": {},
   "source": [
    "## Setup parameters"
   ]
  },
  {
   "cell_type": "code",
   "execution_count": 67,
   "metadata": {
    "id": "OGESPnfEvqVq"
   },
   "outputs": [],
   "source": [
    "import json\n",
    "# from urllib.parse import urlparse\n",
    "import os\n",
    "from pprint import pprint\n",
    "\n",
    "# Earth Engine enabled Cloud Project.\n",
    "project_folder = 'akveg-map'\n",
    "collection = 's2_sr_2019_2023_geometricMedian_v20240311'"
   ]
  },
  {
   "cell_type": "markdown",
   "metadata": {},
   "source": [
    "## Create empty image collection as target\n",
    "TODO Automate creation of empty image collection.\n",
    "\n",
    "For now, manually create empty image collection with earthengine CLI"
   ]
  },
  {
   "cell_type": "markdown",
   "metadata": {},
   "source": [
    "```\n",
    "earthengine create collection projects/akveg-map/assets/s2_sr_2019_2023_gMedian_v20240311\n",
    "```"
   ]
  },
  {
   "cell_type": "markdown",
   "metadata": {},
   "source": [
    "## View list of cogs to ingest (skip when list is long)"
   ]
  },
  {
   "cell_type": "code",
   "execution_count": 68,
   "metadata": {},
   "outputs": [
    {
     "name": "stdout",
     "output_type": "stream",
     "text": [
      "gs://akveg-data/s2_sr_2019_2023_gMedian_v20240311/s2_sr_2019_2023_gMedian_AK050H01V31_all_v20240311.tif\n",
      "gs://akveg-data/s2_sr_2019_2023_gMedian_v20240311/s2_sr_2019_2023_gMedian_AK050H01V32_all_v20240311.tif\n",
      "gs://akveg-data/s2_sr_2019_2023_gMedian_v20240311/s2_sr_2019_2023_gMedian_AK050H01V33_all_v20240311.tif\n",
      "gs://akveg-data/s2_sr_2019_2023_gMedian_v20240311/s2_sr_2019_2023_gMedian_AK050H02V31_all_v20240311.tif\n",
      "gs://akveg-data/s2_sr_2019_2023_gMedian_v20240311/s2_sr_2019_2023_gMedian_AK050H02V32_all_v20240311.tif\n",
      "gs://akveg-data/s2_sr_2019_2023_gMedian_v20240311/s2_sr_2019_2023_gMedian_AK050H02V33_all_v20240311.tif\n",
      "gs://akveg-data/s2_sr_2019_2023_gMedian_v20240311/s2_sr_2019_2023_gMedian_AK050H03V32_all_v20240311.tif\n",
      "gs://akveg-data/s2_sr_2019_2023_gMedian_v20240311/s2_sr_2019_2023_gMedian_AK050H03V33_all_v20240311.tif\n",
      "gs://akveg-data/s2_sr_2019_2023_gMedian_v20240311/s2_sr_2019_2023_gMedian_AK050H04V34_all_v20240311.tif\n",
      "gs://akveg-data/s2_sr_2019_2023_gMedian_v20240311/s2_sr_2019_2023_gMedian_AK050H05V34_all_v20240311.tif\n",
      "gs://akveg-data/s2_sr_2019_2023_gMedian_v20240311/s2_sr_2019_2023_gMedian_AK050H50V03_all_v20240311.tif\n",
      "gs://akveg-data/s2_sr_2019_2023_gMedian_v20240311/s2_sr_2019_2023_gMedian_AK050H50V04_all_v20240311.tif\n",
      "gs://akveg-data/s2_sr_2019_2023_gMedian_v20240311/s2_sr_2019_2023_gMedian_AK050H50V05_all_v20240311.tif\n",
      "gs://akveg-data/s2_sr_2019_2023_gMedian_v20240311/s2_sr_2019_2023_gMedian_AK050H50V06_all_v20240311.tif\n",
      "gs://akveg-data/s2_sr_2019_2023_gMedian_v20240311/s2_sr_2019_2023_gMedian_AK050H50V07_all_v20240311.tif\n",
      "gs://akveg-data/s2_sr_2019_2023_gMedian_v20240311/s2_sr_2019_2023_gMedian_AK050H50V08_all_v20240311.tif\n",
      "gs://akveg-data/s2_sr_2019_2023_gMedian_v20240311/s2_sr_2019_2023_gMedian_AK050H50V09_all_v20240311.tif\n",
      "gs://akveg-data/s2_sr_2019_2023_gMedian_v20240311/s2_sr_2019_2023_gMedian_AK050H50V10_all_v20240311.tif\n",
      "gs://akveg-data/s2_sr_2019_2023_gMedian_v20240311/s2_sr_2019_2023_gMedian_AK050H50V11_all_v20240311.tif\n",
      "gs://akveg-data/s2_sr_2019_2023_gMedian_v20240311/s2_sr_2019_2023_gMedian_AK050H50V12_all_v20240311.tif\n",
      "gs://akveg-data/s2_sr_2019_2023_gMedian_v20240311/s2_sr_2019_2023_gMedian_AK050H50V13_all_v20240311.tif\n",
      "gs://akveg-data/s2_sr_2019_2023_gMedian_v20240311/s2_sr_2019_2023_gMedian_AK050H50V14_all_v20240311.tif\n",
      "gs://akveg-data/s2_sr_2019_2023_gMedian_v20240311/s2_sr_2019_2023_gMedian_AK050H50V15_all_v20240311.tif\n",
      "gs://akveg-data/s2_sr_2019_2023_gMedian_v20240311/s2_sr_2019_2023_gMedian_AK050H50V16_all_v20240311.tif\n",
      "gs://akveg-data/s2_sr_2019_2023_gMedian_v20240311/s2_sr_2019_2023_gMedian_AK050H50V17_all_v20240311.tif\n",
      "gs://akveg-data/s2_sr_2019_2023_gMedian_v20240311/s2_sr_2019_2023_gMedian_AK050H50V18_all_v20240311.tif\n",
      "gs://akveg-data/s2_sr_2019_2023_gMedian_v20240311/s2_sr_2019_2023_gMedian_AK050H50V19_all_v20240311.tif\n",
      "gs://akveg-data/s2_sr_2019_2023_gMedian_v20240311/s2_sr_2019_2023_gMedian_AK050H50V20_all_v20240311.tif\n",
      "gs://akveg-data/s2_sr_2019_2023_gMedian_v20240311/s2_sr_2019_2023_gMedian_AK050H50V21_all_v20240311.tif\n",
      "gs://akveg-data/s2_sr_2019_2023_gMedian_v20240311/s2_sr_2019_2023_gMedian_AK050H50V22_all_v20240311.tif\n",
      "gs://akveg-data/s2_sr_2019_2023_gMedian_v20240311/s2_sr_2019_2023_gMedian_AK050H50V23_all_v20240311.tif\n",
      "gs://akveg-data/s2_sr_2019_2023_gMedian_v20240311/s2_sr_2019_2023_gMedian_AK050H50V24_all_v20240311.tif\n",
      "gs://akveg-data/s2_sr_2019_2023_gMedian_v20240311/s2_sr_2019_2023_gMedian_AK050H50V25_all_v20240311.tif\n",
      "gs://akveg-data/s2_sr_2019_2023_gMedian_v20240311/s2_sr_2019_2023_gMedian_AK050H50V26_all_v20240311.tif\n",
      "gs://akveg-data/s2_sr_2019_2023_gMedian_v20240311/s2_sr_2019_2023_gMedian_AK050H50V27_all_v20240311.tif\n"
     ]
    }
   ],
   "source": [
    "for cog in cogs['tif']:\n",
    "    print(cog)"
   ]
  },
  {
   "cell_type": "markdown",
   "metadata": {},
   "source": [
    "## Function to load list of gcs cogs to GEE imageCollection\n",
    "comment out pprint and most print except when troubleshooting"
   ]
  },
  {
   "cell_type": "code",
   "execution_count": 69,
   "metadata": {},
   "outputs": [],
   "source": [
    "def load_gcs_cogs_to_collection(cogs, project_folder, collection):\n",
    "    # Request body as a dictionary.\n",
    "    for cog in cogs['tif']:\n",
    "      fileOnly = os.path.split(cog)[1]\n",
    "      # print(fileOnly)\n",
    "\n",
    "      cogName = fileOnly[:-4]\n",
    "      print(cogName)\n",
    "      \n",
    "      parts = fileOnly.split('_')\n",
    "      # print(parts)\n",
    "      \n",
    "      season = parts[6]\n",
    "      # print(season)\n",
    "        \n",
    "      request = {\n",
    "        'type': 'IMAGE',\n",
    "        'gcs_location': {\n",
    "          'uris': cog\n",
    "        },\n",
    "        'properties': {\n",
    "        #   'source': 'https://code.earthengine.google.com/067b10ee56537817756a3177a9138aee',\n",
    "            'seasonName': season\n",
    "        },\n",
    "        'startTime': '2023-01-01T00:00:00.000000000Z',\n",
    "        'endTime': '2024-01-01T00:00:00.000000000Z',\n",
    "      }\n",
    "\n",
    "      # pprint(json.dumps(request))\n",
    "\n",
    "      # A folder (or ImageCollection) name and the new asset name.\n",
    "      asset_id = collection+'/'+cogName\n",
    "      # print(project_folder)\n",
    "      # print(asset_id)\n",
    "        \n",
    "      url = 'https://earthengine.googleapis.com/v1alpha/projects/{}/assets?assetId={}'\n",
    "      # print(url)\n",
    "\n",
    "      response = session.post(\n",
    "        url = url.format(project_folder, asset_id),\n",
    "        data = json.dumps(request)\n",
    "      )\n",
    "\n",
    "      # pprint(json.loads(response.content))\n",
    "    print('done')\n"
   ]
  },
  {
   "cell_type": "markdown",
   "metadata": {},
   "source": [
    "## Run it"
   ]
  },
  {
   "cell_type": "code",
   "execution_count": 70,
   "metadata": {
    "scrolled": true
   },
   "outputs": [
    {
     "name": "stdout",
     "output_type": "stream",
     "text": [
      "s2_sr_2019_2023_gMedian_AK050H01V31_all_v20240311\n",
      "s2_sr_2019_2023_gMedian_AK050H01V32_all_v20240311\n",
      "s2_sr_2019_2023_gMedian_AK050H01V33_all_v20240311\n",
      "s2_sr_2019_2023_gMedian_AK050H02V31_all_v20240311\n",
      "s2_sr_2019_2023_gMedian_AK050H02V32_all_v20240311\n",
      "s2_sr_2019_2023_gMedian_AK050H02V33_all_v20240311\n",
      "s2_sr_2019_2023_gMedian_AK050H03V32_all_v20240311\n",
      "s2_sr_2019_2023_gMedian_AK050H03V33_all_v20240311\n",
      "s2_sr_2019_2023_gMedian_AK050H04V34_all_v20240311\n",
      "s2_sr_2019_2023_gMedian_AK050H05V34_all_v20240311\n",
      "s2_sr_2019_2023_gMedian_AK050H50V03_all_v20240311\n",
      "s2_sr_2019_2023_gMedian_AK050H50V04_all_v20240311\n",
      "s2_sr_2019_2023_gMedian_AK050H50V05_all_v20240311\n",
      "s2_sr_2019_2023_gMedian_AK050H50V06_all_v20240311\n",
      "s2_sr_2019_2023_gMedian_AK050H50V07_all_v20240311\n",
      "s2_sr_2019_2023_gMedian_AK050H50V08_all_v20240311\n",
      "s2_sr_2019_2023_gMedian_AK050H50V09_all_v20240311\n",
      "s2_sr_2019_2023_gMedian_AK050H50V10_all_v20240311\n",
      "s2_sr_2019_2023_gMedian_AK050H50V11_all_v20240311\n",
      "s2_sr_2019_2023_gMedian_AK050H50V12_all_v20240311\n",
      "s2_sr_2019_2023_gMedian_AK050H50V13_all_v20240311\n",
      "s2_sr_2019_2023_gMedian_AK050H50V14_all_v20240311\n",
      "s2_sr_2019_2023_gMedian_AK050H50V15_all_v20240311\n",
      "s2_sr_2019_2023_gMedian_AK050H50V16_all_v20240311\n",
      "s2_sr_2019_2023_gMedian_AK050H50V17_all_v20240311\n",
      "s2_sr_2019_2023_gMedian_AK050H50V18_all_v20240311\n",
      "s2_sr_2019_2023_gMedian_AK050H50V19_all_v20240311\n",
      "s2_sr_2019_2023_gMedian_AK050H50V20_all_v20240311\n",
      "s2_sr_2019_2023_gMedian_AK050H50V21_all_v20240311\n",
      "s2_sr_2019_2023_gMedian_AK050H50V22_all_v20240311\n",
      "s2_sr_2019_2023_gMedian_AK050H50V23_all_v20240311\n",
      "s2_sr_2019_2023_gMedian_AK050H50V24_all_v20240311\n",
      "s2_sr_2019_2023_gMedian_AK050H50V25_all_v20240311\n",
      "s2_sr_2019_2023_gMedian_AK050H50V26_all_v20240311\n",
      "s2_sr_2019_2023_gMedian_AK050H50V27_all_v20240311\n",
      "done\n"
     ]
    }
   ],
   "source": [
    "# load_gcs_cogs_to_collection(cogs, project_folder, 's1_2022_v20230326')\n",
    "load_gcs_cogs_to_collection(cogs, project_folder, 's2_sr_2019_2023_gMedian_v20240311')\n"
   ]
  },
  {
   "cell_type": "markdown",
   "metadata": {},
   "source": [
    "# OLD or Single Image Example below here"
   ]
  },
  {
   "cell_type": "code",
   "execution_count": 36,
   "metadata": {
    "id": "OGESPnfEvqVq"
   },
   "outputs": [],
   "source": [
    "# # Request body as a dictionary.\n",
    "# for cog in cogs['tif']:\n",
    "#   request = {\n",
    "#     'type': 'IMAGE',\n",
    "#     'gcs_location': {\n",
    "#       'uris': cog\n",
    "#     },\n",
    "#     # 'properties': {\n",
    "#     #   'source': 'https://code.earthengine.google.com/067b10ee56537817756a3177a9138aee'\n",
    "#     # },\n",
    "#     'startTime': '2022-01-01T00:00:00.000000000Z',\n",
    "#     'endTime': '2023-01-01T00:00:00.000000000Z',\n",
    "#   }\n",
    "\n",
    "#   # pprint(json.dumps(request))\n",
    "\n",
    "#   cogName = cog[34:-4]\n",
    "#   print(cogName)\n",
    "\n",
    "#   # A folder (or ImageCollection) name and the new asset name.\n",
    "#   asset_id = collection+'/'+cogName\n",
    "\n",
    "#   url = 'https://earthengine.googleapis.com/v1alpha/projects/{}/assets?assetId={}'\n",
    "\n",
    "#   response = session.post(\n",
    "#     url = url.format(project_folder, asset_id),\n",
    "#     data = json.dumps(request)\n",
    "#   )\n",
    "\n",
    "#   # pprint(json.loads(response.content))"
   ]
  },
  {
   "cell_type": "code",
   "execution_count": null,
   "metadata": {
    "id": "xji-zRGyKEzN"
   },
   "outputs": [],
   "source": [
    "# cogs = [\n",
    "# 'gs://akveg-data/s1_2022_v20230320/s1_flat_seasonal_composite_2022_06VUL_v20230320c.tif',\n",
    "# 'gs://akveg-data/s1_2022_v20230320/s1_flat_seasonal_composite_2022_06VUM_v20230320c0000000000-0000000000.tif',\n",
    "# 'gs://akveg-data/s1_2022_v20230320/s1_flat_seasonal_composite_2022_06VUM_v20230320c0000009472-0000000000.tif',\n",
    "# 'gs://akveg-data/s1_2022_v20230320/s1_flat_seasonal_composite_2022_06VUN_v20230320c0000000000-0000000000.tif',\n",
    "# 'gs://akveg-data/s1_2022_v20230320/s1_flat_seasonal_composite_2022_06VUN_v20230320c0000009472-0000000000.tif']\n",
    "# cogs[0:4]"
   ]
  },
  {
   "cell_type": "code",
   "execution_count": null,
   "metadata": {
    "id": "YzHqAIEwJ1x9"
   },
   "outputs": [],
   "source": [
    "# from google.cloud import storage\n",
    "\n",
    "\n",
    "# def list_blobs(bucket_name):\n",
    "#     \"\"\"Lists all the blobs in the bucket.\"\"\"\n",
    "#     # bucket_name = \"your-bucket-name\"\n",
    "\n",
    "#     storage_client = storage.Client()\n",
    "\n",
    "#     # Note: Client.list_blobs requires at least package version 1.17.0.\n",
    "#     blobs = storage_client.list_blobs(bucket_name)\n",
    "\n",
    "#     # Note: The call returns a response only when the iterator is consumed.\n",
    "#     for blob in blobs:\n",
    "#         print(blob.name)\n",
    "\n",
    "# list_blobs('akveg-data')"
   ]
  },
  {
   "cell_type": "code",
   "execution_count": null,
   "metadata": {
    "id": "PhMo9X4CHs1q"
   },
   "outputs": [],
   "source": [
    "# from google.cloud import storage\n",
    "\n",
    "\n",
    "# def list_blobs_with_prefix(bucket_name, prefix, delimiter=None):\n",
    "#     \"\"\"Lists all the blobs in the bucket that begin with the prefix.\n",
    "\n",
    "#     This can be used to list all blobs in a \"folder\", e.g. \"public/\".\n",
    "\n",
    "#     The delimiter argument can be used to restrict the results to only the\n",
    "#     \"files\" in the given \"folder\". Without the delimiter, the entire tree under\n",
    "#     the prefix is returned. For example, given these blobs:\n",
    "\n",
    "#         a/1.txt\n",
    "#         a/b/2.txt\n",
    "\n",
    "#     If you specify prefix ='a/', without a delimiter, you'll get back:\n",
    "\n",
    "#         a/1.txt\n",
    "#         a/b/2.txt\n",
    "\n",
    "#     However, if you specify prefix='a/' and delimiter='/', you'll get back\n",
    "#     only the file directly under 'a/':\n",
    "\n",
    "#         a/1.txt\n",
    "\n",
    "#     As part of the response, you'll also get back a blobs.prefixes entity\n",
    "#     that lists the \"subfolders\" under `a/`:\n",
    "\n",
    "#         a/b/\n",
    "#     \"\"\"\n",
    "\n",
    "#     storage_client = storage.Client()\n",
    "\n",
    "#     # Note: Client.list_blobs requires at least package version 1.17.0.\n",
    "#     blobs = storage_client.list_blobs(bucket_name, prefix=prefix, delimiter=delimiter)\n",
    "\n",
    "#     # Note: The call returns a response only when the iterator is consumed.\n",
    "#     print(\"Blobs:\")\n",
    "#     for blob in blobs:\n",
    "#         print(blob.name)\n",
    "\n",
    "#     if delimiter:\n",
    "#         print(\"Prefixes:\")\n",
    "#         for prefix in blobs.prefixes:\n",
    "#             print(prefix)\n",
    "\n",
    "# list_blobs_with_prefix('akveg-map', 's1_2022_v20230320/')"
   ]
  },
  {
   "cell_type": "markdown",
   "metadata": {
    "id": "9_MfryWIpyhS"
   },
   "source": [
    "## Send the request\n",
    "\n",
    "Make the POST request to the Earth Engine [`projects.assets.create`](https://developers.google.com/earth-engine/reference/rest/v1alpha/projects.assets/create) endpoint."
   ]
  },
  {
   "cell_type": "code",
   "execution_count": null,
   "metadata": {
    "id": "NhmNrvS2p4qQ"
   },
   "outputs": [],
   "source": [
    "# Earth Engine enabled Cloud Project.\n",
    "project_folder = 'akveg-map'\n",
    "# A folder (or ImageCollection) name and the new asset name.\n",
    "asset_id = 's1_v20230321c'\n",
    "\n",
    "url = 'https://earthengine.googleapis.com/v1alpha/projects/{}/assets?assetId={}'\n",
    "\n",
    "response = session.post(\n",
    "  url = url.format(project_folder, asset_id),\n",
    "  data = json.dumps(request)\n",
    ")\n",
    "\n",
    "pprint(json.loads(response.content))"
   ]
  },
  {
   "cell_type": "markdown",
   "metadata": {
    "id": "mK5lCJY0CDfK"
   },
   "source": [
    "## Details on COG-backed assets\n",
    "\n",
    "### Permissions\n",
    "The ACLs of COG-backed Earth Engine assets and the underlying data are managed separately. If a COG-backed asset is shared in Earth Engine, it is the owner's responsibility to ensure that the data in GCS is shared with the same parties. If the data is not visible, Earth Engine will return an error of the form \"Failed to load the GeoTIFF at `gs://my-bucket/my-object#123456`\" (123456 is the generation of the object).\n",
    "\n",
    "### Generations\n",
    "When a COG-backed asset is created, Earth Engine reads the metadata of the TIFF in Cloud Storage and creates asset store entry. The URI associated with that entry must have a generation.  See the [object versioning docs](https://cloud.google.com/storage/docs/object-versioning) for details on generations. If a generation is specified (e.g., `gs://foo/bar#123`), Earth Engine will use it. If a generation is not specified, Earth Engine will use the latest generation of the object. \n",
    "\n",
    "That means that if the object in GCS is updated, Earth Engine will return a \"Failed to load the GeoTIFF at `gs://my-bucket/my-object#123456`\" error because the expected object no longer exists (unless the bucket enables  multiple object versions).  This policy is designed to keep metadata of the asset in sync with the metadata of the object.  \n",
    "\n",
    "### Configuration\n",
    "In terms of how a COG should be configured, the TIFF MUST be:\n",
    "\n",
    "- Tiled, where the tile dimensions are either:\n",
    "  - 16x16\n",
    "  - 32x32\n",
    "  - 64x64\n",
    "  - 128x128\n",
    "  - 256x256\n",
    "  - 512x512\n",
    "  - 1024x1024\n",
    "\n",
    "- Arranged so that all IFDs are at the beginning.\n",
    "\n",
    "For best performance:\n",
    "\n",
    "- Use tile dimensions of 128x128 or 256x256.\n",
    "- Include power of 2 overviews.\n",
    "\n",
    "See [this page](https://cogeotiff.github.io/rio-cogeo/Advanced/#web-optimized-cog) for more details on an optimized configuration."
   ]
  }
 ],
 "metadata": {
  "colab": {
   "private_outputs": true,
   "provenance": [
    {
     "file_id": "https://github.com/google/earthengine-api/blob/master/python/examples/ipynb/Earth_Engine_asset_from_cloud_geotiff.ipynb",
     "timestamp": 1679435372011
    },
    {
     "file_id": "https://github.com/google/earthengine-api/blob/master/python/examples/ipynb/Earth_Engine_asset_from_cloud_geotiff.ipynb",
     "timestamp": 1655816119626
    },
    {
     "file_id": "1f_rRBTQVKbPVhaoRRsSWUlBtBgnZkiTz",
     "timestamp": 1590793341638
    }
   ],
   "toc_visible": true
  },
  "kernelspec": {
   "display_name": "ee",
   "language": "python",
   "name": "ee"
  },
  "language_info": {
   "codemirror_mode": {
    "name": "ipython",
    "version": 3
   },
   "file_extension": ".py",
   "mimetype": "text/x-python",
   "name": "python",
   "nbconvert_exporter": "python",
   "pygments_lexer": "ipython3",
   "version": "3.8.16"
  }
 },
 "nbformat": 4,
 "nbformat_minor": 4
}
