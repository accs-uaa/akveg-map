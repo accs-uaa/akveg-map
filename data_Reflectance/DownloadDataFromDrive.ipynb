{
 "cells": [
  {
   "cell_type": "markdown",
   "metadata": {},
   "source": [
    "# Download Data from Google Drive\n",
    "\n",
    "**Timm Nawrocki**  \n",
    "Alaska Center for Conservation Science  \n",
    "2019-03-25"
   ]
  },
  {
   "cell_type": "code",
   "execution_count": null,
   "metadata": {},
   "outputs": [],
   "source": [
    "# -*- coding: utf-8 -*-\n",
    "# ---------------------------------------------------------------------------\n",
    "# Download Data from Google Drive\n",
    "# Author: Timm Nawrocki\n",
    "# Created on: 2019-03-25\n",
    "# Usage: Must be executed as a Jupyter Notebook in an Python 2 installation with Google API and oauth2client installed.\n",
    "# Description: \"Download Data from Google Drive\" programmatically downloads batches of data from Google Drive. This notebook is intended to download the spectral data exported from Google Earth Engine.\n",
    "# ---------------------------------------------------------------------------"
   ]
  },
  {
   "cell_type": "markdown",
   "metadata": {},
   "source": [
    "## 1. Initialize Environment"
   ]
  },
  {
   "cell_type": "code",
   "execution_count": null,
   "metadata": {},
   "outputs": [],
   "source": [
    "# Import packages\n",
    "import os\n",
    "import io\n",
    "import httplib2\n",
    "import logging\n",
    "from oauth2client.client import OAuth2WebServerFlow\n",
    "from oauth2client.file import Storage\n",
    "from apiclient.discovery import build\n",
    "from apiclient.http import MediaIoBaseDownload\n",
    "from apiclient import errors\n",
    "\n",
    "# Define Local Drive\n",
    "drive = 'F:/'\n",
    "\n",
    "# Define target Google Drive folder\n",
    "google_folder = '1p_CR7YW3yyvpiorYt_uxuGKlKkmBxLcE' #Sentinel 2\n",
    "#google_folder = '1ptOXuFUwbnXpmhsW_hUqvI2_BiSRNOLS' #Landsat 8\n",
    "\n",
    "# Define output directory\n",
    "output_directory = os.path.join(drive, 'ACCS_Work/Projects/VegetationEcology/BristolBay_Vegetation/Project_GIS/Data_Input/source_data/imagery/sentinel2')\n",
    "#output_directory = os.path.join(drive, 'ACCS_Work/Projects/VegetationEcology/BristolBay_Vegetation/Project_GIS/Data_Input/source_data/imagery/landsat8')\n",
    "\n",
    "# Define logger\n",
    "logging.basicConfig(filename='debug.log',level=logging.DEBUG)\n",
    "\n",
    "# Define client id and secret for Google Drive API\n",
    "client_id = '655284198639-hh3fg8es5hp9rtmvh4a0t5ulfigns9qq.apps.googleusercontent.com'\n",
    "client_secret = 'cmelwkw9PFwtUKZ6ZvSQr-IH'\n",
    "\n",
    "# Define Google Drive authorization information and credentials file\n",
    "oauth_scope = 'https://www.googleapis.com/auth/drive'\n",
    "redirect_uri = 'urn:ietf:wg:oauth:2.0:oob'\n",
    "credentials_file = os.path.join(drive, 'ACCS_Work/Administrative/Credentials/credentials.json')\n",
    "\n",
    "# Create credentials storage object\n",
    "storage = Storage(credentials_file)\n",
    "credentials = storage.get()"
   ]
  },
  {
   "cell_type": "code",
   "execution_count": null,
   "metadata": {},
   "outputs": [],
   "source": [
    "# Run through the OAuth flow and retrieve credentials\n",
    "try:\n",
    "    flow = OAuth2WebServerFlow(client_id, client_secret, oauth_scope, redirect_uri)\n",
    "    authorize_url = flow.step1_get_authorize_url()\n",
    "    print('Go to the following link in your browser: {0}'.format(authorize_url))\n",
    "    code = raw_input('Enter verification code: ').strip()\n",
    "    credentials = flow.step2_exchange(code)\n",
    "    storage.put(credentials)\n",
    "    print('User successfully authenticated.')\n",
    "except:\n",
    "    print('Could not authenticate user. Ensure client id and client secret are correct for Google Drive API.')\n",
    "    quit()"
   ]
  },
  {
   "cell_type": "code",
   "execution_count": null,
   "metadata": {},
   "outputs": [],
   "source": [
    "# Create an http.client.Http object\n",
    "http = httplib2.Http()\n",
    "http = credentials.authorize(http)\n",
    "drive_service = build('drive', 'v2', http=http)"
   ]
  },
  {
   "cell_type": "code",
   "execution_count": null,
   "metadata": {},
   "outputs": [],
   "source": [
    "# Check output directory and create if it does not exist\n",
    "if os.path.exists(output_directory):\n",
    "    print('Directory exists.')\n",
    "else:\n",
    "    print('Directory does not exist and will be created.')\n",
    "    os.makedirs(output_directory)"
   ]
  },
  {
   "cell_type": "markdown",
   "metadata": {},
   "source": [
    "## 2. Define Functions"
   ]
  },
  {
   "cell_type": "code",
   "execution_count": null,
   "metadata": {},
   "outputs": [],
   "source": [
    "# Define a function to create a list of all file IDs within a folder\n",
    "def list_files(service, folder_id):\n",
    "    \"\"\"\n",
    "    Description: creates a list of files by ID belonging to a Google Drive folder.\n",
    "    Inputs: service -- Drive API service instance.\n",
    "            folder_id -- ID of the folder from which to list files.\n",
    "    \"\"\"\n",
    "    # Create empty list to store file IDs\n",
    "    file_id_list = []\n",
    "    page_token = None\n",
    "    # Search folder for files\n",
    "    while True:\n",
    "        try:\n",
    "            param = {}\n",
    "            if page_token:\n",
    "                param['pageToken'] = page_token\n",
    "            children = service.children().list(folderId=folder_id, **param).execute()\n",
    "            for child in children.get('items', []):\n",
    "                file_id_list = file_id_list + [child['id']]\n",
    "            page_token = children.get('nextPageToken')\n",
    "            if not page_token:\n",
    "                break\n",
    "        except errors.HttpError, error:\n",
    "            print('An error occurred: {0}'.format(error))\n",
    "            break\n",
    "    # Return file ID list\n",
    "    return file_id_list"
   ]
  },
  {
   "cell_type": "code",
   "execution_count": null,
   "metadata": {},
   "outputs": [],
   "source": [
    "# Define a function to download data files from Google Drive\n",
    "def download_file(file_id, output_directory):\n",
    "    \"\"\"\n",
    "    Description: downloads a file from Google Drive by file ID.\n",
    "    Inputs: file_id -- ID of the file to download.\n",
    "            output_directory -- directory in which to save the downloaded file.\n",
    "    \"\"\"\n",
    "    # Get file title metadata by file id\n",
    "    file_meta = drive_service.files().get(fileId=file_id).execute()\n",
    "    file_title = file_meta['title']\n",
    "    # Generate download file path\n",
    "    file_path = os.path.join(output_directory, file_title)\n",
    "    print('\\tSaving {0}...'.format(file_title))\n",
    "    # Create request, file handler, and downloader\n",
    "    request = drive_service.files().get_media(fileId=file_id)\n",
    "    file_handler = io.FileIO(file_path, 'wb')\n",
    "    downloader = MediaIoBaseDownload(file_handler, request)\n",
    "    # Download file and report progress\n",
    "    done = False\n",
    "    while done is False:\n",
    "        status, done = downloader.next_chunk()\n",
    "        print('\\t\\tDownload {0}%...'.format(int(status.progress() * 100)))\n",
    "    file_handler.close()\n",
    "    print('\\tSave complete.')"
   ]
  },
  {
   "cell_type": "markdown",
   "metadata": {},
   "source": [
    "## 3. Download Files"
   ]
  },
  {
   "cell_type": "code",
   "execution_count": null,
   "metadata": {},
   "outputs": [],
   "source": [
    "# List all files in Google Drive Folder\n",
    "file_id_list = list_files(drive_service, google_folder)"
   ]
  },
  {
   "cell_type": "code",
   "execution_count": null,
   "metadata": {},
   "outputs": [],
   "source": [
    "# Download all files in Google Drive Folder\n",
    "count = 1\n",
    "total = len(file_id_list)\n",
    "for file_id in file_id_list:\n",
    "    print('Downloading file {0} of {1}...'.format(count, total))\n",
    "    download_file(file_id, output_directory)\n",
    "    count += 1"
   ]
  },
  {
   "cell_type": "code",
   "execution_count": null,
   "metadata": {},
   "outputs": [],
   "source": []
  }
 ],
 "metadata": {
  "kernelspec": {
   "display_name": "Python 3",
   "language": "python",
   "name": "python3"
  },
  "language_info": {
   "codemirror_mode": {
    "name": "ipython",
    "version": 3
   },
   "file_extension": ".py",
   "mimetype": "text/x-python",
   "name": "python",
   "nbconvert_exporter": "python",
   "pygments_lexer": "ipython3",
   "version": "3.6.6"
  }
 },
 "nbformat": 4,
 "nbformat_minor": 2
}
