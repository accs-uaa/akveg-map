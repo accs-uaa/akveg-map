{
 "cells": [
  {
   "cell_type": "markdown",
   "metadata": {},
   "source": [
    "# Choose omni env"
   ]
  },
  {
   "cell_type": "code",
   "execution_count": 1,
   "metadata": {},
   "outputs": [
    {
     "name": "stderr",
     "output_type": "stream",
     "text": [
      "/home/mmacander/miniconda3/envs/omni/lib/python3.11/site-packages/tqdm/auto.py:21: TqdmWarning: IProgress not found. Please update jupyter and ipywidgets. See https://ipywidgets.readthedocs.io/en/stable/user_install.html\n",
      "  from .autonotebook import tqdm as notebook_tqdm\n"
     ]
    }
   ],
   "source": [
    "from pathlib import Path\n",
    "import requests\n",
    "import rasterio as rio\n",
    "import numpy as np\n",
    "from matplotlib import pyplot as plt\n",
    "from tqdm.auto import tqdm\n",
    "\n",
    "import matplotlib.patches as mpatches\n",
    "from matplotlib.colors import ListedColormap\n",
    "\n",
    "from omnicloudmask import predict_from_array, predict_from_load_func, load_multiband\n",
    "import omnicloudmask\n",
    "\n",
    "from functools import partial\n",
    "\n",
    "import glob"
   ]
  },
  {
   "cell_type": "code",
   "execution_count": 2,
   "metadata": {},
   "outputs": [
    {
     "data": {
      "text/plain": [
       "'1.0.7'"
      ]
     },
     "execution_count": 2,
     "metadata": {},
     "output_type": "execute_result"
    }
   ],
   "source": [
    "omnicloudmask.__version__"
   ]
  },
  {
   "cell_type": "markdown",
   "metadata": {},
   "source": [
    "Go to https://www.maxar.com/open-data/ scroll to the bottom, select one of the captured events (from 2023 or late 2022) and click 'Learn more', on the new page select one of the scenes and click the corresponding 'QUAD KEY' button, from the new popup right click on the 'Multispectral Image' button and select copy url. Past that url below to download and run inference.\n"
   ]
  },
  {
   "cell_type": "code",
   "execution_count": 3,
   "metadata": {},
   "outputs": [],
   "source": [
    "url = \"https://maxar-opendata.s3.us-west-2.amazonaws.com/events/Emilia-Romagna-Italy-flooding-may23/ard/32/120000303231/2023-05-23/1050010033C95B00-ms.tif\"\n",
    "# url = \"https://maxar-opendata.s3.us-west-2.amazonaws.com/events/tonga-volcano21/ard/01/300222121030/2022-01-18/1040010071C26C00-ms.tif\"\n",
    "# url = \"https://maxar-opendata.s3.us-west-2.amazonaws.com/events/Kalehe-DRC-Flooding-5-8-23/ard/35/300000303201/2023-05-12/1040010084614200-ms.tif\"\n",
    "# url = \"https://maxar-opendata.s3.us-west-2.amazonaws.com/events/New-Zealand-Flooding23/ard/60/213311212303/2023-02-08/10300100E23B4300-ms.tif\"\n",
    "# url = \"https://maxar-opendata.s3.us-west-2.amazonaws.com/events/Hurricane-Ian-9-26-2022/ard/17/031331321021/2022-10-01/104001007C700900-ms.tif\""
   ]
  },
  {
   "cell_type": "markdown",
   "metadata": {},
   "source": [
    "Download the Maxar image for inference\n"
   ]
  },
  {
   "cell_type": "code",
   "execution_count": 4,
   "metadata": {},
   "outputs": [
    {
     "name": "stdout",
     "output_type": "stream",
     "text": [
      "Scene already exists: /import/sportello/shared/pchome/mmacander/programming/abr/akveg-map/01a_data_reflectance_vhr/Maxar data/120000303231_2023-05-23_1050010033C95B00-ms.tif\n"
     ]
    }
   ],
   "source": [
    "file_name = \"_\".join(url.split(\"/\")[-3:])\n",
    "scene_path = Path.cwd() / f\"Maxar data/{file_name}\"\n",
    "scene_path.parent.mkdir(exist_ok=True, parents=True)\n",
    "\n",
    "if not scene_path.exists():\n",
    "    print(f\"Downloading scene from {url} \\nto {scene_path}\")\n",
    "    with requests.get(url, stream=True) as response:\n",
    "        with open(scene_path, \"wb\") as f:\n",
    "            pbar = tqdm(\n",
    "                unit=\"B\", unit_scale=True, total=int(response.headers[\"Content-Length\"])\n",
    "            )\n",
    "            for chunk in response.iter_content(chunk_size=8192):\n",
    "                f.write(chunk)\n",
    "                pbar.update(8192)\n",
    "    pbar.close()\n",
    "else:\n",
    "    print(f\"Scene already exists: {scene_path}\")"
   ]
  },
  {
   "cell_type": "code",
   "execution_count": null,
   "metadata": {},
   "outputs": [],
   "source": [
    "scene_path"
   ]
  },
  {
   "cell_type": "code",
   "execution_count": null,
   "metadata": {},
   "outputs": [],
   "source": [
    "scene_path=Path('/data/gis/raster_base/Alaska/AKVegMap/EVWHS/navy_north_slope/ortho_toa_subimages/20JUL14220836-M1BS-050300602010_01_P002_u16rf3338.tif')"
   ]
  },
  {
   "cell_type": "code",
   "execution_count": null,
   "metadata": {},
   "outputs": [],
   "source": [
    "with rio.open(scene_path) as src:\n",
    "    print(f\"Original NoData Value: {src.nodata}\")  # Prints existing NoData value\n"
   ]
  },
  {
   "cell_type": "markdown",
   "metadata": {},
   "source": [
    "Maxar images are 50cm resolution so we will resample them to 10 m for inference\n"
   ]
  },
  {
   "cell_type": "code",
   "execution_count": null,
   "metadata": {},
   "outputs": [],
   "source": [
    "required_res = 10"
   ]
  },
  {
   "cell_type": "markdown",
   "metadata": {},
   "source": [
    "Some Maxar MS images have 4 channels others have 8, we need to work out which type we have and extract the Red Green (Blue for visualisation) and NIR bands.\n"
   ]
  },
  {
   "cell_type": "code",
   "execution_count": null,
   "metadata": {},
   "outputs": [],
   "source": [
    "# src = rio.open(scene_path)\n",
    "# channel_count = src.meta[\"count\"]\n",
    "# if channel_count == 4:\n",
    "#     print(\"Found 4 channels, assuming RGBN\")\n",
    "#     GRB_NIR_bands = [1, 2, 3, 4]\n",
    "# if channel_count == 8:\n",
    "#     print(\"Found all 8 channels\")\n",
    "#     GRB_NIR_bands = [5, 3, 2, 8]"
   ]
  },
  {
   "cell_type": "code",
   "execution_count": null,
   "metadata": {},
   "outputs": [],
   "source": [
    "src = rio.open(scene_path)\n",
    "channel_count = src.meta[\"count\"]\n",
    "if channel_count == 4:\n",
    "    print(\"Found 4 channels, assuming BGRN\")\n",
    "    BGR_NIR_bands = [1, 2, 3, 4]\n",
    "if channel_count == 8:\n",
    "    print(\"Found all 8 channels\")\n",
    "    BGR_NIR_bands = [3, 3, 5, 7]"
   ]
  },
  {
   "cell_type": "markdown",
   "metadata": {},
   "source": [
    "Open the RGB+NIR bands at the required resolution\n"
   ]
  },
  {
   "cell_type": "code",
   "execution_count": null,
   "metadata": {},
   "outputs": [],
   "source": [
    "# res = src.res\n",
    "# RGBN_array = src.read(\n",
    "#     GRB_NIR_bands,\n",
    "#     out_shape=(\n",
    "#         4,\n",
    "#         int(src.height * res[0] / required_res),\n",
    "#         int(src.width * res[0] / required_res),\n",
    "#     ),\n",
    "#     masked=True\n",
    "# )"
   ]
  },
  {
   "cell_type": "code",
   "execution_count": null,
   "metadata": {},
   "outputs": [],
   "source": [
    "res = src.res\n",
    "BGRN_array = src.read(\n",
    "    BGR_NIR_bands,\n",
    "    out_shape=(\n",
    "        4,\n",
    "        int(src.height * res[0] / required_res),\n",
    "        int(src.width * res[0] / required_res),\n",
    "    ),\n",
    "    masked=True\n",
    ")"
   ]
  },
  {
   "cell_type": "code",
   "execution_count": null,
   "metadata": {},
   "outputs": [],
   "source": [
    "BGRN_array"
   ]
  },
  {
   "cell_type": "markdown",
   "metadata": {},
   "source": [
    "Separate the RGB bands for visualisation and the RG+NIR bands for inference.\n"
   ]
  },
  {
   "cell_type": "code",
   "execution_count": null,
   "metadata": {},
   "outputs": [],
   "source": [
    "# RGB_array = BGRN_array[:3]\n",
    "RGB_array = BGRN_array[[2,1,0]]\n",
    "RGB_array = RGB_array.transpose(1, 2, 0)\n",
    "\n",
    "RGN_array = BGRN_array[[2, 1, 3]]\n",
    "RGN_array_nd0 = np.where(RGN_array.mask, 0, RGN_array.data)"
   ]
  },
  {
   "cell_type": "markdown",
   "metadata": {},
   "source": [
    "Normalise the RGB channels and plot the image\n"
   ]
  },
  {
   "cell_type": "code",
   "execution_count": null,
   "metadata": {},
   "outputs": [],
   "source": [
    "RGB_array_norm = np.power(RGB_array.astype(\"float32\"), 0.5)\n",
    "RGB_array_norm = RGB_array_norm - np.min(RGB_array_norm)\n",
    "RGB_array_norm = RGB_array_norm / np.max(RGB_array_norm)\n",
    "\n",
    "RGB_array_norm = np.clip(RGB_array_norm, 0, 1)\n",
    "plt.imshow(RGB_array_norm)"
   ]
  },
  {
   "cell_type": "markdown",
   "metadata": {},
   "source": [
    "Perform inference on the RG+NIR bands using the 'predict_from_array' function\n"
   ]
  },
  {
   "cell_type": "code",
   "execution_count": null,
   "metadata": {},
   "outputs": [],
   "source": [
    "mask = predict_from_array(\n",
    "    # RGN_array,\n",
    "    RGN_array_nd0\n",
    ")"
   ]
  },
  {
   "cell_type": "code",
   "execution_count": null,
   "metadata": {},
   "outputs": [],
   "source": [
    "fig, ax = plt.subplots(1, 3, figsize=(16, 6))\n",
    "cmap = ListedColormap([\"black\", \"white\", \"white\", \"grey\"])\n",
    "\n",
    "ax[0].imshow(RGB_array_norm)\n",
    "ax[1].imshow(RGB_array_norm)\n",
    "ax[1].contour(mask[0] > 0, colors=\"red\", linewidths=1.5)\n",
    "ax[1].contour(mask[0] == 3, colors=\"red\", linewidths=1.5)\n",
    "ax[2].imshow(mask[0], vmin=0, vmax=3, cmap=cmap, interpolation=\"nearest\")\n",
    "\n",
    "legend_labels = [\"Clear\", \"Shadow\", \"Cloud\"]\n",
    "legend_colors = [\"black\", \"grey\", \"white\"]\n",
    "patches = [\n",
    "    mpatches.Patch(\n",
    "        facecolor=legend_colors[i], edgecolor=\"black\", label=legend_labels[i]\n",
    "    )\n",
    "    for i in range(3)\n",
    "]\n",
    "fig.legend(handles=patches, loc=\"lower right\", bbox_to_anchor=(0.904, 0.05))\n",
    "\n",
    "for a in ax:\n",
    "    a.set_xticks([])\n",
    "    a.set_yticks([])\n",
    "\n",
    "ax[0].set_title(\"True colour\")\n",
    "ax[1].set_title(\"True colour with OCM\\nprediction contours\")\n",
    "ax[2].set_title(\"OCM prediction\")\n",
    "\n",
    "plt.show()"
   ]
  },
  {
   "cell_type": "code",
   "execution_count": null,
   "metadata": {},
   "outputs": [],
   "source": [
    "mask"
   ]
  },
  {
   "cell_type": "code",
   "execution_count": null,
   "metadata": {},
   "outputs": [],
   "source": [
    "RGN_array"
   ]
  },
  {
   "cell_type": "code",
   "execution_count": 5,
   "metadata": {},
   "outputs": [],
   "source": [
    "load_maxar_pgc_4band_10m = partial(load_multiband, resample_res=10.0, band_order=[3,2,4])\n"
   ]
  },
  {
   "cell_type": "code",
   "execution_count": 45,
   "metadata": {},
   "outputs": [
    {
     "name": "stdout",
     "output_type": "stream",
     "text": [
      "['/data/gis/raster_base/Alaska/AKVegMap/EVWHS/mentasta/ortho_toa_subimages/23JUL21210509-M1BS-050296456010_01_P008_u16rf3338.tif', '/data/gis/raster_base/Alaska/AKVegMap/EVWHS/mentasta/ortho_toa_subimages/23JUL21205720-M1BS-050296474010_01_P010_u16rf3338.tif', '/data/gis/raster_base/Alaska/AKVegMap/EVWHS/mentasta/ortho_toa_subimages/21AUG30204810-M1BS-050296461010_01_P005_u16rf3338.tif', '/data/gis/raster_base/Alaska/AKVegMap/EVWHS/mentasta/ortho_toa_subimages/23JUL26212327-M1BS-050296496010_01_P005_u16rf3338.tif', '/data/gis/raster_base/Alaska/AKVegMap/EVWHS/mentasta/ortho_toa_subimages/24JUN29212914-M1BS-050296500010_01_P008_u16rf3338.tif', '/data/gis/raster_base/Alaska/AKVegMap/EVWHS/mentasta/ortho_toa_subimages/23JUL21210510-M1BS-050296456010_01_P007_u16rf3338.tif', '/data/gis/raster_base/Alaska/AKVegMap/EVWHS/mentasta/ortho_toa_subimages/24JUN29212846-M1BS-050296485010_01_P001_u16rf3338.tif', '/data/gis/raster_base/Alaska/AKVegMap/EVWHS/mentasta/ortho_toa_subimages/13JUN18214810-M1BS-050296499010_01_P002_u16rf3338.tif', '/data/gis/raster_base/Alaska/AKVegMap/EVWHS/mentasta/ortho_toa_subimages/13JUL27210947-M1BS-050296487010_01_P008_u16rf3338.tif', '/data/gis/raster_base/Alaska/AKVegMap/EVWHS/mentasta/ortho_toa_subimages/23AUG23205624-M1BS-050296457010_01_P003_u16rf3338.tif']\n"
     ]
    }
   ],
   "source": [
    "# ortho_subimage_dir = \"/data/gis/raster_base/Alaska/AKVegMap/EVWHS/navy_north_slope/ortho_toa_subimages\"\n",
    "# ortho_subimage_dir = \"/data/gis/raster_base/Alaska/AKVegMap/EVWHS/nome_beaver/ortho_toa_subimages\"\n",
    "ortho_subimage_dir = \"/data/gis/raster_base/Alaska/AKVegMap/EVWHS/mentasta/ortho_toa_subimages\"\n",
    "\n",
    "# ortho_subimage_cloud_dir = \"/data/gis/raster_base/Alaska/AKVegMap/EVWHS/navy_north_slope/ortho_toa_subimages_cloud\"\n",
    "# ortho_subimage_cloud_dir = \"/data/gis/raster_base/Alaska/AKVegMap/EVWHS/nome_beaver/ortho_toa_subimages_cloud\"\n",
    "ortho_subimage_cloud_dir = \"/data/gis/raster_base/Alaska/AKVegMap/EVWHS/mentasta/ortho_toa_subimages_cloud\"\n",
    "\n",
    "Path(ortho_subimage_cloud_dir).mkdir(parents=True, exist_ok=True)\n",
    "\n",
    "scene_paths = glob.glob(ortho_subimage_dir + \"/*.tif\")\n",
    "print(scene_paths[:10])\n"
   ]
  },
  {
   "cell_type": "code",
   "execution_count": 46,
   "metadata": {},
   "outputs": [
    {
     "name": "stdout",
     "output_type": "stream",
     "text": [
      "_CudaDeviceProperties(name='NVIDIA GeForce RTX 4090', major=8, minor=9, total_memory=24217MB, multi_processor_count=128, uuid=295cbb7d-a5d5-7176-4292-e190315a0713, L2_cache_size=72MB)\n"
     ]
    }
   ],
   "source": [
    "import torch\n",
    "torch.get_default_device()\n",
    "\n",
    "for i in range(torch.cuda.device_count()):\n",
    "   print(torch.cuda.get_device_properties(i))#.name)\n"
   ]
  },
  {
   "cell_type": "code",
   "execution_count": 47,
   "metadata": {},
   "outputs": [
    {
     "data": {
      "text/plain": [
       "device(type='cuda', index=0)"
      ]
     },
     "execution_count": 47,
     "metadata": {},
     "output_type": "execute_result"
    }
   ],
   "source": [
    "torch.set_default_device('cuda')\n",
    "torch.get_default_device()\n"
   ]
  },
  {
   "cell_type": "code",
   "execution_count": 48,
   "metadata": {},
   "outputs": [],
   "source": [
    "# scene_path=scene_paths[4]"
   ]
  },
  {
   "cell_type": "code",
   "execution_count": 49,
   "metadata": {
    "scrolled": true
   },
   "outputs": [
    {
     "name": "stderr",
     "output_type": "stream",
     "text": [
      "\n",
      "\u001b[Aning inference using cuda bfloat16:   0%|          | 0/1 [00:00<?, ?it/s]\n",
      "\u001b[Aning inference using cuda bfloat16: 100%|██████████| 1/1 [00:04<00:00,  3.25s/it]\n",
      "Running inference using cuda bfloat16: 100%|██████████| 1/1 [00:05<00:00,  5.77s/it]\n"
     ]
    },
    {
     "name": "stdout",
     "output_type": "stream",
     "text": [
      "Predicted [Path('/data/gis/raster_base/Alaska/AKVegMap/EVWHS/mentasta/ortho_toa_subimages_cloud/23JUL21210509-M1BS-050296456010_01_P008_u16rf3338_OCM_v1_0_7.tif')]\n"
     ]
    },
    {
     "name": "stderr",
     "output_type": "stream",
     "text": [
      "\n",
      "\u001b[A/home/mmacander/miniconda3/envs/omni/lib/python3.11/site-packages/omnicloudmask/cloud_mask.py:145: UserWarning: Significant no-data areas detected. Adjusting patch size to 266px and overlap to 133px to minimize no-data patches.\n",
      "  warnings.warn(\n",
      "\n",
      "\u001b[Aning inference using cuda bfloat16: 100%|██████████| 1/1 [00:02<00:00,  2.13s/it]\n",
      "Running inference using cuda bfloat16: 100%|██████████| 1/1 [00:04<00:00,  4.32s/it]\n"
     ]
    },
    {
     "name": "stdout",
     "output_type": "stream",
     "text": [
      "Predicted [Path('/data/gis/raster_base/Alaska/AKVegMap/EVWHS/mentasta/ortho_toa_subimages_cloud/23JUL21205720-M1BS-050296474010_01_P010_u16rf3338_OCM_v1_0_7.tif')]\n"
     ]
    },
    {
     "name": "stderr",
     "output_type": "stream",
     "text": [
      "\n",
      "\u001b[Aning inference using cuda bfloat16:   0%|          | 0/1 [00:00<?, ?it/s]\n",
      "\u001b[Aning inference using cuda bfloat16: 100%|██████████| 1/1 [00:05<00:00,  4.64s/it]\n",
      "Running inference using cuda bfloat16: 100%|██████████| 1/1 [00:07<00:00,  7.12s/it]\n"
     ]
    },
    {
     "name": "stdout",
     "output_type": "stream",
     "text": [
      "Predicted [Path('/data/gis/raster_base/Alaska/AKVegMap/EVWHS/mentasta/ortho_toa_subimages_cloud/21AUG30204810-M1BS-050296461010_01_P005_u16rf3338_OCM_v1_0_7.tif')]\n"
     ]
    },
    {
     "name": "stderr",
     "output_type": "stream",
     "text": [
      "\n",
      "\u001b[Aning inference using cuda bfloat16:   0%|          | 0/1 [00:00<?, ?it/s]\n",
      "\u001b[Aning inference using cuda bfloat16: 100%|██████████| 1/1 [00:03<00:00,  3.01s/it]\n",
      "Running inference using cuda bfloat16: 100%|██████████| 1/1 [00:08<00:00,  8.22s/it]\n"
     ]
    },
    {
     "name": "stdout",
     "output_type": "stream",
     "text": [
      "Predicted [Path('/data/gis/raster_base/Alaska/AKVegMap/EVWHS/mentasta/ortho_toa_subimages_cloud/23JUL26212327-M1BS-050296496010_01_P005_u16rf3338_OCM_v1_0_7.tif')]\n"
     ]
    },
    {
     "name": "stderr",
     "output_type": "stream",
     "text": [
      "\n",
      "\u001b[Aning inference using cuda bfloat16:   0%|          | 0/1 [00:00<?, ?it/s]\n",
      "\u001b[Aning inference using cuda bfloat16: 100%|██████████| 1/1 [00:03<00:00,  3.03s/it]\n",
      "Running inference using cuda bfloat16: 100%|██████████| 1/1 [00:07<00:00,  7.67s/it]\n"
     ]
    },
    {
     "name": "stdout",
     "output_type": "stream",
     "text": [
      "Predicted [Path('/data/gis/raster_base/Alaska/AKVegMap/EVWHS/mentasta/ortho_toa_subimages_cloud/24JUN29212914-M1BS-050296500010_01_P008_u16rf3338_OCM_v1_0_7.tif')]\n"
     ]
    },
    {
     "name": "stderr",
     "output_type": "stream",
     "text": [
      "\n",
      "\u001b[Aning inference using cuda bfloat16:   0%|          | 0/1 [00:00<?, ?it/s]\n",
      "\u001b[Aning inference using cuda bfloat16: 100%|██████████| 1/1 [00:02<00:00,  2.94s/it]\n",
      "Running inference using cuda bfloat16: 100%|██████████| 1/1 [00:08<00:00,  8.36s/it]\n"
     ]
    },
    {
     "name": "stdout",
     "output_type": "stream",
     "text": [
      "Predicted [Path('/data/gis/raster_base/Alaska/AKVegMap/EVWHS/mentasta/ortho_toa_subimages_cloud/23JUL21210510-M1BS-050296456010_01_P007_u16rf3338_OCM_v1_0_7.tif')]\n"
     ]
    },
    {
     "name": "stderr",
     "output_type": "stream",
     "text": [
      "\n",
      "\u001b[Aning inference using cuda bfloat16:   0%|          | 0/1 [00:00<?, ?it/s]\n",
      "\u001b[Aning inference using cuda bfloat16: 100%|██████████| 1/1 [00:06<00:00,  4.27s/it]\n",
      "Running inference using cuda bfloat16: 100%|██████████| 1/1 [00:07<00:00,  7.72s/it]\n"
     ]
    },
    {
     "name": "stdout",
     "output_type": "stream",
     "text": [
      "Predicted [Path('/data/gis/raster_base/Alaska/AKVegMap/EVWHS/mentasta/ortho_toa_subimages_cloud/24JUN29212846-M1BS-050296485010_01_P001_u16rf3338_OCM_v1_0_7.tif')]\n"
     ]
    },
    {
     "name": "stderr",
     "output_type": "stream",
     "text": [
      "\n",
      "\u001b[A/home/mmacander/miniconda3/envs/omni/lib/python3.11/site-packages/omnicloudmask/cloud_mask.py:145: UserWarning: Significant no-data areas detected. Adjusting patch size to 335px and overlap to 167px to minimize no-data patches.\n",
      "  warnings.warn(\n",
      "\n",
      "\u001b[Aning inference using cuda bfloat16: 100%|██████████| 1/1 [00:01<00:00,  1.19s/it]\n",
      "Running inference using cuda bfloat16: 100%|██████████| 1/1 [00:02<00:00,  2.97s/it]\n"
     ]
    },
    {
     "name": "stdout",
     "output_type": "stream",
     "text": [
      "Predicted [Path('/data/gis/raster_base/Alaska/AKVegMap/EVWHS/mentasta/ortho_toa_subimages_cloud/13JUN18214810-M1BS-050296499010_01_P002_u16rf3338_OCM_v1_0_7.tif')]\n"
     ]
    },
    {
     "name": "stderr",
     "output_type": "stream",
     "text": [
      "\n",
      "\u001b[Aning inference using cuda bfloat16:   0%|          | 0/1 [00:00<?, ?it/s]\n",
      "\u001b[Aning inference using cuda bfloat16: 100%|██████████| 1/1 [00:02<00:00,  2.15s/it]\n",
      "Running inference using cuda bfloat16: 100%|██████████| 1/1 [00:04<00:00,  4.63s/it]\n"
     ]
    },
    {
     "name": "stdout",
     "output_type": "stream",
     "text": [
      "Predicted [Path('/data/gis/raster_base/Alaska/AKVegMap/EVWHS/mentasta/ortho_toa_subimages_cloud/13JUL27210947-M1BS-050296487010_01_P008_u16rf3338_OCM_v1_0_7.tif')]\n"
     ]
    },
    {
     "name": "stderr",
     "output_type": "stream",
     "text": [
      "\n",
      "\u001b[Aning inference using cuda bfloat16:   0%|          | 0/1 [00:00<?, ?it/s]\n",
      "\u001b[Aning inference using cuda bfloat16: 100%|██████████| 1/1 [00:01<00:00,  1.99s/it]\n",
      "Running inference using cuda bfloat16: 100%|██████████| 1/1 [00:04<00:00,  4.58s/it]\n"
     ]
    },
    {
     "name": "stdout",
     "output_type": "stream",
     "text": [
      "Predicted [Path('/data/gis/raster_base/Alaska/AKVegMap/EVWHS/mentasta/ortho_toa_subimages_cloud/23AUG23205624-M1BS-050296457010_01_P003_u16rf3338_OCM_v1_0_7.tif')]\n"
     ]
    },
    {
     "name": "stderr",
     "output_type": "stream",
     "text": [
      "\n",
      "\u001b[Aning inference using cuda bfloat16:   0%|          | 0/1 [00:00<?, ?it/s]\n",
      "\u001b[Aning inference using cuda bfloat16: 100%|██████████| 1/1 [00:06<00:00,  6.58s/it]\n",
      "Running inference using cuda bfloat16: 100%|██████████| 1/1 [00:11<00:00, 11.24s/it]\n"
     ]
    },
    {
     "name": "stdout",
     "output_type": "stream",
     "text": [
      "Predicted [Path('/data/gis/raster_base/Alaska/AKVegMap/EVWHS/mentasta/ortho_toa_subimages_cloud/13JUN27211604-M1BS-050296491010_01_P009_u16rf3338_OCM_v1_0_7.tif')]\n"
     ]
    },
    {
     "name": "stderr",
     "output_type": "stream",
     "text": [
      "\n",
      "\u001b[Aning inference using cuda bfloat16:   0%|          | 0/1 [00:00<?, ?it/s]\n",
      "\u001b[Aning inference using cuda bfloat16: 100%|██████████| 1/1 [00:02<00:00,  2.30s/it]\n",
      "Running inference using cuda bfloat16: 100%|██████████| 1/1 [00:05<00:00,  5.80s/it]\n"
     ]
    },
    {
     "name": "stdout",
     "output_type": "stream",
     "text": [
      "Predicted [Path('/data/gis/raster_base/Alaska/AKVegMap/EVWHS/mentasta/ortho_toa_subimages_cloud/13JUN27211617-M1BS-050296482010_01_P005_u16rf3338_OCM_v1_0_7.tif')]\n"
     ]
    },
    {
     "name": "stderr",
     "output_type": "stream",
     "text": [
      "\n",
      "\u001b[Aning inference using cuda bfloat16:   0%|          | 0/1 [00:00<?, ?it/s]\n",
      "\u001b[Aning inference using cuda bfloat16: 100%|██████████| 1/1 [00:07<00:00,  4.95s/it]\n",
      "Running inference using cuda bfloat16: 100%|██████████| 1/1 [00:09<00:00,  9.94s/it]\n"
     ]
    },
    {
     "name": "stdout",
     "output_type": "stream",
     "text": [
      "Predicted [Path('/data/gis/raster_base/Alaska/AKVegMap/EVWHS/mentasta/ortho_toa_subimages_cloud/20AUG06212409-M1BS-050296492010_01_P002_u16rf3338_OCM_v1_0_7.tif')]\n"
     ]
    },
    {
     "name": "stderr",
     "output_type": "stream",
     "text": [
      "\n",
      "\u001b[A/home/mmacander/miniconda3/envs/omni/lib/python3.11/site-packages/omnicloudmask/cloud_mask.py:145: UserWarning: Significant no-data areas detected. Adjusting patch size to 373px and overlap to 186px to minimize no-data patches.\n",
      "  warnings.warn(\n",
      "\n",
      "\u001b[Aning inference using cuda bfloat16: 100%|██████████| 1/1 [00:01<00:00,  1.06s/it]\n",
      "Running inference using cuda bfloat16: 100%|██████████| 1/1 [00:03<00:00,  3.20s/it]\n"
     ]
    },
    {
     "name": "stdout",
     "output_type": "stream",
     "text": [
      "Predicted [Path('/data/gis/raster_base/Alaska/AKVegMap/EVWHS/mentasta/ortho_toa_subimages_cloud/15AUG05210429-M1BS-050296486010_01_P002_u16rf3338_OCM_v1_0_7.tif')]\n"
     ]
    },
    {
     "name": "stderr",
     "output_type": "stream",
     "text": [
      "\n",
      "\u001b[Aning inference using cuda bfloat16:   0%|          | 0/1 [00:00<?, ?it/s]\n",
      "\u001b[Aning inference using cuda bfloat16: 100%|██████████| 1/1 [00:05<00:00,  3.10s/it]\n",
      "Running inference using cuda bfloat16: 100%|██████████| 1/1 [00:08<00:00,  8.01s/it]\n"
     ]
    },
    {
     "name": "stdout",
     "output_type": "stream",
     "text": [
      "Predicted [Path('/data/gis/raster_base/Alaska/AKVegMap/EVWHS/mentasta/ortho_toa_subimages_cloud/21AUG30204642-M1BS-050296468010_01_P007_u16rf3338_OCM_v1_0_7.tif')]\n"
     ]
    },
    {
     "name": "stderr",
     "output_type": "stream",
     "text": [
      "\n",
      "\u001b[Aning inference using cuda bfloat16:   0%|          | 0/1 [00:00<?, ?it/s]\n",
      "\u001b[Aning inference using cuda bfloat16: 100%|██████████| 1/1 [00:01<00:00,  1.87s/it]\n",
      "Running inference using cuda bfloat16: 100%|██████████| 1/1 [00:04<00:00,  4.45s/it]\n"
     ]
    },
    {
     "name": "stdout",
     "output_type": "stream",
     "text": [
      "Predicted [Path('/data/gis/raster_base/Alaska/AKVegMap/EVWHS/mentasta/ortho_toa_subimages_cloud/21AUG30204641-M1BS-050296468010_01_P006_u16rf3338_OCM_v1_0_7.tif')]\n"
     ]
    },
    {
     "name": "stderr",
     "output_type": "stream",
     "text": [
      "\n",
      "\u001b[Aning inference using cuda bfloat16:   0%|          | 0/1 [00:00<?, ?it/s]\n",
      "\u001b[Aning inference using cuda bfloat16: 100%|██████████| 1/1 [00:04<00:00,  1.63s/it]\n",
      "Running inference using cuda bfloat16: 100%|██████████| 1/1 [00:07<00:00,  7.10s/it]\n"
     ]
    },
    {
     "name": "stdout",
     "output_type": "stream",
     "text": [
      "Predicted [Path('/data/gis/raster_base/Alaska/AKVegMap/EVWHS/mentasta/ortho_toa_subimages_cloud/23JUL26212320-M1BS-050296496010_01_P010_u16rf3338_OCM_v1_0_7.tif')]\n"
     ]
    },
    {
     "name": "stderr",
     "output_type": "stream",
     "text": [
      "\n",
      "\u001b[Aning inference using cuda bfloat16:   0%|          | 0/1 [00:00<?, ?it/s]\n",
      "\u001b[Aning inference using cuda bfloat16: 100%|██████████| 1/1 [00:05<00:00,  5.05s/it]\n",
      "Running inference using cuda bfloat16: 100%|██████████| 1/1 [01:16<00:00, 76.80s/it]\n"
     ]
    },
    {
     "name": "stdout",
     "output_type": "stream",
     "text": [
      "Predicted [Path('/data/gis/raster_base/Alaska/AKVegMap/EVWHS/mentasta/ortho_toa_subimages_cloud/21JUL12205146-M1BS-050296475010_01_P008_u16rf3338_OCM_v1_0_7.tif')]\n"
     ]
    },
    {
     "name": "stderr",
     "output_type": "stream",
     "text": [
      "\n",
      "\u001b[Aning inference using cuda bfloat16:   0%|          | 0/1 [00:00<?, ?it/s]\n",
      "\u001b[Aning inference using cuda bfloat16: 100%|██████████| 1/1 [00:02<00:00,  2.97s/it]\n",
      "Running inference using cuda bfloat16: 100%|██████████| 1/1 [00:04<00:00,  4.95s/it]\n"
     ]
    },
    {
     "name": "stdout",
     "output_type": "stream",
     "text": [
      "Predicted [Path('/data/gis/raster_base/Alaska/AKVegMap/EVWHS/mentasta/ortho_toa_subimages_cloud/13JUN27211639-M1BS-050296497010_01_P008_u16rf3338_OCM_v1_0_7.tif')]\n"
     ]
    },
    {
     "name": "stderr",
     "output_type": "stream",
     "text": [
      "\n",
      "\u001b[Aning inference using cuda bfloat16:   0%|          | 0/1 [00:00<?, ?it/s]\n",
      "\u001b[Aning inference using cuda bfloat16: 100%|██████████| 1/1 [00:07<00:00,  6.19s/it]\n",
      "Running inference using cuda bfloat16: 100%|██████████| 1/1 [00:10<00:00, 10.08s/it]\n"
     ]
    },
    {
     "name": "stdout",
     "output_type": "stream",
     "text": [
      "Predicted [Path('/data/gis/raster_base/Alaska/AKVegMap/EVWHS/mentasta/ortho_toa_subimages_cloud/21JUL12205138-M1BS-050296475010_01_P002_u16rf3338_OCM_v1_0_7.tif')]\n"
     ]
    },
    {
     "name": "stderr",
     "output_type": "stream",
     "text": [
      "\n",
      "\u001b[Aning inference using cuda bfloat16:   0%|          | 0/1 [00:00<?, ?it/s]\n",
      "\u001b[Aning inference using cuda bfloat16: 100%|██████████| 1/1 [00:05<00:00,  4.57s/it]\n",
      "Running inference using cuda bfloat16: 100%|██████████| 1/1 [00:07<00:00,  7.23s/it]\n"
     ]
    },
    {
     "name": "stdout",
     "output_type": "stream",
     "text": [
      "Predicted [Path('/data/gis/raster_base/Alaska/AKVegMap/EVWHS/mentasta/ortho_toa_subimages_cloud/13JUN27211632-M1BS-050296497010_01_P003_u16rf3338_OCM_v1_0_7.tif')]\n"
     ]
    },
    {
     "name": "stderr",
     "output_type": "stream",
     "text": [
      "\n",
      "\u001b[A/home/mmacander/miniconda3/envs/omni/lib/python3.11/site-packages/omnicloudmask/cloud_mask.py:145: UserWarning: Significant no-data areas detected. Adjusting patch size to 323px and overlap to 161px to minimize no-data patches.\n",
      "  warnings.warn(\n",
      "\n",
      "\u001b[Aning inference using cuda bfloat16: 100%|██████████| 1/1 [00:01<00:00,  1.48s/it]\n",
      "Running inference using cuda bfloat16: 100%|██████████| 1/1 [00:04<00:00,  4.05s/it]\n"
     ]
    },
    {
     "name": "stdout",
     "output_type": "stream",
     "text": [
      "Predicted [Path('/data/gis/raster_base/Alaska/AKVegMap/EVWHS/mentasta/ortho_toa_subimages_cloud/20JUL29212844-M1BS-050296462010_01_P003_u16rf3338_OCM_v1_0_7.tif')]\n"
     ]
    },
    {
     "name": "stderr",
     "output_type": "stream",
     "text": [
      "\n",
      "\u001b[Aning inference using cuda bfloat16:   0%|          | 0/1 [00:00<?, ?it/s]\n",
      "\u001b[Aning inference using cuda bfloat16: 100%|██████████| 1/1 [00:01<00:00,  1.23s/it]\n",
      "Running inference using cuda bfloat16: 100%|██████████| 1/1 [00:04<00:00,  4.66s/it]\n"
     ]
    },
    {
     "name": "stdout",
     "output_type": "stream",
     "text": [
      "Predicted [Path('/data/gis/raster_base/Alaska/AKVegMap/EVWHS/mentasta/ortho_toa_subimages_cloud/17JUL12211743-M1BS-050296465010_01_P010_u16rf3338_OCM_v1_0_7.tif')]\n"
     ]
    },
    {
     "name": "stderr",
     "output_type": "stream",
     "text": [
      "\n",
      "\u001b[Aning inference using cuda bfloat16:   0%|          | 0/1 [00:00<?, ?it/s]\n",
      "\u001b[Aning inference using cuda bfloat16: 100%|██████████| 1/1 [00:04<00:00,  3.10s/it]\n",
      "Running inference using cuda bfloat16: 100%|██████████| 1/1 [00:06<00:00,  6.56s/it]\n"
     ]
    },
    {
     "name": "stdout",
     "output_type": "stream",
     "text": [
      "Predicted [Path('/data/gis/raster_base/Alaska/AKVegMap/EVWHS/mentasta/ortho_toa_subimages_cloud/24JUN29212845-M1BS-050296485010_01_P002_u16rf3338_OCM_v1_0_7.tif')]\n"
     ]
    },
    {
     "name": "stderr",
     "output_type": "stream",
     "text": [
      "\n",
      "\u001b[Aning inference using cuda bfloat16:   0%|          | 0/1 [00:00<?, ?it/s]\n",
      "\u001b[Aning inference using cuda bfloat16: 100%|██████████| 1/1 [00:04<00:00,  4.23s/it]\n",
      "Running inference using cuda bfloat16: 100%|██████████| 1/1 [00:06<00:00,  6.88s/it]\n"
     ]
    },
    {
     "name": "stdout",
     "output_type": "stream",
     "text": [
      "Predicted [Path('/data/gis/raster_base/Alaska/AKVegMap/EVWHS/mentasta/ortho_toa_subimages_cloud/13AUG12211951-M1BS-050296488010_01_P001_u16rf3338_OCM_v1_0_7.tif')]\n"
     ]
    },
    {
     "name": "stderr",
     "output_type": "stream",
     "text": [
      "\n",
      "\u001b[Aning inference using cuda bfloat16:   0%|          | 0/1 [00:00<?, ?it/s]\n",
      "\u001b[Aning inference using cuda bfloat16: 100%|██████████| 1/1 [00:04<00:00,  1.55s/it]\n",
      "Running inference using cuda bfloat16: 100%|██████████| 1/1 [00:06<00:00,  6.41s/it]\n"
     ]
    },
    {
     "name": "stdout",
     "output_type": "stream",
     "text": [
      "Predicted [Path('/data/gis/raster_base/Alaska/AKVegMap/EVWHS/mentasta/ortho_toa_subimages_cloud/17JUL12211700-M1BS-050296469010_01_P010_u16rf3338_OCM_v1_0_7.tif')]\n"
     ]
    },
    {
     "name": "stderr",
     "output_type": "stream",
     "text": [
      "\n",
      "\u001b[Aning inference using cuda bfloat16:   0%|          | 0/1 [00:00<?, ?it/s]\n",
      "\u001b[Aning inference using cuda bfloat16: 100%|██████████| 1/1 [00:01<00:00,  1.62s/it]\n",
      "Running inference using cuda bfloat16: 100%|██████████| 1/1 [00:03<00:00,  3.58s/it]\n"
     ]
    },
    {
     "name": "stdout",
     "output_type": "stream",
     "text": [
      "Predicted [Path('/data/gis/raster_base/Alaska/AKVegMap/EVWHS/mentasta/ortho_toa_subimages_cloud/24JUN29212858-M1BS-050296480010_01_P004_u16rf3338_OCM_v1_0_7.tif')]\n"
     ]
    },
    {
     "name": "stderr",
     "output_type": "stream",
     "text": [
      "\n",
      "\u001b[Aning inference using cuda bfloat16:   0%|          | 0/1 [00:00<?, ?it/s]\n",
      "\u001b[Aning inference using cuda bfloat16: 100%|██████████| 1/1 [00:03<00:00,  3.16s/it]\n",
      "Running inference using cuda bfloat16: 100%|██████████| 1/1 [00:06<00:00,  6.01s/it]\n"
     ]
    },
    {
     "name": "stdout",
     "output_type": "stream",
     "text": [
      "Predicted [Path('/data/gis/raster_base/Alaska/AKVegMap/EVWHS/mentasta/ortho_toa_subimages_cloud/13JUN27211600-M1BS-050296491010_01_P006_u16rf3338_OCM_v1_0_7.tif')]\n"
     ]
    },
    {
     "name": "stderr",
     "output_type": "stream",
     "text": [
      "\n",
      "\u001b[Aning inference using cuda bfloat16:   0%|          | 0/1 [00:00<?, ?it/s]\n",
      "\u001b[Aning inference using cuda bfloat16: 100%|██████████| 1/1 [00:01<00:00,  1.44s/it]\n",
      "Running inference using cuda bfloat16: 100%|██████████| 1/1 [00:02<00:00,  2.99s/it]\n"
     ]
    },
    {
     "name": "stdout",
     "output_type": "stream",
     "text": [
      "Predicted [Path('/data/gis/raster_base/Alaska/AKVegMap/EVWHS/mentasta/ortho_toa_subimages_cloud/20JUL29212806-M1BS-050296459010_01_P002_u16rf3338_OCM_v1_0_7.tif')]\n"
     ]
    },
    {
     "name": "stderr",
     "output_type": "stream",
     "text": [
      "\n",
      "\u001b[Aning inference using cuda bfloat16:   0%|          | 0/1 [00:00<?, ?it/s]\n",
      "\u001b[Aning inference using cuda bfloat16: 100%|██████████| 1/1 [00:03<00:00,  2.56s/it]\n",
      "Running inference using cuda bfloat16: 100%|██████████| 1/1 [00:06<00:00,  6.31s/it]\n"
     ]
    },
    {
     "name": "stdout",
     "output_type": "stream",
     "text": [
      "Predicted [Path('/data/gis/raster_base/Alaska/AKVegMap/EVWHS/mentasta/ortho_toa_subimages_cloud/23JUL26212306-M1BS-050296478010_01_P012_u16rf3338_OCM_v1_0_7.tif')]\n"
     ]
    },
    {
     "name": "stderr",
     "output_type": "stream",
     "text": [
      "\n",
      "\u001b[Aning inference using cuda bfloat16:   0%|          | 0/1 [00:00<?, ?it/s]\n",
      "\u001b[Aning inference using cuda bfloat16: 100%|██████████| 1/1 [00:02<00:00,  1.60s/it]\n",
      "Running inference using cuda bfloat16: 100%|██████████| 1/1 [00:04<00:00,  4.61s/it]\n"
     ]
    },
    {
     "name": "stdout",
     "output_type": "stream",
     "text": [
      "Predicted [Path('/data/gis/raster_base/Alaska/AKVegMap/EVWHS/mentasta/ortho_toa_subimages_cloud/13JUN27211635-M1BS-050296497010_01_P005_u16rf3338_OCM_v1_0_7.tif')]\n"
     ]
    },
    {
     "name": "stderr",
     "output_type": "stream",
     "text": [
      "\n",
      "\u001b[Aning inference using cuda bfloat16:   0%|          | 0/1 [00:00<?, ?it/s]\n",
      "\u001b[Aning inference using cuda bfloat16: 100%|██████████| 1/1 [00:01<00:00,  1.87s/it]\n",
      "Running inference using cuda bfloat16: 100%|██████████| 1/1 [00:05<00:00,  5.31s/it]\n"
     ]
    },
    {
     "name": "stdout",
     "output_type": "stream",
     "text": [
      "Predicted [Path('/data/gis/raster_base/Alaska/AKVegMap/EVWHS/mentasta/ortho_toa_subimages_cloud/23JUL26212322-M1BS-050296496010_01_P009_u16rf3338_OCM_v1_0_7.tif')]\n"
     ]
    },
    {
     "name": "stderr",
     "output_type": "stream",
     "text": [
      "\n",
      "\u001b[Aning inference using cuda bfloat16:   0%|          | 0/1 [00:00<?, ?it/s]\n",
      "\u001b[Aning inference using cuda bfloat16: 100%|██████████| 1/1 [00:04<00:00,  4.66s/it]\n",
      "Running inference using cuda bfloat16: 100%|██████████| 1/1 [00:06<00:00,  6.60s/it]\n"
     ]
    },
    {
     "name": "stdout",
     "output_type": "stream",
     "text": [
      "Predicted [Path('/data/gis/raster_base/Alaska/AKVegMap/EVWHS/mentasta/ortho_toa_subimages_cloud/23JUL21210703-M1BS-050296463010_01_P002_u16rf3338_OCM_v1_0_7.tif')]\n"
     ]
    },
    {
     "name": "stderr",
     "output_type": "stream",
     "text": [
      "\n",
      "\u001b[Aning inference using cuda bfloat16:   0%|          | 0/1 [00:00<?, ?it/s]\n",
      "\u001b[Aning inference using cuda bfloat16: 100%|██████████| 1/1 [00:03<00:00,  3.55s/it]\n",
      "Running inference using cuda bfloat16: 100%|██████████| 1/1 [00:06<00:00,  6.16s/it]\n"
     ]
    },
    {
     "name": "stdout",
     "output_type": "stream",
     "text": [
      "Predicted [Path('/data/gis/raster_base/Alaska/AKVegMap/EVWHS/mentasta/ortho_toa_subimages_cloud/23JUL09214626-M1BS-050296477010_01_P007_u16rf3338_OCM_v1_0_7.tif')]\n"
     ]
    },
    {
     "name": "stderr",
     "output_type": "stream",
     "text": [
      "\n",
      "\u001b[Aning inference using cuda bfloat16:   0%|          | 0/1 [00:00<?, ?it/s]\n",
      "\u001b[Aning inference using cuda bfloat16: 100%|██████████| 1/1 [00:02<00:00,  2.55s/it]\n",
      "Running inference using cuda bfloat16: 100%|██████████| 1/1 [00:06<00:00,  6.23s/it]\n"
     ]
    },
    {
     "name": "stdout",
     "output_type": "stream",
     "text": [
      "Predicted [Path('/data/gis/raster_base/Alaska/AKVegMap/EVWHS/mentasta/ortho_toa_subimages_cloud/23AUG23205623-M1BS-050296457010_01_P002_u16rf3338_OCM_v1_0_7.tif')]\n"
     ]
    },
    {
     "name": "stderr",
     "output_type": "stream",
     "text": [
      "\n",
      "\u001b[Aning inference using cuda bfloat16:   0%|          | 0/1 [00:00<?, ?it/s]\n",
      "\u001b[Aning inference using cuda bfloat16: 100%|██████████| 1/1 [00:03<00:00,  2.56s/it]\n",
      "Running inference using cuda bfloat16: 100%|██████████| 1/1 [00:05<00:00,  5.19s/it]\n"
     ]
    },
    {
     "name": "stdout",
     "output_type": "stream",
     "text": [
      "Predicted [Path('/data/gis/raster_base/Alaska/AKVegMap/EVWHS/mentasta/ortho_toa_subimages_cloud/17JUL12211736-M1BS-050296465010_01_P006_u16rf3338_OCM_v1_0_7.tif')]\n"
     ]
    },
    {
     "name": "stderr",
     "output_type": "stream",
     "text": [
      "\n",
      "\u001b[Aning inference using cuda bfloat16:   0%|          | 0/1 [00:00<?, ?it/s]\n",
      "\u001b[Aning inference using cuda bfloat16: 100%|██████████| 1/1 [00:01<00:00,  1.89s/it]\n",
      "Running inference using cuda bfloat16: 100%|██████████| 1/1 [00:04<00:00,  4.16s/it]\n"
     ]
    },
    {
     "name": "stdout",
     "output_type": "stream",
     "text": [
      "Predicted [Path('/data/gis/raster_base/Alaska/AKVegMap/EVWHS/mentasta/ortho_toa_subimages_cloud/23AUG23205752-M1BS-050296473010_01_P006_u16rf3338_OCM_v1_0_7.tif')]\n"
     ]
    },
    {
     "name": "stderr",
     "output_type": "stream",
     "text": [
      "\n",
      "\u001b[Aning inference using cuda bfloat16:   0%|          | 0/1 [00:00<?, ?it/s]\n",
      "\u001b[Aning inference using cuda bfloat16: 100%|██████████| 1/1 [00:03<00:00,  3.01s/it]\n",
      "Running inference using cuda bfloat16: 100%|██████████| 1/1 [00:04<00:00,  4.58s/it]\n"
     ]
    },
    {
     "name": "stdout",
     "output_type": "stream",
     "text": [
      "Predicted [Path('/data/gis/raster_base/Alaska/AKVegMap/EVWHS/mentasta/ortho_toa_subimages_cloud/20AUG07204701-M1BS-050296472010_01_P001_u16rf3338_OCM_v1_0_7.tif')]\n"
     ]
    },
    {
     "name": "stderr",
     "output_type": "stream",
     "text": [
      "\n",
      "\u001b[Aning inference using cuda bfloat16:   0%|          | 0/1 [00:00<?, ?it/s]\n",
      "\u001b[Aning inference using cuda bfloat16: 100%|██████████| 1/1 [00:02<00:00,  2.84s/it]\n",
      "Running inference using cuda bfloat16: 100%|██████████| 1/1 [00:05<00:00,  5.15s/it]\n"
     ]
    },
    {
     "name": "stdout",
     "output_type": "stream",
     "text": [
      "Predicted [Path('/data/gis/raster_base/Alaska/AKVegMap/EVWHS/mentasta/ortho_toa_subimages_cloud/23JUL21205719-M1BS-050296474010_01_P009_u16rf3338_OCM_v1_0_7.tif')]\n"
     ]
    },
    {
     "name": "stderr",
     "output_type": "stream",
     "text": [
      "\n",
      "\u001b[Aning inference using cuda bfloat16:   0%|          | 0/1 [00:00<?, ?it/s]\n",
      "\u001b[Aning inference using cuda bfloat16: 100%|██████████| 1/1 [00:02<00:00,  1.91s/it]\n",
      "Running inference using cuda bfloat16: 100%|██████████| 1/1 [00:05<00:00,  5.33s/it]\n"
     ]
    },
    {
     "name": "stdout",
     "output_type": "stream",
     "text": [
      "Predicted [Path('/data/gis/raster_base/Alaska/AKVegMap/EVWHS/mentasta/ortho_toa_subimages_cloud/13JUN19211137-M1BS-050296495010_01_P008_u16rf3338_OCM_v1_0_7.tif')]\n"
     ]
    },
    {
     "name": "stderr",
     "output_type": "stream",
     "text": [
      "\n",
      "\u001b[A/home/mmacander/miniconda3/envs/omni/lib/python3.11/site-packages/omnicloudmask/cloud_mask.py:145: UserWarning: Significant no-data areas detected. Adjusting patch size to 199px and overlap to 99px to minimize no-data patches.\n",
      "  warnings.warn(\n",
      "\n",
      "\u001b[Aning inference using cuda bfloat16: 100%|██████████| 1/1 [00:00<00:00,  1.44it/s]\n",
      "Running inference using cuda bfloat16: 100%|██████████| 1/1 [00:01<00:00,  1.62s/it]\n"
     ]
    },
    {
     "name": "stdout",
     "output_type": "stream",
     "text": [
      "Predicted [Path('/data/gis/raster_base/Alaska/AKVegMap/EVWHS/mentasta/ortho_toa_subimages_cloud/24JUN29212912-M1BS-050296500010_01_P010_u16rf3338_OCM_v1_0_7.tif')]\n"
     ]
    },
    {
     "name": "stderr",
     "output_type": "stream",
     "text": [
      "\n",
      "\u001b[Aning inference using cuda bfloat16:   0%|          | 0/1 [00:00<?, ?it/s]\n",
      "\u001b[Aning inference using cuda bfloat16: 100%|██████████| 1/1 [00:01<00:00,  1.50s/it]\n",
      "Running inference using cuda bfloat16: 100%|██████████| 1/1 [00:07<00:00,  7.74s/it]\n"
     ]
    },
    {
     "name": "stdout",
     "output_type": "stream",
     "text": [
      "Predicted [Path('/data/gis/raster_base/Alaska/AKVegMap/EVWHS/mentasta/ortho_toa_subimages_cloud/23JUL26212302-M1BS-050296478010_01_P009_u16rf3338_OCM_v1_0_7.tif')]\n"
     ]
    },
    {
     "name": "stderr",
     "output_type": "stream",
     "text": [
      "\n",
      "\u001b[Aning inference using cuda bfloat16:   0%|          | 0/1 [00:00<?, ?it/s]\n",
      "\u001b[Aning inference using cuda bfloat16: 100%|██████████| 1/1 [00:04<00:00,  3.95s/it]\n",
      "Running inference using cuda bfloat16: 100%|██████████| 1/1 [00:07<00:00,  7.31s/it]\n"
     ]
    },
    {
     "name": "stdout",
     "output_type": "stream",
     "text": [
      "Predicted [Path('/data/gis/raster_base/Alaska/AKVegMap/EVWHS/mentasta/ortho_toa_subimages_cloud/18JUL24214207-M1BS-050296460010_01_P003_u16rf3338_OCM_v1_0_7.tif')]\n"
     ]
    },
    {
     "name": "stderr",
     "output_type": "stream",
     "text": [
      "\n",
      "\u001b[Aning inference using cuda bfloat16:   0%|          | 0/1 [00:00<?, ?it/s]\n",
      "\u001b[Aning inference using cuda bfloat16: 100%|██████████| 1/1 [00:01<00:00,  1.46s/it]\n",
      "Running inference using cuda bfloat16: 100%|██████████| 1/1 [00:03<00:00,  3.71s/it]\n"
     ]
    },
    {
     "name": "stdout",
     "output_type": "stream",
     "text": [
      "Predicted [Path('/data/gis/raster_base/Alaska/AKVegMap/EVWHS/mentasta/ortho_toa_subimages_cloud/21AUG25211351-M1BS-050296481010_01_P001_u16rf3338_OCM_v1_0_7.tif')]\n"
     ]
    },
    {
     "name": "stderr",
     "output_type": "stream",
     "text": [
      "\n",
      "\u001b[Aning inference using cuda bfloat16:   0%|          | 0/1 [00:00<?, ?it/s]\n",
      "\u001b[Aning inference using cuda bfloat16: 100%|██████████| 1/1 [00:01<00:00,  1.65s/it]\n",
      "Running inference using cuda bfloat16: 100%|██████████| 1/1 [00:03<00:00,  3.01s/it]\n"
     ]
    },
    {
     "name": "stdout",
     "output_type": "stream",
     "text": [
      "Predicted [Path('/data/gis/raster_base/Alaska/AKVegMap/EVWHS/mentasta/ortho_toa_subimages_cloud/13JUN27211618-M1BS-050296482010_01_P004_u16rf3338_OCM_v1_0_7.tif')]\n"
     ]
    },
    {
     "name": "stderr",
     "output_type": "stream",
     "text": [
      "\n",
      "\u001b[A/home/mmacander/miniconda3/envs/omni/lib/python3.11/site-packages/omnicloudmask/cloud_mask.py:145: UserWarning: Significant no-data areas detected. Adjusting patch size to 905px and overlap to 300px to minimize no-data patches.\n",
      "  warnings.warn(\n",
      "\n",
      "\u001b[Aning inference using cuda bfloat16: 100%|██████████| 1/1 [00:02<00:00,  1.49s/it]\n",
      "Running inference using cuda bfloat16: 100%|██████████| 1/1 [00:04<00:00,  4.29s/it]\n"
     ]
    },
    {
     "name": "stdout",
     "output_type": "stream",
     "text": [
      "Predicted [Path('/data/gis/raster_base/Alaska/AKVegMap/EVWHS/mentasta/ortho_toa_subimages_cloud/23AUG23205631-M1BS-050296457010_01_P009_u16rf3338_OCM_v1_0_7.tif')]\n"
     ]
    },
    {
     "name": "stderr",
     "output_type": "stream",
     "text": [
      "\n",
      "\u001b[A/home/mmacander/miniconda3/envs/omni/lib/python3.11/site-packages/omnicloudmask/cloud_mask.py:145: UserWarning: Significant no-data areas detected. Adjusting patch size to 327px and overlap to 163px to minimize no-data patches.\n",
      "  warnings.warn(\n",
      "\n",
      "\u001b[Aning inference using cuda bfloat16: 100%|██████████| 1/1 [00:06<00:00,  4.59s/it]\n",
      "Running inference using cuda bfloat16: 100%|██████████| 1/1 [00:07<00:00,  7.59s/it]\n"
     ]
    },
    {
     "name": "stdout",
     "output_type": "stream",
     "text": [
      "Predicted [Path('/data/gis/raster_base/Alaska/AKVegMap/EVWHS/mentasta/ortho_toa_subimages_cloud/23JUL26212309-M1BS-050296478010_01_P014_u16rf3338_OCM_v1_0_7.tif')]\n"
     ]
    },
    {
     "name": "stderr",
     "output_type": "stream",
     "text": [
      "\n",
      "\u001b[Aning inference using cuda bfloat16:   0%|          | 0/1 [00:00<?, ?it/s]\n",
      "\u001b[Aning inference using cuda bfloat16: 100%|██████████| 1/1 [00:01<00:00,  1.98s/it]\n",
      "Running inference using cuda bfloat16: 100%|██████████| 1/1 [00:04<00:00,  4.80s/it]\n"
     ]
    },
    {
     "name": "stdout",
     "output_type": "stream",
     "text": [
      "Predicted [Path('/data/gis/raster_base/Alaska/AKVegMap/EVWHS/mentasta/ortho_toa_subimages_cloud/21JUL12205302-M1BS-050296458010_01_P005_u16rf3338_OCM_v1_0_7.tif')]\n"
     ]
    },
    {
     "name": "stderr",
     "output_type": "stream",
     "text": [
      "\n",
      "\u001b[Aning inference using cuda bfloat16:   0%|          | 0/1 [00:00<?, ?it/s]\n",
      "\u001b[Aning inference using cuda bfloat16: 100%|██████████| 1/1 [00:04<00:00,  2.63s/it]\n",
      "Running inference using cuda bfloat16: 100%|██████████| 1/1 [00:05<00:00,  5.81s/it]\n"
     ]
    },
    {
     "name": "stdout",
     "output_type": "stream",
     "text": [
      "Predicted [Path('/data/gis/raster_base/Alaska/AKVegMap/EVWHS/mentasta/ortho_toa_subimages_cloud/21AUG30204812-M1BS-050296461010_01_P007_u16rf3338_OCM_v1_0_7.tif')]\n"
     ]
    },
    {
     "name": "stderr",
     "output_type": "stream",
     "text": [
      "\n",
      "\u001b[Aning inference using cuda bfloat16:   0%|          | 0/1 [00:00<?, ?it/s]\n",
      "\u001b[Aning inference using cuda bfloat16: 100%|██████████| 1/1 [00:04<00:00,  4.09s/it]\n",
      "Running inference using cuda bfloat16: 100%|██████████| 1/1 [00:07<00:00,  7.14s/it]\n"
     ]
    },
    {
     "name": "stdout",
     "output_type": "stream",
     "text": [
      "Predicted [Path('/data/gis/raster_base/Alaska/AKVegMap/EVWHS/mentasta/ortho_toa_subimages_cloud/13JUN27211555-M1BS-050296491010_01_P002_u16rf3338_OCM_v1_0_7.tif')]\n"
     ]
    },
    {
     "name": "stderr",
     "output_type": "stream",
     "text": [
      "\n",
      "\u001b[A/home/mmacander/miniconda3/envs/omni/lib/python3.11/site-packages/omnicloudmask/cloud_mask.py:154: UserWarning: Patch size too large, reducing to 486 and overlap to 243.\n",
      "  warnings.warn(\n",
      "\n",
      "\u001b[Aning inference using cuda bfloat16: 100%|██████████| 1/1 [00:03<00:00,  1.73s/it]\n",
      "Running inference using cuda bfloat16: 100%|██████████| 1/1 [00:03<00:00,  3.86s/it]\n"
     ]
    },
    {
     "name": "stdout",
     "output_type": "stream",
     "text": [
      "Predicted [Path('/data/gis/raster_base/Alaska/AKVegMap/EVWHS/mentasta/ortho_toa_subimages_cloud/21AUG30204815-M1BS-050296461010_01_P010_u16rf3338_OCM_v1_0_7.tif')]\n"
     ]
    },
    {
     "name": "stderr",
     "output_type": "stream",
     "text": [
      "\n",
      "\u001b[Aning inference using cuda bfloat16:   0%|          | 0/1 [00:00<?, ?it/s]\n",
      "\u001b[Aning inference using cuda bfloat16: 100%|██████████| 1/1 [00:01<00:00,  1.53s/it]\n",
      "Running inference using cuda bfloat16: 100%|██████████| 1/1 [00:04<00:00,  4.41s/it]\n"
     ]
    },
    {
     "name": "stdout",
     "output_type": "stream",
     "text": [
      "Predicted [Path('/data/gis/raster_base/Alaska/AKVegMap/EVWHS/mentasta/ortho_toa_subimages_cloud/21JUL12205300-M1BS-050296458010_01_P003_u16rf3338_OCM_v1_0_7.tif')]\n"
     ]
    },
    {
     "name": "stderr",
     "output_type": "stream",
     "text": [
      "\n",
      "\u001b[Aning inference using cuda bfloat16:   0%|          | 0/1 [00:00<?, ?it/s]\n",
      "\u001b[Aning inference using cuda bfloat16: 100%|██████████| 1/1 [00:03<00:00,  2.38s/it]\n",
      "Running inference using cuda bfloat16: 100%|██████████| 1/1 [00:06<00:00,  6.67s/it]\n"
     ]
    },
    {
     "name": "stdout",
     "output_type": "stream",
     "text": [
      "Predicted [Path('/data/gis/raster_base/Alaska/AKVegMap/EVWHS/mentasta/ortho_toa_subimages_cloud/13JUL27210949-M1BS-050296487010_01_P007_u16rf3338_OCM_v1_0_7.tif')]\n"
     ]
    },
    {
     "name": "stderr",
     "output_type": "stream",
     "text": [
      "\n",
      "\u001b[A/home/mmacander/miniconda3/envs/omni/lib/python3.11/site-packages/omnicloudmask/cloud_mask.py:145: UserWarning: Significant no-data areas detected. Adjusting patch size to 334px and overlap to 167px to minimize no-data patches.\n",
      "  warnings.warn(\n",
      "\n",
      "\u001b[Aning inference using cuda bfloat16: 100%|██████████| 1/1 [00:01<00:00,  1.10s/it]\n",
      "Running inference using cuda bfloat16: 100%|██████████| 1/1 [00:02<00:00,  2.89s/it]\n"
     ]
    },
    {
     "name": "stdout",
     "output_type": "stream",
     "text": [
      "Predicted [Path('/data/gis/raster_base/Alaska/AKVegMap/EVWHS/mentasta/ortho_toa_subimages_cloud/21AUG25211355-M1BS-050296481010_01_P003_u16rf3338_OCM_v1_0_7.tif')]\n"
     ]
    },
    {
     "name": "stderr",
     "output_type": "stream",
     "text": [
      "\n",
      "\u001b[A/home/mmacander/miniconda3/envs/omni/lib/python3.11/site-packages/omnicloudmask/cloud_mask.py:145: UserWarning: Significant no-data areas detected. Adjusting patch size to 674px and overlap to 300px to minimize no-data patches.\n",
      "  warnings.warn(\n",
      "\n",
      "\u001b[Aning inference using cuda bfloat16: 100%|██████████| 1/1 [00:01<00:00,  1.86s/it]\n",
      "Running inference using cuda bfloat16: 100%|██████████| 1/1 [00:02<00:00,  2.61s/it]\n"
     ]
    },
    {
     "name": "stdout",
     "output_type": "stream",
     "text": [
      "Predicted [Path('/data/gis/raster_base/Alaska/AKVegMap/EVWHS/mentasta/ortho_toa_subimages_cloud/17JUL12211645-M1BS-050296490010_01_P014_u16rf3338_OCM_v1_0_7.tif')]\n"
     ]
    },
    {
     "name": "stderr",
     "output_type": "stream",
     "text": [
      "\n",
      "\u001b[Aning inference using cuda bfloat16:   0%|          | 0/1 [00:00<?, ?it/s]\n",
      "\u001b[Aning inference using cuda bfloat16: 100%|██████████| 1/1 [00:02<00:00,  2.80s/it]\n",
      "Running inference using cuda bfloat16: 100%|██████████| 1/1 [00:05<00:00,  5.40s/it]\n"
     ]
    },
    {
     "name": "stdout",
     "output_type": "stream",
     "text": [
      "Predicted [Path('/data/gis/raster_base/Alaska/AKVegMap/EVWHS/mentasta/ortho_toa_subimages_cloud/23JUL21205706-M1BS-050296474010_01_P002_u16rf3338_OCM_v1_0_7.tif')]\n"
     ]
    },
    {
     "name": "stderr",
     "output_type": "stream",
     "text": [
      "\n",
      "\u001b[Aning inference using cuda bfloat16:   0%|          | 0/1 [00:00<?, ?it/s]\n",
      "\u001b[Aning inference using cuda bfloat16: 100%|██████████| 1/1 [00:05<00:00,  5.72s/it]\n",
      "Running inference using cuda bfloat16: 100%|██████████| 1/1 [00:10<00:00, 10.03s/it]\n"
     ]
    },
    {
     "name": "stdout",
     "output_type": "stream",
     "text": [
      "Predicted [Path('/data/gis/raster_base/Alaska/AKVegMap/EVWHS/mentasta/ortho_toa_subimages_cloud/23JUL26212324-M1BS-050296496010_01_P007_u16rf3338_OCM_v1_0_7.tif')]\n"
     ]
    },
    {
     "name": "stderr",
     "output_type": "stream",
     "text": [
      "\n",
      "\u001b[Aning inference using cuda bfloat16:   0%|          | 0/1 [00:00<?, ?it/s]\n",
      "\u001b[Aning inference using cuda bfloat16: 100%|██████████| 1/1 [00:01<00:00,  1.47s/it]\n",
      "Running inference using cuda bfloat16: 100%|██████████| 1/1 [00:05<00:00,  5.30s/it]\n"
     ]
    },
    {
     "name": "stdout",
     "output_type": "stream",
     "text": [
      "Predicted [Path('/data/gis/raster_base/Alaska/AKVegMap/EVWHS/mentasta/ortho_toa_subimages_cloud/13JUN27211621-M1BS-050296482010_01_P002_u16rf3338_OCM_v1_0_7.tif')]\n"
     ]
    },
    {
     "name": "stderr",
     "output_type": "stream",
     "text": [
      "\n",
      "\u001b[Aning inference using cuda bfloat16:   0%|          | 0/1 [00:00<?, ?it/s]\n",
      "\u001b[Aning inference using cuda bfloat16: 100%|██████████| 1/1 [00:02<00:00,  2.01s/it]\n",
      "Running inference using cuda bfloat16: 100%|██████████| 1/1 [00:04<00:00,  4.52s/it]\n"
     ]
    },
    {
     "name": "stdout",
     "output_type": "stream",
     "text": [
      "Predicted [Path('/data/gis/raster_base/Alaska/AKVegMap/EVWHS/mentasta/ortho_toa_subimages_cloud/23JUL26212329-M1BS-050296496010_01_P003_u16rf3338_OCM_v1_0_7.tif')]\n"
     ]
    },
    {
     "name": "stderr",
     "output_type": "stream",
     "text": [
      "\n",
      "\u001b[Aning inference using cuda bfloat16:   0%|          | 0/1 [00:00<?, ?it/s]\n",
      "\u001b[Aning inference using cuda bfloat16: 100%|██████████| 1/1 [00:02<00:00,  2.04s/it]\n",
      "Running inference using cuda bfloat16: 100%|██████████| 1/1 [00:06<00:00,  6.14s/it]\n"
     ]
    },
    {
     "name": "stdout",
     "output_type": "stream",
     "text": [
      "Predicted [Path('/data/gis/raster_base/Alaska/AKVegMap/EVWHS/mentasta/ortho_toa_subimages_cloud/23AUG23205754-M1BS-050296473010_01_P008_u16rf3338_OCM_v1_0_7.tif')]\n"
     ]
    },
    {
     "name": "stderr",
     "output_type": "stream",
     "text": [
      "\n",
      "\u001b[Aning inference using cuda bfloat16:   0%|          | 0/1 [00:00<?, ?it/s]\n",
      "\u001b[Aning inference using cuda bfloat16: 100%|██████████| 1/1 [00:01<00:00,  1.71s/it]\n",
      "Running inference using cuda bfloat16: 100%|██████████| 1/1 [00:04<00:00,  4.48s/it]\n"
     ]
    },
    {
     "name": "stdout",
     "output_type": "stream",
     "text": [
      "Predicted [Path('/data/gis/raster_base/Alaska/AKVegMap/EVWHS/mentasta/ortho_toa_subimages_cloud/16JUN15214204-M1BS-050296498010_01_P005_u16rf3338_OCM_v1_0_7.tif')]\n"
     ]
    },
    {
     "name": "stderr",
     "output_type": "stream",
     "text": [
      "\n",
      "\u001b[Aning inference using cuda bfloat16:   0%|          | 0/1 [00:00<?, ?it/s]\n",
      "\u001b[Aning inference using cuda bfloat16: 100%|██████████| 1/1 [00:02<00:00,  2.76s/it]\n",
      "Running inference using cuda bfloat16: 100%|██████████| 1/1 [00:06<00:00,  6.05s/it]\n"
     ]
    },
    {
     "name": "stdout",
     "output_type": "stream",
     "text": [
      "Predicted [Path('/data/gis/raster_base/Alaska/AKVegMap/EVWHS/mentasta/ortho_toa_subimages_cloud/20JUL29212804-M1BS-050296459010_01_P001_u16rf3338_OCM_v1_0_7.tif')]\n"
     ]
    },
    {
     "name": "stderr",
     "output_type": "stream",
     "text": [
      "\n",
      "\u001b[Aning inference using cuda bfloat16:   0%|          | 0/1 [00:00<?, ?it/s]\n",
      "\u001b[Aning inference using cuda bfloat16: 100%|██████████| 1/1 [00:01<00:00,  1.48s/it]\n",
      "Running inference using cuda bfloat16: 100%|██████████| 1/1 [00:04<00:00,  4.99s/it]\n"
     ]
    },
    {
     "name": "stdout",
     "output_type": "stream",
     "text": [
      "Predicted [Path('/data/gis/raster_base/Alaska/AKVegMap/EVWHS/mentasta/ortho_toa_subimages_cloud/17JUL12211624-M1BS-050296490010_01_P002_u16rf3338_OCM_v1_0_7.tif')]\n"
     ]
    },
    {
     "name": "stderr",
     "output_type": "stream",
     "text": [
      "\n",
      "\u001b[Aning inference using cuda bfloat16:   0%|          | 0/1 [00:00<?, ?it/s]\n",
      "\u001b[Aning inference using cuda bfloat16: 100%|██████████| 1/1 [00:01<00:00,  1.55s/it]\n",
      "Running inference using cuda bfloat16: 100%|██████████| 1/1 [00:05<00:00,  5.02s/it]\n"
     ]
    },
    {
     "name": "stdout",
     "output_type": "stream",
     "text": [
      "Predicted [Path('/data/gis/raster_base/Alaska/AKVegMap/EVWHS/mentasta/ortho_toa_subimages_cloud/18JUL21211751-M1BS-050296502010_01_P005_u16rf3338_OCM_v1_0_7.tif')]\n"
     ]
    },
    {
     "name": "stderr",
     "output_type": "stream",
     "text": [
      "\n",
      "\u001b[Aning inference using cuda bfloat16:   0%|          | 0/1 [00:00<?, ?it/s]\n",
      "\u001b[Aning inference using cuda bfloat16: 100%|██████████| 1/1 [00:01<00:00,  1.75s/it]\n",
      "Running inference using cuda bfloat16: 100%|██████████| 1/1 [00:04<00:00,  4.44s/it]\n"
     ]
    },
    {
     "name": "stdout",
     "output_type": "stream",
     "text": [
      "Predicted [Path('/data/gis/raster_base/Alaska/AKVegMap/EVWHS/mentasta/ortho_toa_subimages_cloud/13JUL27210955-M1BS-050296487010_01_P002_u16rf3338_OCM_v1_0_7.tif')]\n"
     ]
    },
    {
     "name": "stderr",
     "output_type": "stream",
     "text": [
      "\n",
      "\u001b[Aning inference using cuda bfloat16:   0%|          | 0/1 [00:00<?, ?it/s]\n",
      "\u001b[Aning inference using cuda bfloat16: 100%|██████████| 1/1 [00:01<00:00,  1.73s/it]\n",
      "Running inference using cuda bfloat16: 100%|██████████| 1/1 [00:04<00:00,  4.18s/it]\n"
     ]
    },
    {
     "name": "stdout",
     "output_type": "stream",
     "text": [
      "Predicted [Path('/data/gis/raster_base/Alaska/AKVegMap/EVWHS/mentasta/ortho_toa_subimages_cloud/18JUL21211746-M1BS-050296502010_01_P001_u16rf3338_OCM_v1_0_7.tif')]\n"
     ]
    },
    {
     "name": "stderr",
     "output_type": "stream",
     "text": [
      "\n",
      "\u001b[Aning inference using cuda bfloat16:   0%|          | 0/1 [00:00<?, ?it/s]\n",
      "\u001b[Aning inference using cuda bfloat16: 100%|██████████| 1/1 [00:04<00:00,  2.95s/it]\n",
      "Running inference using cuda bfloat16: 100%|██████████| 1/1 [00:05<00:00,  5.98s/it]\n"
     ]
    },
    {
     "name": "stdout",
     "output_type": "stream",
     "text": [
      "Predicted [Path('/data/gis/raster_base/Alaska/AKVegMap/EVWHS/mentasta/ortho_toa_subimages_cloud/18JUL24214212-M1BS-050296460010_01_P006_u16rf3338_OCM_v1_0_7.tif')]\n"
     ]
    },
    {
     "name": "stderr",
     "output_type": "stream",
     "text": [
      "\n",
      "\u001b[Aning inference using cuda bfloat16:   0%|          | 0/1 [00:00<?, ?it/s]\n",
      "\u001b[Aning inference using cuda bfloat16: 100%|██████████| 1/1 [00:01<00:00,  1.60s/it]\n",
      "Running inference using cuda bfloat16: 100%|██████████| 1/1 [00:03<00:00,  3.65s/it]\n"
     ]
    },
    {
     "name": "stdout",
     "output_type": "stream",
     "text": [
      "Predicted [Path('/data/gis/raster_base/Alaska/AKVegMap/EVWHS/mentasta/ortho_toa_subimages_cloud/20AUG03210841-M1BS-050296484010_01_P002_u16rf3338_OCM_v1_0_7.tif')]\n"
     ]
    },
    {
     "name": "stderr",
     "output_type": "stream",
     "text": [
      "\n",
      "\u001b[Aning inference using cuda bfloat16:   0%|          | 0/1 [00:00<?, ?it/s]\n",
      "\u001b[Aning inference using cuda bfloat16: 100%|██████████| 1/1 [00:05<00:00,  4.30s/it]\n",
      "Running inference using cuda bfloat16: 100%|██████████| 1/1 [00:12<00:00, 12.21s/it]\n"
     ]
    },
    {
     "name": "stdout",
     "output_type": "stream",
     "text": [
      "Predicted [Path('/data/gis/raster_base/Alaska/AKVegMap/EVWHS/mentasta/ortho_toa_subimages_cloud/23AUG23205750-M1BS-050296473010_01_P004_u16rf3338_OCM_v1_0_7.tif')]\n"
     ]
    },
    {
     "name": "stderr",
     "output_type": "stream",
     "text": [
      "\n",
      "\u001b[Aning inference using cuda bfloat16:   0%|          | 0/1 [00:00<?, ?it/s]\n",
      "\u001b[Aning inference using cuda bfloat16: 100%|██████████| 1/1 [00:01<00:00,  1.95s/it]\n",
      "Running inference using cuda bfloat16: 100%|██████████| 1/1 [00:06<00:00,  6.07s/it]\n"
     ]
    },
    {
     "name": "stdout",
     "output_type": "stream",
     "text": [
      "Predicted [Path('/data/gis/raster_base/Alaska/AKVegMap/EVWHS/mentasta/ortho_toa_subimages_cloud/13JUN27211614-M1BS-050296482010_01_P007_u16rf3338_OCM_v1_0_7.tif')]\n"
     ]
    },
    {
     "name": "stderr",
     "output_type": "stream",
     "text": [
      "\n",
      "\u001b[Aning inference using cuda bfloat16:   0%|          | 0/1 [00:00<?, ?it/s]\n",
      "\u001b[Aning inference using cuda bfloat16: 100%|██████████| 1/1 [00:03<00:00,  3.13s/it]\n",
      "Running inference using cuda bfloat16: 100%|██████████| 1/1 [00:06<00:00,  6.12s/it]\n"
     ]
    },
    {
     "name": "stdout",
     "output_type": "stream",
     "text": [
      "Predicted [Path('/data/gis/raster_base/Alaska/AKVegMap/EVWHS/mentasta/ortho_toa_subimages_cloud/17JUL12211627-M1BS-050296490010_01_P004_u16rf3338_OCM_v1_0_7.tif')]\n"
     ]
    },
    {
     "name": "stderr",
     "output_type": "stream",
     "text": [
      "\n",
      "\u001b[Aning inference using cuda bfloat16:   0%|          | 0/1 [00:00<?, ?it/s]\n",
      "\u001b[Aning inference using cuda bfloat16: 100%|██████████| 1/1 [00:02<00:00,  1.83s/it]\n",
      "Running inference using cuda bfloat16: 100%|██████████| 1/1 [00:05<00:00,  5.28s/it]\n"
     ]
    },
    {
     "name": "stdout",
     "output_type": "stream",
     "text": [
      "Predicted [Path('/data/gis/raster_base/Alaska/AKVegMap/EVWHS/mentasta/ortho_toa_subimages_cloud/20AUG07204739-M1BS-050296470010_01_P001_u16rf3338_OCM_v1_0_7.tif')]\n"
     ]
    },
    {
     "name": "stderr",
     "output_type": "stream",
     "text": [
      "\n",
      "\u001b[Aning inference using cuda bfloat16:   0%|          | 0/1 [00:00<?, ?it/s]\n",
      "\u001b[Aning inference using cuda bfloat16: 100%|██████████| 1/1 [00:01<00:00,  1.71s/it]\n",
      "Running inference using cuda bfloat16: 100%|██████████| 1/1 [00:06<00:00,  6.46s/it]\n"
     ]
    },
    {
     "name": "stdout",
     "output_type": "stream",
     "text": [
      "Predicted [Path('/data/gis/raster_base/Alaska/AKVegMap/EVWHS/mentasta/ortho_toa_subimages_cloud/17JUL12211712-M1BS-050296469010_01_P004_u16rf3338_OCM_v1_0_7.tif')]\n"
     ]
    },
    {
     "name": "stderr",
     "output_type": "stream",
     "text": [
      "\n",
      "\u001b[Aning inference using cuda bfloat16:   0%|          | 0/1 [00:00<?, ?it/s]\n",
      "\u001b[Aning inference using cuda bfloat16: 100%|██████████| 1/1 [00:01<00:00,  1.62s/it]\n",
      "Running inference using cuda bfloat16: 100%|██████████| 1/1 [00:07<00:00,  7.08s/it]\n"
     ]
    },
    {
     "name": "stdout",
     "output_type": "stream",
     "text": [
      "Predicted [Path('/data/gis/raster_base/Alaska/AKVegMap/EVWHS/mentasta/ortho_toa_subimages_cloud/24JUN29212912-M1BS-050296500010_01_P009_u16rf3338_OCM_v1_0_7.tif')]\n"
     ]
    },
    {
     "name": "stderr",
     "output_type": "stream",
     "text": [
      "\n",
      "\u001b[Aning inference using cuda bfloat16:   0%|          | 0/1 [00:00<?, ?it/s]\n",
      "\u001b[Aning inference using cuda bfloat16: 100%|██████████| 1/1 [00:02<00:00,  1.32s/it]\n",
      "Running inference using cuda bfloat16: 100%|██████████| 1/1 [00:05<00:00,  5.19s/it]\n"
     ]
    },
    {
     "name": "stdout",
     "output_type": "stream",
     "text": [
      "Predicted [Path('/data/gis/raster_base/Alaska/AKVegMap/EVWHS/mentasta/ortho_toa_subimages_cloud/21JUL12205258-M1BS-050296458010_01_P001_u16rf3338_OCM_v1_0_7.tif')]\n"
     ]
    },
    {
     "name": "stderr",
     "output_type": "stream",
     "text": [
      "\n",
      "\u001b[Aning inference using cuda bfloat16:   0%|          | 0/1 [00:00<?, ?it/s]\n",
      "\u001b[Aning inference using cuda bfloat16: 100%|██████████| 1/1 [00:01<00:00,  1.87s/it]\n",
      "Running inference using cuda bfloat16: 100%|██████████| 1/1 [00:04<00:00,  4.48s/it]\n"
     ]
    },
    {
     "name": "stdout",
     "output_type": "stream",
     "text": [
      "Predicted [Path('/data/gis/raster_base/Alaska/AKVegMap/EVWHS/mentasta/ortho_toa_subimages_cloud/23JUL26212251-M1BS-050296478010_01_P001_u16rf3338_OCM_v1_0_7.tif')]\n"
     ]
    },
    {
     "name": "stderr",
     "output_type": "stream",
     "text": [
      "\n",
      "\u001b[Aning inference using cuda bfloat16:   0%|          | 0/1 [00:00<?, ?it/s]\n",
      "\u001b[Aning inference using cuda bfloat16: 100%|██████████| 1/1 [00:04<00:00,  1.90s/it]\n",
      "Running inference using cuda bfloat16: 100%|██████████| 1/1 [00:10<00:00, 10.19s/it]\n"
     ]
    },
    {
     "name": "stdout",
     "output_type": "stream",
     "text": [
      "Predicted [Path('/data/gis/raster_base/Alaska/AKVegMap/EVWHS/mentasta/ortho_toa_subimages_cloud/23AUG23205753-M1BS-050296473010_01_P007_u16rf3338_OCM_v1_0_7.tif')]\n"
     ]
    },
    {
     "name": "stderr",
     "output_type": "stream",
     "text": [
      "\n",
      "\u001b[Aning inference using cuda bfloat16:   0%|          | 0/1 [00:00<?, ?it/s]\n",
      "\u001b[Aning inference using cuda bfloat16: 100%|██████████| 1/1 [00:01<00:00,  1.22s/it]\n",
      "Running inference using cuda bfloat16: 100%|██████████| 1/1 [00:05<00:00,  5.86s/it]\n"
     ]
    },
    {
     "name": "stdout",
     "output_type": "stream",
     "text": [
      "Predicted [Path('/data/gis/raster_base/Alaska/AKVegMap/EVWHS/mentasta/ortho_toa_subimages_cloud/13JUN27211641-M1BS-050296497010_01_P009_u16rf3338_OCM_v1_0_7.tif')]\n"
     ]
    },
    {
     "name": "stderr",
     "output_type": "stream",
     "text": [
      "\n",
      "\u001b[Aning inference using cuda bfloat16:   0%|          | 0/1 [00:00<?, ?it/s]\n",
      "\u001b[Aning inference using cuda bfloat16: 100%|██████████| 1/1 [00:04<00:00,  3.41s/it]\n",
      "Running inference using cuda bfloat16: 100%|██████████| 1/1 [00:06<00:00,  6.78s/it]\n"
     ]
    },
    {
     "name": "stdout",
     "output_type": "stream",
     "text": [
      "Predicted [Path('/data/gis/raster_base/Alaska/AKVegMap/EVWHS/mentasta/ortho_toa_subimages_cloud/13JUN19211128-M1BS-050296495010_01_P001_u16rf3338_OCM_v1_0_7.tif')]\n"
     ]
    },
    {
     "name": "stderr",
     "output_type": "stream",
     "text": [
      "\n",
      "\u001b[Aning inference using cuda bfloat16:   0%|          | 0/1 [00:00<?, ?it/s]\n",
      "\u001b[Aning inference using cuda bfloat16: 100%|██████████| 1/1 [00:01<00:00,  1.71s/it]\n",
      "Running inference using cuda bfloat16: 100%|██████████| 1/1 [00:05<00:00,  5.23s/it]\n"
     ]
    },
    {
     "name": "stdout",
     "output_type": "stream",
     "text": [
      "Predicted [Path('/data/gis/raster_base/Alaska/AKVegMap/EVWHS/mentasta/ortho_toa_subimages_cloud/13JUN27211602-M1BS-050296491010_01_P008_u16rf3338_OCM_v1_0_7.tif')]\n"
     ]
    },
    {
     "name": "stderr",
     "output_type": "stream",
     "text": [
      "\n",
      "\u001b[Aning inference using cuda bfloat16:   0%|          | 0/1 [00:00<?, ?it/s]\n",
      "\u001b[Aning inference using cuda bfloat16: 100%|██████████| 1/1 [00:01<00:00,  1.96s/it]\n",
      "Running inference using cuda bfloat16: 100%|██████████| 1/1 [00:07<00:00,  7.04s/it]\n"
     ]
    },
    {
     "name": "stdout",
     "output_type": "stream",
     "text": [
      "Predicted [Path('/data/gis/raster_base/Alaska/AKVegMap/EVWHS/mentasta/ortho_toa_subimages_cloud/13JUN27211634-M1BS-050296497010_01_P004_u16rf3338_OCM_v1_0_7.tif')]\n"
     ]
    },
    {
     "name": "stderr",
     "output_type": "stream",
     "text": [
      "\n",
      "\u001b[Aning inference using cuda bfloat16:   0%|          | 0/1 [00:00<?, ?it/s]\n",
      "\u001b[Aning inference using cuda bfloat16: 100%|██████████| 1/1 [00:03<00:00,  3.22s/it]\n",
      "Running inference using cuda bfloat16: 100%|██████████| 1/1 [00:05<00:00,  5.13s/it]\n"
     ]
    },
    {
     "name": "stdout",
     "output_type": "stream",
     "text": [
      "Predicted [Path('/data/gis/raster_base/Alaska/AKVegMap/EVWHS/mentasta/ortho_toa_subimages_cloud/23JUL21210513-M1BS-050296456010_01_P004_u16rf3338_OCM_v1_0_7.tif')]\n"
     ]
    },
    {
     "name": "stderr",
     "output_type": "stream",
     "text": [
      "\n",
      "\u001b[Aning inference using cuda bfloat16:   0%|          | 0/1 [00:00<?, ?it/s]\n",
      "\u001b[Aning inference using cuda bfloat16: 100%|██████████| 1/1 [00:02<00:00,  1.71s/it]\n",
      "Running inference using cuda bfloat16: 100%|██████████| 1/1 [00:05<00:00,  5.45s/it]\n"
     ]
    },
    {
     "name": "stdout",
     "output_type": "stream",
     "text": [
      "Predicted [Path('/data/gis/raster_base/Alaska/AKVegMap/EVWHS/mentasta/ortho_toa_subimages_cloud/21JUL12205137-M1BS-050296475010_01_P001_u16rf3338_OCM_v1_0_7.tif')]\n"
     ]
    },
    {
     "name": "stderr",
     "output_type": "stream",
     "text": [
      "\n",
      "\u001b[Aning inference using cuda bfloat16:   0%|          | 0/1 [00:00<?, ?it/s]\n",
      "\u001b[Aning inference using cuda bfloat16: 100%|██████████| 1/1 [00:03<00:00,  1.79s/it]\n",
      "Running inference using cuda bfloat16: 100%|██████████| 1/1 [00:05<00:00,  5.65s/it]\n"
     ]
    },
    {
     "name": "stdout",
     "output_type": "stream",
     "text": [
      "Predicted [Path('/data/gis/raster_base/Alaska/AKVegMap/EVWHS/mentasta/ortho_toa_subimages_cloud/20AUG03210839-M1BS-050296484010_01_P001_u16rf3338_OCM_v1_0_7.tif')]\n"
     ]
    },
    {
     "name": "stderr",
     "output_type": "stream",
     "text": [
      "\n",
      "\u001b[Aning inference using cuda bfloat16:   0%|          | 0/1 [00:00<?, ?it/s]\n",
      "\u001b[Aning inference using cuda bfloat16: 100%|██████████| 1/1 [00:05<00:00,  5.13s/it]\n",
      "Running inference using cuda bfloat16: 100%|██████████| 1/1 [00:08<00:00,  8.86s/it]\n"
     ]
    },
    {
     "name": "stdout",
     "output_type": "stream",
     "text": [
      "Predicted [Path('/data/gis/raster_base/Alaska/AKVegMap/EVWHS/mentasta/ortho_toa_subimages_cloud/13JUL27210952-M1BS-050296487010_01_P004_u16rf3338_OCM_v1_0_7.tif')]\n"
     ]
    },
    {
     "name": "stderr",
     "output_type": "stream",
     "text": [
      "\n",
      "\u001b[Aning inference using cuda bfloat16:   0%|          | 0/1 [00:00<?, ?it/s]\n",
      "\u001b[Aning inference using cuda bfloat16: 100%|██████████| 1/1 [00:03<00:00,  3.53s/it]\n",
      "Running inference using cuda bfloat16: 100%|██████████| 1/1 [00:09<00:00,  9.02s/it]\n"
     ]
    },
    {
     "name": "stdout",
     "output_type": "stream",
     "text": [
      "Predicted [Path('/data/gis/raster_base/Alaska/AKVegMap/EVWHS/mentasta/ortho_toa_subimages_cloud/23JUL21210517-M1BS-050296456010_01_P001_u16rf3338_OCM_v1_0_7.tif')]\n"
     ]
    },
    {
     "name": "stderr",
     "output_type": "stream",
     "text": [
      "\n",
      "\u001b[A/home/mmacander/miniconda3/envs/omni/lib/python3.11/site-packages/omnicloudmask/cloud_mask.py:145: UserWarning: Significant no-data areas detected. Adjusting patch size to 971px and overlap to 300px to minimize no-data patches.\n",
      "  warnings.warn(\n",
      "\n",
      "\u001b[Aning inference using cuda bfloat16: 100%|██████████| 1/1 [00:02<00:00,  2.38s/it]\n",
      "Running inference using cuda bfloat16: 100%|██████████| 1/1 [00:04<00:00,  4.14s/it]\n"
     ]
    },
    {
     "name": "stdout",
     "output_type": "stream",
     "text": [
      "Predicted [Path('/data/gis/raster_base/Alaska/AKVegMap/EVWHS/mentasta/ortho_toa_subimages_cloud/21AUG30204644-M1BS-050296468010_01_P009_u16rf3338_OCM_v1_0_7.tif')]\n"
     ]
    },
    {
     "name": "stderr",
     "output_type": "stream",
     "text": [
      "\n",
      "\u001b[Aning inference using cuda bfloat16:   0%|          | 0/1 [00:00<?, ?it/s]\n",
      "\u001b[Aning inference using cuda bfloat16: 100%|██████████| 1/1 [00:01<00:00,  1.54s/it]\n",
      "Running inference using cuda bfloat16: 100%|██████████| 1/1 [00:05<00:00,  5.48s/it]\n"
     ]
    },
    {
     "name": "stdout",
     "output_type": "stream",
     "text": [
      "Predicted [Path('/data/gis/raster_base/Alaska/AKVegMap/EVWHS/mentasta/ortho_toa_subimages_cloud/21AUG30204808-M1BS-050296461010_01_P003_u16rf3338_OCM_v1_0_7.tif')]\n"
     ]
    },
    {
     "name": "stderr",
     "output_type": "stream",
     "text": [
      "\n",
      "\u001b[Aning inference using cuda bfloat16:   0%|          | 0/1 [00:00<?, ?it/s]\n",
      "\u001b[Aning inference using cuda bfloat16: 100%|██████████| 1/1 [00:01<00:00,  1.42s/it]\n",
      "Running inference using cuda bfloat16: 100%|██████████| 1/1 [00:06<00:00,  6.07s/it]\n"
     ]
    },
    {
     "name": "stdout",
     "output_type": "stream",
     "text": [
      "Predicted [Path('/data/gis/raster_base/Alaska/AKVegMap/EVWHS/mentasta/ortho_toa_subimages_cloud/21SEP01212342-M1BS-050296479010_01_P001_u16rf3338_OCM_v1_0_7.tif')]\n"
     ]
    },
    {
     "name": "stderr",
     "output_type": "stream",
     "text": [
      "\n",
      "\u001b[Aning inference using cuda bfloat16:   0%|          | 0/1 [00:00<?, ?it/s]\n",
      "\u001b[Aning inference using cuda bfloat16: 100%|██████████| 1/1 [00:05<00:00,  2.95s/it]\n",
      "Running inference using cuda bfloat16: 100%|██████████| 1/1 [00:07<00:00,  7.44s/it]\n"
     ]
    },
    {
     "name": "stdout",
     "output_type": "stream",
     "text": [
      "Predicted [Path('/data/gis/raster_base/Alaska/AKVegMap/EVWHS/mentasta/ortho_toa_subimages_cloud/23JUL21205717-M1BS-050296474010_01_P008_u16rf3338_OCM_v1_0_7.tif')]\n"
     ]
    },
    {
     "name": "stderr",
     "output_type": "stream",
     "text": [
      "\n",
      "\u001b[Aning inference using cuda bfloat16:   0%|          | 0/1 [00:00<?, ?it/s]\n",
      "\u001b[Aning inference using cuda bfloat16: 100%|██████████| 1/1 [00:05<00:00,  3.56s/it]\n",
      "Running inference using cuda bfloat16: 100%|██████████| 1/1 [00:08<00:00,  8.07s/it]\n"
     ]
    },
    {
     "name": "stdout",
     "output_type": "stream",
     "text": [
      "Predicted [Path('/data/gis/raster_base/Alaska/AKVegMap/EVWHS/mentasta/ortho_toa_subimages_cloud/20AUG07204547-M1BS-050296464010_01_P002_u16rf3338_OCM_v1_0_7.tif')]\n"
     ]
    },
    {
     "name": "stderr",
     "output_type": "stream",
     "text": [
      "\n",
      "\u001b[Aning inference using cuda bfloat16:   0%|          | 0/1 [00:00<?, ?it/s]\n",
      "\u001b[Aning inference using cuda bfloat16: 100%|██████████| 1/1 [00:02<00:00,  2.43s/it]\n",
      "Running inference using cuda bfloat16: 100%|██████████| 1/1 [00:05<00:00,  5.06s/it]\n"
     ]
    },
    {
     "name": "stdout",
     "output_type": "stream",
     "text": [
      "Predicted [Path('/data/gis/raster_base/Alaska/AKVegMap/EVWHS/mentasta/ortho_toa_subimages_cloud/23JUL21210511-M1BS-050296456010_01_P006_u16rf3338_OCM_v1_0_7.tif')]\n"
     ]
    },
    {
     "name": "stderr",
     "output_type": "stream",
     "text": [
      "\n",
      "\u001b[Aning inference using cuda bfloat16:   0%|          | 0/1 [00:00<?, ?it/s]\n",
      "\u001b[Aning inference using cuda bfloat16: 100%|██████████| 1/1 [00:06<00:00,  6.76s/it]\n",
      "Running inference using cuda bfloat16: 100%|██████████| 1/1 [00:08<00:00,  8.93s/it]\n"
     ]
    },
    {
     "name": "stdout",
     "output_type": "stream",
     "text": [
      "Predicted [Path('/data/gis/raster_base/Alaska/AKVegMap/EVWHS/mentasta/ortho_toa_subimages_cloud/24JUN29212857-M1BS-050296480010_01_P003_u16rf3338_OCM_v1_0_7.tif')]\n"
     ]
    },
    {
     "name": "stderr",
     "output_type": "stream",
     "text": [
      "\n",
      "\u001b[Aning inference using cuda bfloat16:   0%|          | 0/1 [00:00<?, ?it/s]\n",
      "\u001b[Aning inference using cuda bfloat16: 100%|██████████| 1/1 [00:02<00:00,  2.22s/it]\n",
      "Running inference using cuda bfloat16: 100%|██████████| 1/1 [00:06<00:00,  6.67s/it]\n"
     ]
    },
    {
     "name": "stdout",
     "output_type": "stream",
     "text": [
      "Predicted [Path('/data/gis/raster_base/Alaska/AKVegMap/EVWHS/mentasta/ortho_toa_subimages_cloud/23JUL26212328-M1BS-050296496010_01_P004_u16rf3338_OCM_v1_0_7.tif')]\n"
     ]
    },
    {
     "name": "stderr",
     "output_type": "stream",
     "text": [
      "\n",
      "\u001b[Aning inference using cuda bfloat16:   0%|          | 0/1 [00:00<?, ?it/s]\n",
      "\u001b[Aning inference using cuda bfloat16: 100%|██████████| 1/1 [00:02<00:00,  2.05s/it]\n",
      "Running inference using cuda bfloat16: 100%|██████████| 1/1 [00:08<00:00,  8.86s/it]\n"
     ]
    },
    {
     "name": "stdout",
     "output_type": "stream",
     "text": [
      "Predicted [Path('/data/gis/raster_base/Alaska/AKVegMap/EVWHS/mentasta/ortho_toa_subimages_cloud/23JUL21210657-M1BS-050296463010_01_P008_u16rf3338_OCM_v1_0_7.tif')]\n"
     ]
    },
    {
     "name": "stderr",
     "output_type": "stream",
     "text": [
      "\n",
      "\u001b[Aning inference using cuda bfloat16:   0%|          | 0/1 [00:00<?, ?it/s]\n",
      "\u001b[Aning inference using cuda bfloat16: 100%|██████████| 1/1 [00:02<00:00,  2.14s/it]\n",
      "Running inference using cuda bfloat16: 100%|██████████| 1/1 [00:04<00:00,  4.28s/it]\n"
     ]
    },
    {
     "name": "stdout",
     "output_type": "stream",
     "text": [
      "Predicted [Path('/data/gis/raster_base/Alaska/AKVegMap/EVWHS/mentasta/ortho_toa_subimages_cloud/13JUN27211557-M1BS-050296491010_01_P003_u16rf3338_OCM_v1_0_7.tif')]\n"
     ]
    },
    {
     "name": "stderr",
     "output_type": "stream",
     "text": [
      "\n",
      "\u001b[A/home/mmacander/miniconda3/envs/omni/lib/python3.11/site-packages/omnicloudmask/cloud_mask.py:145: UserWarning: Significant no-data areas detected. Adjusting patch size to 510px and overlap to 255px to minimize no-data patches.\n",
      "  warnings.warn(\n",
      "\n",
      "\u001b[Aning inference using cuda bfloat16: 100%|██████████| 1/1 [00:01<00:00,  1.28s/it]\n",
      "Running inference using cuda bfloat16: 100%|██████████| 1/1 [00:04<00:00,  4.85s/it]\n"
     ]
    },
    {
     "name": "stdout",
     "output_type": "stream",
     "text": [
      "Predicted [Path('/data/gis/raster_base/Alaska/AKVegMap/EVWHS/mentasta/ortho_toa_subimages_cloud/20JUL29212905-M1BS-050296471010_01_P002_u16rf3338_OCM_v1_0_7.tif')]\n"
     ]
    },
    {
     "name": "stderr",
     "output_type": "stream",
     "text": [
      "\n",
      "\u001b[A/home/mmacander/miniconda3/envs/omni/lib/python3.11/site-packages/omnicloudmask/cloud_mask.py:145: UserWarning: Significant no-data areas detected. Adjusting patch size to 284px and overlap to 142px to minimize no-data patches.\n",
      "  warnings.warn(\n",
      "\n",
      "\u001b[Aning inference using cuda bfloat16: 100%|██████████| 1/1 [00:00<00:00,  1.04it/s]\n",
      "Running inference using cuda bfloat16: 100%|██████████| 1/1 [00:04<00:00,  4.46s/it]\n"
     ]
    },
    {
     "name": "stdout",
     "output_type": "stream",
     "text": [
      "Predicted [Path('/data/gis/raster_base/Alaska/AKVegMap/EVWHS/mentasta/ortho_toa_subimages_cloud/13AUG12211952-M1BS-050296488010_01_P002_u16rf3338_OCM_v1_0_7.tif')]\n"
     ]
    },
    {
     "name": "stderr",
     "output_type": "stream",
     "text": [
      "\n",
      "\u001b[Aning inference using cuda bfloat16:   0%|          | 0/1 [00:00<?, ?it/s]\n",
      "\u001b[Aning inference using cuda bfloat16: 100%|██████████| 1/1 [00:02<00:00,  1.78s/it]\n",
      "Running inference using cuda bfloat16: 100%|██████████| 1/1 [00:03<00:00,  3.79s/it]\n"
     ]
    },
    {
     "name": "stdout",
     "output_type": "stream",
     "text": [
      "Predicted [Path('/data/gis/raster_base/Alaska/AKVegMap/EVWHS/mentasta/ortho_toa_subimages_cloud/21AUG30204811-M1BS-050296461010_01_P006_u16rf3338_OCM_v1_0_7.tif')]\n"
     ]
    },
    {
     "name": "stderr",
     "output_type": "stream",
     "text": [
      "\n",
      "\u001b[Aning inference using cuda bfloat16:   0%|          | 0/1 [00:00<?, ?it/s]\n",
      "\u001b[Aning inference using cuda bfloat16: 100%|██████████| 1/1 [00:04<00:00,  4.82s/it]\n",
      "Running inference using cuda bfloat16: 100%|██████████| 1/1 [00:07<00:00,  7.44s/it]\n"
     ]
    },
    {
     "name": "stdout",
     "output_type": "stream",
     "text": [
      "Predicted [Path('/data/gis/raster_base/Alaska/AKVegMap/EVWHS/mentasta/ortho_toa_subimages_cloud/21AUG30204814-M1BS-050296461010_01_P009_u16rf3338_OCM_v1_0_7.tif')]\n"
     ]
    },
    {
     "name": "stderr",
     "output_type": "stream",
     "text": [
      "\n",
      "\u001b[Aning inference using cuda bfloat16:   0%|          | 0/1 [00:00<?, ?it/s]\n",
      "\u001b[Aning inference using cuda bfloat16: 100%|██████████| 1/1 [00:02<00:00,  2.89s/it]\n",
      "Running inference using cuda bfloat16: 100%|██████████| 1/1 [00:07<00:00,  7.22s/it]\n"
     ]
    },
    {
     "name": "stdout",
     "output_type": "stream",
     "text": [
      "Predicted [Path('/data/gis/raster_base/Alaska/AKVegMap/EVWHS/mentasta/ortho_toa_subimages_cloud/23JUL21205713-M1BS-050296474010_01_P006_u16rf3338_OCM_v1_0_7.tif')]\n"
     ]
    },
    {
     "name": "stderr",
     "output_type": "stream",
     "text": [
      "\n",
      "\u001b[A/home/mmacander/miniconda3/envs/omni/lib/python3.11/site-packages/omnicloudmask/cloud_mask.py:145: UserWarning: Significant no-data areas detected. Adjusting patch size to 368px and overlap to 184px to minimize no-data patches.\n",
      "  warnings.warn(\n",
      "\n",
      "\u001b[Aning inference using cuda bfloat16: 100%|██████████| 1/1 [00:00<00:00,  1.02it/s]\n",
      "Running inference using cuda bfloat16: 100%|██████████| 1/1 [00:03<00:00,  3.84s/it]\n"
     ]
    },
    {
     "name": "stdout",
     "output_type": "stream",
     "text": [
      "Predicted [Path('/data/gis/raster_base/Alaska/AKVegMap/EVWHS/mentasta/ortho_toa_subimages_cloud/15JUN19212124-M1BS-050296483010_01_P005_u16rf3338_OCM_v1_0_7.tif')]\n"
     ]
    },
    {
     "name": "stderr",
     "output_type": "stream",
     "text": [
      "\n",
      "\u001b[Aning inference using cuda bfloat16:   0%|          | 0/1 [00:00<?, ?it/s]\n",
      "\u001b[Aning inference using cuda bfloat16: 100%|██████████| 1/1 [00:07<00:00,  5.56s/it]\n",
      "Running inference using cuda bfloat16: 100%|██████████| 1/1 [00:10<00:00, 10.07s/it]\n"
     ]
    },
    {
     "name": "stdout",
     "output_type": "stream",
     "text": [
      "Predicted [Path('/data/gis/raster_base/Alaska/AKVegMap/EVWHS/mentasta/ortho_toa_subimages_cloud/23JUL09214621-M1BS-050296477010_01_P002_u16rf3338_OCM_v1_0_7.tif')]\n"
     ]
    },
    {
     "name": "stderr",
     "output_type": "stream",
     "text": [
      "\n",
      "\u001b[Aning inference using cuda bfloat16:   0%|          | 0/1 [00:00<?, ?it/s]\n",
      "\u001b[Aning inference using cuda bfloat16: 100%|██████████| 1/1 [00:02<00:00,  2.30s/it]\n",
      "Running inference using cuda bfloat16: 100%|██████████| 1/1 [00:04<00:00,  4.60s/it]\n"
     ]
    },
    {
     "name": "stdout",
     "output_type": "stream",
     "text": [
      "Predicted [Path('/data/gis/raster_base/Alaska/AKVegMap/EVWHS/mentasta/ortho_toa_subimages_cloud/16JUN15214209-M1BS-050296498010_01_P009_u16rf3338_OCM_v1_0_7.tif')]\n"
     ]
    },
    {
     "name": "stderr",
     "output_type": "stream",
     "text": [
      "\n",
      "\u001b[Aning inference using cuda bfloat16:   0%|          | 0/1 [00:00<?, ?it/s]\n",
      "\u001b[Aning inference using cuda bfloat16: 100%|██████████| 1/1 [00:04<00:00,  1.79s/it]\n",
      "Running inference using cuda bfloat16: 100%|██████████| 1/1 [00:05<00:00,  5.73s/it]\n"
     ]
    },
    {
     "name": "stdout",
     "output_type": "stream",
     "text": [
      "Predicted [Path('/data/gis/raster_base/Alaska/AKVegMap/EVWHS/mentasta/ortho_toa_subimages_cloud/13JUN27211601-M1BS-050296491010_01_P007_u16rf3338_OCM_v1_0_7.tif')]\n"
     ]
    },
    {
     "name": "stderr",
     "output_type": "stream",
     "text": [
      "\n",
      "\u001b[Aning inference using cuda bfloat16:   0%|          | 0/1 [00:00<?, ?it/s]\n",
      "\u001b[Aning inference using cuda bfloat16: 100%|██████████| 1/1 [00:04<00:00,  3.16s/it]\n",
      "Running inference using cuda bfloat16: 100%|██████████| 1/1 [00:06<00:00,  6.74s/it]\n"
     ]
    },
    {
     "name": "stdout",
     "output_type": "stream",
     "text": [
      "Predicted [Path('/data/gis/raster_base/Alaska/AKVegMap/EVWHS/mentasta/ortho_toa_subimages_cloud/23JUL21210700-M1BS-050296463010_01_P005_u16rf3338_OCM_v1_0_7.tif')]\n"
     ]
    },
    {
     "name": "stderr",
     "output_type": "stream",
     "text": [
      "\n",
      "\u001b[Aning inference using cuda bfloat16:   0%|          | 0/1 [00:00<?, ?it/s]\n",
      "\u001b[Aning inference using cuda bfloat16: 100%|██████████| 1/1 [00:03<00:00,  2.88s/it]\n",
      "Running inference using cuda bfloat16: 100%|██████████| 1/1 [00:04<00:00,  4.01s/it]\n"
     ]
    },
    {
     "name": "stdout",
     "output_type": "stream",
     "text": [
      "Predicted [Path('/data/gis/raster_base/Alaska/AKVegMap/EVWHS/mentasta/ortho_toa_subimages_cloud/21AUG30204635-M1BS-050296468010_01_P001_u16rf3338_OCM_v1_0_7.tif')]\n"
     ]
    },
    {
     "name": "stderr",
     "output_type": "stream",
     "text": [
      "\n",
      "\u001b[Aning inference using cuda bfloat16:   0%|          | 0/1 [00:00<?, ?it/s]\n",
      "\u001b[Aning inference using cuda bfloat16: 100%|██████████| 1/1 [00:01<00:00,  1.77s/it]\n",
      "Running inference using cuda bfloat16: 100%|██████████| 1/1 [00:03<00:00,  3.70s/it]\n"
     ]
    },
    {
     "name": "stdout",
     "output_type": "stream",
     "text": [
      "Predicted [Path('/data/gis/raster_base/Alaska/AKVegMap/EVWHS/mentasta/ortho_toa_subimages_cloud/18JUL24214204-M1BS-050296460010_01_P001_u16rf3338_OCM_v1_0_7.tif')]\n"
     ]
    },
    {
     "name": "stderr",
     "output_type": "stream",
     "text": [
      "\n",
      "\u001b[Aning inference using cuda bfloat16:   0%|          | 0/1 [00:00<?, ?it/s]\n",
      "\u001b[Aning inference using cuda bfloat16: 100%|██████████| 1/1 [00:09<00:00,  7.18s/it]\n",
      "Running inference using cuda bfloat16: 100%|██████████| 1/1 [00:12<00:00, 12.52s/it]\n"
     ]
    },
    {
     "name": "stdout",
     "output_type": "stream",
     "text": [
      "Predicted [Path('/data/gis/raster_base/Alaska/AKVegMap/EVWHS/mentasta/ortho_toa_subimages_cloud/17JUL12211747-M1BS-050296465010_01_P012_u16rf3338_OCM_v1_0_7.tif')]\n"
     ]
    },
    {
     "name": "stderr",
     "output_type": "stream",
     "text": [
      "\n",
      "\u001b[Aning inference using cuda bfloat16:   0%|          | 0/1 [00:00<?, ?it/s]\n",
      "\u001b[Aning inference using cuda bfloat16: 100%|██████████| 1/1 [00:03<00:00,  2.67s/it]\n",
      "Running inference using cuda bfloat16: 100%|██████████| 1/1 [00:05<00:00,  5.97s/it]\n"
     ]
    },
    {
     "name": "stdout",
     "output_type": "stream",
     "text": [
      "Predicted [Path('/data/gis/raster_base/Alaska/AKVegMap/EVWHS/mentasta/ortho_toa_subimages_cloud/13JUN20201601-M1BS-050296503010_01_P002_u16rf3338_OCM_v1_0_7.tif')]\n"
     ]
    },
    {
     "name": "stderr",
     "output_type": "stream",
     "text": [
      "\n",
      "\u001b[Aning inference using cuda bfloat16:   0%|          | 0/1 [00:00<?, ?it/s]\n",
      "\u001b[Aning inference using cuda bfloat16: 100%|██████████| 1/1 [00:01<00:00,  1.60s/it]\n",
      "Running inference using cuda bfloat16: 100%|██████████| 1/1 [00:05<00:00,  5.48s/it]\n"
     ]
    },
    {
     "name": "stdout",
     "output_type": "stream",
     "text": [
      "Predicted [Path('/data/gis/raster_base/Alaska/AKVegMap/EVWHS/mentasta/ortho_toa_subimages_cloud/20AUG06212408-M1BS-050296492010_01_P001_u16rf3338_OCM_v1_0_7.tif')]\n"
     ]
    },
    {
     "name": "stderr",
     "output_type": "stream",
     "text": [
      "\n",
      "\u001b[Aning inference using cuda bfloat16:   0%|          | 0/1 [00:00<?, ?it/s]\n",
      "\u001b[Aning inference using cuda bfloat16: 100%|██████████| 1/1 [00:01<00:00,  1.62s/it]\n",
      "Running inference using cuda bfloat16: 100%|██████████| 1/1 [00:05<00:00,  5.68s/it]\n"
     ]
    },
    {
     "name": "stdout",
     "output_type": "stream",
     "text": [
      "Predicted [Path('/data/gis/raster_base/Alaska/AKVegMap/EVWHS/mentasta/ortho_toa_subimages_cloud/21AUG30204806-M1BS-050296461010_01_P001_u16rf3338_OCM_v1_0_7.tif')]\n"
     ]
    },
    {
     "name": "stderr",
     "output_type": "stream",
     "text": [
      "\n",
      "\u001b[Aning inference using cuda bfloat16:   0%|          | 0/1 [00:00<?, ?it/s]\n",
      "\u001b[Aning inference using cuda bfloat16: 100%|██████████| 1/1 [00:02<00:00,  1.99s/it]\n",
      "Running inference using cuda bfloat16: 100%|██████████| 1/1 [00:06<00:00,  6.15s/it]\n"
     ]
    },
    {
     "name": "stdout",
     "output_type": "stream",
     "text": [
      "Predicted [Path('/data/gis/raster_base/Alaska/AKVegMap/EVWHS/mentasta/ortho_toa_subimages_cloud/24JUN29212904-M1BS-050296480010_01_P009_u16rf3338_OCM_v1_0_7.tif')]\n"
     ]
    },
    {
     "name": "stderr",
     "output_type": "stream",
     "text": [
      "\n",
      "\u001b[Aning inference using cuda bfloat16:   0%|          | 0/1 [00:00<?, ?it/s]\n",
      "\u001b[Aning inference using cuda bfloat16: 100%|██████████| 1/1 [00:02<00:00,  2.33s/it]\n",
      "Running inference using cuda bfloat16: 100%|██████████| 1/1 [00:08<00:00,  8.40s/it]\n"
     ]
    },
    {
     "name": "stdout",
     "output_type": "stream",
     "text": [
      "Predicted [Path('/data/gis/raster_base/Alaska/AKVegMap/EVWHS/mentasta/ortho_toa_subimages_cloud/21JUL12205139-M1BS-050296475010_01_P003_u16rf3338_OCM_v1_0_7.tif')]\n"
     ]
    },
    {
     "name": "stderr",
     "output_type": "stream",
     "text": [
      "\n",
      "\u001b[Aning inference using cuda bfloat16:   0%|          | 0/1 [00:00<?, ?it/s]\n",
      "\u001b[Aning inference using cuda bfloat16: 100%|██████████| 1/1 [00:01<00:00,  1.73s/it]\n",
      "Running inference using cuda bfloat16: 100%|██████████| 1/1 [00:03<00:00,  3.36s/it]\n"
     ]
    },
    {
     "name": "stdout",
     "output_type": "stream",
     "text": [
      "Predicted [Path('/data/gis/raster_base/Alaska/AKVegMap/EVWHS/mentasta/ortho_toa_subimages_cloud/23JUL26212323-M1BS-050296496010_01_P008_u16rf3338_OCM_v1_0_7.tif')]\n"
     ]
    },
    {
     "name": "stderr",
     "output_type": "stream",
     "text": [
      "\n",
      "\u001b[Aning inference using cuda bfloat16:   0%|          | 0/1 [00:00<?, ?it/s]\n",
      "\u001b[Aning inference using cuda bfloat16: 100%|██████████| 1/1 [00:01<00:00,  1.91s/it]\n",
      "Running inference using cuda bfloat16: 100%|██████████| 1/1 [00:05<00:00,  5.97s/it]\n"
     ]
    },
    {
     "name": "stdout",
     "output_type": "stream",
     "text": [
      "Predicted [Path('/data/gis/raster_base/Alaska/AKVegMap/EVWHS/mentasta/ortho_toa_subimages_cloud/23JUL26212252-M1BS-050296478010_01_P002_u16rf3338_OCM_v1_0_7.tif')]\n"
     ]
    },
    {
     "name": "stderr",
     "output_type": "stream",
     "text": [
      "\n",
      "\u001b[Aning inference using cuda bfloat16:   0%|          | 0/1 [00:00<?, ?it/s]\n",
      "\u001b[Aning inference using cuda bfloat16: 100%|██████████| 1/1 [00:01<00:00,  1.60s/it]\n",
      "Running inference using cuda bfloat16: 100%|██████████| 1/1 [00:03<00:00,  3.57s/it]\n"
     ]
    },
    {
     "name": "stdout",
     "output_type": "stream",
     "text": [
      "Predicted [Path('/data/gis/raster_base/Alaska/AKVegMap/EVWHS/mentasta/ortho_toa_subimages_cloud/23JUL26212319-M1BS-050296496010_01_P011_u16rf3338_OCM_v1_0_7.tif')]\n"
     ]
    },
    {
     "name": "stderr",
     "output_type": "stream",
     "text": [
      "\n",
      "\u001b[Aning inference using cuda bfloat16:   0%|          | 0/1 [00:00<?, ?it/s]\n",
      "\u001b[Aning inference using cuda bfloat16: 100%|██████████| 1/1 [00:03<00:00,  2.40s/it]\n",
      "Running inference using cuda bfloat16: 100%|██████████| 1/1 [00:04<00:00,  4.29s/it]\n"
     ]
    },
    {
     "name": "stdout",
     "output_type": "stream",
     "text": [
      "Predicted [Path('/data/gis/raster_base/Alaska/AKVegMap/EVWHS/mentasta/ortho_toa_subimages_cloud/17JUL12211638-M1BS-050296490010_01_P010_u16rf3338_OCM_v1_0_7.tif')]\n"
     ]
    },
    {
     "name": "stderr",
     "output_type": "stream",
     "text": [
      "\n",
      "\u001b[Aning inference using cuda bfloat16:   0%|          | 0/1 [00:00<?, ?it/s]\n",
      "\u001b[Aning inference using cuda bfloat16: 100%|██████████| 1/1 [00:03<00:00,  1.52s/it]\n",
      "Running inference using cuda bfloat16: 100%|██████████| 1/1 [00:06<00:00,  6.28s/it]\n"
     ]
    },
    {
     "name": "stdout",
     "output_type": "stream",
     "text": [
      "Predicted [Path('/data/gis/raster_base/Alaska/AKVegMap/EVWHS/mentasta/ortho_toa_subimages_cloud/21JUL12205305-M1BS-050296458010_01_P008_u16rf3338_OCM_v1_0_7.tif')]\n"
     ]
    },
    {
     "name": "stderr",
     "output_type": "stream",
     "text": [
      "\n",
      "\u001b[Aning inference using cuda bfloat16:   0%|          | 0/1 [00:00<?, ?it/s]\n",
      "\u001b[Aning inference using cuda bfloat16: 100%|██████████| 1/1 [00:03<00:00,  1.83s/it]\n",
      "Running inference using cuda bfloat16: 100%|██████████| 1/1 [00:04<00:00,  4.23s/it]\n"
     ]
    },
    {
     "name": "stdout",
     "output_type": "stream",
     "text": [
      "Predicted [Path('/data/gis/raster_base/Alaska/AKVegMap/EVWHS/mentasta/ortho_toa_subimages_cloud/17JUL12211706-M1BS-050296469010_01_P007_u16rf3338_OCM_v1_0_7.tif')]\n"
     ]
    },
    {
     "name": "stderr",
     "output_type": "stream",
     "text": [
      "\n",
      "\u001b[A/home/mmacander/miniconda3/envs/omni/lib/python3.11/site-packages/omnicloudmask/cloud_mask.py:145: UserWarning: Significant no-data areas detected. Adjusting patch size to 880px and overlap to 300px to minimize no-data patches.\n",
      "  warnings.warn(\n",
      "\n",
      "\u001b[Aning inference using cuda bfloat16: 100%|██████████| 1/1 [00:02<00:00,  2.46s/it]\n",
      "Running inference using cuda bfloat16: 100%|██████████| 1/1 [00:04<00:00,  4.80s/it]\n"
     ]
    },
    {
     "name": "stdout",
     "output_type": "stream",
     "text": [
      "Predicted [Path('/data/gis/raster_base/Alaska/AKVegMap/EVWHS/mentasta/ortho_toa_subimages_cloud/21JUL12205147-M1BS-050296475010_01_P009_u16rf3338_OCM_v1_0_7.tif')]\n"
     ]
    },
    {
     "name": "stderr",
     "output_type": "stream",
     "text": [
      "\n",
      "\u001b[Aning inference using cuda bfloat16:   0%|          | 0/1 [00:00<?, ?it/s]\n",
      "\u001b[Aning inference using cuda bfloat16: 100%|██████████| 1/1 [00:01<00:00,  1.72s/it]\n",
      "Running inference using cuda bfloat16: 100%|██████████| 1/1 [00:03<00:00,  3.31s/it]\n"
     ]
    },
    {
     "name": "stdout",
     "output_type": "stream",
     "text": [
      "Predicted [Path('/data/gis/raster_base/Alaska/AKVegMap/EVWHS/mentasta/ortho_toa_subimages_cloud/16JUN15214202-M1BS-050296498010_01_P004_u16rf3338_OCM_v1_0_7.tif')]\n"
     ]
    },
    {
     "name": "stderr",
     "output_type": "stream",
     "text": [
      "\n",
      "\u001b[A/home/mmacander/miniconda3/envs/omni/lib/python3.11/site-packages/omnicloudmask/cloud_mask.py:145: UserWarning: Significant no-data areas detected. Adjusting patch size to 205px and overlap to 102px to minimize no-data patches.\n",
      "  warnings.warn(\n",
      "\n",
      "\u001b[Aning inference using cuda bfloat16: 100%|██████████| 1/1 [00:01<00:00,  1.02s/it]\n",
      "Running inference using cuda bfloat16: 100%|██████████| 1/1 [00:07<00:00,  7.26s/it]\n"
     ]
    },
    {
     "name": "stdout",
     "output_type": "stream",
     "text": [
      "Predicted [Path('/data/gis/raster_base/Alaska/AKVegMap/EVWHS/mentasta/ortho_toa_subimages_cloud/18JUL24214218-M1BS-050296460010_01_P010_u16rf3338_OCM_v1_0_7.tif')]\n"
     ]
    },
    {
     "name": "stderr",
     "output_type": "stream",
     "text": [
      "\n",
      "\u001b[Aning inference using cuda bfloat16:   0%|          | 0/1 [00:00<?, ?it/s]\n",
      "\u001b[Aning inference using cuda bfloat16: 100%|██████████| 1/1 [00:03<00:00,  2.92s/it]\n",
      "Running inference using cuda bfloat16: 100%|██████████| 1/1 [00:05<00:00,  5.56s/it]\n"
     ]
    },
    {
     "name": "stdout",
     "output_type": "stream",
     "text": [
      "Predicted [Path('/data/gis/raster_base/Alaska/AKVegMap/EVWHS/mentasta/ortho_toa_subimages_cloud/18JUL24214208-M1BS-050296460010_01_P004_u16rf3338_OCM_v1_0_7.tif')]\n"
     ]
    },
    {
     "name": "stderr",
     "output_type": "stream",
     "text": [
      "\n",
      "\u001b[Aning inference using cuda bfloat16:   0%|          | 0/1 [00:00<?, ?it/s]\n",
      "\u001b[Aning inference using cuda bfloat16: 100%|██████████| 1/1 [00:05<00:00,  3.50s/it]\n",
      "Running inference using cuda bfloat16: 100%|██████████| 1/1 [00:06<00:00,  6.67s/it]\n"
     ]
    },
    {
     "name": "stdout",
     "output_type": "stream",
     "text": [
      "Predicted [Path('/data/gis/raster_base/Alaska/AKVegMap/EVWHS/mentasta/ortho_toa_subimages_cloud/13JUN27211638-M1BS-050296497010_01_P007_u16rf3338_OCM_v1_0_7.tif')]\n"
     ]
    },
    {
     "name": "stderr",
     "output_type": "stream",
     "text": [
      "\n",
      "\u001b[A/home/mmacander/miniconda3/envs/omni/lib/python3.11/site-packages/omnicloudmask/cloud_mask.py:145: UserWarning: Significant no-data areas detected. Adjusting patch size to 242px and overlap to 121px to minimize no-data patches.\n",
      "  warnings.warn(\n",
      "\n",
      "\u001b[Aning inference using cuda bfloat16: 100%|██████████| 1/1 [00:01<00:00,  1.42it/s]\n",
      "Running inference using cuda bfloat16: 100%|██████████| 1/1 [00:02<00:00,  2.07s/it]\n"
     ]
    },
    {
     "name": "stdout",
     "output_type": "stream",
     "text": [
      "Predicted [Path('/data/gis/raster_base/Alaska/AKVegMap/EVWHS/mentasta/ortho_toa_subimages_cloud/24AUG30205554-M1BS-050296467010_01_P002_u16rf3338_OCM_v1_0_7.tif')]\n"
     ]
    },
    {
     "name": "stderr",
     "output_type": "stream",
     "text": [
      "\n",
      "\u001b[Aning inference using cuda bfloat16:   0%|          | 0/1 [00:00<?, ?it/s]\n",
      "\u001b[Aning inference using cuda bfloat16: 100%|██████████| 1/1 [00:02<00:00,  1.34s/it]\n",
      "Running inference using cuda bfloat16: 100%|██████████| 1/1 [00:03<00:00,  3.74s/it]\n"
     ]
    },
    {
     "name": "stdout",
     "output_type": "stream",
     "text": [
      "Predicted [Path('/data/gis/raster_base/Alaska/AKVegMap/EVWHS/mentasta/ortho_toa_subimages_cloud/21SEP01212344-M1BS-050296479010_01_P002_u16rf3338_OCM_v1_0_7.tif')]\n"
     ]
    },
    {
     "name": "stderr",
     "output_type": "stream",
     "text": [
      "\n",
      "\u001b[Aning inference using cuda bfloat16:   0%|          | 0/1 [00:00<?, ?it/s]\n",
      "\u001b[Aning inference using cuda bfloat16: 100%|██████████| 1/1 [00:06<00:00,  6.70s/it]\n",
      "Running inference using cuda bfloat16: 100%|██████████| 1/1 [00:10<00:00, 10.65s/it]\n"
     ]
    },
    {
     "name": "stdout",
     "output_type": "stream",
     "text": [
      "Predicted [Path('/data/gis/raster_base/Alaska/AKVegMap/EVWHS/mentasta/ortho_toa_subimages_cloud/24JUN29212840-M1BS-050296485010_01_P006_u16rf3338_OCM_v1_0_7.tif')]\n"
     ]
    },
    {
     "name": "stderr",
     "output_type": "stream",
     "text": [
      "\n",
      "\u001b[Aning inference using cuda bfloat16:   0%|          | 0/1 [00:00<?, ?it/s]\n",
      "\u001b[Aning inference using cuda bfloat16: 100%|██████████| 1/1 [00:01<00:00,  1.67s/it]\n",
      "Running inference using cuda bfloat16: 100%|██████████| 1/1 [00:08<00:00,  8.09s/it]\n"
     ]
    },
    {
     "name": "stdout",
     "output_type": "stream",
     "text": [
      "Predicted [Path('/data/gis/raster_base/Alaska/AKVegMap/EVWHS/mentasta/ortho_toa_subimages_cloud/13AUG06214130-M1BS-050296489010_01_P001_u16rf3338_OCM_v1_0_7.tif')]\n"
     ]
    },
    {
     "name": "stderr",
     "output_type": "stream",
     "text": [
      "\n",
      "\u001b[Aning inference using cuda bfloat16:   0%|          | 0/1 [00:00<?, ?it/s]\n",
      "\u001b[Aning inference using cuda bfloat16: 100%|██████████| 1/1 [00:01<00:00,  1.65s/it]\n",
      "Running inference using cuda bfloat16: 100%|██████████| 1/1 [00:05<00:00,  5.62s/it]\n"
     ]
    },
    {
     "name": "stdout",
     "output_type": "stream",
     "text": [
      "Predicted [Path('/data/gis/raster_base/Alaska/AKVegMap/EVWHS/mentasta/ortho_toa_subimages_cloud/21AUG30204640-M1BS-050296468010_01_P005_u16rf3338_OCM_v1_0_7.tif')]\n"
     ]
    },
    {
     "name": "stderr",
     "output_type": "stream",
     "text": [
      "\n",
      "\u001b[Aning inference using cuda bfloat16:   0%|          | 0/1 [00:00<?, ?it/s]\n",
      "\u001b[Aning inference using cuda bfloat16: 100%|██████████| 1/1 [00:01<00:00,  1.64s/it]\n",
      "Running inference using cuda bfloat16: 100%|██████████| 1/1 [00:04<00:00,  4.44s/it]\n"
     ]
    },
    {
     "name": "stdout",
     "output_type": "stream",
     "text": [
      "Predicted [Path('/data/gis/raster_base/Alaska/AKVegMap/EVWHS/mentasta/ortho_toa_subimages_cloud/20JUL29212904-M1BS-050296471010_01_P001_u16rf3338_OCM_v1_0_7.tif')]\n"
     ]
    },
    {
     "name": "stderr",
     "output_type": "stream",
     "text": [
      "\n",
      "\u001b[Aning inference using cuda bfloat16:   0%|          | 0/1 [00:00<?, ?it/s]\n",
      "\u001b[Aning inference using cuda bfloat16: 100%|██████████| 1/1 [00:08<00:00,  6.37s/it]\n",
      "Running inference using cuda bfloat16: 100%|██████████| 1/1 [00:09<00:00,  9.14s/it]\n"
     ]
    },
    {
     "name": "stdout",
     "output_type": "stream",
     "text": [
      "Predicted [Path('/data/gis/raster_base/Alaska/AKVegMap/EVWHS/mentasta/ortho_toa_subimages_cloud/13JUN20201558-M1BS-050296503010_01_P001_u16rf3338_OCM_v1_0_7.tif')]\n"
     ]
    },
    {
     "name": "stderr",
     "output_type": "stream",
     "text": [
      "\n",
      "\u001b[Aning inference using cuda bfloat16:   0%|          | 0/1 [00:00<?, ?it/s]\n",
      "\u001b[Aning inference using cuda bfloat16: 100%|██████████| 1/1 [00:03<00:00,  3.94s/it]\n",
      "Running inference using cuda bfloat16: 100%|██████████| 1/1 [00:11<00:00, 11.25s/it]\n"
     ]
    },
    {
     "name": "stdout",
     "output_type": "stream",
     "text": [
      "Predicted [Path('/data/gis/raster_base/Alaska/AKVegMap/EVWHS/mentasta/ortho_toa_subimages_cloud/23JUL09214629-M1BS-050296477010_01_P009_u16rf3338_OCM_v1_0_7.tif')]\n"
     ]
    },
    {
     "name": "stderr",
     "output_type": "stream",
     "text": [
      "\n",
      "\u001b[A/home/mmacander/miniconda3/envs/omni/lib/python3.11/site-packages/omnicloudmask/cloud_mask.py:145: UserWarning: Significant no-data areas detected. Adjusting patch size to 560px and overlap to 280px to minimize no-data patches.\n",
      "  warnings.warn(\n",
      "\n",
      "\u001b[Aning inference using cuda bfloat16: 100%|██████████| 1/1 [00:02<00:00,  1.47s/it]\n",
      "Running inference using cuda bfloat16: 100%|██████████| 1/1 [00:04<00:00,  4.42s/it]\n"
     ]
    },
    {
     "name": "stdout",
     "output_type": "stream",
     "text": [
      "Predicted [Path('/data/gis/raster_base/Alaska/AKVegMap/EVWHS/mentasta/ortho_toa_subimages_cloud/13JUN27211605-M1BS-050296491010_01_P010_u16rf3338_OCM_v1_0_7.tif')]\n"
     ]
    },
    {
     "name": "stderr",
     "output_type": "stream",
     "text": [
      "\n",
      "\u001b[Aning inference using cuda bfloat16:   0%|          | 0/1 [00:00<?, ?it/s]\n",
      "\u001b[Aning inference using cuda bfloat16: 100%|██████████| 1/1 [00:03<00:00,  2.35s/it]\n",
      "Running inference using cuda bfloat16: 100%|██████████| 1/1 [00:05<00:00,  5.76s/it]\n"
     ]
    },
    {
     "name": "stdout",
     "output_type": "stream",
     "text": [
      "Predicted [Path('/data/gis/raster_base/Alaska/AKVegMap/EVWHS/mentasta/ortho_toa_subimages_cloud/23JUL21210512-M1BS-050296456010_01_P005_u16rf3338_OCM_v1_0_7.tif')]\n"
     ]
    },
    {
     "name": "stderr",
     "output_type": "stream",
     "text": [
      "\n",
      "\u001b[Aning inference using cuda bfloat16:   0%|          | 0/1 [00:00<?, ?it/s]\n",
      "\u001b[Aning inference using cuda bfloat16: 100%|██████████| 1/1 [00:01<00:00,  1.57s/it]\n",
      "Running inference using cuda bfloat16: 100%|██████████| 1/1 [00:05<00:00,  5.17s/it]\n"
     ]
    },
    {
     "name": "stdout",
     "output_type": "stream",
     "text": [
      "Predicted [Path('/data/gis/raster_base/Alaska/AKVegMap/EVWHS/mentasta/ortho_toa_subimages_cloud/23JUL26212316-M1BS-050296496010_01_P013_u16rf3338_OCM_v1_0_7.tif')]\n"
     ]
    },
    {
     "name": "stderr",
     "output_type": "stream",
     "text": [
      "\n",
      "\u001b[Aning inference using cuda bfloat16:   0%|          | 0/1 [00:00<?, ?it/s]\n",
      "\u001b[Aning inference using cuda bfloat16: 100%|██████████| 1/1 [00:03<00:00,  2.04s/it]\n",
      "Running inference using cuda bfloat16: 100%|██████████| 1/1 [00:03<00:00,  3.97s/it]\n"
     ]
    },
    {
     "name": "stdout",
     "output_type": "stream",
     "text": [
      "Predicted [Path('/data/gis/raster_base/Alaska/AKVegMap/EVWHS/mentasta/ortho_toa_subimages_cloud/13AUG12211959-M1BS-050296476010_01_P001_u16rf3338_OCM_v1_0_7.tif')]\n"
     ]
    },
    {
     "name": "stderr",
     "output_type": "stream",
     "text": [
      "\n",
      "\u001b[Aning inference using cuda bfloat16:   0%|          | 0/1 [00:00<?, ?it/s]\n",
      "\u001b[Aning inference using cuda bfloat16: 100%|██████████| 1/1 [00:04<00:00,  3.22s/it]\n",
      "Running inference using cuda bfloat16: 100%|██████████| 1/1 [00:06<00:00,  6.41s/it]\n"
     ]
    },
    {
     "name": "stdout",
     "output_type": "stream",
     "text": [
      "Predicted [Path('/data/gis/raster_base/Alaska/AKVegMap/EVWHS/mentasta/ortho_toa_subimages_cloud/13JUL27210954-M1BS-050296487010_01_P003_u16rf3338_OCM_v1_0_7.tif')]\n"
     ]
    },
    {
     "name": "stderr",
     "output_type": "stream",
     "text": [
      "\n",
      "\u001b[Aning inference using cuda bfloat16:   0%|          | 0/1 [00:00<?, ?it/s]\n",
      "\u001b[Aning inference using cuda bfloat16: 100%|██████████| 1/1 [00:03<00:00,  2.60s/it]\n",
      "Running inference using cuda bfloat16: 100%|██████████| 1/1 [00:08<00:00,  8.65s/it]\n"
     ]
    },
    {
     "name": "stdout",
     "output_type": "stream",
     "text": [
      "Predicted [Path('/data/gis/raster_base/Alaska/AKVegMap/EVWHS/mentasta/ortho_toa_subimages_cloud/15JUN19212130-M1BS-050296483010_01_P002_u16rf3338_OCM_v1_0_7.tif')]\n"
     ]
    },
    {
     "name": "stderr",
     "output_type": "stream",
     "text": [
      "\n",
      "\u001b[Aning inference using cuda bfloat16:   0%|          | 0/1 [00:00<?, ?it/s]\n",
      "\u001b[Aning inference using cuda bfloat16: 100%|██████████| 1/1 [00:01<00:00,  1.76s/it]\n",
      "Running inference using cuda bfloat16: 100%|██████████| 1/1 [00:04<00:00,  4.78s/it]\n"
     ]
    },
    {
     "name": "stdout",
     "output_type": "stream",
     "text": [
      "Predicted [Path('/data/gis/raster_base/Alaska/AKVegMap/EVWHS/mentasta/ortho_toa_subimages_cloud/21AUG25211353-M1BS-050296481010_01_P002_u16rf3338_OCM_v1_0_7.tif')]\n"
     ]
    },
    {
     "name": "stderr",
     "output_type": "stream",
     "text": [
      "\n",
      "\u001b[Aning inference using cuda bfloat16:   0%|          | 0/1 [00:00<?, ?it/s]\n",
      "\u001b[Aning inference using cuda bfloat16: 100%|██████████| 1/1 [00:01<00:00,  1.52s/it]\n",
      "Running inference using cuda bfloat16: 100%|██████████| 1/1 [00:03<00:00,  3.96s/it]\n"
     ]
    },
    {
     "name": "stdout",
     "output_type": "stream",
     "text": [
      "Predicted [Path('/data/gis/raster_base/Alaska/AKVegMap/EVWHS/mentasta/ortho_toa_subimages_cloud/17JUL12211640-M1BS-050296490010_01_P011_u16rf3338_OCM_v1_0_7.tif')]\n"
     ]
    },
    {
     "name": "stderr",
     "output_type": "stream",
     "text": [
      "\n",
      "\u001b[Aning inference using cuda bfloat16:   0%|          | 0/1 [00:00<?, ?it/s]\n",
      "\u001b[Aning inference using cuda bfloat16: 100%|██████████| 1/1 [00:05<00:00,  2.82s/it]\n",
      "Running inference using cuda bfloat16: 100%|██████████| 1/1 [00:06<00:00,  6.34s/it]\n"
     ]
    },
    {
     "name": "stdout",
     "output_type": "stream",
     "text": [
      "Predicted [Path('/data/gis/raster_base/Alaska/AKVegMap/EVWHS/mentasta/ortho_toa_subimages_cloud/17JUL12211714-M1BS-050296469010_01_P003_u16rf3338_OCM_v1_0_7.tif')]\n"
     ]
    },
    {
     "name": "stderr",
     "output_type": "stream",
     "text": [
      "\n",
      "\u001b[Aning inference using cuda bfloat16:   0%|          | 0/1 [00:00<?, ?it/s]\n",
      "\u001b[Aning inference using cuda bfloat16: 100%|██████████| 1/1 [00:02<00:00,  2.77s/it]\n",
      "Running inference using cuda bfloat16: 100%|██████████| 1/1 [00:05<00:00,  5.76s/it]\n"
     ]
    },
    {
     "name": "stdout",
     "output_type": "stream",
     "text": [
      "Predicted [Path('/data/gis/raster_base/Alaska/AKVegMap/EVWHS/mentasta/ortho_toa_subimages_cloud/23JUL21210508-M1BS-050296456010_01_P009_u16rf3338_OCM_v1_0_7.tif')]\n"
     ]
    },
    {
     "name": "stderr",
     "output_type": "stream",
     "text": [
      "\n",
      "\u001b[Aning inference using cuda bfloat16:   0%|          | 0/1 [00:00<?, ?it/s]\n",
      "\u001b[Aning inference using cuda bfloat16: 100%|██████████| 1/1 [00:02<00:00,  2.04s/it]\n",
      "Running inference using cuda bfloat16: 100%|██████████| 1/1 [00:05<00:00,  5.20s/it]\n"
     ]
    },
    {
     "name": "stdout",
     "output_type": "stream",
     "text": [
      "Predicted [Path('/data/gis/raster_base/Alaska/AKVegMap/EVWHS/mentasta/ortho_toa_subimages_cloud/24JUN29212922-M1BS-050296500010_01_P001_u16rf3338_OCM_v1_0_7.tif')]\n"
     ]
    },
    {
     "name": "stderr",
     "output_type": "stream",
     "text": [
      "\n",
      "\u001b[Aning inference using cuda bfloat16:   0%|          | 0/1 [00:00<?, ?it/s]\n",
      "\u001b[Aning inference using cuda bfloat16: 100%|██████████| 1/1 [00:01<00:00,  1.97s/it]\n",
      "Running inference using cuda bfloat16: 100%|██████████| 1/1 [00:04<00:00,  4.00s/it]\n"
     ]
    },
    {
     "name": "stdout",
     "output_type": "stream",
     "text": [
      "Predicted [Path('/data/gis/raster_base/Alaska/AKVegMap/EVWHS/mentasta/ortho_toa_subimages_cloud/23JUL26212258-M1BS-050296478010_01_P006_u16rf3338_OCM_v1_0_7.tif')]\n"
     ]
    },
    {
     "name": "stderr",
     "output_type": "stream",
     "text": [
      "\n",
      "\u001b[Aning inference using cuda bfloat16:   0%|          | 0/1 [00:00<?, ?it/s]\n",
      "\u001b[Aning inference using cuda bfloat16: 100%|██████████| 1/1 [00:02<00:00,  2.07s/it]\n",
      "Running inference using cuda bfloat16: 100%|██████████| 1/1 [00:04<00:00,  4.93s/it]\n"
     ]
    },
    {
     "name": "stdout",
     "output_type": "stream",
     "text": [
      "Predicted [Path('/data/gis/raster_base/Alaska/AKVegMap/EVWHS/mentasta/ortho_toa_subimages_cloud/16JUN15214206-M1BS-050296498010_01_P007_u16rf3338_OCM_v1_0_7.tif')]\n"
     ]
    },
    {
     "name": "stderr",
     "output_type": "stream",
     "text": [
      "\n",
      "\u001b[Aning inference using cuda bfloat16:   0%|          | 0/1 [00:00<?, ?it/s]\n",
      "\u001b[Aning inference using cuda bfloat16: 100%|██████████| 1/1 [00:01<00:00,  1.91s/it]\n",
      "Running inference using cuda bfloat16: 100%|██████████| 1/1 [00:04<00:00,  4.51s/it]\n"
     ]
    },
    {
     "name": "stdout",
     "output_type": "stream",
     "text": [
      "Predicted [Path('/data/gis/raster_base/Alaska/AKVegMap/EVWHS/mentasta/ortho_toa_subimages_cloud/23JUL26212259-M1BS-050296478010_01_P007_u16rf3338_OCM_v1_0_7.tif')]\n"
     ]
    },
    {
     "name": "stderr",
     "output_type": "stream",
     "text": [
      "\n",
      "\u001b[Aning inference using cuda bfloat16:   0%|          | 0/1 [00:00<?, ?it/s]\n",
      "\u001b[Aning inference using cuda bfloat16: 100%|██████████| 1/1 [00:02<00:00,  2.14s/it]\n",
      "Running inference using cuda bfloat16: 100%|██████████| 1/1 [00:05<00:00,  5.55s/it]\n"
     ]
    },
    {
     "name": "stdout",
     "output_type": "stream",
     "text": [
      "Predicted [Path('/data/gis/raster_base/Alaska/AKVegMap/EVWHS/mentasta/ortho_toa_subimages_cloud/17JUL12211732-M1BS-050296465010_01_P004_u16rf3338_OCM_v1_0_7.tif')]\n"
     ]
    },
    {
     "name": "stderr",
     "output_type": "stream",
     "text": [
      "\n",
      "\u001b[Aning inference using cuda bfloat16:   0%|          | 0/1 [00:00<?, ?it/s]\n",
      "\u001b[Aning inference using cuda bfloat16: 100%|██████████| 1/1 [00:08<00:00,  6.41s/it]\n",
      "Running inference using cuda bfloat16: 100%|██████████| 1/1 [00:09<00:00,  9.78s/it]\n"
     ]
    },
    {
     "name": "stdout",
     "output_type": "stream",
     "text": [
      "Predicted [Path('/data/gis/raster_base/Alaska/AKVegMap/EVWHS/mentasta/ortho_toa_subimages_cloud/21AUG30204636-M1BS-050296468010_01_P002_u16rf3338_OCM_v1_0_7.tif')]\n"
     ]
    },
    {
     "name": "stderr",
     "output_type": "stream",
     "text": [
      "\n",
      "\u001b[Aning inference using cuda bfloat16:   0%|          | 0/1 [00:00<?, ?it/s]\n",
      "\u001b[Aning inference using cuda bfloat16: 100%|██████████| 1/1 [00:03<00:00,  1.88s/it]\n",
      "Running inference using cuda bfloat16: 100%|██████████| 1/1 [00:05<00:00,  5.85s/it]\n"
     ]
    },
    {
     "name": "stdout",
     "output_type": "stream",
     "text": [
      "Predicted [Path('/data/gis/raster_base/Alaska/AKVegMap/EVWHS/mentasta/ortho_toa_subimages_cloud/18JUL24214210-M1BS-050296460010_01_P005_u16rf3338_OCM_v1_0_7.tif')]\n"
     ]
    },
    {
     "name": "stderr",
     "output_type": "stream",
     "text": [
      "\n",
      "\u001b[Aning inference using cuda bfloat16:   0%|          | 0/1 [00:00<?, ?it/s]\n",
      "\u001b[Aning inference using cuda bfloat16: 100%|██████████| 1/1 [00:01<00:00,  1.57s/it]\n",
      "Running inference using cuda bfloat16: 100%|██████████| 1/1 [00:02<00:00,  2.45s/it]\n"
     ]
    },
    {
     "name": "stdout",
     "output_type": "stream",
     "text": [
      "Predicted [Path('/data/gis/raster_base/Alaska/AKVegMap/EVWHS/mentasta/ortho_toa_subimages_cloud/23AUG23205747-M1BS-050296473010_01_P001_u16rf3338_OCM_v1_0_7.tif')]\n"
     ]
    },
    {
     "name": "stderr",
     "output_type": "stream",
     "text": [
      "\n",
      "\u001b[Aning inference using cuda bfloat16:   0%|          | 0/1 [00:00<?, ?it/s]\n",
      "\u001b[Aning inference using cuda bfloat16: 100%|██████████| 1/1 [00:02<00:00,  1.24s/it]\n",
      "Running inference using cuda bfloat16: 100%|██████████| 1/1 [00:03<00:00,  3.34s/it]\n"
     ]
    },
    {
     "name": "stdout",
     "output_type": "stream",
     "text": [
      "Predicted [Path('/data/gis/raster_base/Alaska/AKVegMap/EVWHS/mentasta/ortho_toa_subimages_cloud/20AUG03210825-M1BS-050296494010_01_P001_u16rf3338_OCM_v1_0_7.tif')]\n"
     ]
    },
    {
     "name": "stderr",
     "output_type": "stream",
     "text": [
      "\n",
      "\u001b[Aning inference using cuda bfloat16:   0%|          | 0/1 [00:00<?, ?it/s]\n",
      "\u001b[Aning inference using cuda bfloat16: 100%|██████████| 1/1 [00:02<00:00,  2.16s/it]\n",
      "Running inference using cuda bfloat16: 100%|██████████| 1/1 [00:08<00:00,  8.04s/it]\n"
     ]
    },
    {
     "name": "stdout",
     "output_type": "stream",
     "text": [
      "Predicted [Path('/data/gis/raster_base/Alaska/AKVegMap/EVWHS/mentasta/ortho_toa_subimages_cloud/13JUN27211613-M1BS-050296482010_01_P008_u16rf3338_OCM_v1_0_7.tif')]\n"
     ]
    },
    {
     "name": "stderr",
     "output_type": "stream",
     "text": [
      "\n",
      "\u001b[A/home/mmacander/miniconda3/envs/omni/lib/python3.11/site-packages/omnicloudmask/cloud_mask.py:154: UserWarning: Patch size too large, reducing to 998 and overlap to 300.\n",
      "  warnings.warn(\n",
      "\n",
      "\u001b[Aning inference using cuda bfloat16: 100%|██████████| 1/1 [00:02<00:00,  2.41s/it]\n",
      "Running inference using cuda bfloat16: 100%|██████████| 1/1 [00:04<00:00,  4.74s/it]\n"
     ]
    },
    {
     "name": "stdout",
     "output_type": "stream",
     "text": [
      "Predicted [Path('/data/gis/raster_base/Alaska/AKVegMap/EVWHS/mentasta/ortho_toa_subimages_cloud/23JUL26212316-M1BS-050296496010_01_P014_u16rf3338_OCM_v1_0_7.tif')]\n"
     ]
    },
    {
     "name": "stderr",
     "output_type": "stream",
     "text": [
      "\n",
      "\u001b[Aning inference using cuda bfloat16:   0%|          | 0/1 [00:00<?, ?it/s]\n",
      "\u001b[Aning inference using cuda bfloat16: 100%|██████████| 1/1 [00:03<00:00,  1.87s/it]\n",
      "Running inference using cuda bfloat16: 100%|██████████| 1/1 [00:08<00:00,  8.26s/it]\n"
     ]
    },
    {
     "name": "stdout",
     "output_type": "stream",
     "text": [
      "Predicted [Path('/data/gis/raster_base/Alaska/AKVegMap/EVWHS/mentasta/ortho_toa_subimages_cloud/16JUN15214159-M1BS-050296498010_01_P001_u16rf3338_OCM_v1_0_7.tif')]\n"
     ]
    },
    {
     "name": "stderr",
     "output_type": "stream",
     "text": [
      "\n",
      "\u001b[Aning inference using cuda bfloat16:   0%|          | 0/1 [00:00<?, ?it/s]\n",
      "\u001b[Aning inference using cuda bfloat16: 100%|██████████| 1/1 [00:01<00:00,  1.36s/it]\n",
      "Running inference using cuda bfloat16: 100%|██████████| 1/1 [00:02<00:00,  2.73s/it]\n"
     ]
    },
    {
     "name": "stdout",
     "output_type": "stream",
     "text": [
      "Predicted [Path('/data/gis/raster_base/Alaska/AKVegMap/EVWHS/mentasta/ortho_toa_subimages_cloud/23JUL21205704-M1BS-050296474010_01_P001_u16rf3338_OCM_v1_0_7.tif')]\n"
     ]
    },
    {
     "name": "stderr",
     "output_type": "stream",
     "text": [
      "\n",
      "\u001b[A/home/mmacander/miniconda3/envs/omni/lib/python3.11/site-packages/omnicloudmask/cloud_mask.py:145: UserWarning: Significant no-data areas detected. Adjusting patch size to 912px and overlap to 300px to minimize no-data patches.\n",
      "  warnings.warn(\n",
      "\n",
      "\u001b[Aning inference using cuda bfloat16: 100%|██████████| 1/1 [00:03<00:00,  3.23s/it]\n",
      "Running inference using cuda bfloat16: 100%|██████████| 1/1 [00:06<00:00,  6.93s/it]\n"
     ]
    },
    {
     "name": "stdout",
     "output_type": "stream",
     "text": [
      "Predicted [Path('/data/gis/raster_base/Alaska/AKVegMap/EVWHS/mentasta/ortho_toa_subimages_cloud/13JUL27210946-M1BS-050296487010_01_P009_u16rf3338_OCM_v1_0_7.tif')]\n"
     ]
    },
    {
     "name": "stderr",
     "output_type": "stream",
     "text": [
      "\n",
      "\u001b[Aning inference using cuda bfloat16:   0%|          | 0/1 [00:00<?, ?it/s]\n",
      "\u001b[Aning inference using cuda bfloat16: 100%|██████████| 1/1 [00:04<00:00,  3.28s/it]\n",
      "Running inference using cuda bfloat16: 100%|██████████| 1/1 [00:06<00:00,  6.44s/it]\n"
     ]
    },
    {
     "name": "stdout",
     "output_type": "stream",
     "text": [
      "Predicted [Path('/data/gis/raster_base/Alaska/AKVegMap/EVWHS/mentasta/ortho_toa_subimages_cloud/18JUL21211754-M1BS-050296502010_01_P008_u16rf3338_OCM_v1_0_7.tif')]\n"
     ]
    },
    {
     "name": "stderr",
     "output_type": "stream",
     "text": [
      "\n",
      "\u001b[Aning inference using cuda bfloat16:   0%|          | 0/1 [00:00<?, ?it/s]\n",
      "\u001b[Aning inference using cuda bfloat16: 100%|██████████| 1/1 [00:03<00:00,  1.81s/it]\n",
      "Running inference using cuda bfloat16: 100%|██████████| 1/1 [00:05<00:00,  5.17s/it]\n"
     ]
    },
    {
     "name": "stdout",
     "output_type": "stream",
     "text": [
      "Predicted [Path('/data/gis/raster_base/Alaska/AKVegMap/EVWHS/mentasta/ortho_toa_subimages_cloud/13JUN19211131-M1BS-050296495010_01_P003_u16rf3338_OCM_v1_0_7.tif')]\n"
     ]
    },
    {
     "name": "stderr",
     "output_type": "stream",
     "text": [
      "\n",
      "\u001b[Aning inference using cuda bfloat16:   0%|          | 0/1 [00:00<?, ?it/s]\n",
      "\u001b[Aning inference using cuda bfloat16: 100%|██████████| 1/1 [00:03<00:00,  1.66s/it]\n",
      "Running inference using cuda bfloat16: 100%|██████████| 1/1 [00:05<00:00,  5.80s/it]\n"
     ]
    },
    {
     "name": "stdout",
     "output_type": "stream",
     "text": [
      "Predicted [Path('/data/gis/raster_base/Alaska/AKVegMap/EVWHS/mentasta/ortho_toa_subimages_cloud/23JUL26212303-M1BS-050296478010_01_P010_u16rf3338_OCM_v1_0_7.tif')]\n"
     ]
    },
    {
     "name": "stderr",
     "output_type": "stream",
     "text": [
      "\n",
      "\u001b[Aning inference using cuda bfloat16:   0%|          | 0/1 [00:00<?, ?it/s]\n",
      "\u001b[Aning inference using cuda bfloat16: 100%|██████████| 1/1 [00:03<00:00,  3.95s/it]\n",
      "Running inference using cuda bfloat16: 100%|██████████| 1/1 [00:09<00:00,  9.11s/it]\n"
     ]
    },
    {
     "name": "stdout",
     "output_type": "stream",
     "text": [
      "Predicted [Path('/data/gis/raster_base/Alaska/AKVegMap/EVWHS/mentasta/ortho_toa_subimages_cloud/23JUL26212254-M1BS-050296478010_01_P003_u16rf3338_OCM_v1_0_7.tif')]\n"
     ]
    },
    {
     "name": "stderr",
     "output_type": "stream",
     "text": [
      "\n",
      "\u001b[Aning inference using cuda bfloat16:   0%|          | 0/1 [00:00<?, ?it/s]\n",
      "\u001b[Aning inference using cuda bfloat16: 100%|██████████| 1/1 [00:02<00:00,  1.88s/it]\n",
      "Running inference using cuda bfloat16: 100%|██████████| 1/1 [00:03<00:00,  3.82s/it]\n"
     ]
    },
    {
     "name": "stdout",
     "output_type": "stream",
     "text": [
      "Predicted [Path('/data/gis/raster_base/Alaska/AKVegMap/EVWHS/mentasta/ortho_toa_subimages_cloud/16JUN15214201-M1BS-050296498010_01_P003_u16rf3338_OCM_v1_0_7.tif')]\n"
     ]
    },
    {
     "name": "stderr",
     "output_type": "stream",
     "text": [
      "\n",
      "\u001b[Aning inference using cuda bfloat16:   0%|          | 0/1 [00:00<?, ?it/s]\n",
      "\u001b[Aning inference using cuda bfloat16: 100%|██████████| 1/1 [00:03<00:00,  2.25s/it]\n",
      "Running inference using cuda bfloat16: 100%|██████████| 1/1 [00:07<00:00,  7.45s/it]\n"
     ]
    },
    {
     "name": "stdout",
     "output_type": "stream",
     "text": [
      "Predicted [Path('/data/gis/raster_base/Alaska/AKVegMap/EVWHS/mentasta/ortho_toa_subimages_cloud/23JUL21210702-M1BS-050296463010_01_P003_u16rf3338_OCM_v1_0_7.tif')]\n"
     ]
    },
    {
     "name": "stderr",
     "output_type": "stream",
     "text": [
      "\n",
      "\u001b[Aning inference using cuda bfloat16:   0%|          | 0/1 [00:00<?, ?it/s]\n",
      "\u001b[Aning inference using cuda bfloat16: 100%|██████████| 1/1 [00:01<00:00,  1.95s/it]\n",
      "Running inference using cuda bfloat16: 100%|██████████| 1/1 [00:06<00:00,  6.55s/it]\n"
     ]
    },
    {
     "name": "stdout",
     "output_type": "stream",
     "text": [
      "Predicted [Path('/data/gis/raster_base/Alaska/AKVegMap/EVWHS/mentasta/ortho_toa_subimages_cloud/21AUG30204809-M1BS-050296461010_01_P004_u16rf3338_OCM_v1_0_7.tif')]\n"
     ]
    },
    {
     "name": "stderr",
     "output_type": "stream",
     "text": [
      "\n",
      "\u001b[Aning inference using cuda bfloat16:   0%|          | 0/1 [00:00<?, ?it/s]\n",
      "\u001b[Aning inference using cuda bfloat16: 100%|██████████| 1/1 [00:01<00:00,  1.66s/it]\n",
      "Running inference using cuda bfloat16: 100%|██████████| 1/1 [00:03<00:00,  3.95s/it]\n"
     ]
    },
    {
     "name": "stdout",
     "output_type": "stream",
     "text": [
      "Predicted [Path('/data/gis/raster_base/Alaska/AKVegMap/EVWHS/mentasta/ortho_toa_subimages_cloud/24JUN29212844-M1BS-050296485010_01_P003_u16rf3338_OCM_v1_0_7.tif')]\n"
     ]
    },
    {
     "name": "stderr",
     "output_type": "stream",
     "text": [
      "\n",
      "\u001b[Aning inference using cuda bfloat16:   0%|          | 0/1 [00:00<?, ?it/s]\n",
      "\u001b[Aning inference using cuda bfloat16: 100%|██████████| 1/1 [00:02<00:00,  1.03s/it]\n",
      "Running inference using cuda bfloat16: 100%|██████████| 1/1 [00:04<00:00,  4.65s/it]\n"
     ]
    },
    {
     "name": "stdout",
     "output_type": "stream",
     "text": [
      "Predicted [Path('/data/gis/raster_base/Alaska/AKVegMap/EVWHS/mentasta/ortho_toa_subimages_cloud/17JUL12211730-M1BS-050296465010_01_P003_u16rf3338_OCM_v1_0_7.tif')]\n"
     ]
    },
    {
     "name": "stderr",
     "output_type": "stream",
     "text": [
      "\n",
      "\u001b[Aning inference using cuda bfloat16:   0%|          | 0/1 [00:00<?, ?it/s]\n",
      "\u001b[Aning inference using cuda bfloat16: 100%|██████████| 1/1 [00:01<00:00,  1.71s/it]\n",
      "Running inference using cuda bfloat16: 100%|██████████| 1/1 [00:05<00:00,  5.93s/it]\n"
     ]
    },
    {
     "name": "stdout",
     "output_type": "stream",
     "text": [
      "Predicted [Path('/data/gis/raster_base/Alaska/AKVegMap/EVWHS/mentasta/ortho_toa_subimages_cloud/24JUN29212843-M1BS-050296485010_01_P004_u16rf3338_OCM_v1_0_7.tif')]\n"
     ]
    },
    {
     "name": "stderr",
     "output_type": "stream",
     "text": [
      "\n",
      "\u001b[Aning inference using cuda bfloat16:   0%|          | 0/1 [00:00<?, ?it/s]\n",
      "\u001b[Aning inference using cuda bfloat16: 100%|██████████| 1/1 [00:04<00:00,  4.62s/it]\n",
      "Running inference using cuda bfloat16: 100%|██████████| 1/1 [00:07<00:00,  7.52s/it]\n"
     ]
    },
    {
     "name": "stdout",
     "output_type": "stream",
     "text": [
      "Predicted [Path('/data/gis/raster_base/Alaska/AKVegMap/EVWHS/mentasta/ortho_toa_subimages_cloud/24JUN29212915-M1BS-050296500010_01_P007_u16rf3338_OCM_v1_0_7.tif')]\n"
     ]
    },
    {
     "name": "stderr",
     "output_type": "stream",
     "text": [
      "\n",
      "\u001b[Aning inference using cuda bfloat16:   0%|          | 0/1 [00:00<?, ?it/s]\n",
      "\u001b[Aning inference using cuda bfloat16: 100%|██████████| 1/1 [00:04<00:00,  2.89s/it]\n",
      "Running inference using cuda bfloat16: 100%|██████████| 1/1 [00:05<00:00,  5.91s/it]\n"
     ]
    },
    {
     "name": "stdout",
     "output_type": "stream",
     "text": [
      "Predicted [Path('/data/gis/raster_base/Alaska/AKVegMap/EVWHS/mentasta/ortho_toa_subimages_cloud/23JUL21210704-M1BS-050296463010_01_P001_u16rf3338_OCM_v1_0_7.tif')]\n"
     ]
    },
    {
     "name": "stderr",
     "output_type": "stream",
     "text": [
      "\n",
      "\u001b[Aning inference using cuda bfloat16:   0%|          | 0/1 [00:00<?, ?it/s]\n",
      "\u001b[Aning inference using cuda bfloat16: 100%|██████████| 1/1 [00:06<00:00,  3.89s/it]\n",
      "Running inference using cuda bfloat16: 100%|██████████| 1/1 [00:08<00:00,  8.95s/it]\n"
     ]
    },
    {
     "name": "stdout",
     "output_type": "stream",
     "text": [
      "Predicted [Path('/data/gis/raster_base/Alaska/AKVegMap/EVWHS/mentasta/ortho_toa_subimages_cloud/18JUL24214215-M1BS-050296460010_01_P008_u16rf3338_OCM_v1_0_7.tif')]\n"
     ]
    },
    {
     "name": "stderr",
     "output_type": "stream",
     "text": [
      "\n",
      "\u001b[Aning inference using cuda bfloat16:   0%|          | 0/1 [00:00<?, ?it/s]\n",
      "\u001b[Aning inference using cuda bfloat16: 100%|██████████| 1/1 [00:02<00:00,  2.12s/it]\n",
      "Running inference using cuda bfloat16: 100%|██████████| 1/1 [00:04<00:00,  4.47s/it]\n"
     ]
    },
    {
     "name": "stdout",
     "output_type": "stream",
     "text": [
      "Predicted [Path('/data/gis/raster_base/Alaska/AKVegMap/EVWHS/mentasta/ortho_toa_subimages_cloud/24JUN29212854-M1BS-050296480010_01_P001_u16rf3338_OCM_v1_0_7.tif')]\n"
     ]
    },
    {
     "name": "stderr",
     "output_type": "stream",
     "text": [
      "\n",
      "\u001b[Aning inference using cuda bfloat16:   0%|          | 0/1 [00:00<?, ?it/s]\n",
      "\u001b[Aning inference using cuda bfloat16: 100%|██████████| 1/1 [00:01<00:00,  1.74s/it]\n",
      "Running inference using cuda bfloat16: 100%|██████████| 1/1 [00:04<00:00,  4.33s/it]\n"
     ]
    },
    {
     "name": "stdout",
     "output_type": "stream",
     "text": [
      "Predicted [Path('/data/gis/raster_base/Alaska/AKVegMap/EVWHS/mentasta/ortho_toa_subimages_cloud/13JUN27211559-M1BS-050296491010_01_P005_u16rf3338_OCM_v1_0_7.tif')]\n"
     ]
    },
    {
     "name": "stderr",
     "output_type": "stream",
     "text": [
      "\n",
      "\u001b[Aning inference using cuda bfloat16:   0%|          | 0/1 [00:00<?, ?it/s]\n",
      "\u001b[Aning inference using cuda bfloat16: 100%|██████████| 1/1 [00:03<00:00,  3.52s/it]\n",
      "Running inference using cuda bfloat16: 100%|██████████| 1/1 [00:07<00:00,  7.13s/it]\n"
     ]
    },
    {
     "name": "stdout",
     "output_type": "stream",
     "text": [
      "Predicted [Path('/data/gis/raster_base/Alaska/AKVegMap/EVWHS/mentasta/ortho_toa_subimages_cloud/23JUL26212305-M1BS-050296478010_01_P011_u16rf3338_OCM_v1_0_7.tif')]\n"
     ]
    },
    {
     "name": "stderr",
     "output_type": "stream",
     "text": [
      "\n",
      "\u001b[A/home/mmacander/miniconda3/envs/omni/lib/python3.11/site-packages/omnicloudmask/cloud_mask.py:145: UserWarning: Significant no-data areas detected. Adjusting patch size to 378px and overlap to 189px to minimize no-data patches.\n",
      "  warnings.warn(\n",
      "\n",
      "\u001b[Aning inference using cuda bfloat16: 100%|██████████| 1/1 [00:01<00:00,  1.12s/it]\n",
      "Running inference using cuda bfloat16: 100%|██████████| 1/1 [00:02<00:00,  2.91s/it]\n"
     ]
    },
    {
     "name": "stdout",
     "output_type": "stream",
     "text": [
      "Predicted [Path('/data/gis/raster_base/Alaska/AKVegMap/EVWHS/mentasta/ortho_toa_subimages_cloud/13JUN18214819-M1BS-050296501010_01_P002_u16rf3338_OCM_v1_0_7.tif')]\n"
     ]
    },
    {
     "name": "stderr",
     "output_type": "stream",
     "text": [
      "\n",
      "\u001b[Aning inference using cuda bfloat16:   0%|          | 0/1 [00:00<?, ?it/s]\n",
      "\u001b[Aning inference using cuda bfloat16: 100%|██████████| 1/1 [00:04<00:00,  2.10s/it]\n",
      "Running inference using cuda bfloat16: 100%|██████████| 1/1 [00:06<00:00,  6.89s/it]\n"
     ]
    },
    {
     "name": "stdout",
     "output_type": "stream",
     "text": [
      "Predicted [Path('/data/gis/raster_base/Alaska/AKVegMap/EVWHS/mentasta/ortho_toa_subimages_cloud/23JUL26212255-M1BS-050296478010_01_P004_u16rf3338_OCM_v1_0_7.tif')]\n"
     ]
    },
    {
     "name": "stderr",
     "output_type": "stream",
     "text": [
      "\n",
      "\u001b[A/home/mmacander/miniconda3/envs/omni/lib/python3.11/site-packages/omnicloudmask/cloud_mask.py:154: UserWarning: Patch size too large, reducing to 353 and overlap to 176.\n",
      "  warnings.warn(\n",
      "\n",
      "\u001b[Aning inference using cuda bfloat16: 100%|██████████| 1/1 [00:00<00:00,  1.16it/s]\n",
      "Running inference using cuda bfloat16: 100%|██████████| 1/1 [00:05<00:00,  5.67s/it]\n"
     ]
    },
    {
     "name": "stdout",
     "output_type": "stream",
     "text": [
      "Predicted [Path('/data/gis/raster_base/Alaska/AKVegMap/EVWHS/mentasta/ortho_toa_subimages_cloud/20JUL29212808-M1BS-050296459010_01_P003_u16rf3338_OCM_v1_0_7.tif')]\n"
     ]
    },
    {
     "name": "stderr",
     "output_type": "stream",
     "text": [
      "\n",
      "\u001b[Aning inference using cuda bfloat16:   0%|          | 0/1 [00:00<?, ?it/s]\n",
      "\u001b[Aning inference using cuda bfloat16: 100%|██████████| 1/1 [00:02<00:00,  2.85s/it]\n",
      "Running inference using cuda bfloat16: 100%|██████████| 1/1 [00:05<00:00,  5.23s/it]\n"
     ]
    },
    {
     "name": "stdout",
     "output_type": "stream",
     "text": [
      "Predicted [Path('/data/gis/raster_base/Alaska/AKVegMap/EVWHS/mentasta/ortho_toa_subimages_cloud/13JUN20201607-M1BS-050296503010_01_P004_u16rf3338_OCM_v1_0_7.tif')]\n"
     ]
    },
    {
     "name": "stderr",
     "output_type": "stream",
     "text": [
      "\n",
      "\u001b[A/home/mmacander/miniconda3/envs/omni/lib/python3.11/site-packages/omnicloudmask/cloud_mask.py:145: UserWarning: Significant no-data areas detected. Adjusting patch size to 417px and overlap to 208px to minimize no-data patches.\n",
      "  warnings.warn(\n",
      "\n",
      "\u001b[Aning inference using cuda bfloat16: 100%|██████████| 1/1 [00:00<00:00,  1.14it/s]\n",
      "Running inference using cuda bfloat16: 100%|██████████| 1/1 [00:03<00:00,  3.07s/it]\n"
     ]
    },
    {
     "name": "stdout",
     "output_type": "stream",
     "text": [
      "Predicted [Path('/data/gis/raster_base/Alaska/AKVegMap/EVWHS/mentasta/ortho_toa_subimages_cloud/13JUN27211612-M1BS-050296482010_01_P010_u16rf3338_OCM_v1_0_7.tif')]\n"
     ]
    },
    {
     "name": "stderr",
     "output_type": "stream",
     "text": [
      "\n",
      "\u001b[A/home/mmacander/miniconda3/envs/omni/lib/python3.11/site-packages/omnicloudmask/cloud_mask.py:145: UserWarning: Significant no-data areas detected. Adjusting patch size to 270px and overlap to 135px to minimize no-data patches.\n",
      "  warnings.warn(\n",
      "\n",
      "\u001b[Aning inference using cuda bfloat16: 100%|██████████| 1/1 [00:03<00:00,  1.04s/it]\n",
      "Running inference using cuda bfloat16: 100%|██████████| 1/1 [00:04<00:00,  4.97s/it]\n"
     ]
    },
    {
     "name": "stdout",
     "output_type": "stream",
     "text": [
      "Predicted [Path('/data/gis/raster_base/Alaska/AKVegMap/EVWHS/mentasta/ortho_toa_subimages_cloud/16JUN15214210-M1BS-050296498010_01_P010_u16rf3338_OCM_v1_0_7.tif')]\n"
     ]
    },
    {
     "name": "stderr",
     "output_type": "stream",
     "text": [
      "\n",
      "\u001b[A/home/mmacander/miniconda3/envs/omni/lib/python3.11/site-packages/omnicloudmask/cloud_mask.py:145: UserWarning: Significant no-data areas detected. Adjusting patch size to 921px and overlap to 300px to minimize no-data patches.\n",
      "  warnings.warn(\n",
      "\n",
      "\u001b[Aning inference using cuda bfloat16: 100%|██████████| 1/1 [00:03<00:00,  3.16s/it]\n",
      "Running inference using cuda bfloat16: 100%|██████████| 1/1 [00:07<00:00,  7.07s/it]\n"
     ]
    },
    {
     "name": "stdout",
     "output_type": "stream",
     "text": [
      "Predicted [Path('/data/gis/raster_base/Alaska/AKVegMap/EVWHS/mentasta/ortho_toa_subimages_cloud/18JUL21211755-M1BS-050296502010_01_P009_u16rf3338_OCM_v1_0_7.tif')]\n"
     ]
    },
    {
     "name": "stderr",
     "output_type": "stream",
     "text": [
      "\n",
      "\u001b[A/home/mmacander/miniconda3/envs/omni/lib/python3.11/site-packages/omnicloudmask/cloud_mask.py:154: UserWarning: Patch size too large, reducing to 374 and overlap to 187.\n",
      "  warnings.warn(\n",
      "\n",
      "\u001b[Aning inference using cuda bfloat16: 100%|██████████| 1/1 [00:01<00:00,  1.41s/it]\n",
      "Running inference using cuda bfloat16: 100%|██████████| 1/1 [00:04<00:00,  4.08s/it]\n"
     ]
    },
    {
     "name": "stdout",
     "output_type": "stream",
     "text": [
      "Predicted [Path('/data/gis/raster_base/Alaska/AKVegMap/EVWHS/mentasta/ortho_toa_subimages_cloud/13JUN19211140-M1BS-050296495010_01_P010_u16rf3338_OCM_v1_0_7.tif')]\n"
     ]
    },
    {
     "name": "stderr",
     "output_type": "stream",
     "text": [
      "\n",
      "\u001b[Aning inference using cuda bfloat16:   0%|          | 0/1 [00:00<?, ?it/s]\n",
      "\u001b[Aning inference using cuda bfloat16: 100%|██████████| 1/1 [00:01<00:00,  1.13s/it]\n",
      "Running inference using cuda bfloat16: 100%|██████████| 1/1 [00:04<00:00,  4.38s/it]\n"
     ]
    },
    {
     "name": "stdout",
     "output_type": "stream",
     "text": [
      "Predicted [Path('/data/gis/raster_base/Alaska/AKVegMap/EVWHS/mentasta/ortho_toa_subimages_cloud/17JUL12211739-M1BS-050296465010_01_P008_u16rf3338_OCM_v1_0_7.tif')]\n"
     ]
    },
    {
     "name": "stderr",
     "output_type": "stream",
     "text": [
      "\n",
      "\u001b[Aning inference using cuda bfloat16:   0%|          | 0/1 [00:00<?, ?it/s]\n",
      "\u001b[Aning inference using cuda bfloat16: 100%|██████████| 1/1 [00:02<00:00,  1.77s/it]\n",
      "Running inference using cuda bfloat16: 100%|██████████| 1/1 [00:03<00:00,  3.89s/it]\n"
     ]
    },
    {
     "name": "stdout",
     "output_type": "stream",
     "text": [
      "Predicted [Path('/data/gis/raster_base/Alaska/AKVegMap/EVWHS/mentasta/ortho_toa_subimages_cloud/13JUN19211139-M1BS-050296495010_01_P009_u16rf3338_OCM_v1_0_7.tif')]\n"
     ]
    },
    {
     "name": "stderr",
     "output_type": "stream",
     "text": [
      "\n",
      "\u001b[Aning inference using cuda bfloat16:   0%|          | 0/1 [00:00<?, ?it/s]\n",
      "\u001b[Aning inference using cuda bfloat16: 100%|██████████| 1/1 [00:03<00:00,  2.64s/it]\n",
      "Running inference using cuda bfloat16: 100%|██████████| 1/1 [00:04<00:00,  4.96s/it]\n"
     ]
    },
    {
     "name": "stdout",
     "output_type": "stream",
     "text": [
      "Predicted [Path('/data/gis/raster_base/Alaska/AKVegMap/EVWHS/mentasta/ortho_toa_subimages_cloud/17JUL12211741-M1BS-050296465010_01_P009_u16rf3338_OCM_v1_0_7.tif')]\n"
     ]
    },
    {
     "name": "stderr",
     "output_type": "stream",
     "text": [
      "\n",
      "\u001b[Aning inference using cuda bfloat16:   0%|          | 0/1 [00:00<?, ?it/s]\n",
      "\u001b[Aning inference using cuda bfloat16: 100%|██████████| 1/1 [00:04<00:00,  2.94s/it]\n",
      "Running inference using cuda bfloat16: 100%|██████████| 1/1 [00:09<00:00,  9.08s/it]\n"
     ]
    },
    {
     "name": "stdout",
     "output_type": "stream",
     "text": [
      "Predicted [Path('/data/gis/raster_base/Alaska/AKVegMap/EVWHS/mentasta/ortho_toa_subimages_cloud/23JUL26212331-M1BS-050296496010_01_P002_u16rf3338_OCM_v1_0_7.tif')]\n"
     ]
    },
    {
     "name": "stderr",
     "output_type": "stream",
     "text": [
      "\n",
      "\u001b[Aning inference using cuda bfloat16:   0%|          | 0/1 [00:00<?, ?it/s]\n",
      "\u001b[Aning inference using cuda bfloat16: 100%|██████████| 1/1 [00:19<00:00, 19.17s/it]\n",
      "Running inference using cuda bfloat16: 100%|██████████| 1/1 [00:23<00:00, 23.48s/it]\n"
     ]
    },
    {
     "name": "stdout",
     "output_type": "stream",
     "text": [
      "Predicted [Path('/data/gis/raster_base/Alaska/AKVegMap/EVWHS/mentasta/ortho_toa_subimages_cloud/18JUL21211753-M1BS-050296502010_01_P007_u16rf3338_OCM_v1_0_7.tif')]\n"
     ]
    },
    {
     "name": "stderr",
     "output_type": "stream",
     "text": [
      "\n",
      "\u001b[Aning inference using cuda bfloat16:   0%|          | 0/1 [00:00<?, ?it/s]\n",
      "\u001b[Aning inference using cuda bfloat16: 100%|██████████| 1/1 [00:04<00:00,  4.15s/it]\n",
      "Running inference using cuda bfloat16: 100%|██████████| 1/1 [00:06<00:00,  6.76s/it]\n"
     ]
    },
    {
     "name": "stdout",
     "output_type": "stream",
     "text": [
      "Predicted [Path('/data/gis/raster_base/Alaska/AKVegMap/EVWHS/mentasta/ortho_toa_subimages_cloud/16JUN15214200-M1BS-050296498010_01_P002_u16rf3338_OCM_v1_0_7.tif')]\n"
     ]
    },
    {
     "name": "stderr",
     "output_type": "stream",
     "text": [
      "\n",
      "\u001b[Aning inference using cuda bfloat16:   0%|          | 0/1 [00:00<?, ?it/s]\n",
      "\u001b[Aning inference using cuda bfloat16: 100%|██████████| 1/1 [00:03<00:00,  2.34s/it]\n",
      "Running inference using cuda bfloat16: 100%|██████████| 1/1 [00:05<00:00,  5.43s/it]\n"
     ]
    },
    {
     "name": "stdout",
     "output_type": "stream",
     "text": [
      "Predicted [Path('/data/gis/raster_base/Alaska/AKVegMap/EVWHS/mentasta/ortho_toa_subimages_cloud/23JUL26212325-M1BS-050296496010_01_P006_u16rf3338_OCM_v1_0_7.tif')]\n"
     ]
    },
    {
     "name": "stderr",
     "output_type": "stream",
     "text": [
      "\n",
      "\u001b[Aning inference using cuda bfloat16:   0%|          | 0/1 [00:00<?, ?it/s]\n",
      "\u001b[Aning inference using cuda bfloat16: 100%|██████████| 1/1 [00:04<00:00,  2.96s/it]\n",
      "Running inference using cuda bfloat16: 100%|██████████| 1/1 [00:05<00:00,  5.06s/it]\n"
     ]
    },
    {
     "name": "stdout",
     "output_type": "stream",
     "text": [
      "Predicted [Path('/data/gis/raster_base/Alaska/AKVegMap/EVWHS/mentasta/ortho_toa_subimages_cloud/17JUL12211702-M1BS-050296469010_01_P009_u16rf3338_OCM_v1_0_7.tif')]\n"
     ]
    },
    {
     "name": "stderr",
     "output_type": "stream",
     "text": [
      "\n",
      "\u001b[Aning inference using cuda bfloat16:   0%|          | 0/1 [00:00<?, ?it/s]\n",
      "\u001b[Aning inference using cuda bfloat16: 100%|██████████| 1/1 [00:02<00:00,  1.19s/it]\n",
      "Running inference using cuda bfloat16: 100%|██████████| 1/1 [00:04<00:00,  4.27s/it]\n"
     ]
    },
    {
     "name": "stdout",
     "output_type": "stream",
     "text": [
      "Predicted [Path('/data/gis/raster_base/Alaska/AKVegMap/EVWHS/mentasta/ortho_toa_subimages_cloud/23JUL21205711-M1BS-050296474010_01_P005_u16rf3338_OCM_v1_0_7.tif')]\n"
     ]
    },
    {
     "name": "stderr",
     "output_type": "stream",
     "text": [
      "\n",
      "\u001b[Aning inference using cuda bfloat16:   0%|          | 0/1 [00:00<?, ?it/s]\n",
      "\u001b[Aning inference using cuda bfloat16: 100%|██████████| 1/1 [00:05<00:00,  2.77s/it]\n",
      "Running inference using cuda bfloat16: 100%|██████████| 1/1 [00:05<00:00,  5.69s/it]\n"
     ]
    },
    {
     "name": "stdout",
     "output_type": "stream",
     "text": [
      "Predicted [Path('/data/gis/raster_base/Alaska/AKVegMap/EVWHS/mentasta/ortho_toa_subimages_cloud/17JUL12211708-M1BS-050296469010_01_P006_u16rf3338_OCM_v1_0_7.tif')]\n"
     ]
    },
    {
     "name": "stderr",
     "output_type": "stream",
     "text": [
      "\n",
      "\u001b[Aning inference using cuda bfloat16:   0%|          | 0/1 [00:00<?, ?it/s]\n",
      "\u001b[Aning inference using cuda bfloat16: 100%|██████████| 1/1 [00:02<00:00,  2.29s/it]\n",
      "Running inference using cuda bfloat16: 100%|██████████| 1/1 [00:06<00:00,  6.85s/it]\n"
     ]
    },
    {
     "name": "stdout",
     "output_type": "stream",
     "text": [
      "Predicted [Path('/data/gis/raster_base/Alaska/AKVegMap/EVWHS/mentasta/ortho_toa_subimages_cloud/23JUL21210515-M1BS-050296456010_01_P003_u16rf3338_OCM_v1_0_7.tif')]\n"
     ]
    },
    {
     "name": "stderr",
     "output_type": "stream",
     "text": [
      "\n",
      "\u001b[Aning inference using cuda bfloat16:   0%|          | 0/1 [00:00<?, ?it/s]\n",
      "\u001b[Aning inference using cuda bfloat16: 100%|██████████| 1/1 [00:02<00:00,  2.01s/it]\n",
      "Running inference using cuda bfloat16: 100%|██████████| 1/1 [00:03<00:00,  3.09s/it]\n"
     ]
    },
    {
     "name": "stdout",
     "output_type": "stream",
     "text": [
      "Predicted [Path('/data/gis/raster_base/Alaska/AKVegMap/EVWHS/mentasta/ortho_toa_subimages_cloud/24JUN29212901-M1BS-050296480010_01_P006_u16rf3338_OCM_v1_0_7.tif')]\n"
     ]
    },
    {
     "name": "stderr",
     "output_type": "stream",
     "text": [
      "\n",
      "\u001b[A/home/mmacander/miniconda3/envs/omni/lib/python3.11/site-packages/omnicloudmask/cloud_mask.py:154: UserWarning: Patch size too large, reducing to 858 and overlap to 300.\n",
      "  warnings.warn(\n",
      "\n",
      "\u001b[Aning inference using cuda bfloat16: 100%|██████████| 1/1 [00:00<00:00,  1.02it/s]\n",
      "Running inference using cuda bfloat16: 100%|██████████| 1/1 [00:03<00:00,  3.34s/it]\n"
     ]
    },
    {
     "name": "stdout",
     "output_type": "stream",
     "text": [
      "Predicted [Path('/data/gis/raster_base/Alaska/AKVegMap/EVWHS/mentasta/ortho_toa_subimages_cloud/20AUG07204738-M1BS-050296470010_01_P002_u16rf3338_OCM_v1_0_7.tif')]\n"
     ]
    },
    {
     "name": "stderr",
     "output_type": "stream",
     "text": [
      "\n",
      "\u001b[A/home/mmacander/miniconda3/envs/omni/lib/python3.11/site-packages/omnicloudmask/cloud_mask.py:145: UserWarning: Significant no-data areas detected. Adjusting patch size to 993px and overlap to 300px to minimize no-data patches.\n",
      "  warnings.warn(\n",
      "\n",
      "\u001b[Aning inference using cuda bfloat16: 100%|██████████| 1/1 [00:02<00:00,  1.59s/it]\n",
      "Running inference using cuda bfloat16: 100%|██████████| 1/1 [00:03<00:00,  3.66s/it]\n"
     ]
    },
    {
     "name": "stdout",
     "output_type": "stream",
     "text": [
      "Predicted [Path('/data/gis/raster_base/Alaska/AKVegMap/EVWHS/mentasta/ortho_toa_subimages_cloud/13JUN27211554-M1BS-050296491010_01_P001_u16rf3338_OCM_v1_0_7.tif')]\n"
     ]
    },
    {
     "name": "stderr",
     "output_type": "stream",
     "text": [
      "\n",
      "\u001b[Aning inference using cuda bfloat16:   0%|          | 0/1 [00:00<?, ?it/s]\n",
      "\u001b[Aning inference using cuda bfloat16: 100%|██████████| 1/1 [00:02<00:00,  2.99s/it]\n",
      "Running inference using cuda bfloat16: 100%|██████████| 1/1 [00:04<00:00,  4.23s/it]\n"
     ]
    },
    {
     "name": "stdout",
     "output_type": "stream",
     "text": [
      "Predicted [Path('/data/gis/raster_base/Alaska/AKVegMap/EVWHS/mentasta/ortho_toa_subimages_cloud/24JUN29212838-M1BS-050296485010_01_P008_u16rf3338_OCM_v1_0_7.tif')]\n"
     ]
    },
    {
     "name": "stderr",
     "output_type": "stream",
     "text": [
      "\n",
      "\u001b[Aning inference using cuda bfloat16:   0%|          | 0/1 [00:00<?, ?it/s]\n",
      "\u001b[Aning inference using cuda bfloat16: 100%|██████████| 1/1 [00:02<00:00,  1.87s/it]\n",
      "Running inference using cuda bfloat16: 100%|██████████| 1/1 [00:05<00:00,  5.47s/it]\n"
     ]
    },
    {
     "name": "stdout",
     "output_type": "stream",
     "text": [
      "Predicted [Path('/data/gis/raster_base/Alaska/AKVegMap/EVWHS/mentasta/ortho_toa_subimages_cloud/13JUL27210956-M1BS-050296487010_01_P001_u16rf3338_OCM_v1_0_7.tif')]\n"
     ]
    },
    {
     "name": "stderr",
     "output_type": "stream",
     "text": [
      "\n",
      "\u001b[Aning inference using cuda bfloat16:   0%|          | 0/1 [00:00<?, ?it/s]\n",
      "\u001b[Aning inference using cuda bfloat16: 100%|██████████| 1/1 [00:03<00:00,  1.81s/it]\n",
      "Running inference using cuda bfloat16: 100%|██████████| 1/1 [00:05<00:00,  5.96s/it]\n"
     ]
    },
    {
     "name": "stdout",
     "output_type": "stream",
     "text": [
      "Predicted [Path('/data/gis/raster_base/Alaska/AKVegMap/EVWHS/mentasta/ortho_toa_subimages_cloud/15JUN19212133-M1BS-050296483010_01_P001_u16rf3338_OCM_v1_0_7.tif')]\n"
     ]
    },
    {
     "name": "stderr",
     "output_type": "stream",
     "text": [
      "\n",
      "\u001b[Aning inference using cuda bfloat16:   0%|          | 0/1 [00:00<?, ?it/s]\n",
      "\u001b[Aning inference using cuda bfloat16: 100%|██████████| 1/1 [00:03<00:00,  1.33s/it]\n",
      "Running inference using cuda bfloat16: 100%|██████████| 1/1 [00:03<00:00,  3.99s/it]\n"
     ]
    },
    {
     "name": "stdout",
     "output_type": "stream",
     "text": [
      "Predicted [Path('/data/gis/raster_base/Alaska/AKVegMap/EVWHS/mentasta/ortho_toa_subimages_cloud/20AUG07204702-M1BS-050296472010_01_P002_u16rf3338_OCM_v1_0_7.tif')]\n"
     ]
    },
    {
     "name": "stderr",
     "output_type": "stream",
     "text": [
      "\n",
      "\u001b[Aning inference using cuda bfloat16:   0%|          | 0/1 [00:00<?, ?it/s]\n",
      "\u001b[Aning inference using cuda bfloat16: 100%|██████████| 1/1 [00:02<00:00,  2.17s/it]\n",
      "Running inference using cuda bfloat16: 100%|██████████| 1/1 [00:06<00:00,  6.43s/it]\n"
     ]
    },
    {
     "name": "stdout",
     "output_type": "stream",
     "text": [
      "Predicted [Path('/data/gis/raster_base/Alaska/AKVegMap/EVWHS/mentasta/ortho_toa_subimages_cloud/23AUG23205629-M1BS-050296457010_01_P007_u16rf3338_OCM_v1_0_7.tif')]\n"
     ]
    },
    {
     "name": "stderr",
     "output_type": "stream",
     "text": [
      "\n",
      "\u001b[Aning inference using cuda bfloat16:   0%|          | 0/1 [00:00<?, ?it/s]\n",
      "\u001b[Aning inference using cuda bfloat16: 100%|██████████| 1/1 [00:03<00:00,  1.40s/it]\n",
      "Running inference using cuda bfloat16: 100%|██████████| 1/1 [00:05<00:00,  5.84s/it]\n"
     ]
    },
    {
     "name": "stdout",
     "output_type": "stream",
     "text": [
      "Predicted [Path('/data/gis/raster_base/Alaska/AKVegMap/EVWHS/mentasta/ortho_toa_subimages_cloud/23AUG23205749-M1BS-050296473010_01_P003_u16rf3338_OCM_v1_0_7.tif')]\n"
     ]
    },
    {
     "name": "stderr",
     "output_type": "stream",
     "text": [
      "\n",
      "\u001b[Aning inference using cuda bfloat16:   0%|          | 0/1 [00:00<?, ?it/s]\n",
      "\u001b[Aning inference using cuda bfloat16: 100%|██████████| 1/1 [00:03<00:00,  2.01s/it]\n",
      "Running inference using cuda bfloat16: 100%|██████████| 1/1 [00:06<00:00,  6.83s/it]\n"
     ]
    },
    {
     "name": "stdout",
     "output_type": "stream",
     "text": [
      "Predicted [Path('/data/gis/raster_base/Alaska/AKVegMap/EVWHS/mentasta/ortho_toa_subimages_cloud/23JUL21210659-M1BS-050296463010_01_P006_u16rf3338_OCM_v1_0_7.tif')]\n"
     ]
    },
    {
     "name": "stderr",
     "output_type": "stream",
     "text": [
      "\n",
      "\u001b[Aning inference using cuda bfloat16:   0%|          | 0/1 [00:00<?, ?it/s]\n",
      "\u001b[Aning inference using cuda bfloat16: 100%|██████████| 1/1 [00:02<00:00,  2.11s/it]\n",
      "Running inference using cuda bfloat16: 100%|██████████| 1/1 [00:03<00:00,  3.41s/it]\n"
     ]
    },
    {
     "name": "stdout",
     "output_type": "stream",
     "text": [
      "Predicted [Path('/data/gis/raster_base/Alaska/AKVegMap/EVWHS/mentasta/ortho_toa_subimages_cloud/17JUL12211727-M1BS-050296465010_01_P001_u16rf3338_OCM_v1_0_7.tif')]\n"
     ]
    },
    {
     "name": "stderr",
     "output_type": "stream",
     "text": [
      "\n",
      "\u001b[Aning inference using cuda bfloat16:   0%|          | 0/1 [00:00<?, ?it/s]\n",
      "\u001b[Aning inference using cuda bfloat16: 100%|██████████| 1/1 [00:03<00:00,  1.67s/it]\n",
      "Running inference using cuda bfloat16: 100%|██████████| 1/1 [00:11<00:00, 11.25s/it]\n"
     ]
    },
    {
     "name": "stdout",
     "output_type": "stream",
     "text": [
      "Predicted [Path('/data/gis/raster_base/Alaska/AKVegMap/EVWHS/mentasta/ortho_toa_subimages_cloud/21JUL12205143-M1BS-050296475010_01_P006_u16rf3338_OCM_v1_0_7.tif')]\n"
     ]
    },
    {
     "name": "stderr",
     "output_type": "stream",
     "text": [
      "\n",
      "\u001b[Aning inference using cuda bfloat16:   0%|          | 0/1 [00:00<?, ?it/s]\n",
      "\u001b[Aning inference using cuda bfloat16: 100%|██████████| 1/1 [00:08<00:00,  6.67s/it]\n",
      "Running inference using cuda bfloat16: 100%|██████████| 1/1 [00:09<00:00,  9.78s/it]\n"
     ]
    },
    {
     "name": "stdout",
     "output_type": "stream",
     "text": [
      "Predicted [Path('/data/gis/raster_base/Alaska/AKVegMap/EVWHS/mentasta/ortho_toa_subimages_cloud/21JUL12205301-M1BS-050296458010_01_P004_u16rf3338_OCM_v1_0_7.tif')]\n"
     ]
    },
    {
     "name": "stderr",
     "output_type": "stream",
     "text": [
      "\n",
      "\u001b[Aning inference using cuda bfloat16:   0%|          | 0/1 [00:00<?, ?it/s]\n",
      "\u001b[Aning inference using cuda bfloat16: 100%|██████████| 1/1 [00:04<00:00,  4.59s/it]\n",
      "Running inference using cuda bfloat16: 100%|██████████| 1/1 [00:09<00:00,  9.40s/it]\n"
     ]
    },
    {
     "name": "stdout",
     "output_type": "stream",
     "text": [
      "Predicted [Path('/data/gis/raster_base/Alaska/AKVegMap/EVWHS/mentasta/ortho_toa_subimages_cloud/21AUG30204637-M1BS-050296468010_01_P003_u16rf3338_OCM_v1_0_7.tif')]\n"
     ]
    },
    {
     "name": "stderr",
     "output_type": "stream",
     "text": [
      "\n",
      "\u001b[A/home/mmacander/miniconda3/envs/omni/lib/python3.11/site-packages/omnicloudmask/cloud_mask.py:145: UserWarning: Significant no-data areas detected. Adjusting patch size to 291px and overlap to 145px to minimize no-data patches.\n",
      "  warnings.warn(\n",
      "\n",
      "\u001b[Aning inference using cuda bfloat16: 100%|██████████| 1/1 [00:02<00:00,  2.09s/it]\n",
      "Running inference using cuda bfloat16: 100%|██████████| 1/1 [00:08<00:00,  8.09s/it]\n"
     ]
    },
    {
     "name": "stdout",
     "output_type": "stream",
     "text": [
      "Predicted [Path('/data/gis/raster_base/Alaska/AKVegMap/EVWHS/mentasta/ortho_toa_subimages_cloud/13JUN20201610-M1BS-050296503010_01_P005_u16rf3338_OCM_v1_0_7.tif')]\n"
     ]
    },
    {
     "name": "stderr",
     "output_type": "stream",
     "text": [
      "\n",
      "\u001b[Aning inference using cuda bfloat16:   0%|          | 0/1 [00:00<?, ?it/s]\n",
      "\u001b[Aning inference using cuda bfloat16: 100%|██████████| 1/1 [00:03<00:00,  3.06s/it]\n",
      "Running inference using cuda bfloat16: 100%|██████████| 1/1 [00:06<00:00,  6.13s/it]\n"
     ]
    },
    {
     "name": "stdout",
     "output_type": "stream",
     "text": [
      "Predicted [Path('/data/gis/raster_base/Alaska/AKVegMap/EVWHS/mentasta/ortho_toa_subimages_cloud/24JUN29212921-M1BS-050296500010_01_P002_u16rf3338_OCM_v1_0_7.tif')]\n"
     ]
    },
    {
     "name": "stderr",
     "output_type": "stream",
     "text": [
      "\n",
      "\u001b[Aning inference using cuda bfloat16:   0%|          | 0/1 [00:00<?, ?it/s]\n",
      "\u001b[Aning inference using cuda bfloat16: 100%|██████████| 1/1 [00:02<00:00,  1.93s/it]\n",
      "Running inference using cuda bfloat16: 100%|██████████| 1/1 [00:03<00:00,  3.40s/it]\n"
     ]
    },
    {
     "name": "stdout",
     "output_type": "stream",
     "text": [
      "Predicted [Path('/data/gis/raster_base/Alaska/AKVegMap/EVWHS/mentasta/ortho_toa_subimages_cloud/17JUL12211728-M1BS-050296465010_01_P002_u16rf3338_OCM_v1_0_7.tif')]\n"
     ]
    },
    {
     "name": "stderr",
     "output_type": "stream",
     "text": [
      "\n",
      "\u001b[Aning inference using cuda bfloat16:   0%|          | 0/1 [00:00<?, ?it/s]\n",
      "\u001b[Aning inference using cuda bfloat16: 100%|██████████| 1/1 [00:02<00:00,  2.31s/it]\n",
      "Running inference using cuda bfloat16: 100%|██████████| 1/1 [00:06<00:00,  6.56s/it]\n"
     ]
    },
    {
     "name": "stdout",
     "output_type": "stream",
     "text": [
      "Predicted [Path('/data/gis/raster_base/Alaska/AKVegMap/EVWHS/mentasta/ortho_toa_subimages_cloud/24JUN29212920-M1BS-050296500010_01_P003_u16rf3338_OCM_v1_0_7.tif')]\n"
     ]
    },
    {
     "name": "stderr",
     "output_type": "stream",
     "text": [
      "\n",
      "\u001b[Aning inference using cuda bfloat16:   0%|          | 0/1 [00:00<?, ?it/s]\n",
      "\u001b[Aning inference using cuda bfloat16: 100%|██████████| 1/1 [00:03<00:00,  3.24s/it]\n",
      "Running inference using cuda bfloat16: 100%|██████████| 1/1 [00:07<00:00,  7.29s/it]\n"
     ]
    },
    {
     "name": "stdout",
     "output_type": "stream",
     "text": [
      "Predicted [Path('/data/gis/raster_base/Alaska/AKVegMap/EVWHS/mentasta/ortho_toa_subimages_cloud/13JUN18214818-M1BS-050296501010_01_P001_u16rf3338_OCM_v1_0_7.tif')]\n"
     ]
    },
    {
     "name": "stderr",
     "output_type": "stream",
     "text": [
      "\n",
      "\u001b[Aning inference using cuda bfloat16:   0%|          | 0/1 [00:00<?, ?it/s]\n",
      "\u001b[Aning inference using cuda bfloat16: 100%|██████████| 1/1 [00:02<00:00,  2.25s/it]\n",
      "Running inference using cuda bfloat16: 100%|██████████| 1/1 [00:05<00:00,  5.44s/it]\n"
     ]
    },
    {
     "name": "stdout",
     "output_type": "stream",
     "text": [
      "Predicted [Path('/data/gis/raster_base/Alaska/AKVegMap/EVWHS/mentasta/ortho_toa_subimages_cloud/13JUN19211134-M1BS-050296495010_01_P005_u16rf3338_OCM_v1_0_7.tif')]\n"
     ]
    },
    {
     "name": "stderr",
     "output_type": "stream",
     "text": [
      "\n",
      "\u001b[Aning inference using cuda bfloat16:   0%|          | 0/1 [00:00<?, ?it/s]\n",
      "\u001b[Aning inference using cuda bfloat16: 100%|██████████| 1/1 [00:02<00:00,  1.72s/it]\n",
      "Running inference using cuda bfloat16: 100%|██████████| 1/1 [00:05<00:00,  5.78s/it]\n"
     ]
    },
    {
     "name": "stdout",
     "output_type": "stream",
     "text": [
      "Predicted [Path('/data/gis/raster_base/Alaska/AKVegMap/EVWHS/mentasta/ortho_toa_subimages_cloud/23JUL26212256-M1BS-050296478010_01_P005_u16rf3338_OCM_v1_0_7.tif')]\n"
     ]
    },
    {
     "name": "stderr",
     "output_type": "stream",
     "text": [
      "\n",
      "\u001b[A/home/mmacander/miniconda3/envs/omni/lib/python3.11/site-packages/omnicloudmask/cloud_mask.py:154: UserWarning: Patch size too large, reducing to 858 and overlap to 300.\n",
      "  warnings.warn(\n",
      "\n",
      "\u001b[Aning inference using cuda bfloat16: 100%|██████████| 1/1 [00:04<00:00,  1.66s/it]\n",
      "Running inference using cuda bfloat16: 100%|██████████| 1/1 [00:06<00:00,  6.55s/it]\n"
     ]
    },
    {
     "name": "stdout",
     "output_type": "stream",
     "text": [
      "Predicted [Path('/data/gis/raster_base/Alaska/AKVegMap/EVWHS/mentasta/ortho_toa_subimages_cloud/17JUL12211750-M1BS-050296465010_01_P014_u16rf3338_OCM_v1_0_7.tif')]\n"
     ]
    },
    {
     "name": "stderr",
     "output_type": "stream",
     "text": [
      "\n",
      "\u001b[Aning inference using cuda bfloat16:   0%|          | 0/1 [00:00<?, ?it/s]\n",
      "\u001b[Aning inference using cuda bfloat16: 100%|██████████| 1/1 [00:02<00:00,  2.15s/it]\n",
      "Running inference using cuda bfloat16: 100%|██████████| 1/1 [00:06<00:00,  6.27s/it]\n"
     ]
    },
    {
     "name": "stdout",
     "output_type": "stream",
     "text": [
      "Predicted [Path('/data/gis/raster_base/Alaska/AKVegMap/EVWHS/mentasta/ortho_toa_subimages_cloud/23JUL09214623-M1BS-050296477010_01_P004_u16rf3338_OCM_v1_0_7.tif')]\n"
     ]
    },
    {
     "name": "stderr",
     "output_type": "stream",
     "text": [
      "\n",
      "\u001b[Aning inference using cuda bfloat16:   0%|          | 0/1 [00:00<?, ?it/s]\n",
      "\u001b[Aning inference using cuda bfloat16: 100%|██████████| 1/1 [00:03<00:00,  2.32s/it]\n",
      "Running inference using cuda bfloat16: 100%|██████████| 1/1 [00:05<00:00,  5.11s/it]\n"
     ]
    },
    {
     "name": "stdout",
     "output_type": "stream",
     "text": [
      "Predicted [Path('/data/gis/raster_base/Alaska/AKVegMap/EVWHS/mentasta/ortho_toa_subimages_cloud/15AUG05210427-M1BS-050296486010_01_P001_u16rf3338_OCM_v1_0_7.tif')]\n"
     ]
    },
    {
     "name": "stderr",
     "output_type": "stream",
     "text": [
      "\n",
      "\u001b[Aning inference using cuda bfloat16:   0%|          | 0/1 [00:00<?, ?it/s]\n",
      "\u001b[Aning inference using cuda bfloat16: 100%|██████████| 1/1 [00:01<00:00,  1.65s/it]\n",
      "Running inference using cuda bfloat16: 100%|██████████| 1/1 [00:05<00:00,  5.78s/it]\n"
     ]
    },
    {
     "name": "stdout",
     "output_type": "stream",
     "text": [
      "Predicted [Path('/data/gis/raster_base/Alaska/AKVegMap/EVWHS/mentasta/ortho_toa_subimages_cloud/18JUL21211752-M1BS-050296502010_01_P006_u16rf3338_OCM_v1_0_7.tif')]\n"
     ]
    },
    {
     "name": "stderr",
     "output_type": "stream",
     "text": [
      "\n",
      "\u001b[Aning inference using cuda bfloat16:   0%|          | 0/1 [00:00<?, ?it/s]\n",
      "\u001b[Aning inference using cuda bfloat16: 100%|██████████| 1/1 [00:01<00:00,  1.62s/it]\n",
      "Running inference using cuda bfloat16: 100%|██████████| 1/1 [00:08<00:00,  8.13s/it]\n"
     ]
    },
    {
     "name": "stdout",
     "output_type": "stream",
     "text": [
      "Predicted [Path('/data/gis/raster_base/Alaska/AKVegMap/EVWHS/mentasta/ortho_toa_subimages_cloud/18JUL24214213-M1BS-050296460010_01_P007_u16rf3338_OCM_v1_0_7.tif')]\n"
     ]
    },
    {
     "name": "stderr",
     "output_type": "stream",
     "text": [
      "\n",
      "\u001b[Aning inference using cuda bfloat16:   0%|          | 0/1 [00:00<?, ?it/s]\n",
      "\u001b[Aning inference using cuda bfloat16: 100%|██████████| 1/1 [00:02<00:00,  2.06s/it]\n",
      "Running inference using cuda bfloat16: 100%|██████████| 1/1 [00:06<00:00,  6.10s/it]\n"
     ]
    },
    {
     "name": "stdout",
     "output_type": "stream",
     "text": [
      "Predicted [Path('/data/gis/raster_base/Alaska/AKVegMap/EVWHS/mentasta/ortho_toa_subimages_cloud/17JUL12211737-M1BS-050296465010_01_P007_u16rf3338_OCM_v1_0_7.tif')]\n"
     ]
    },
    {
     "name": "stderr",
     "output_type": "stream",
     "text": [
      "\n",
      "\u001b[Aning inference using cuda bfloat16:   0%|          | 0/1 [00:00<?, ?it/s]\n",
      "\u001b[Aning inference using cuda bfloat16: 100%|██████████| 1/1 [00:03<00:00,  3.71s/it]\n",
      "Running inference using cuda bfloat16: 100%|██████████| 1/1 [00:09<00:00,  9.72s/it]\n"
     ]
    },
    {
     "name": "stdout",
     "output_type": "stream",
     "text": [
      "Predicted [Path('/data/gis/raster_base/Alaska/AKVegMap/EVWHS/mentasta/ortho_toa_subimages_cloud/23JUL09214625-M1BS-050296477010_01_P006_u16rf3338_OCM_v1_0_7.tif')]\n"
     ]
    },
    {
     "name": "stderr",
     "output_type": "stream",
     "text": [
      "\n",
      "\u001b[Aning inference using cuda bfloat16:   0%|          | 0/1 [00:00<?, ?it/s]\n",
      "\u001b[Aning inference using cuda bfloat16: 100%|██████████| 1/1 [00:09<00:00,  7.80s/it]\n",
      "Running inference using cuda bfloat16: 100%|██████████| 1/1 [00:11<00:00, 11.83s/it]\n"
     ]
    },
    {
     "name": "stdout",
     "output_type": "stream",
     "text": [
      "Predicted [Path('/data/gis/raster_base/Alaska/AKVegMap/EVWHS/mentasta/ortho_toa_subimages_cloud/23AUG23205628-M1BS-050296457010_01_P006_u16rf3338_OCM_v1_0_7.tif')]\n"
     ]
    },
    {
     "name": "stderr",
     "output_type": "stream",
     "text": [
      "\n",
      "\u001b[Aning inference using cuda bfloat16:   0%|          | 0/1 [00:00<?, ?it/s]\n",
      "\u001b[Aning inference using cuda bfloat16: 100%|██████████| 1/1 [00:01<00:00,  1.75s/it]\n",
      "Running inference using cuda bfloat16: 100%|██████████| 1/1 [00:04<00:00,  4.70s/it]\n"
     ]
    },
    {
     "name": "stdout",
     "output_type": "stream",
     "text": [
      "Predicted [Path('/data/gis/raster_base/Alaska/AKVegMap/EVWHS/mentasta/ortho_toa_subimages_cloud/23JUL21210516-M1BS-050296456010_01_P002_u16rf3338_OCM_v1_0_7.tif')]\n"
     ]
    },
    {
     "name": "stderr",
     "output_type": "stream",
     "text": [
      "\n",
      "\u001b[Aning inference using cuda bfloat16:   0%|          | 0/1 [00:00<?, ?it/s]\n",
      "\u001b[Aning inference using cuda bfloat16: 100%|██████████| 1/1 [00:02<00:00,  1.97s/it]\n",
      "Running inference using cuda bfloat16: 100%|██████████| 1/1 [00:05<00:00,  5.05s/it]\n"
     ]
    },
    {
     "name": "stdout",
     "output_type": "stream",
     "text": [
      "Predicted [Path('/data/gis/raster_base/Alaska/AKVegMap/EVWHS/mentasta/ortho_toa_subimages_cloud/17JUL12211629-M1BS-050296490010_01_P005_u16rf3338_OCM_v1_0_7.tif')]\n"
     ]
    },
    {
     "name": "stderr",
     "output_type": "stream",
     "text": [
      "\n",
      "\u001b[Aning inference using cuda bfloat16:   0%|          | 0/1 [00:00<?, ?it/s]\n",
      "\u001b[Aning inference using cuda bfloat16: 100%|██████████| 1/1 [00:02<00:00,  2.45s/it]\n",
      "Running inference using cuda bfloat16: 100%|██████████| 1/1 [00:05<00:00,  5.80s/it]\n"
     ]
    },
    {
     "name": "stdout",
     "output_type": "stream",
     "text": [
      "Predicted [Path('/data/gis/raster_base/Alaska/AKVegMap/EVWHS/mentasta/ortho_toa_subimages_cloud/21AUG30204643-M1BS-050296468010_01_P008_u16rf3338_OCM_v1_0_7.tif')]\n"
     ]
    },
    {
     "name": "stderr",
     "output_type": "stream",
     "text": [
      "\n",
      "\u001b[Aning inference using cuda bfloat16:   0%|          | 0/1 [00:00<?, ?it/s]\n",
      "\u001b[Aning inference using cuda bfloat16: 100%|██████████| 1/1 [00:04<00:00,  3.38s/it]\n",
      "Running inference using cuda bfloat16: 100%|██████████| 1/1 [00:07<00:00,  7.46s/it]\n"
     ]
    },
    {
     "name": "stdout",
     "output_type": "stream",
     "text": [
      "Predicted [Path('/data/gis/raster_base/Alaska/AKVegMap/EVWHS/mentasta/ortho_toa_subimages_cloud/13JUN27211631-M1BS-050296497010_01_P002_u16rf3338_OCM_v1_0_7.tif')]\n"
     ]
    },
    {
     "name": "stderr",
     "output_type": "stream",
     "text": [
      "\n",
      "\u001b[Aning inference using cuda bfloat16:   0%|          | 0/1 [00:00<?, ?it/s]\n",
      "\u001b[Aning inference using cuda bfloat16: 100%|██████████| 1/1 [00:01<00:00,  1.86s/it]\n",
      "Running inference using cuda bfloat16: 100%|██████████| 1/1 [00:10<00:00, 10.35s/it]\n"
     ]
    },
    {
     "name": "stdout",
     "output_type": "stream",
     "text": [
      "Predicted [Path('/data/gis/raster_base/Alaska/AKVegMap/EVWHS/mentasta/ortho_toa_subimages_cloud/24JUN29212856-M1BS-050296480010_01_P002_u16rf3338_OCM_v1_0_7.tif')]\n"
     ]
    },
    {
     "name": "stderr",
     "output_type": "stream",
     "text": [
      "\n",
      "\u001b[Aning inference using cuda bfloat16:   0%|          | 0/1 [00:00<?, ?it/s]\n",
      "\u001b[Aning inference using cuda bfloat16: 100%|██████████| 1/1 [00:02<00:00,  2.58s/it]\n",
      "Running inference using cuda bfloat16: 100%|██████████| 1/1 [00:08<00:00,  8.64s/it]\n"
     ]
    },
    {
     "name": "stdout",
     "output_type": "stream",
     "text": [
      "Predicted [Path('/data/gis/raster_base/Alaska/AKVegMap/EVWHS/mentasta/ortho_toa_subimages_cloud/15JUN19212124-M1BS-050296483010_01_P004_u16rf3338_OCM_v1_0_7.tif')]\n"
     ]
    },
    {
     "name": "stderr",
     "output_type": "stream",
     "text": [
      "\n",
      "\u001b[Aning inference using cuda bfloat16:   0%|          | 0/1 [00:00<?, ?it/s]\n",
      "\u001b[Aning inference using cuda bfloat16: 100%|██████████| 1/1 [00:01<00:00,  1.98s/it]\n",
      "Running inference using cuda bfloat16: 100%|██████████| 1/1 [00:04<00:00,  4.79s/it]\n"
     ]
    },
    {
     "name": "stdout",
     "output_type": "stream",
     "text": [
      "Predicted [Path('/data/gis/raster_base/Alaska/AKVegMap/EVWHS/mentasta/ortho_toa_subimages_cloud/24JUN29212902-M1BS-050296480010_01_P007_u16rf3338_OCM_v1_0_7.tif')]\n"
     ]
    },
    {
     "name": "stderr",
     "output_type": "stream",
     "text": [
      "\n",
      "\u001b[Aning inference using cuda bfloat16:   0%|          | 0/1 [00:00<?, ?it/s]\n",
      "\u001b[Aning inference using cuda bfloat16: 100%|██████████| 1/1 [00:02<00:00,  2.68s/it]\n",
      "Running inference using cuda bfloat16: 100%|██████████| 1/1 [00:05<00:00,  5.63s/it]\n"
     ]
    },
    {
     "name": "stdout",
     "output_type": "stream",
     "text": [
      "Predicted [Path('/data/gis/raster_base/Alaska/AKVegMap/EVWHS/mentasta/ortho_toa_subimages_cloud/21AUG30204807-M1BS-050296461010_01_P002_u16rf3338_OCM_v1_0_7.tif')]\n"
     ]
    },
    {
     "name": "stderr",
     "output_type": "stream",
     "text": [
      "\n",
      "\u001b[Aning inference using cuda bfloat16:   0%|          | 0/1 [00:00<?, ?it/s]\n",
      "\u001b[Aning inference using cuda bfloat16: 100%|██████████| 1/1 [00:02<00:00,  1.38s/it]\n",
      "Running inference using cuda bfloat16: 100%|██████████| 1/1 [00:03<00:00,  3.68s/it]\n"
     ]
    },
    {
     "name": "stdout",
     "output_type": "stream",
     "text": [
      "Predicted [Path('/data/gis/raster_base/Alaska/AKVegMap/EVWHS/mentasta/ortho_toa_subimages_cloud/20AUG03210823-M1BS-050296494010_01_P002_u16rf3338_OCM_v1_0_7.tif')]\n"
     ]
    },
    {
     "name": "stderr",
     "output_type": "stream",
     "text": [
      "\n",
      "\u001b[Aning inference using cuda bfloat16:   0%|          | 0/1 [00:00<?, ?it/s]\n",
      "\u001b[Aning inference using cuda bfloat16: 100%|██████████| 1/1 [00:02<00:00,  2.58s/it]\n",
      "Running inference using cuda bfloat16: 100%|██████████| 1/1 [00:08<00:00,  8.95s/it]\n"
     ]
    },
    {
     "name": "stdout",
     "output_type": "stream",
     "text": [
      "Predicted [Path('/data/gis/raster_base/Alaska/AKVegMap/EVWHS/mentasta/ortho_toa_subimages_cloud/23JUL21210656-M1BS-050296463010_01_P009_u16rf3338_OCM_v1_0_7.tif')]\n"
     ]
    },
    {
     "name": "stderr",
     "output_type": "stream",
     "text": [
      "\n",
      "\u001b[Aning inference using cuda bfloat16:   0%|          | 0/1 [00:00<?, ?it/s]\n",
      "\u001b[Aning inference using cuda bfloat16: 100%|██████████| 1/1 [00:05<00:00,  3.48s/it]\n",
      "Running inference using cuda bfloat16: 100%|██████████| 1/1 [00:07<00:00,  7.93s/it]\n"
     ]
    },
    {
     "name": "stdout",
     "output_type": "stream",
     "text": [
      "Predicted [Path('/data/gis/raster_base/Alaska/AKVegMap/EVWHS/mentasta/ortho_toa_subimages_cloud/24JUN29212917-M1BS-050296500010_01_P005_u16rf3338_OCM_v1_0_7.tif')]\n"
     ]
    },
    {
     "name": "stderr",
     "output_type": "stream",
     "text": [
      "\n",
      "\u001b[A/home/mmacander/miniconda3/envs/omni/lib/python3.11/site-packages/omnicloudmask/cloud_mask.py:145: UserWarning: Significant no-data areas detected. Adjusting patch size to 997px and overlap to 300px to minimize no-data patches.\n",
      "  warnings.warn(\n",
      "\n",
      "\u001b[Aning inference using cuda bfloat16: 100%|██████████| 1/1 [00:03<00:00,  2.06s/it]\n",
      "Running inference using cuda bfloat16: 100%|██████████| 1/1 [00:06<00:00,  6.64s/it]\n"
     ]
    },
    {
     "name": "stdout",
     "output_type": "stream",
     "text": [
      "Predicted [Path('/data/gis/raster_base/Alaska/AKVegMap/EVWHS/mentasta/ortho_toa_subimages_cloud/20JUL29212923-M1BS-050296466010_01_P002_u16rf3338_OCM_v1_0_7.tif')]\n"
     ]
    },
    {
     "name": "stderr",
     "output_type": "stream",
     "text": [
      "\n",
      "\u001b[Aning inference using cuda bfloat16:   0%|          | 0/1 [00:00<?, ?it/s]\n",
      "\u001b[Aning inference using cuda bfloat16: 100%|██████████| 1/1 [00:03<00:00,  3.88s/it]\n",
      "Running inference using cuda bfloat16: 100%|██████████| 1/1 [00:10<00:00, 10.36s/it]\n"
     ]
    },
    {
     "name": "stdout",
     "output_type": "stream",
     "text": [
      "Predicted [Path('/data/gis/raster_base/Alaska/AKVegMap/EVWHS/mentasta/ortho_toa_subimages_cloud/23JUL09214627-M1BS-050296477010_01_P008_u16rf3338_OCM_v1_0_7.tif')]\n"
     ]
    },
    {
     "name": "stderr",
     "output_type": "stream",
     "text": [
      "\n",
      "\u001b[Aning inference using cuda bfloat16:   0%|          | 0/1 [00:00<?, ?it/s]\n",
      "\u001b[Aning inference using cuda bfloat16: 100%|██████████| 1/1 [00:02<00:00,  1.61s/it]\n",
      "Running inference using cuda bfloat16: 100%|██████████| 1/1 [01:11<00:00, 71.02s/it]\n"
     ]
    },
    {
     "name": "stdout",
     "output_type": "stream",
     "text": [
      "Predicted [Path('/data/gis/raster_base/Alaska/AKVegMap/EVWHS/mentasta/ortho_toa_subimages_cloud/13JUN27211558-M1BS-050296491010_01_P004_u16rf3338_OCM_v1_0_7.tif')]\n"
     ]
    },
    {
     "name": "stderr",
     "output_type": "stream",
     "text": [
      "\n",
      "\u001b[Aning inference using cuda bfloat16:   0%|          | 0/1 [00:00<?, ?it/s]\n",
      "\u001b[Aning inference using cuda bfloat16: 100%|██████████| 1/1 [00:03<00:00,  1.72s/it]\n",
      "Running inference using cuda bfloat16: 100%|██████████| 1/1 [00:05<00:00,  5.36s/it]\n"
     ]
    },
    {
     "name": "stdout",
     "output_type": "stream",
     "text": [
      "Predicted [Path('/data/gis/raster_base/Alaska/AKVegMap/EVWHS/mentasta/ortho_toa_subimages_cloud/23JUL26212307-M1BS-050296478010_01_P013_u16rf3338_OCM_v1_0_7.tif')]\n"
     ]
    },
    {
     "name": "stderr",
     "output_type": "stream",
     "text": [
      "\n",
      "\u001b[A/home/mmacander/miniconda3/envs/omni/lib/python3.11/site-packages/omnicloudmask/cloud_mask.py:145: UserWarning: Significant no-data areas detected. Adjusting patch size to 914px and overlap to 300px to minimize no-data patches.\n",
      "  warnings.warn(\n",
      "\n",
      "\u001b[Aning inference using cuda bfloat16: 100%|██████████| 1/1 [00:02<00:00,  2.30s/it]\n",
      "Running inference using cuda bfloat16: 100%|██████████| 1/1 [00:06<00:00,  6.87s/it]\n"
     ]
    },
    {
     "name": "stdout",
     "output_type": "stream",
     "text": [
      "Predicted [Path('/data/gis/raster_base/Alaska/AKVegMap/EVWHS/mentasta/ortho_toa_subimages_cloud/17JUL12211631-M1BS-050296490010_01_P006_u16rf3338_OCM_v1_0_7.tif')]\n"
     ]
    },
    {
     "name": "stderr",
     "output_type": "stream",
     "text": [
      "\n",
      "\u001b[Aning inference using cuda bfloat16:   0%|          | 0/1 [00:00<?, ?it/s]\n",
      "\u001b[Aning inference using cuda bfloat16: 100%|██████████| 1/1 [00:02<00:00,  2.61s/it]\n",
      "Running inference using cuda bfloat16: 100%|██████████| 1/1 [00:07<00:00,  7.23s/it]\n"
     ]
    },
    {
     "name": "stdout",
     "output_type": "stream",
     "text": [
      "Predicted [Path('/data/gis/raster_base/Alaska/AKVegMap/EVWHS/mentasta/ortho_toa_subimages_cloud/16JUN15214205-M1BS-050296498010_01_P006_u16rf3338_OCM_v1_0_7.tif')]\n"
     ]
    },
    {
     "name": "stderr",
     "output_type": "stream",
     "text": [
      "\n",
      "\u001b[A/home/mmacander/miniconda3/envs/omni/lib/python3.11/site-packages/omnicloudmask/cloud_mask.py:145: UserWarning: Significant no-data areas detected. Adjusting patch size to 908px and overlap to 300px to minimize no-data patches.\n",
      "  warnings.warn(\n",
      "\n",
      "\u001b[Aning inference using cuda bfloat16: 100%|██████████| 1/1 [00:04<00:00,  4.75s/it]\n",
      "Running inference using cuda bfloat16: 100%|██████████| 1/1 [00:10<00:00, 10.19s/it]\n"
     ]
    },
    {
     "name": "stdout",
     "output_type": "stream",
     "text": [
      "Predicted [Path('/data/gis/raster_base/Alaska/AKVegMap/EVWHS/mentasta/ortho_toa_subimages_cloud/17JUL12211634-M1BS-050296490010_01_P008_u16rf3338_OCM_v1_0_7.tif')]\n"
     ]
    },
    {
     "name": "stderr",
     "output_type": "stream",
     "text": [
      "\n",
      "\u001b[Aning inference using cuda bfloat16:   0%|          | 0/1 [00:00<?, ?it/s]\n",
      "\u001b[Aning inference using cuda bfloat16: 100%|██████████| 1/1 [00:01<00:00,  1.40s/it]\n",
      "Running inference using cuda bfloat16: 100%|██████████| 1/1 [00:04<00:00,  4.23s/it]\n"
     ]
    },
    {
     "name": "stdout",
     "output_type": "stream",
     "text": [
      "Predicted [Path('/data/gis/raster_base/Alaska/AKVegMap/EVWHS/mentasta/ortho_toa_subimages_cloud/17JUL12211748-M1BS-050296465010_01_P013_u16rf3338_OCM_v1_0_7.tif')]\n"
     ]
    },
    {
     "name": "stderr",
     "output_type": "stream",
     "text": [
      "\n",
      "\u001b[A/home/mmacander/miniconda3/envs/omni/lib/python3.11/site-packages/omnicloudmask/cloud_mask.py:145: UserWarning: Significant no-data areas detected. Adjusting patch size to 893px and overlap to 300px to minimize no-data patches.\n",
      "  warnings.warn(\n",
      "\n",
      "\u001b[Aning inference using cuda bfloat16: 100%|██████████| 1/1 [00:03<00:00,  2.00s/it]\n",
      "Running inference using cuda bfloat16: 100%|██████████| 1/1 [00:05<00:00,  5.47s/it]\n"
     ]
    },
    {
     "name": "stdout",
     "output_type": "stream",
     "text": [
      "Predicted [Path('/data/gis/raster_base/Alaska/AKVegMap/EVWHS/mentasta/ortho_toa_subimages_cloud/17JUL12211643-M1BS-050296490010_01_P013_u16rf3338_OCM_v1_0_7.tif')]\n"
     ]
    },
    {
     "name": "stderr",
     "output_type": "stream",
     "text": [
      "\n",
      "\u001b[Aning inference using cuda bfloat16:   0%|          | 0/1 [00:00<?, ?it/s]\n",
      "\u001b[Aning inference using cuda bfloat16: 100%|██████████| 1/1 [00:03<00:00,  3.29s/it]\n",
      "Running inference using cuda bfloat16: 100%|██████████| 1/1 [00:06<00:00,  6.33s/it]\n"
     ]
    },
    {
     "name": "stdout",
     "output_type": "stream",
     "text": [
      "Predicted [Path('/data/gis/raster_base/Alaska/AKVegMap/EVWHS/mentasta/ortho_toa_subimages_cloud/17JUL12211734-M1BS-050296465010_01_P005_u16rf3338_OCM_v1_0_7.tif')]\n"
     ]
    },
    {
     "name": "stderr",
     "output_type": "stream",
     "text": [
      "\n",
      "\u001b[Aning inference using cuda bfloat16:   0%|          | 0/1 [00:00<?, ?it/s]\n",
      "\u001b[Aning inference using cuda bfloat16: 100%|██████████| 1/1 [00:01<00:00,  1.92s/it]\n",
      "Running inference using cuda bfloat16: 100%|██████████| 1/1 [00:04<00:00,  4.35s/it]\n"
     ]
    },
    {
     "name": "stdout",
     "output_type": "stream",
     "text": [
      "Predicted [Path('/data/gis/raster_base/Alaska/AKVegMap/EVWHS/mentasta/ortho_toa_subimages_cloud/21AUG30204638-M1BS-050296468010_01_P004_u16rf3338_OCM_v1_0_7.tif')]\n"
     ]
    },
    {
     "name": "stderr",
     "output_type": "stream",
     "text": [
      "\n",
      "\u001b[Aning inference using cuda bfloat16:   0%|          | 0/1 [00:00<?, ?it/s]\n",
      "\u001b[Aning inference using cuda bfloat16: 100%|██████████| 1/1 [00:05<00:00,  4.59s/it]\n",
      "Running inference using cuda bfloat16: 100%|██████████| 1/1 [00:07<00:00,  7.37s/it]\n"
     ]
    },
    {
     "name": "stdout",
     "output_type": "stream",
     "text": [
      "Predicted [Path('/data/gis/raster_base/Alaska/AKVegMap/EVWHS/mentasta/ortho_toa_subimages_cloud/13JUN27211622-M1BS-050296482010_01_P001_u16rf3338_OCM_v1_0_7.tif')]\n"
     ]
    },
    {
     "name": "stderr",
     "output_type": "stream",
     "text": [
      "\n",
      "\u001b[Aning inference using cuda bfloat16:   0%|          | 0/1 [00:00<?, ?it/s]\n",
      "\u001b[Aning inference using cuda bfloat16: 100%|██████████| 1/1 [00:04<00:00,  2.87s/it]\n",
      "Running inference using cuda bfloat16: 100%|██████████| 1/1 [00:06<00:00,  6.68s/it]\n"
     ]
    },
    {
     "name": "stdout",
     "output_type": "stream",
     "text": [
      "Predicted [Path('/data/gis/raster_base/Alaska/AKVegMap/EVWHS/mentasta/ortho_toa_subimages_cloud/17JUL12211745-M1BS-050296465010_01_P011_u16rf3338_OCM_v1_0_7.tif')]\n"
     ]
    },
    {
     "name": "stderr",
     "output_type": "stream",
     "text": [
      "\n",
      "\u001b[Aning inference using cuda bfloat16:   0%|          | 0/1 [00:00<?, ?it/s]\n",
      "\u001b[Aning inference using cuda bfloat16: 100%|██████████| 1/1 [00:03<00:00,  3.74s/it]\n",
      "Running inference using cuda bfloat16: 100%|██████████| 1/1 [00:06<00:00,  6.21s/it]\n"
     ]
    },
    {
     "name": "stdout",
     "output_type": "stream",
     "text": [
      "Predicted [Path('/data/gis/raster_base/Alaska/AKVegMap/EVWHS/mentasta/ortho_toa_subimages_cloud/21JUL12205259-M1BS-050296458010_01_P002_u16rf3338_OCM_v1_0_7.tif')]\n"
     ]
    },
    {
     "name": "stderr",
     "output_type": "stream",
     "text": [
      "\n",
      "\u001b[Aning inference using cuda bfloat16:   0%|          | 0/1 [00:00<?, ?it/s]\n",
      "\u001b[Aning inference using cuda bfloat16: 100%|██████████| 1/1 [00:07<00:00,  7.45s/it]\n",
      "Running inference using cuda bfloat16: 100%|██████████| 1/1 [00:10<00:00, 10.94s/it]\n"
     ]
    },
    {
     "name": "stdout",
     "output_type": "stream",
     "text": [
      "Predicted [Path('/data/gis/raster_base/Alaska/AKVegMap/EVWHS/mentasta/ortho_toa_subimages_cloud/21AUG30204813-M1BS-050296461010_01_P008_u16rf3338_OCM_v1_0_7.tif')]\n"
     ]
    },
    {
     "name": "stderr",
     "output_type": "stream",
     "text": [
      "\n",
      "\u001b[A/home/mmacander/miniconda3/envs/omni/lib/python3.11/site-packages/omnicloudmask/cloud_mask.py:145: UserWarning: Significant no-data areas detected. Adjusting patch size to 412px and overlap to 206px to minimize no-data patches.\n",
      "  warnings.warn(\n",
      "\n",
      "\u001b[Aning inference using cuda bfloat16: 100%|██████████| 1/1 [00:02<00:00,  1.92s/it]\n",
      "Running inference using cuda bfloat16: 100%|██████████| 1/1 [00:06<00:00,  6.07s/it]\n"
     ]
    },
    {
     "name": "stdout",
     "output_type": "stream",
     "text": [
      "Predicted [Path('/data/gis/raster_base/Alaska/AKVegMap/EVWHS/mentasta/ortho_toa_subimages_cloud/13AUG06214130-M1BS-050296489010_01_P002_u16rf3338_OCM_v1_0_7.tif')]\n"
     ]
    },
    {
     "name": "stderr",
     "output_type": "stream",
     "text": [
      "\n",
      "\u001b[Aning inference using cuda bfloat16:   0%|          | 0/1 [00:00<?, ?it/s]\n",
      "\u001b[Aning inference using cuda bfloat16: 100%|██████████| 1/1 [00:01<00:00,  1.23s/it]\n",
      "Running inference using cuda bfloat16: 100%|██████████| 1/1 [00:02<00:00,  2.84s/it]\n"
     ]
    },
    {
     "name": "stdout",
     "output_type": "stream",
     "text": [
      "Predicted [Path('/data/gis/raster_base/Alaska/AKVegMap/EVWHS/mentasta/ortho_toa_subimages_cloud/17JUL12211718-M1BS-050296469010_01_P001_u16rf3338_OCM_v1_0_7.tif')]\n"
     ]
    },
    {
     "name": "stderr",
     "output_type": "stream",
     "text": [
      "\n",
      "\u001b[Aning inference using cuda bfloat16:   0%|          | 0/1 [00:00<?, ?it/s]\n",
      "\u001b[Aning inference using cuda bfloat16: 100%|██████████| 1/1 [00:02<00:00,  2.94s/it]\n",
      "Running inference using cuda bfloat16: 100%|██████████| 1/1 [00:05<00:00,  5.91s/it]\n"
     ]
    },
    {
     "name": "stdout",
     "output_type": "stream",
     "text": [
      "Predicted [Path('/data/gis/raster_base/Alaska/AKVegMap/EVWHS/mentasta/ortho_toa_subimages_cloud/18JUL21211749-M1BS-050296502010_01_P003_u16rf3338_OCM_v1_0_7.tif')]\n"
     ]
    },
    {
     "name": "stderr",
     "output_type": "stream",
     "text": [
      "\n",
      "\u001b[Aning inference using cuda bfloat16:   0%|          | 0/1 [00:00<?, ?it/s]\n",
      "\u001b[Aning inference using cuda bfloat16: 100%|██████████| 1/1 [00:04<00:00,  4.60s/it]\n",
      "Running inference using cuda bfloat16: 100%|██████████| 1/1 [00:06<00:00,  6.06s/it]\n"
     ]
    },
    {
     "name": "stdout",
     "output_type": "stream",
     "text": [
      "Predicted [Path('/data/gis/raster_base/Alaska/AKVegMap/EVWHS/mentasta/ortho_toa_subimages_cloud/17JUL12211658-M1BS-050296469010_01_P011_u16rf3338_OCM_v1_0_7.tif')]\n"
     ]
    },
    {
     "name": "stderr",
     "output_type": "stream",
     "text": [
      "\n",
      "\u001b[Aning inference using cuda bfloat16:   0%|          | 0/1 [00:00<?, ?it/s]\n",
      "\u001b[Aning inference using cuda bfloat16: 100%|██████████| 1/1 [00:01<00:00,  1.94s/it]\n",
      "Running inference using cuda bfloat16: 100%|██████████| 1/1 [00:04<00:00,  4.24s/it]\n"
     ]
    },
    {
     "name": "stdout",
     "output_type": "stream",
     "text": [
      "Predicted [Path('/data/gis/raster_base/Alaska/AKVegMap/EVWHS/mentasta/ortho_toa_subimages_cloud/23JUL09214622-M1BS-050296477010_01_P003_u16rf3338_OCM_v1_0_7.tif')]\n"
     ]
    },
    {
     "name": "stderr",
     "output_type": "stream",
     "text": [
      "\n",
      "\u001b[Aning inference using cuda bfloat16:   0%|          | 0/1 [00:00<?, ?it/s]\n",
      "\u001b[Aning inference using cuda bfloat16: 100%|██████████| 1/1 [00:01<00:00,  1.56s/it]\n",
      "Running inference using cuda bfloat16: 100%|██████████| 1/1 [00:04<00:00,  4.04s/it]\n"
     ]
    },
    {
     "name": "stdout",
     "output_type": "stream",
     "text": [
      "Predicted [Path('/data/gis/raster_base/Alaska/AKVegMap/EVWHS/mentasta/ortho_toa_subimages_cloud/23AUG23205751-M1BS-050296473010_01_P005_u16rf3338_OCM_v1_0_7.tif')]\n"
     ]
    },
    {
     "name": "stderr",
     "output_type": "stream",
     "text": [
      "\n",
      "\u001b[A/home/mmacander/miniconda3/envs/omni/lib/python3.11/site-packages/omnicloudmask/cloud_mask.py:145: UserWarning: Significant no-data areas detected. Adjusting patch size to 545px and overlap to 272px to minimize no-data patches.\n",
      "  warnings.warn(\n",
      "\n",
      "\u001b[Aning inference using cuda bfloat16: 100%|██████████| 1/1 [00:00<00:00,  1.10it/s]\n",
      "Running inference using cuda bfloat16: 100%|██████████| 1/1 [00:04<00:00,  4.03s/it]\n"
     ]
    },
    {
     "name": "stdout",
     "output_type": "stream",
     "text": [
      "Predicted [Path('/data/gis/raster_base/Alaska/AKVegMap/EVWHS/mentasta/ortho_toa_subimages_cloud/17JUL12211653-M1BS-050296469010_01_P014_u16rf3338_OCM_v1_0_7.tif')]\n"
     ]
    },
    {
     "name": "stderr",
     "output_type": "stream",
     "text": [
      "\n",
      "\u001b[Aning inference using cuda bfloat16:   0%|          | 0/1 [00:00<?, ?it/s]\n",
      "\u001b[Aning inference using cuda bfloat16: 100%|██████████| 1/1 [00:01<00:00,  1.77s/it]\n",
      "Running inference using cuda bfloat16: 100%|██████████| 1/1 [00:05<00:00,  5.98s/it]\n"
     ]
    },
    {
     "name": "stdout",
     "output_type": "stream",
     "text": [
      "Predicted [Path('/data/gis/raster_base/Alaska/AKVegMap/EVWHS/mentasta/ortho_toa_subimages_cloud/23JUL26212317-M1BS-050296496010_01_P012_u16rf3338_OCM_v1_0_7.tif')]\n"
     ]
    },
    {
     "name": "stderr",
     "output_type": "stream",
     "text": [
      "\n",
      "\u001b[Aning inference using cuda bfloat16:   0%|          | 0/1 [00:00<?, ?it/s]\n",
      "\u001b[Aning inference using cuda bfloat16: 100%|██████████| 1/1 [00:02<00:00,  2.33s/it]\n",
      "Running inference using cuda bfloat16: 100%|██████████| 1/1 [00:05<00:00,  5.87s/it]\n"
     ]
    },
    {
     "name": "stdout",
     "output_type": "stream",
     "text": [
      "Predicted [Path('/data/gis/raster_base/Alaska/AKVegMap/EVWHS/mentasta/ortho_toa_subimages_cloud/21JUL12205141-M1BS-050296475010_01_P004_u16rf3338_OCM_v1_0_7.tif')]\n"
     ]
    },
    {
     "name": "stderr",
     "output_type": "stream",
     "text": [
      "\n",
      "\u001b[Aning inference using cuda bfloat16:   0%|          | 0/1 [00:00<?, ?it/s]\n",
      "\u001b[Aning inference using cuda bfloat16: 100%|██████████| 1/1 [00:02<00:00,  2.46s/it]\n",
      "Running inference using cuda bfloat16: 100%|██████████| 1/1 [00:03<00:00,  3.91s/it]\n"
     ]
    },
    {
     "name": "stdout",
     "output_type": "stream",
     "text": [
      "Predicted [Path('/data/gis/raster_base/Alaska/AKVegMap/EVWHS/mentasta/ortho_toa_subimages_cloud/23AUG23205630-M1BS-050296457010_01_P008_u16rf3338_OCM_v1_0_7.tif')]\n"
     ]
    },
    {
     "name": "stderr",
     "output_type": "stream",
     "text": [
      "\n",
      "\u001b[Aning inference using cuda bfloat16:   0%|          | 0/1 [00:00<?, ?it/s]\n",
      "\u001b[Aning inference using cuda bfloat16: 100%|██████████| 1/1 [00:01<00:00,  1.77s/it]\n",
      "Running inference using cuda bfloat16: 100%|██████████| 1/1 [00:04<00:00,  4.09s/it]\n"
     ]
    },
    {
     "name": "stdout",
     "output_type": "stream",
     "text": [
      "Predicted [Path('/data/gis/raster_base/Alaska/AKVegMap/EVWHS/mentasta/ortho_toa_subimages_cloud/17JUL12211641-M1BS-050296490010_01_P012_u16rf3338_OCM_v1_0_7.tif')]\n"
     ]
    },
    {
     "name": "stderr",
     "output_type": "stream",
     "text": [
      "\n",
      "\u001b[Aning inference using cuda bfloat16:   0%|          | 0/1 [00:00<?, ?it/s]\n",
      "\u001b[Aning inference using cuda bfloat16: 100%|██████████| 1/1 [00:02<00:00,  2.50s/it]\n",
      "Running inference using cuda bfloat16: 100%|██████████| 1/1 [00:05<00:00,  5.36s/it]\n"
     ]
    },
    {
     "name": "stdout",
     "output_type": "stream",
     "text": [
      "Predicted [Path('/data/gis/raster_base/Alaska/AKVegMap/EVWHS/mentasta/ortho_toa_subimages_cloud/15JUN19212127-M1BS-050296483010_01_P003_u16rf3338_OCM_v1_0_7.tif')]\n"
     ]
    },
    {
     "name": "stderr",
     "output_type": "stream",
     "text": [
      "\n",
      "\u001b[Aning inference using cuda bfloat16:   0%|          | 0/1 [00:00<?, ?it/s]\n",
      "\u001b[Aning inference using cuda bfloat16: 100%|██████████| 1/1 [00:04<00:00,  4.96s/it]\n",
      "Running inference using cuda bfloat16: 100%|██████████| 1/1 [00:05<00:00,  5.93s/it]\n"
     ]
    },
    {
     "name": "stdout",
     "output_type": "stream",
     "text": [
      "Predicted [Path('/data/gis/raster_base/Alaska/AKVegMap/EVWHS/mentasta/ortho_toa_subimages_cloud/21JUL12205142-M1BS-050296475010_01_P005_u16rf3338_OCM_v1_0_7.tif')]\n"
     ]
    },
    {
     "name": "stderr",
     "output_type": "stream",
     "text": [
      "\n",
      "\u001b[Aning inference using cuda bfloat16:   0%|          | 0/1 [00:00<?, ?it/s]\n",
      "\u001b[Aning inference using cuda bfloat16: 100%|██████████| 1/1 [00:01<00:00,  1.60s/it]\n",
      "Running inference using cuda bfloat16: 100%|██████████| 1/1 [00:05<00:00,  5.24s/it]\n"
     ]
    },
    {
     "name": "stdout",
     "output_type": "stream",
     "text": [
      "Predicted [Path('/data/gis/raster_base/Alaska/AKVegMap/EVWHS/mentasta/ortho_toa_subimages_cloud/23AUG23205622-M1BS-050296457010_01_P001_u16rf3338_OCM_v1_0_7.tif')]\n"
     ]
    },
    {
     "name": "stderr",
     "output_type": "stream",
     "text": [
      "\n",
      "\u001b[Aning inference using cuda bfloat16:   0%|          | 0/1 [00:00<?, ?it/s]\n",
      "\u001b[Aning inference using cuda bfloat16: 100%|██████████| 1/1 [00:04<00:00,  4.66s/it]\n",
      "Running inference using cuda bfloat16: 100%|██████████| 1/1 [00:09<00:00,  9.51s/it]\n"
     ]
    },
    {
     "name": "stdout",
     "output_type": "stream",
     "text": [
      "Predicted [Path('/data/gis/raster_base/Alaska/AKVegMap/EVWHS/mentasta/ortho_toa_subimages_cloud/23JUL09214624-M1BS-050296477010_01_P005_u16rf3338_OCM_v1_0_7.tif')]\n"
     ]
    },
    {
     "name": "stderr",
     "output_type": "stream",
     "text": [
      "\n",
      "\u001b[Aning inference using cuda bfloat16:   0%|          | 0/1 [00:00<?, ?it/s]\n",
      "\u001b[Aning inference using cuda bfloat16: 100%|██████████| 1/1 [00:02<00:00,  1.14s/it]\n",
      "Running inference using cuda bfloat16: 100%|██████████| 1/1 [00:03<00:00,  3.67s/it]\n"
     ]
    },
    {
     "name": "stdout",
     "output_type": "stream",
     "text": [
      "Predicted [Path('/data/gis/raster_base/Alaska/AKVegMap/EVWHS/mentasta/ortho_toa_subimages_cloud/23JUL21205707-M1BS-050296474010_01_P003_u16rf3338_OCM_v1_0_7.tif')]\n"
     ]
    },
    {
     "name": "stderr",
     "output_type": "stream",
     "text": [
      "\n",
      "\u001b[Aning inference using cuda bfloat16:   0%|          | 0/1 [00:00<?, ?it/s]\n",
      "\u001b[Aning inference using cuda bfloat16: 100%|██████████| 1/1 [00:02<00:00,  1.60s/it]\n",
      "Running inference using cuda bfloat16: 100%|██████████| 1/1 [00:04<00:00,  4.27s/it]\n"
     ]
    },
    {
     "name": "stdout",
     "output_type": "stream",
     "text": [
      "Predicted [Path('/data/gis/raster_base/Alaska/AKVegMap/EVWHS/mentasta/ortho_toa_subimages_cloud/24JUN29212903-M1BS-050296480010_01_P008_u16rf3338_OCM_v1_0_7.tif')]\n"
     ]
    },
    {
     "name": "stderr",
     "output_type": "stream",
     "text": [
      "\n",
      "\u001b[Aning inference using cuda bfloat16:   0%|          | 0/1 [00:00<?, ?it/s]\n",
      "\u001b[Aning inference using cuda bfloat16: 100%|██████████| 1/1 [00:01<00:00,  1.49s/it]\n",
      "Running inference using cuda bfloat16: 100%|██████████| 1/1 [00:05<00:00,  5.04s/it]\n"
     ]
    },
    {
     "name": "stdout",
     "output_type": "stream",
     "text": [
      "Predicted [Path('/data/gis/raster_base/Alaska/AKVegMap/EVWHS/mentasta/ortho_toa_subimages_cloud/23JUL21210701-M1BS-050296463010_01_P004_u16rf3338_OCM_v1_0_7.tif')]\n"
     ]
    },
    {
     "name": "stderr",
     "output_type": "stream",
     "text": [
      "\n",
      "\u001b[Aning inference using cuda bfloat16:   0%|          | 0/1 [00:00<?, ?it/s]\n",
      "\u001b[Aning inference using cuda bfloat16: 100%|██████████| 1/1 [00:04<00:00,  4.41s/it]\n",
      "Running inference using cuda bfloat16: 100%|██████████| 1/1 [00:06<00:00,  6.62s/it]\n"
     ]
    },
    {
     "name": "stdout",
     "output_type": "stream",
     "text": [
      "Predicted [Path('/data/gis/raster_base/Alaska/AKVegMap/EVWHS/mentasta/ortho_toa_subimages_cloud/13JUN27211637-M1BS-050296497010_01_P006_u16rf3338_OCM_v1_0_7.tif')]\n"
     ]
    },
    {
     "name": "stderr",
     "output_type": "stream",
     "text": [
      "\n",
      "\u001b[Aning inference using cuda bfloat16:   0%|          | 0/1 [00:00<?, ?it/s]\n",
      "\u001b[Aning inference using cuda bfloat16: 100%|██████████| 1/1 [00:02<00:00,  2.90s/it]\n",
      "Running inference using cuda bfloat16: 100%|██████████| 1/1 [00:04<00:00,  4.43s/it]\n"
     ]
    },
    {
     "name": "stdout",
     "output_type": "stream",
     "text": [
      "Predicted [Path('/data/gis/raster_base/Alaska/AKVegMap/EVWHS/mentasta/ortho_toa_subimages_cloud/21JUL12205306-M1BS-050296458010_01_P009_u16rf3338_OCM_v1_0_7.tif')]\n"
     ]
    },
    {
     "name": "stderr",
     "output_type": "stream",
     "text": [
      "\n",
      "\u001b[A/home/mmacander/miniconda3/envs/omni/lib/python3.11/site-packages/omnicloudmask/cloud_mask.py:154: UserWarning: Patch size too large, reducing to 268 and overlap to 134.\n",
      "  warnings.warn(\n",
      "\n",
      "\u001b[Aning inference using cuda bfloat16: 100%|██████████| 1/1 [00:00<00:00,  1.89it/s]\n",
      "Running inference using cuda bfloat16: 100%|██████████| 1/1 [00:01<00:00,  1.80s/it]\n"
     ]
    },
    {
     "name": "stdout",
     "output_type": "stream",
     "text": [
      "Predicted [Path('/data/gis/raster_base/Alaska/AKVegMap/EVWHS/mentasta/ortho_toa_subimages_cloud/21JUL12205307-M1BS-050296458010_01_P010_u16rf3338_OCM_v1_0_7.tif')]\n"
     ]
    },
    {
     "name": "stderr",
     "output_type": "stream",
     "text": [
      "\n",
      "\u001b[Aning inference using cuda bfloat16:   0%|          | 0/1 [00:00<?, ?it/s]\n",
      "\u001b[Aning inference using cuda bfloat16: 100%|██████████| 1/1 [00:06<00:00,  4.83s/it]\n",
      "Running inference using cuda bfloat16: 100%|██████████| 1/1 [00:06<00:00,  6.92s/it]\n"
     ]
    },
    {
     "name": "stdout",
     "output_type": "stream",
     "text": [
      "Predicted [Path('/data/gis/raster_base/Alaska/AKVegMap/EVWHS/mentasta/ortho_toa_subimages_cloud/13JUN19211135-M1BS-050296495010_01_P006_u16rf3338_OCM_v1_0_7.tif')]\n"
     ]
    },
    {
     "name": "stderr",
     "output_type": "stream",
     "text": [
      "\n",
      "\u001b[Aning inference using cuda bfloat16:   0%|          | 0/1 [00:00<?, ?it/s]\n",
      "\u001b[Aning inference using cuda bfloat16: 100%|██████████| 1/1 [00:01<00:00,  1.77s/it]\n",
      "Running inference using cuda bfloat16: 100%|██████████| 1/1 [00:06<00:00,  6.86s/it]\n"
     ]
    },
    {
     "name": "stdout",
     "output_type": "stream",
     "text": [
      "Predicted [Path('/data/gis/raster_base/Alaska/AKVegMap/EVWHS/mentasta/ortho_toa_subimages_cloud/23JUL21210658-M1BS-050296463010_01_P007_u16rf3338_OCM_v1_0_7.tif')]\n"
     ]
    },
    {
     "name": "stderr",
     "output_type": "stream",
     "text": [
      "\n",
      "\u001b[Aning inference using cuda bfloat16:   0%|          | 0/1 [00:00<?, ?it/s]\n",
      "\u001b[Aning inference using cuda bfloat16: 100%|██████████| 1/1 [00:01<00:00,  1.52s/it]\n",
      "Running inference using cuda bfloat16: 100%|██████████| 1/1 [00:05<00:00,  5.27s/it]\n"
     ]
    },
    {
     "name": "stdout",
     "output_type": "stream",
     "text": [
      "Predicted [Path('/data/gis/raster_base/Alaska/AKVegMap/EVWHS/mentasta/ortho_toa_subimages_cloud/17JUL12211626-M1BS-050296490010_01_P003_u16rf3338_OCM_v1_0_7.tif')]\n"
     ]
    },
    {
     "name": "stderr",
     "output_type": "stream",
     "text": [
      "\n",
      "\u001b[A/home/mmacander/miniconda3/envs/omni/lib/python3.11/site-packages/omnicloudmask/cloud_mask.py:145: UserWarning: Significant no-data areas detected. Adjusting patch size to 525px and overlap to 262px to minimize no-data patches.\n",
      "  warnings.warn(\n",
      "\n",
      "\u001b[Aning inference using cuda bfloat16: 100%|██████████| 1/1 [00:04<00:00,  4.09s/it]\n",
      "Running inference using cuda bfloat16: 100%|██████████| 1/1 [00:07<00:00,  7.76s/it]\n"
     ]
    },
    {
     "name": "stdout",
     "output_type": "stream",
     "text": [
      "Predicted [Path('/data/gis/raster_base/Alaska/AKVegMap/EVWHS/mentasta/ortho_toa_subimages_cloud/20AUG07204548-M1BS-050296464010_01_P003_u16rf3338_OCM_v1_0_7.tif')]\n"
     ]
    },
    {
     "name": "stderr",
     "output_type": "stream",
     "text": [
      "\n",
      "\u001b[Aning inference using cuda bfloat16:   0%|          | 0/1 [00:00<?, ?it/s]\n",
      "\u001b[Aning inference using cuda bfloat16: 100%|██████████| 1/1 [00:03<00:00,  2.09s/it]\n",
      "Running inference using cuda bfloat16: 100%|██████████| 1/1 [00:06<00:00,  6.88s/it]\n"
     ]
    },
    {
     "name": "stdout",
     "output_type": "stream",
     "text": [
      "Predicted [Path('/data/gis/raster_base/Alaska/AKVegMap/EVWHS/mentasta/ortho_toa_subimages_cloud/13JUN27211612-M1BS-050296482010_01_P009_u16rf3338_OCM_v1_0_7.tif')]\n"
     ]
    },
    {
     "name": "stderr",
     "output_type": "stream",
     "text": [
      "\n",
      "\u001b[A/home/mmacander/miniconda3/envs/omni/lib/python3.11/site-packages/omnicloudmask/cloud_mask.py:145: UserWarning: Significant no-data areas detected. Adjusting patch size to 904px and overlap to 300px to minimize no-data patches.\n",
      "  warnings.warn(\n",
      "\n",
      "\u001b[Aning inference using cuda bfloat16: 100%|██████████| 1/1 [00:01<00:00,  1.69s/it]\n",
      "Running inference using cuda bfloat16: 100%|██████████| 1/1 [00:04<00:00,  4.99s/it]\n"
     ]
    },
    {
     "name": "stdout",
     "output_type": "stream",
     "text": [
      "Predicted [Path('/data/gis/raster_base/Alaska/AKVegMap/EVWHS/mentasta/ortho_toa_subimages_cloud/17JUL12211622-M1BS-050296490010_01_P001_u16rf3338_OCM_v1_0_7.tif')]\n"
     ]
    },
    {
     "name": "stderr",
     "output_type": "stream",
     "text": [
      "\n",
      "\u001b[A/home/mmacander/miniconda3/envs/omni/lib/python3.11/site-packages/omnicloudmask/cloud_mask.py:145: UserWarning: Significant no-data areas detected. Adjusting patch size to 998px and overlap to 300px to minimize no-data patches.\n",
      "  warnings.warn(\n",
      "\n",
      "\u001b[Aning inference using cuda bfloat16: 100%|██████████| 1/1 [00:04<00:00,  2.98s/it]\n",
      "Running inference using cuda bfloat16: 100%|██████████| 1/1 [00:08<00:00,  8.58s/it]\n"
     ]
    },
    {
     "name": "stdout",
     "output_type": "stream",
     "text": [
      "Predicted [Path('/data/gis/raster_base/Alaska/AKVegMap/EVWHS/mentasta/ortho_toa_subimages_cloud/20JUL29212921-M1BS-050296466010_01_P001_u16rf3338_OCM_v1_0_7.tif')]\n"
     ]
    },
    {
     "name": "stderr",
     "output_type": "stream",
     "text": [
      "\n",
      "\u001b[Aning inference using cuda bfloat16:   0%|          | 0/1 [00:00<?, ?it/s]\n",
      "\u001b[Aning inference using cuda bfloat16: 100%|██████████| 1/1 [00:01<00:00,  1.96s/it]\n",
      "Running inference using cuda bfloat16: 100%|██████████| 1/1 [00:05<00:00,  5.04s/it]\n"
     ]
    },
    {
     "name": "stdout",
     "output_type": "stream",
     "text": [
      "Predicted [Path('/data/gis/raster_base/Alaska/AKVegMap/EVWHS/mentasta/ortho_toa_subimages_cloud/18JUL24214205-M1BS-050296460010_01_P002_u16rf3338_OCM_v1_0_7.tif')]\n"
     ]
    },
    {
     "name": "stderr",
     "output_type": "stream",
     "text": [
      "\n",
      "\u001b[Aning inference using cuda bfloat16:   0%|          | 0/1 [00:00<?, ?it/s]\n",
      "\u001b[Aning inference using cuda bfloat16: 100%|██████████| 1/1 [00:01<00:00,  1.41s/it]\n",
      "Running inference using cuda bfloat16: 100%|██████████| 1/1 [00:03<00:00,  3.79s/it]\n"
     ]
    },
    {
     "name": "stdout",
     "output_type": "stream",
     "text": [
      "Predicted [Path('/data/gis/raster_base/Alaska/AKVegMap/EVWHS/mentasta/ortho_toa_subimages_cloud/23JUL21205709-M1BS-050296474010_01_P004_u16rf3338_OCM_v1_0_7.tif')]\n"
     ]
    },
    {
     "name": "stderr",
     "output_type": "stream",
     "text": [
      "\n",
      "\u001b[Aning inference using cuda bfloat16:   0%|          | 0/1 [00:00<?, ?it/s]\n",
      "\u001b[Aning inference using cuda bfloat16: 100%|██████████| 1/1 [00:03<00:00,  3.67s/it]\n",
      "Running inference using cuda bfloat16: 100%|██████████| 1/1 [00:06<00:00,  6.17s/it]\n"
     ]
    },
    {
     "name": "stdout",
     "output_type": "stream",
     "text": [
      "Predicted [Path('/data/gis/raster_base/Alaska/AKVegMap/EVWHS/mentasta/ortho_toa_subimages_cloud/17JUL12211636-M1BS-050296490010_01_P009_u16rf3338_OCM_v1_0_7.tif')]\n"
     ]
    },
    {
     "name": "stderr",
     "output_type": "stream",
     "text": [
      "\n",
      "\u001b[Aning inference using cuda bfloat16:   0%|          | 0/1 [00:00<?, ?it/s]\n",
      "\u001b[Aning inference using cuda bfloat16: 100%|██████████| 1/1 [00:03<00:00,  3.11s/it]\n",
      "Running inference using cuda bfloat16: 100%|██████████| 1/1 [00:06<00:00,  6.89s/it]\n"
     ]
    },
    {
     "name": "stdout",
     "output_type": "stream",
     "text": [
      "Predicted [Path('/data/gis/raster_base/Alaska/AKVegMap/EVWHS/mentasta/ortho_toa_subimages_cloud/23AUG23205625-M1BS-050296457010_01_P004_u16rf3338_OCM_v1_0_7.tif')]\n"
     ]
    },
    {
     "name": "stderr",
     "output_type": "stream",
     "text": [
      "\n",
      "\u001b[A/home/mmacander/miniconda3/envs/omni/lib/python3.11/site-packages/omnicloudmask/cloud_mask.py:145: UserWarning: Significant no-data areas detected. Adjusting patch size to 658px and overlap to 300px to minimize no-data patches.\n",
      "  warnings.warn(\n",
      "\n",
      "\u001b[Aning inference using cuda bfloat16: 100%|██████████| 1/1 [00:03<00:00,  3.25s/it]\n",
      "Running inference using cuda bfloat16: 100%|██████████| 1/1 [00:05<00:00,  5.03s/it]\n"
     ]
    },
    {
     "name": "stdout",
     "output_type": "stream",
     "text": [
      "Predicted [Path('/data/gis/raster_base/Alaska/AKVegMap/EVWHS/mentasta/ortho_toa_subimages_cloud/20JUL29212924-M1BS-050296466010_01_P003_u16rf3338_OCM_v1_0_7.tif')]\n"
     ]
    },
    {
     "name": "stderr",
     "output_type": "stream",
     "text": [
      "\n",
      "\u001b[Aning inference using cuda bfloat16:   0%|          | 0/1 [00:00<?, ?it/s]\n",
      "\u001b[Aning inference using cuda bfloat16: 100%|██████████| 1/1 [00:01<00:00,  1.25s/it]\n",
      "Running inference using cuda bfloat16: 100%|██████████| 1/1 [00:04<00:00,  4.25s/it]\n"
     ]
    },
    {
     "name": "stdout",
     "output_type": "stream",
     "text": [
      "Predicted [Path('/data/gis/raster_base/Alaska/AKVegMap/EVWHS/mentasta/ortho_toa_subimages_cloud/17JUL12211710-M1BS-050296469010_01_P005_u16rf3338_OCM_v1_0_7.tif')]\n"
     ]
    },
    {
     "name": "stderr",
     "output_type": "stream",
     "text": [
      "\n",
      "\u001b[Aning inference using cuda bfloat16:   0%|          | 0/1 [00:00<?, ?it/s]\n",
      "\u001b[Aning inference using cuda bfloat16: 100%|██████████| 1/1 [00:02<00:00,  1.87s/it]\n",
      "Running inference using cuda bfloat16: 100%|██████████| 1/1 [00:04<00:00,  4.58s/it]\n"
     ]
    },
    {
     "name": "stdout",
     "output_type": "stream",
     "text": [
      "Predicted [Path('/data/gis/raster_base/Alaska/AKVegMap/EVWHS/mentasta/ortho_toa_subimages_cloud/13JUL27210950-M1BS-050296487010_01_P006_u16rf3338_OCM_v1_0_7.tif')]\n"
     ]
    },
    {
     "name": "stderr",
     "output_type": "stream",
     "text": [
      "\n",
      "\u001b[Aning inference using cuda bfloat16:   0%|          | 0/1 [00:00<?, ?it/s]\n",
      "\u001b[Aning inference using cuda bfloat16: 100%|██████████| 1/1 [00:03<00:00,  3.68s/it]\n",
      "Running inference using cuda bfloat16: 100%|██████████| 1/1 [00:05<00:00,  5.93s/it]\n"
     ]
    },
    {
     "name": "stdout",
     "output_type": "stream",
     "text": [
      "Predicted [Path('/data/gis/raster_base/Alaska/AKVegMap/EVWHS/mentasta/ortho_toa_subimages_cloud/23JUL09214619-M1BS-050296477010_01_P001_u16rf3338_OCM_v1_0_7.tif')]\n"
     ]
    },
    {
     "name": "stderr",
     "output_type": "stream",
     "text": [
      "\n",
      "\u001b[Aning inference using cuda bfloat16:   0%|          | 0/1 [00:00<?, ?it/s]\n",
      "\u001b[Aning inference using cuda bfloat16: 100%|██████████| 1/1 [00:03<00:00,  2.83s/it]\n",
      "Running inference using cuda bfloat16: 100%|██████████| 1/1 [00:05<00:00,  5.05s/it]\n"
     ]
    },
    {
     "name": "stdout",
     "output_type": "stream",
     "text": [
      "Predicted [Path('/data/gis/raster_base/Alaska/AKVegMap/EVWHS/mentasta/ortho_toa_subimages_cloud/21JUL12205303-M1BS-050296458010_01_P006_u16rf3338_OCM_v1_0_7.tif')]\n"
     ]
    },
    {
     "name": "stderr",
     "output_type": "stream",
     "text": [
      "\n",
      "\u001b[Aning inference using cuda bfloat16:   0%|          | 0/1 [00:00<?, ?it/s]\n",
      "\u001b[Aning inference using cuda bfloat16: 100%|██████████| 1/1 [00:02<00:00,  2.38s/it]\n",
      "Running inference using cuda bfloat16: 100%|██████████| 1/1 [00:03<00:00,  3.99s/it]\n"
     ]
    },
    {
     "name": "stdout",
     "output_type": "stream",
     "text": [
      "Predicted [Path('/data/gis/raster_base/Alaska/AKVegMap/EVWHS/mentasta/ortho_toa_subimages_cloud/23AUG23205626-M1BS-050296457010_01_P005_u16rf3338_OCM_v1_0_7.tif')]\n"
     ]
    },
    {
     "name": "stderr",
     "output_type": "stream",
     "text": [
      "\n",
      "\u001b[Aning inference using cuda bfloat16:   0%|          | 0/1 [00:00<?, ?it/s]\n",
      "\u001b[Aning inference using cuda bfloat16: 100%|██████████| 1/1 [00:04<00:00,  3.21s/it]\n",
      "Running inference using cuda bfloat16: 100%|██████████| 1/1 [00:06<00:00,  6.46s/it]\n"
     ]
    },
    {
     "name": "stdout",
     "output_type": "stream",
     "text": [
      "Predicted [Path('/data/gis/raster_base/Alaska/AKVegMap/EVWHS/mentasta/ortho_toa_subimages_cloud/13JUN19211136-M1BS-050296495010_01_P007_u16rf3338_OCM_v1_0_7.tif')]\n"
     ]
    },
    {
     "name": "stderr",
     "output_type": "stream",
     "text": [
      "\n",
      "\u001b[Aning inference using cuda bfloat16:   0%|          | 0/1 [00:00<?, ?it/s]\n",
      "\u001b[Aning inference using cuda bfloat16: 100%|██████████| 1/1 [00:02<00:00,  2.48s/it]\n",
      "Running inference using cuda bfloat16: 100%|██████████| 1/1 [00:04<00:00,  4.62s/it]\n"
     ]
    },
    {
     "name": "stdout",
     "output_type": "stream",
     "text": [
      "Predicted [Path('/data/gis/raster_base/Alaska/AKVegMap/EVWHS/mentasta/ortho_toa_subimages_cloud/24JUN29212916-M1BS-050296500010_01_P006_u16rf3338_OCM_v1_0_7.tif')]\n"
     ]
    },
    {
     "name": "stderr",
     "output_type": "stream",
     "text": [
      "\n",
      "\u001b[Aning inference using cuda bfloat16:   0%|          | 0/1 [00:00<?, ?it/s]\n",
      "\u001b[Aning inference using cuda bfloat16: 100%|██████████| 1/1 [00:03<00:00,  3.22s/it]\n",
      "Running inference using cuda bfloat16: 100%|██████████| 1/1 [00:05<00:00,  5.67s/it]\n"
     ]
    },
    {
     "name": "stdout",
     "output_type": "stream",
     "text": [
      "Predicted [Path('/data/gis/raster_base/Alaska/AKVegMap/EVWHS/mentasta/ortho_toa_subimages_cloud/16JUN15214207-M1BS-050296498010_01_P008_u16rf3338_OCM_v1_0_7.tif')]\n"
     ]
    },
    {
     "name": "stderr",
     "output_type": "stream",
     "text": [
      "\n",
      "\u001b[Aning inference using cuda bfloat16:   0%|          | 0/1 [00:00<?, ?it/s]\n",
      "\u001b[Aning inference using cuda bfloat16: 100%|██████████| 1/1 [00:01<00:00,  1.37s/it]\n",
      "Running inference using cuda bfloat16: 100%|██████████| 1/1 [00:03<00:00,  3.22s/it]\n"
     ]
    },
    {
     "name": "stdout",
     "output_type": "stream",
     "text": [
      "Predicted [Path('/data/gis/raster_base/Alaska/AKVegMap/EVWHS/mentasta/ortho_toa_subimages_cloud/23JUL26212300-M1BS-050296478010_01_P008_u16rf3338_OCM_v1_0_7.tif')]\n"
     ]
    },
    {
     "name": "stderr",
     "output_type": "stream",
     "text": [
      "\n",
      "\u001b[A/home/mmacander/miniconda3/envs/omni/lib/python3.11/site-packages/omnicloudmask/cloud_mask.py:145: UserWarning: Significant no-data areas detected. Adjusting patch size to 284px and overlap to 142px to minimize no-data patches.\n",
      "  warnings.warn(\n",
      "\n",
      "\u001b[Aning inference using cuda bfloat16: 100%|██████████| 1/1 [00:02<00:00,  1.40it/s]\n",
      "Running inference using cuda bfloat16: 100%|██████████| 1/1 [00:03<00:00,  3.12s/it]\n"
     ]
    },
    {
     "name": "stdout",
     "output_type": "stream",
     "text": [
      "Predicted [Path('/data/gis/raster_base/Alaska/AKVegMap/EVWHS/mentasta/ortho_toa_subimages_cloud/20AUG03210823-M1BS-050296494010_01_P003_u16rf3338_OCM_v1_0_7.tif')]\n"
     ]
    },
    {
     "name": "stderr",
     "output_type": "stream",
     "text": [
      "\n",
      "\u001b[Aning inference using cuda bfloat16:   0%|          | 0/1 [00:00<?, ?it/s]\n",
      "\u001b[Aning inference using cuda bfloat16: 100%|██████████| 1/1 [00:03<00:00,  3.20s/it]\n",
      "Running inference using cuda bfloat16: 100%|██████████| 1/1 [00:07<00:00,  7.39s/it]\n"
     ]
    },
    {
     "name": "stdout",
     "output_type": "stream",
     "text": [
      "Predicted [Path('/data/gis/raster_base/Alaska/AKVegMap/EVWHS/mentasta/ortho_toa_subimages_cloud/13JUN19211130-M1BS-050296495010_01_P002_u16rf3338_OCM_v1_0_7.tif')]\n"
     ]
    },
    {
     "name": "stderr",
     "output_type": "stream",
     "text": [
      "\n",
      "\u001b[Aning inference using cuda bfloat16:   0%|          | 0/1 [00:00<?, ?it/s]\n",
      "\u001b[Aning inference using cuda bfloat16: 100%|██████████| 1/1 [00:02<00:00,  2.47s/it]\n",
      "Running inference using cuda bfloat16: 100%|██████████| 1/1 [00:05<00:00,  5.73s/it]\n"
     ]
    },
    {
     "name": "stdout",
     "output_type": "stream",
     "text": [
      "Predicted [Path('/data/gis/raster_base/Alaska/AKVegMap/EVWHS/mentasta/ortho_toa_subimages_cloud/24JUN29212841-M1BS-050296485010_01_P005_u16rf3338_OCM_v1_0_7.tif')]\n"
     ]
    },
    {
     "name": "stderr",
     "output_type": "stream",
     "text": [
      "\n",
      "\u001b[Aning inference using cuda bfloat16:   0%|          | 0/1 [00:00<?, ?it/s]\n",
      "\u001b[Aning inference using cuda bfloat16: 100%|██████████| 1/1 [00:04<00:00,  2.25s/it]\n",
      "Running inference using cuda bfloat16: 100%|██████████| 1/1 [00:07<00:00,  7.13s/it]\n"
     ]
    },
    {
     "name": "stdout",
     "output_type": "stream",
     "text": [
      "Predicted [Path('/data/gis/raster_base/Alaska/AKVegMap/EVWHS/mentasta/ortho_toa_subimages_cloud/21JUL12205144-M1BS-050296475010_01_P007_u16rf3338_OCM_v1_0_7.tif')]\n"
     ]
    },
    {
     "name": "stderr",
     "output_type": "stream",
     "text": [
      "\n",
      "\u001b[Aning inference using cuda bfloat16:   0%|          | 0/1 [00:00<?, ?it/s]\n",
      "\u001b[Aning inference using cuda bfloat16: 100%|██████████| 1/1 [00:03<00:00,  2.16s/it]\n",
      "Running inference using cuda bfloat16: 100%|██████████| 1/1 [00:05<00:00,  5.62s/it]\n"
     ]
    },
    {
     "name": "stdout",
     "output_type": "stream",
     "text": [
      "Predicted [Path('/data/gis/raster_base/Alaska/AKVegMap/EVWHS/mentasta/ortho_toa_subimages_cloud/24JUN29212859-M1BS-050296480010_01_P005_u16rf3338_OCM_v1_0_7.tif')]\n"
     ]
    },
    {
     "name": "stderr",
     "output_type": "stream",
     "text": [
      "\n",
      "\u001b[Aning inference using cuda bfloat16:   0%|          | 0/1 [00:00<?, ?it/s]\n",
      "\u001b[Aning inference using cuda bfloat16: 100%|██████████| 1/1 [00:01<00:00,  1.54s/it]\n",
      "Running inference using cuda bfloat16: 100%|██████████| 1/1 [00:05<00:00,  5.59s/it]\n"
     ]
    },
    {
     "name": "stdout",
     "output_type": "stream",
     "text": [
      "Predicted [Path('/data/gis/raster_base/Alaska/AKVegMap/EVWHS/mentasta/ortho_toa_subimages_cloud/17JUL12211633-M1BS-050296490010_01_P007_u16rf3338_OCM_v1_0_7.tif')]\n"
     ]
    },
    {
     "name": "stderr",
     "output_type": "stream",
     "text": [
      "\n",
      "\u001b[Aning inference using cuda bfloat16:   0%|          | 0/1 [00:00<?, ?it/s]\n",
      "\u001b[Aning inference using cuda bfloat16: 100%|██████████| 1/1 [00:04<00:00,  4.97s/it]\n",
      "Running inference using cuda bfloat16: 100%|██████████| 1/1 [00:07<00:00,  7.47s/it]\n"
     ]
    },
    {
     "name": "stdout",
     "output_type": "stream",
     "text": [
      "Predicted [Path('/data/gis/raster_base/Alaska/AKVegMap/EVWHS/mentasta/ortho_toa_subimages_cloud/20AUG07204546-M1BS-050296464010_01_P001_u16rf3338_OCM_v1_0_7.tif')]\n"
     ]
    },
    {
     "name": "stderr",
     "output_type": "stream",
     "text": [
      "\n",
      "\u001b[Aning inference using cuda bfloat16:   0%|          | 0/1 [00:00<?, ?it/s]\n",
      "\u001b[Aning inference using cuda bfloat16: 100%|██████████| 1/1 [00:02<00:00,  1.25s/it]\n",
      "Running inference using cuda bfloat16: 100%|██████████| 1/1 [00:04<00:00,  4.21s/it]\n"
     ]
    },
    {
     "name": "stdout",
     "output_type": "stream",
     "text": [
      "Predicted [Path('/data/gis/raster_base/Alaska/AKVegMap/EVWHS/mentasta/ortho_toa_subimages_cloud/17JUL12211656-M1BS-050296469010_01_P012_u16rf3338_OCM_v1_0_7.tif')]\n"
     ]
    },
    {
     "name": "stderr",
     "output_type": "stream",
     "text": [
      "\n",
      "\u001b[Aning inference using cuda bfloat16:   0%|          | 0/1 [00:00<?, ?it/s]\n",
      "\u001b[Aning inference using cuda bfloat16: 100%|██████████| 1/1 [00:04<00:00,  1.94s/it]\n",
      "Running inference using cuda bfloat16: 100%|██████████| 1/1 [00:06<00:00,  6.55s/it]\n"
     ]
    },
    {
     "name": "stdout",
     "output_type": "stream",
     "text": [
      "Predicted [Path('/data/gis/raster_base/Alaska/AKVegMap/EVWHS/mentasta/ortho_toa_subimages_cloud/13JUN27211630-M1BS-050296497010_01_P001_u16rf3338_OCM_v1_0_7.tif')]\n"
     ]
    },
    {
     "name": "stderr",
     "output_type": "stream",
     "text": [
      "\n",
      "\u001b[Aning inference using cuda bfloat16:   0%|          | 0/1 [00:00<?, ?it/s]\n",
      "\u001b[Aning inference using cuda bfloat16: 100%|██████████| 1/1 [00:02<00:00,  2.11s/it]\n",
      "Running inference using cuda bfloat16: 100%|██████████| 1/1 [00:04<00:00,  4.77s/it]\n"
     ]
    },
    {
     "name": "stdout",
     "output_type": "stream",
     "text": [
      "Predicted [Path('/data/gis/raster_base/Alaska/AKVegMap/EVWHS/mentasta/ortho_toa_subimages_cloud/24JUN29212837-M1BS-050296485010_01_P009_u16rf3338_OCM_v1_0_7.tif')]\n"
     ]
    },
    {
     "name": "stderr",
     "output_type": "stream",
     "text": [
      "\n",
      "\u001b[A/home/mmacander/miniconda3/envs/omni/lib/python3.11/site-packages/omnicloudmask/cloud_mask.py:145: UserWarning: Significant no-data areas detected. Adjusting patch size to 301px and overlap to 150px to minimize no-data patches.\n",
      "  warnings.warn(\n",
      "\n",
      "\u001b[Aning inference using cuda bfloat16: 100%|██████████| 1/1 [00:01<00:00,  1.56s/it]\n",
      "Running inference using cuda bfloat16: 100%|██████████| 1/1 [00:02<00:00,  2.20s/it]\n"
     ]
    },
    {
     "name": "stdout",
     "output_type": "stream",
     "text": [
      "Predicted [Path('/data/gis/raster_base/Alaska/AKVegMap/EVWHS/mentasta/ortho_toa_subimages_cloud/20AUG03210843-M1BS-050296484010_01_P003_u16rf3338_OCM_v1_0_7.tif')]\n"
     ]
    },
    {
     "name": "stderr",
     "output_type": "stream",
     "text": [
      "\n",
      "\u001b[Aning inference using cuda bfloat16:   0%|          | 0/1 [00:00<?, ?it/s]\n",
      "\u001b[Aning inference using cuda bfloat16: 100%|██████████| 1/1 [00:01<00:00,  1.99s/it]\n",
      "Running inference using cuda bfloat16: 100%|██████████| 1/1 [00:04<00:00,  4.68s/it]\n"
     ]
    },
    {
     "name": "stdout",
     "output_type": "stream",
     "text": [
      "Predicted [Path('/data/gis/raster_base/Alaska/AKVegMap/EVWHS/mentasta/ortho_toa_subimages_cloud/13JUN27211616-M1BS-050296482010_01_P006_u16rf3338_OCM_v1_0_7.tif')]\n"
     ]
    },
    {
     "name": "stderr",
     "output_type": "stream",
     "text": [
      "\n",
      "\u001b[Aning inference using cuda bfloat16:   0%|          | 0/1 [00:00<?, ?it/s]\n",
      "\u001b[Aning inference using cuda bfloat16: 100%|██████████| 1/1 [00:05<00:00,  3.32s/it]\n",
      "Running inference using cuda bfloat16: 100%|██████████| 1/1 [00:07<00:00,  7.84s/it]\n"
     ]
    },
    {
     "name": "stdout",
     "output_type": "stream",
     "text": [
      "Predicted [Path('/data/gis/raster_base/Alaska/AKVegMap/EVWHS/mentasta/ortho_toa_subimages_cloud/24JUN29212919-M1BS-050296500010_01_P004_u16rf3338_OCM_v1_0_7.tif')]\n"
     ]
    },
    {
     "name": "stderr",
     "output_type": "stream",
     "text": [
      "\n",
      "\u001b[Aning inference using cuda bfloat16:   0%|          | 0/1 [00:00<?, ?it/s]\n",
      "\u001b[Aning inference using cuda bfloat16: 100%|██████████| 1/1 [00:02<00:00,  1.38s/it]\n",
      "Running inference using cuda bfloat16: 100%|██████████| 1/1 [00:04<00:00,  4.42s/it]\n"
     ]
    },
    {
     "name": "stdout",
     "output_type": "stream",
     "text": [
      "Predicted [Path('/data/gis/raster_base/Alaska/AKVegMap/EVWHS/mentasta/ortho_toa_subimages_cloud/24AUG30205553-M1BS-050296467010_01_P001_u16rf3338_OCM_v1_0_7.tif')]\n"
     ]
    },
    {
     "name": "stderr",
     "output_type": "stream",
     "text": [
      "\n",
      "\u001b[Aning inference using cuda bfloat16:   0%|          | 0/1 [00:00<?, ?it/s]\n",
      "\u001b[Aning inference using cuda bfloat16: 100%|██████████| 1/1 [00:02<00:00,  2.03s/it]\n",
      "Running inference using cuda bfloat16: 100%|██████████| 1/1 [00:05<00:00,  5.95s/it]\n"
     ]
    },
    {
     "name": "stdout",
     "output_type": "stream",
     "text": [
      "Predicted [Path('/data/gis/raster_base/Alaska/AKVegMap/EVWHS/mentasta/ortho_toa_subimages_cloud/13JUL27210951-M1BS-050296487010_01_P005_u16rf3338_OCM_v1_0_7.tif')]\n"
     ]
    },
    {
     "name": "stderr",
     "output_type": "stream",
     "text": [
      "\n",
      "\u001b[Aning inference using cuda bfloat16:   0%|          | 0/1 [00:00<?, ?it/s]\n",
      "\u001b[Aning inference using cuda bfloat16: 100%|██████████| 1/1 [00:02<00:00,  1.17s/it]\n",
      "Running inference using cuda bfloat16: 100%|██████████| 1/1 [00:03<00:00,  3.44s/it]\n"
     ]
    },
    {
     "name": "stdout",
     "output_type": "stream",
     "text": [
      "Predicted [Path('/data/gis/raster_base/Alaska/AKVegMap/EVWHS/mentasta/ortho_toa_subimages_cloud/20JUL29212844-M1BS-050296462010_01_P002_u16rf3338_OCM_v1_0_7.tif')]\n"
     ]
    },
    {
     "name": "stderr",
     "output_type": "stream",
     "text": [
      "\n",
      "\u001b[Aning inference using cuda bfloat16:   0%|          | 0/1 [00:00<?, ?it/s]\n",
      "\u001b[Aning inference using cuda bfloat16: 100%|██████████| 1/1 [00:03<00:00,  2.13s/it]\n",
      "Running inference using cuda bfloat16: 100%|██████████| 1/1 [00:04<00:00,  4.74s/it]\n"
     ]
    },
    {
     "name": "stdout",
     "output_type": "stream",
     "text": [
      "Predicted [Path('/data/gis/raster_base/Alaska/AKVegMap/EVWHS/mentasta/ortho_toa_subimages_cloud/13JUN18214810-M1BS-050296499010_01_P001_u16rf3338_OCM_v1_0_7.tif')]\n"
     ]
    },
    {
     "name": "stderr",
     "output_type": "stream",
     "text": [
      "\n",
      "\u001b[Aning inference using cuda bfloat16:   0%|          | 0/1 [00:00<?, ?it/s]\n",
      "\u001b[Aning inference using cuda bfloat16: 100%|██████████| 1/1 [00:04<00:00,  2.63s/it]\n",
      "Running inference using cuda bfloat16: 100%|██████████| 1/1 [00:04<00:00,  4.95s/it]\n"
     ]
    },
    {
     "name": "stdout",
     "output_type": "stream",
     "text": [
      "Predicted [Path('/data/gis/raster_base/Alaska/AKVegMap/EVWHS/mentasta/ortho_toa_subimages_cloud/17JUL12211654-M1BS-050296469010_01_P013_u16rf3338_OCM_v1_0_7.tif')]\n"
     ]
    },
    {
     "name": "stderr",
     "output_type": "stream",
     "text": [
      "\n",
      "\u001b[Aning inference using cuda bfloat16:   0%|          | 0/1 [00:00<?, ?it/s]\n",
      "\u001b[Aning inference using cuda bfloat16: 100%|██████████| 1/1 [00:01<00:00,  1.35s/it]\n",
      "Running inference using cuda bfloat16: 100%|██████████| 1/1 [00:03<00:00,  3.97s/it]\n"
     ]
    },
    {
     "name": "stdout",
     "output_type": "stream",
     "text": [
      "Predicted [Path('/data/gis/raster_base/Alaska/AKVegMap/EVWHS/mentasta/ortho_toa_subimages_cloud/17JUL12211716-M1BS-050296469010_01_P002_u16rf3338_OCM_v1_0_7.tif')]\n"
     ]
    },
    {
     "name": "stderr",
     "output_type": "stream",
     "text": [
      "\n",
      "\u001b[Aning inference using cuda bfloat16:   0%|          | 0/1 [00:00<?, ?it/s]\n",
      "\u001b[Aning inference using cuda bfloat16: 100%|██████████| 1/1 [00:01<00:00,  1.84s/it]\n",
      "Running inference using cuda bfloat16: 100%|██████████| 1/1 [00:04<00:00,  4.37s/it]\n"
     ]
    },
    {
     "name": "stdout",
     "output_type": "stream",
     "text": [
      "Predicted [Path('/data/gis/raster_base/Alaska/AKVegMap/EVWHS/mentasta/ortho_toa_subimages_cloud/18JUL21211747-M1BS-050296502010_01_P002_u16rf3338_OCM_v1_0_7.tif')]\n"
     ]
    },
    {
     "name": "stderr",
     "output_type": "stream",
     "text": [
      "\n",
      "\u001b[Aning inference using cuda bfloat16:   0%|          | 0/1 [00:00<?, ?it/s]\n",
      "\u001b[Aning inference using cuda bfloat16: 100%|██████████| 1/1 [00:06<00:00,  4.06s/it]\n",
      "Running inference using cuda bfloat16: 100%|██████████| 1/1 [00:07<00:00,  7.90s/it]\n"
     ]
    },
    {
     "name": "stdout",
     "output_type": "stream",
     "text": [
      "Predicted [Path('/data/gis/raster_base/Alaska/AKVegMap/EVWHS/mentasta/ortho_toa_subimages_cloud/13JUN20201604-M1BS-050296503010_01_P003_u16rf3338_OCM_v1_0_7.tif')]\n"
     ]
    },
    {
     "name": "stderr",
     "output_type": "stream",
     "text": [
      "\n",
      "\u001b[Aning inference using cuda bfloat16:   0%|          | 0/1 [00:00<?, ?it/s]\n",
      "\u001b[Aning inference using cuda bfloat16: 100%|██████████| 1/1 [00:06<00:00,  6.17s/it]\n",
      "Running inference using cuda bfloat16: 100%|██████████| 1/1 [00:08<00:00,  8.52s/it]\n"
     ]
    },
    {
     "name": "stdout",
     "output_type": "stream",
     "text": [
      "Predicted [Path('/data/gis/raster_base/Alaska/AKVegMap/EVWHS/mentasta/ortho_toa_subimages_cloud/23JUL21205715-M1BS-050296474010_01_P007_u16rf3338_OCM_v1_0_7.tif')]\n"
     ]
    },
    {
     "name": "stderr",
     "output_type": "stream",
     "text": [
      "\n",
      "\u001b[Aning inference using cuda bfloat16:   0%|          | 0/1 [00:00<?, ?it/s]\n",
      "\u001b[Aning inference using cuda bfloat16: 100%|██████████| 1/1 [00:02<00:00,  2.26s/it]\n",
      "Running inference using cuda bfloat16: 100%|██████████| 1/1 [00:07<00:00,  7.37s/it]\n"
     ]
    },
    {
     "name": "stdout",
     "output_type": "stream",
     "text": [
      "Predicted [Path('/data/gis/raster_base/Alaska/AKVegMap/EVWHS/mentasta/ortho_toa_subimages_cloud/24JUN29212839-M1BS-050296485010_01_P007_u16rf3338_OCM_v1_0_7.tif')]\n"
     ]
    },
    {
     "name": "stderr",
     "output_type": "stream",
     "text": [
      "\n",
      "\u001b[Aning inference using cuda bfloat16:   0%|          | 0/1 [00:00<?, ?it/s]\n",
      "\u001b[Aning inference using cuda bfloat16: 100%|██████████| 1/1 [00:04<00:00,  3.29s/it]\n",
      "Running inference using cuda bfloat16: 100%|██████████| 1/1 [00:06<00:00,  6.19s/it]\n"
     ]
    },
    {
     "name": "stdout",
     "output_type": "stream",
     "text": [
      "Predicted [Path('/data/gis/raster_base/Alaska/AKVegMap/EVWHS/mentasta/ortho_toa_subimages_cloud/18JUL24214216-M1BS-050296460010_01_P009_u16rf3338_OCM_v1_0_7.tif')]\n"
     ]
    },
    {
     "name": "stderr",
     "output_type": "stream",
     "text": [
      "\n",
      "\u001b[Aning inference using cuda bfloat16:   0%|          | 0/1 [00:00<?, ?it/s]\n",
      "\u001b[Aning inference using cuda bfloat16: 100%|██████████| 1/1 [00:01<00:00,  1.80s/it]\n",
      "Running inference using cuda bfloat16: 100%|██████████| 1/1 [00:07<00:00,  7.28s/it]\n"
     ]
    },
    {
     "name": "stdout",
     "output_type": "stream",
     "text": [
      "Predicted [Path('/data/gis/raster_base/Alaska/AKVegMap/EVWHS/mentasta/ortho_toa_subimages_cloud/13JUN27211619-M1BS-050296482010_01_P003_u16rf3338_OCM_v1_0_7.tif')]\n"
     ]
    },
    {
     "name": "stderr",
     "output_type": "stream",
     "text": [
      "\n",
      "\u001b[Aning inference using cuda bfloat16:   0%|          | 0/1 [00:00<?, ?it/s]\n",
      "\u001b[Aning inference using cuda bfloat16: 100%|██████████| 1/1 [00:01<00:00,  1.95s/it]\n",
      "Running inference using cuda bfloat16: 100%|██████████| 1/1 [00:03<00:00,  3.83s/it]\n"
     ]
    },
    {
     "name": "stdout",
     "output_type": "stream",
     "text": [
      "Predicted [Path('/data/gis/raster_base/Alaska/AKVegMap/EVWHS/mentasta/ortho_toa_subimages_cloud/20JUL29212846-M1BS-050296462010_01_P001_u16rf3338_OCM_v1_0_7.tif')]\n"
     ]
    },
    {
     "name": "stderr",
     "output_type": "stream",
     "text": [
      "\n",
      "\u001b[A/home/mmacander/miniconda3/envs/omni/lib/python3.11/site-packages/omnicloudmask/cloud_mask.py:145: UserWarning: Significant no-data areas detected. Adjusting patch size to 985px and overlap to 300px to minimize no-data patches.\n",
      "  warnings.warn(\n",
      "\n",
      "\u001b[Aning inference using cuda bfloat16: 100%|██████████| 1/1 [00:03<00:00,  3.00s/it]\n",
      "Running inference using cuda bfloat16: 100%|██████████| 1/1 [00:04<00:00,  4.34s/it]\n"
     ]
    },
    {
     "name": "stdout",
     "output_type": "stream",
     "text": [
      "Predicted [Path('/data/gis/raster_base/Alaska/AKVegMap/EVWHS/mentasta/ortho_toa_subimages_cloud/23JUL26212332-M1BS-050296496010_01_P001_u16rf3338_OCM_v1_0_7.tif')]\n"
     ]
    },
    {
     "name": "stderr",
     "output_type": "stream",
     "text": [
      "\n",
      "\u001b[Aning inference using cuda bfloat16:   0%|          | 0/1 [00:00<?, ?it/s]\n",
      "\u001b[Aning inference using cuda bfloat16: 100%|██████████| 1/1 [00:09<00:00,  7.21s/it]\n",
      "Running inference using cuda bfloat16: 100%|██████████| 1/1 [00:13<00:00, 13.21s/it]\n"
     ]
    },
    {
     "name": "stdout",
     "output_type": "stream",
     "text": [
      "Predicted [Path('/data/gis/raster_base/Alaska/AKVegMap/EVWHS/mentasta/ortho_toa_subimages_cloud/17JUL12211704-M1BS-050296469010_01_P008_u16rf3338_OCM_v1_0_7.tif')]\n"
     ]
    },
    {
     "name": "stderr",
     "output_type": "stream",
     "text": [
      "\n",
      "\u001b[Aning inference using cuda bfloat16:   0%|          | 0/1 [00:00<?, ?it/s]\n",
      "\u001b[Aning inference using cuda bfloat16: 100%|██████████| 1/1 [00:03<00:00,  2.36s/it]\n",
      "Running inference using cuda bfloat16: 100%|██████████| 1/1 [00:05<00:00,  5.24s/it]\n"
     ]
    },
    {
     "name": "stdout",
     "output_type": "stream",
     "text": [
      "Predicted [Path('/data/gis/raster_base/Alaska/AKVegMap/EVWHS/mentasta/ortho_toa_subimages_cloud/21JUL12205304-M1BS-050296458010_01_P007_u16rf3338_OCM_v1_0_7.tif')]\n"
     ]
    },
    {
     "name": "stderr",
     "output_type": "stream",
     "text": [
      "\n",
      "\u001b[Aning inference using cuda bfloat16:   0%|          | 0/1 [00:00<?, ?it/s]\n",
      "\u001b[Aning inference using cuda bfloat16: 100%|██████████| 1/1 [00:01<00:00,  1.63s/it]\n",
      "Running inference using cuda bfloat16: 100%|██████████| 1/1 [00:06<00:00,  6.02s/it]\n"
     ]
    },
    {
     "name": "stdout",
     "output_type": "stream",
     "text": [
      "Predicted [Path('/data/gis/raster_base/Alaska/AKVegMap/EVWHS/mentasta/ortho_toa_subimages_cloud/18JUL21211750-M1BS-050296502010_01_P004_u16rf3338_OCM_v1_0_7.tif')]\n"
     ]
    },
    {
     "name": "stderr",
     "output_type": "stream",
     "text": [
      "\n",
      "\u001b[A/home/mmacander/miniconda3/envs/omni/lib/python3.11/site-packages/omnicloudmask/cloud_mask.py:145: UserWarning: Significant no-data areas detected. Adjusting patch size to 280px and overlap to 140px to minimize no-data patches.\n",
      "  warnings.warn(\n",
      "\n",
      "\u001b[Aning inference using cuda bfloat16: 100%|██████████| 1/1 [00:06<00:00,  3.60s/it]\n",
      "Running inference using cuda bfloat16: 100%|██████████| 1/1 [00:07<00:00,  7.31s/it]\n"
     ]
    },
    {
     "name": "stdout",
     "output_type": "stream",
     "text": [
      "Predicted [Path('/data/gis/raster_base/Alaska/AKVegMap/EVWHS/mentasta/ortho_toa_subimages_cloud/13AUG12211959-M1BS-050296476010_01_P002_u16rf3338_OCM_v1_0_7.tif')]\n"
     ]
    },
    {
     "name": "stderr",
     "output_type": "stream",
     "text": [
      "\n",
      "\u001b[Aning inference using cuda bfloat16:   0%|          | 0/1 [00:00<?, ?it/s]\n",
      "\u001b[Aning inference using cuda bfloat16: 100%|██████████| 1/1 [00:05<00:00,  2.78s/it]\n",
      "Running inference using cuda bfloat16: 100%|██████████| 1/1 [00:07<00:00,  7.84s/it]\n"
     ]
    },
    {
     "name": "stdout",
     "output_type": "stream",
     "text": [
      "Predicted [Path('/data/gis/raster_base/Alaska/AKVegMap/EVWHS/mentasta/ortho_toa_subimages_cloud/13JUN19211132-M1BS-050296495010_01_P004_u16rf3338_OCM_v1_0_7.tif')]\n"
     ]
    },
    {
     "name": "stderr",
     "output_type": "stream",
     "text": [
      "\n",
      "\u001b[Aning inference using cuda bfloat16:   0%|          | 0/1 [00:00<?, ?it/s]\n",
      "\u001b[Aning inference using cuda bfloat16: 100%|██████████| 1/1 [00:01<00:00,  1.60s/it]\n",
      "Running inference using cuda bfloat16: 100%|██████████| 1/1 [00:04<00:00,  4.61s/it]\n"
     ]
    },
    {
     "name": "stdout",
     "output_type": "stream",
     "text": [
      "Predicted [Path('/data/gis/raster_base/Alaska/AKVegMap/EVWHS/mentasta/ortho_toa_subimages_cloud/23AUG23205755-M1BS-050296473010_01_P009_u16rf3338_OCM_v1_0_7.tif')]\n"
     ]
    },
    {
     "name": "stderr",
     "output_type": "stream",
     "text": [
      "\n",
      "\u001b[Aning inference using cuda bfloat16:   0%|          | 0/1 [00:00<?, ?it/s]\n",
      "\u001b[Aning inference using cuda bfloat16: 100%|██████████| 1/1 [00:07<00:00,  5.56s/it]\n",
      "Running inference using cuda bfloat16: 100%|██████████| 1/1 [00:09<00:00,  9.06s/it]\n"
     ]
    },
    {
     "name": "stdout",
     "output_type": "stream",
     "text": [
      "Predicted [Path('/data/gis/raster_base/Alaska/AKVegMap/EVWHS/mentasta/ortho_toa_subimages_cloud/23AUG23205748-M1BS-050296473010_01_P002_u16rf3338_OCM_v1_0_7.tif')]\n"
     ]
    },
    {
     "name": "stderr",
     "output_type": "stream",
     "text": [
      "\n",
      "\u001b[A/home/mmacander/miniconda3/envs/omni/lib/python3.11/site-packages/omnicloudmask/cloud_mask.py:145: UserWarning: Significant no-data areas detected. Adjusting patch size to 521px and overlap to 260px to minimize no-data patches.\n",
      "  warnings.warn(\n",
      "\n",
      "\u001b[Aning inference using cuda bfloat16: 100%|██████████| 1/1 [00:01<00:00,  1.09s/it]\n",
      "Running inference using cuda bfloat16: 100%|██████████| 1/1 [00:05<00:00,  5.03s/it]"
     ]
    },
    {
     "name": "stdout",
     "output_type": "stream",
     "text": [
      "Predicted [Path('/data/gis/raster_base/Alaska/AKVegMap/EVWHS/mentasta/ortho_toa_subimages_cloud/20AUG06212411-M1BS-050296492010_01_P003_u16rf3338_OCM_v1_0_7.tif')]\n"
     ]
    },
    {
     "name": "stderr",
     "output_type": "stream",
     "text": [
      "\n"
     ]
    }
   ],
   "source": [
    "for scene_path in scene_paths:\n",
    "    pred_path = predict_from_load_func(\n",
    "        # scene_paths=scene_paths,\n",
    "        scene_paths=[scene_path],\n",
    "        load_func=load_maxar_pgc_4band_10m,\n",
    "        inference_dtype=\"bf16\",\n",
    "        no_data_value=65535,\n",
    "        output_dir=ortho_subimage_cloud_dir,\n",
    "        inference_device='cuda',\n",
    "        mosaic_device='cpu',\n",
    "        overwrite=False,\n",
    "        batch_size=1,\n",
    "        # patch_size=256,\n",
    "        # patch_overlap=128\n",
    "    )\n",
    "    print(f\"Predicted {pred_path}\")\n",
    "    \n",
    "    with torch.no_grad():\n",
    "        torch.cuda.empty_cache()\n"
   ]
  },
  {
   "cell_type": "code",
   "execution_count": 44,
   "metadata": {},
   "outputs": [],
   "source": [
    "# To clear cache between runs\n",
    "with torch.no_grad():\n",
    "    torch.cuda.empty_cache()\n"
   ]
  },
  {
   "cell_type": "code",
   "execution_count": null,
   "metadata": {},
   "outputs": [],
   "source": []
  }
 ],
 "metadata": {
  "kernelspec": {
   "display_name": "omni",
   "language": "python",
   "name": "omni"
  },
  "language_info": {
   "codemirror_mode": {
    "name": "ipython",
    "version": 3
   },
   "file_extension": ".py",
   "mimetype": "text/x-python",
   "name": "python",
   "nbconvert_exporter": "python",
   "pygments_lexer": "ipython3",
   "version": "3.11.11"
  }
 },
 "nbformat": 4,
 "nbformat_minor": 4
}
