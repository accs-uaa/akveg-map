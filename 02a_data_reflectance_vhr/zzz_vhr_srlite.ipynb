{
 "cells": [
  {
   "cell_type": "markdown",
   "id": "01d76753-a713-4d0b-bb85-2c203b2990b6",
   "metadata": {},
   "source": [
    "# SRLite cal support\n",
    "Use cog env"
   ]
  },
  {
   "cell_type": "code",
   "execution_count": null,
   "id": "04c9f62a-50c1-4bea-856a-88942a02b492",
   "metadata": {},
   "outputs": [],
   "source": [
    "import os\n",
    "import glob\n",
    "import subprocess\n",
    "from osgeo import gdal\n",
    "from datetime import datetime\n",
    "from collections import Counter\n",
    "import numpy as np\n",
    "import pandas as pd\n",
    "import pathlib\n"
   ]
  },
  {
   "cell_type": "code",
   "execution_count": null,
   "id": "7fa8efa0-f20a-4e99-9a8a-ce9755a56853",
   "metadata": {},
   "outputs": [],
   "source": [
    "Create ccdc cog-backed image collection"
   ]
  }
 ],
 "metadata": {
  "kernelspec": {
   "display_name": "Python 3 (ipykernel)",
   "language": "python",
   "name": "python3"
  },
  "language_info": {
   "codemirror_mode": {
    "name": "ipython",
    "version": 3
   },
   "file_extension": ".py",
   "mimetype": "text/x-python",
   "name": "python",
   "nbconvert_exporter": "python",
   "pygments_lexer": "ipython3",
   "version": "3.11.2"
  }
 },
 "nbformat": 4,
 "nbformat_minor": 5
}
